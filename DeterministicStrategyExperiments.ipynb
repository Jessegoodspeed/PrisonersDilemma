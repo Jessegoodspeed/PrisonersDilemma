{
 "cells": [
  {
   "cell_type": "code",
   "execution_count": null,
   "id": "9ef4f417-0d8c-4e20-8e3c-dd20db9f068e",
   "metadata": {},
   "outputs": [],
   "source": [
    "# This notebook demonstrates code functionality with the modified Axelrod library. \n",
    "# Refer to repo ReadMe for details to install the modified Axelrod library.\n",
    "\n",
    "import pd_exp\n",
    "from helper_funcs import partitions\n",
    "from pathlib import Path\n",
    "from online_settings import player_names, stag, high_t\n",
    "import time, json"
   ]
  },
  {
   "cell_type": "markdown",
   "id": "845e1c40-0c33-434d-baff-7055e8ffd862",
   "metadata": {},
   "source": [
    "This simulation was designed to collect data from multiple groups of round-robin tournaments. To keep vocabulary consistent, let me introduce some project terminology:\n",
    "- Supergame: a single PD instance between two players that consists of one or more rounds of play.\n",
    "- Tournament: a round-robin tournament between a select group of players. This concept can also be referred to as a team.\n",
    "- System: a collection of one or more teams.\n",
    "\n",
    "In the code below, I setup data collection for two different experiments. In experiment 1, I consider how the outcome differs for one system with one team of deterministic players against three different game variations: classic PD, Stag Hunt, and a modified, or unconventional, PD. "
   ]
  },
  {
   "cell_type": "code",
   "execution_count": null,
   "id": "354f0431-43b4-4eeb-80e8-cc21321e8739",
   "metadata": {},
   "outputs": [],
   "source": [
    "### For experiment 1\n",
    "# Since this simulation gathers data for systems, I needed to code systems as ordered-lists of \n",
    "# teams. To accomplish that I nested player_names within closed-brackets and then a tuple to create an ordered-list.\n",
    "# The simulation code allows for processing numerous systems, so I enclose the tournament within another pair\n",
    "# of closed-brackets and then a tuple.\n",
    "\n",
    "part_list = tuple([tuple([player_names])]) # 'part' is shorthand for partition"
   ]
  },
  {
   "cell_type": "code",
   "execution_count": null,
   "id": "4e4e30ca-b42a-40dc-a78f-0de29bd003b6",
   "metadata": {},
   "outputs": [],
   "source": [
    "print(part_list)"
   ]
  },
  {
   "cell_type": "code",
   "execution_count": null,
   "id": "2bcf84be-99c9-4854-a170-6ebfb09dbf09",
   "metadata": {},
   "outputs": [],
   "source": [
    "print('Total count of systems: ',len(part_list))  #Should be 5775 for n=12 and k=4\n",
    "start_time = time.time()\n",
    "\n",
    "print('Instantiate PD Experiments with different game types')\n",
    "# To instantiate a PD Experiment, I use the PDExp constructor with at partition list and game-type, which is \n",
    "# by default the classic PD)\n",
    "classic_pdExp = pd_exp.PdExp(part_list)\n",
    "stag_pdExp = pd_exp.PdExp(part_list,game_type=stag)\n",
    "\n",
    "\n",
    "print('Running experiments and computing data')\n",
    "classic_pdExp.run_experiments()\n",
    "stag_pdExp.run_experiments()\n",
    "\n",
    "\n",
    "print('Saving experiment data')\n",
    "### For experiment 1\n",
    "path = 'Data/Experiment1/'\n",
    "classic_pdExp.save_data(path, 'ClassicPD_test_DELETE')  # CHANGE file_name string when necessary\n",
    "stag_pdExp.save_data(path, 'StagHunt_test_DELETE')  # CHANGE file_name string when necessary\n",
    "\n",
    "print(\"--- %s seconds ---\" % (time.time() - start_time))"
   ]
  },
  {
   "cell_type": "code",
   "execution_count": null,
   "id": "4b29d674-cb2d-436a-b81b-50ab3a6afc61",
   "metadata": {},
   "outputs": [],
   "source": [
    "?pd_exp.PdExp"
   ]
  },
  {
   "cell_type": "code",
   "execution_count": null,
   "id": "2998d194-8729-46d8-99f4-d523b295fa84",
   "metadata": {},
   "outputs": [],
   "source": [
    "?pd_exp"
   ]
  },
  {
   "cell_type": "code",
   "execution_count": null,
   "id": "d3cd46ae-199c-4257-b19a-d2b5c72861ca",
   "metadata": {},
   "outputs": [],
   "source": [
    "### For experiment 2\n",
    "# Checking for txt file with list of systems\n",
    "p = Path('partition_list_12_strategies_3teams_of4_DEMO.txt')\n",
    "if p.exists():\n",
    "   with open(p, \"r\") as f:\n",
    "       part_list = json.load(f)\n",
    "else:\n",
    "   print('creating partitions and saving to file')\n",
    "   part_list = list(partitions(player_names,4))\n",
    "   p.touch()\n",
    "   with open(p, \"w\") as f:\n",
    "       json.dump(part_list, f)"
   ]
  },
  {
   "cell_type": "code",
   "execution_count": null,
   "id": "bf8607d1-81ab-413d-99e2-9fe81cd0a4bc",
   "metadata": {},
   "outputs": [],
   "source": [
    "part_list = part_list[:3] # Let's just consider 3 different systems\n",
    "print('Total count of systems: ',len(part_list))\n",
    "start_time = time.time()\n",
    "\n",
    "print('Instantiate PD Experiments with different game types')\n",
    "# To instantiate a PD Experiment, I use the PDExp constructor with a partition list and game-type, which is \n",
    "# by default the classic PD)\n",
    "classic_pdExp = pd_exp.PdExp(part_list)\n",
    "stag_pdExp = pd_exp.PdExp(part_list,game_type=stag)\n",
    "\n",
    "print('Running experiments and computing data')\n",
    "classic_pdExp.run_experiments()\n",
    "stag_pdExp.run_experiments()\n",
    "\n",
    "print('Save the data')\n",
    "path = 'Data/Experiment2/'\n",
    "classic_pdExp.save_data(path, 'ClassicPD_4x3_12uniq_DEMO')  # CHANGE file_name string when necessary\n",
    "stag_pdExp.save_data(path, 'StagHunt_4x3_12uniq_DEMO')  # CHANGE file_name string when necessary\n",
    "\n",
    "print(\"--- %s seconds ---\" % (time.time() - start_time))"
   ]
  },
  {
   "cell_type": "code",
   "execution_count": null,
   "id": "2c358469-602f-45f9-8e31-042aa3859e85",
   "metadata": {},
   "outputs": [],
   "source": [
    "## Include data output & analysis as example\n",
    "# Compare how strategies differ in different games (PD and Stag Hunt)"
   ]
  }
 ],
 "metadata": {
  "kernelspec": {
   "display_name": "Python 3",
   "language": "python",
   "name": "python3"
  },
  "language_info": {
   "codemirror_mode": {
    "name": "ipython",
    "version": 3
   },
   "file_extension": ".py",
   "mimetype": "text/x-python",
   "name": "python",
   "nbconvert_exporter": "python",
   "pygments_lexer": "ipython3",
   "version": "3.9.4"
  }
 },
 "nbformat": 4,
 "nbformat_minor": 5
}
