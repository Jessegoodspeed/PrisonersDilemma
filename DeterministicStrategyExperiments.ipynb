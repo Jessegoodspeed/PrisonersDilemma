{
 "cells": [
  {
   "cell_type": "code",
   "execution_count": 11,
   "id": "9ef4f417-0d8c-4e20-8e3c-dd20db9f068e",
   "metadata": {},
   "outputs": [],
   "source": [
    "# This notebook demonstrates code functionality with the modified Axelrod library. \n",
    "# Refer to repo ReadMe for details to install the modified Axelrod library.\n",
    "\n",
    "import pd_exp\n",
    "from helper_funcs import partitions\n",
    "import pandas as pd\n",
    "from pathlib import Path\n",
    "from online_settings import player_names, stag, high_t\n",
    "import time, json"
   ]
  },
  {
   "cell_type": "markdown",
   "id": "845e1c40-0c33-434d-baff-7055e8ffd862",
   "metadata": {},
   "source": [
    "This simulation was designed to collect data from multiple groups of round-robin tournaments. To keep vocabulary consistent, let me introduce some project terminology:\n",
    "- Supergame: a single PD instance between two players that consists of one or more rounds of play.\n",
    "- Tournament: a round-robin tournament between a select group of players. This concept can also be referred to as a team.\n",
    "- System: a collection of one or more teams.\n",
    "\n",
    "In the code below, I setup data collection for two different experiments. In experiment 1, I consider how the outcome differs for one system with one team of deterministic players in two different game variations: classic PD and Stag Hunt. "
   ]
  },
  {
   "cell_type": "markdown",
   "id": "c188db13-d785-4a58-aeef-37de211d4782",
   "metadata": {},
   "source": [
    "#### Experiment 1: Comparing team performance across classic PD and Stag Hunt"
   ]
  },
  {
   "cell_type": "code",
   "execution_count": 2,
   "id": "354f0431-43b4-4eeb-80e8-cc21321e8739",
   "metadata": {},
   "outputs": [],
   "source": [
    "### For experiment 1\n",
    "# Since this simulation gathers data for systems, I needed to code systems as ordered-lists of \n",
    "# teams. To implement ordered-lists of teams I nested player_names within closed-brackets and then a tuple to create an ordered-list.\n",
    "# The simulation code allows for processing numerous systems, so I enclose the tournament within another pair\n",
    "# of closed-brackets and then a tuple.\n",
    "\n",
    "part_list = tuple([tuple([player_names])]) # 'part' is shorthand for partition"
   ]
  },
  {
   "cell_type": "code",
   "execution_count": 3,
   "id": "4e4e30ca-b42a-40dc-a78f-0de29bd003b6",
   "metadata": {},
   "outputs": [
    {
     "name": "stdout",
     "output_type": "stream",
     "text": [
      "((['Alternator', 'Anti Tit For Tat', 'Bitter Cooperator', 'Bitter Cooperator Def', 'Bully', 'Cooperator', 'Cooperator Def', 'Coop When Both Defect', 'Coop When Both Defect 1', 'Curious Defector', 'Cycler DC', 'Defector', 'Fourteen Coop', 'Fourteen Defect', 'Grim Trigger', 'Seven Coop', 'Seven Defect', 'Stubborn Def', 'Suspicious Tit For Tat', 'Sucker Coop', 'Sucker Defect', 'Thirteen Coop', 'Thirteen Defect', 'Tit For Tat', 'Two Coop', 'Two Defect', 'Win-Shift Lose-Stay', 'Win-Shift Lose-Stay Coop', 'Win-Stay Lose-Shift', 'Win-Stay Lose-Shift Defect'],),)\n"
     ]
    }
   ],
   "source": [
    "print(part_list)"
   ]
  },
  {
   "cell_type": "code",
   "execution_count": 4,
   "id": "2bcf84be-99c9-4854-a170-6ebfb09dbf09",
   "metadata": {},
   "outputs": [
    {
     "name": "stdout",
     "output_type": "stream",
     "text": [
      "Total count of systems:  1\n",
      "Instantiate PD Experiments with different game types\n",
      "Running experiments and computing data\n",
      "partition list:  (['Alternator', 'Anti Tit For Tat', 'Bitter Cooperator', 'Bitter Cooperator Def', 'Bully', 'Cooperator', 'Cooperator Def', 'Coop When Both Defect', 'Coop When Both Defect 1', 'Curious Defector', 'Cycler DC', 'Defector', 'Fourteen Coop', 'Fourteen Defect', 'Grim Trigger', 'Seven Coop', 'Seven Defect', 'Stubborn Def', 'Suspicious Tit For Tat', 'Sucker Coop', 'Sucker Defect', 'Thirteen Coop', 'Thirteen Defect', 'Tit For Tat', 'Two Coop', 'Two Defect', 'Win-Shift Lose-Stay', 'Win-Shift Lose-Stay Coop', 'Win-Stay Lose-Shift', 'Win-Stay Lose-Shift Defect'],)\n",
      "Instantiating tournament object with these players:  Alternator,Anti Tit For Tat,Bitter Cooperator,Bitter Cooperator Def,Bully,Coop When Both Defect,Coop When Both Defect 1,Cooperator,Cooperator Def,Curious Defector,Cycler DC,Defector,Fourteen Coop,Fourteen Defect,Grim Trigger,Seven Coop,Seven Defect,Stubborn Def,Sucker Coop,Sucker Defect,Suspicious Tit For Tat,Thirteen Coop,Thirteen Defect,Tit For Tat,Two Coop,Two Defect,Win-Shift Lose-Stay,Win-Shift Lose-Stay Coop,Win-Stay Lose-Shift,Win-Stay Lose-Shift Defect\n"
     ]
    },
    {
     "name": "stderr",
     "output_type": "stream",
     "text": [
      "Playing matches: 100%|██████████| 465/465 [00:55<00:00,  8.42it/s]\n",
      "Analysing: 100%|██████████| 25/25 [00:02<00:00, 11.58it/s]"
     ]
    },
    {
     "name": "stdout",
     "output_type": "stream",
     "text": [
      "***Processing number  1\n",
      "partition list:  (['Alternator', 'Anti Tit For Tat', 'Bitter Cooperator', 'Bitter Cooperator Def', 'Bully', 'Cooperator', 'Cooperator Def', 'Coop When Both Defect', 'Coop When Both Defect 1', 'Curious Defector', 'Cycler DC', 'Defector', 'Fourteen Coop', 'Fourteen Defect', 'Grim Trigger', 'Seven Coop', 'Seven Defect', 'Stubborn Def', 'Suspicious Tit For Tat', 'Sucker Coop', 'Sucker Defect', 'Thirteen Coop', 'Thirteen Defect', 'Tit For Tat', 'Two Coop', 'Two Defect', 'Win-Shift Lose-Stay', 'Win-Shift Lose-Stay Coop', 'Win-Stay Lose-Shift', 'Win-Stay Lose-Shift Defect'],)\n",
      "Instantiating tournament object with these players:  Alternator,Anti Tit For Tat,Bitter Cooperator,Bitter Cooperator Def,Bully,Coop When Both Defect,Coop When Both Defect 1,Cooperator,Cooperator Def,Curious Defector,Cycler DC,Defector,Fourteen Coop,Fourteen Defect,Grim Trigger,Seven Coop,Seven Defect,Stubborn Def,Sucker Coop,Sucker Defect,Suspicious Tit For Tat,Thirteen Coop,Thirteen Defect,Tit For Tat,Two Coop,Two Defect,Win-Shift Lose-Stay,Win-Shift Lose-Stay Coop,Win-Stay Lose-Shift,Win-Stay Lose-Shift Defect\n"
     ]
    },
    {
     "name": "stderr",
     "output_type": "stream",
     "text": [
      "\n",
      "Playing matches: 100%|██████████| 465/465 [00:58<00:00,  7.92it/s]\n",
      "Analysing: 100%|██████████| 25/25 [00:01<00:00, 21.91it/s]"
     ]
    },
    {
     "name": "stdout",
     "output_type": "stream",
     "text": [
      "***Processing number  1\n",
      "Saving experiment data\n",
      "--- 117.66995191574097 seconds ---\n"
     ]
    },
    {
     "name": "stderr",
     "output_type": "stream",
     "text": [
      "\n"
     ]
    }
   ],
   "source": [
    "print('Total count of systems: ',len(part_list))  #Should be 5775 for n=12 and k=4\n",
    "start_time = time.time()\n",
    "\n",
    "print('Instantiate PD Experiments with different game types')\n",
    "# To instantiate a PD Experiment, I use the PDExp constructor with at partition list and game-type, which is \n",
    "# by default the classic PD)\n",
    "classic_pdExp = pd_exp.PdExp(part_list)\n",
    "stag_pdExp = pd_exp.PdExp(part_list,game_type=stag)\n",
    "\n",
    "\n",
    "print('Running experiments and computing data')\n",
    "classic_pdExp.run_experiments()\n",
    "stag_pdExp.run_experiments()\n",
    "\n",
    "\n",
    "print('Saving experiment data')\n",
    "### For experiment 1\n",
    "path = 'Data/Experiment1/'\n",
    "classic_pdExp.save_data(path, 'ClassicPD_test_DELETE')  # CHANGE file_name string when necessary\n",
    "stag_pdExp.save_data(path, 'StagHunt_test_DELETE')  # CHANGE file_name string when necessary\n",
    "\n",
    "print(\"--- %s seconds ---\" % (time.time() - start_time))"
   ]
  },
  {
   "cell_type": "markdown",
   "id": "dbd49588-00e9-4dd8-bf34-ea850b236210",
   "metadata": {},
   "source": [
    "Experiment 1: Data Comparison Across Games"
   ]
  },
  {
   "cell_type": "code",
   "execution_count": 56,
   "id": "697b10f0-b437-44e1-83b6-4b1c2643fa50",
   "metadata": {},
   "outputs": [],
   "source": [
    "classic_dataf1 = pd.read_csv('Data/Experiment1/ClassicPD_test_DELETE_RPST_3_1_0_5.csv', index_col=0)\n",
    "stagHunt_dataf1 = pd.read_csv('Data/Experiment1/StagHunt_test_DELETE_RPST_5_1_0_3.csv', index_col=0)"
   ]
  },
  {
   "cell_type": "code",
   "execution_count": 57,
   "id": "26d1a6a8-599c-46f6-88c2-42b9dcc17f99",
   "metadata": {},
   "outputs": [
    {
     "data": {
      "text/html": [
       "<div>\n",
       "<style scoped>\n",
       "    .dataframe tbody tr th:only-of-type {\n",
       "        vertical-align: middle;\n",
       "    }\n",
       "\n",
       "    .dataframe tbody tr th {\n",
       "        vertical-align: top;\n",
       "    }\n",
       "\n",
       "    .dataframe thead th {\n",
       "        text-align: right;\n",
       "    }\n",
       "</style>\n",
       "<table border=\"1\" class=\"dataframe\">\n",
       "  <thead>\n",
       "    <tr style=\"text-align: right;\">\n",
       "      <th></th>\n",
       "      <th>System ID</th>\n",
       "      <th>Team1</th>\n",
       "      <th>Team1 Avg Score</th>\n",
       "      <th>Team1 Min Score</th>\n",
       "      <th>Team1 Avg CC Dist</th>\n",
       "    </tr>\n",
       "  </thead>\n",
       "  <tbody>\n",
       "    <tr>\n",
       "      <th>1</th>\n",
       "      <td>1,2,3,4,5,8,9,6,7,10,11,12,13,14,15,16,17,18,20,21,19,22,23,24,25,26,27,28,29,30</td>\n",
       "      <td>Alternator,Anti Tit For Tat,Bitter Cooperator,Bitter Cooperator Def,Bully,Coop When Both Defect,Coop When Both Defect 1,Cooperator,Cooperator Def,Curious Defector,Cycler DC,Defector,Fourteen Coop,Fourteen Defect,Grim Trigger,Seven Coop,Seven Defect,Stubborn Def,Sucker Coop,Sucker Defect,Suspicious Tit For Tat,Thirteen Coop,Thirteen Defect,Tit For Tat,Two Coop,Two Defect,Win-Shift Lose-Stay,Win-Shift Lose-Stay Coop,Win-Stay Lose-Shift,Win-Stay Lose-Shift Defect</td>\n",
       "      <td>2.254122</td>\n",
       "      <td>1.377258</td>\n",
       "      <td>0.237339</td>\n",
       "    </tr>\n",
       "  </tbody>\n",
       "</table>\n",
       "</div>"
      ],
      "text/plain": [
       "                                                                          System ID  \\\n",
       "1  1,2,3,4,5,8,9,6,7,10,11,12,13,14,15,16,17,18,20,21,19,22,23,24,25,26,27,28,29,30   \n",
       "\n",
       "                                                                                                                                                                                                                                                                                                                                                                                                                                                                              Team1  \\\n",
       "1  Alternator,Anti Tit For Tat,Bitter Cooperator,Bitter Cooperator Def,Bully,Coop When Both Defect,Coop When Both Defect 1,Cooperator,Cooperator Def,Curious Defector,Cycler DC,Defector,Fourteen Coop,Fourteen Defect,Grim Trigger,Seven Coop,Seven Defect,Stubborn Def,Sucker Coop,Sucker Defect,Suspicious Tit For Tat,Thirteen Coop,Thirteen Defect,Tit For Tat,Two Coop,Two Defect,Win-Shift Lose-Stay,Win-Shift Lose-Stay Coop,Win-Stay Lose-Shift,Win-Stay Lose-Shift Defect   \n",
       "\n",
       "   Team1 Avg Score  Team1 Min Score  Team1 Avg CC Dist  \n",
       "1         2.254122         1.377258           0.237339  "
      ]
     },
     "metadata": {},
     "output_type": "display_data"
    }
   ],
   "source": [
    "with pd.option_context('display.max_rows', None, 'display.max_columns', None, 'display.max_colwidth', None):  # more options can be specified also\n",
    "    display(classic_dataf1[['System ID', 'Team1', 'Team1 Avg Score',\n",
    "       'Team1 Min Score', 'Team1 Avg CC Dist']])"
   ]
  },
  {
   "cell_type": "code",
   "execution_count": 58,
   "id": "c522f277-784b-4ddb-a185-c2894b80eb56",
   "metadata": {},
   "outputs": [
    {
     "data": {
      "text/html": [
       "<div>\n",
       "<style scoped>\n",
       "    .dataframe tbody tr th:only-of-type {\n",
       "        vertical-align: middle;\n",
       "    }\n",
       "\n",
       "    .dataframe tbody tr th {\n",
       "        vertical-align: top;\n",
       "    }\n",
       "\n",
       "    .dataframe thead th {\n",
       "        text-align: right;\n",
       "    }\n",
       "</style>\n",
       "<table border=\"1\" class=\"dataframe\">\n",
       "  <thead>\n",
       "    <tr style=\"text-align: right;\">\n",
       "      <th></th>\n",
       "      <th>System ID</th>\n",
       "      <th>Team1</th>\n",
       "      <th>Team1 Avg Score</th>\n",
       "      <th>Team1 Min Score</th>\n",
       "      <th>Team1 Avg CC Dist</th>\n",
       "    </tr>\n",
       "  </thead>\n",
       "  <tbody>\n",
       "    <tr>\n",
       "      <th>1</th>\n",
       "      <td>1,2,3,4,5,8,9,6,7,10,11,12,13,14,15,16,17,18,20,21,19,22,23,24,25,26,27,28,29,30</td>\n",
       "      <td>Alternator,Anti Tit For Tat,Bitter Cooperator,Bitter Cooperator Def,Bully,Coop When Both Defect,Coop When Both Defect 1,Cooperator,Cooperator Def,Curious Defector,Cycler DC,Defector,Fourteen Coop,Fourteen Defect,Grim Trigger,Seven Coop,Seven Defect,Stubborn Def,Sucker Coop,Sucker Defect,Suspicious Tit For Tat,Thirteen Coop,Thirteen Defect,Tit For Tat,Two Coop,Two Defect,Win-Shift Lose-Stay,Win-Shift Lose-Stay Coop,Win-Stay Lose-Shift,Win-Stay Lose-Shift Defect</td>\n",
       "      <td>2.209172</td>\n",
       "      <td>1.836442</td>\n",
       "      <td>0.237339</td>\n",
       "    </tr>\n",
       "  </tbody>\n",
       "</table>\n",
       "</div>"
      ],
      "text/plain": [
       "                                                                          System ID  \\\n",
       "1  1,2,3,4,5,8,9,6,7,10,11,12,13,14,15,16,17,18,20,21,19,22,23,24,25,26,27,28,29,30   \n",
       "\n",
       "                                                                                                                                                                                                                                                                                                                                                                                                                                                                              Team1  \\\n",
       "1  Alternator,Anti Tit For Tat,Bitter Cooperator,Bitter Cooperator Def,Bully,Coop When Both Defect,Coop When Both Defect 1,Cooperator,Cooperator Def,Curious Defector,Cycler DC,Defector,Fourteen Coop,Fourteen Defect,Grim Trigger,Seven Coop,Seven Defect,Stubborn Def,Sucker Coop,Sucker Defect,Suspicious Tit For Tat,Thirteen Coop,Thirteen Defect,Tit For Tat,Two Coop,Two Defect,Win-Shift Lose-Stay,Win-Shift Lose-Stay Coop,Win-Stay Lose-Shift,Win-Stay Lose-Shift Defect   \n",
       "\n",
       "   Team1 Avg Score  Team1 Min Score  Team1 Avg CC Dist  \n",
       "1         2.209172         1.836442           0.237339  "
      ]
     },
     "metadata": {},
     "output_type": "display_data"
    }
   ],
   "source": [
    "with pd.option_context('display.max_rows', None, 'display.max_columns', None, 'display.max_colwidth', None):  # more options can be specified also\n",
    "    display(stagHunt_dataf1[['System ID', 'Team1', 'Team1 Avg Score',\n",
    "       'Team1 Min Score', 'Team1 Avg CC Dist']])"
   ]
  },
  {
   "cell_type": "code",
   "execution_count": null,
   "id": "b2d1436d-7eb0-4d0d-a22f-5ff5ee807509",
   "metadata": {},
   "outputs": [],
   "source": []
  },
  {
   "cell_type": "code",
   "execution_count": 55,
   "id": "4b29d674-cb2d-436a-b81b-50ab3a6afc61",
   "metadata": {},
   "outputs": [
    {
     "data": {
      "text/plain": [
       "\u001b[0;31mInit signature:\u001b[0m \u001b[0mpd_exp\u001b[0m\u001b[0;34m.\u001b[0m\u001b[0mPdExp\u001b[0m\u001b[0;34m(\u001b[0m\u001b[0mlist_of_systems\u001b[0m\u001b[0;34m,\u001b[0m \u001b[0mgame_type\u001b[0m\u001b[0;34m=\u001b[0m\u001b[0;32mNone\u001b[0m\u001b[0;34m)\u001b[0m\u001b[0;34m\u001b[0m\u001b[0;34m\u001b[0m\u001b[0m\n",
       "\u001b[0;31mDocstring:\u001b[0m     \n",
       "A class to represent a series of systems. \n",
       "\n",
       "...\n",
       "\n",
       "Attributes\n",
       "----------\n",
       "game : axelrod.game (object)\n",
       "    container for game matrix and scoring logic\n",
       "sys_list : tuple\n",
       "    three-dimensional ordered list, or tuple, where the first-dimension is\n",
       "    a list of systems, the 2nd-dimension is the team list, and the \n",
       "    3rd-dimension is the individual players. \n",
       "\n",
       "Methods\n",
       "-------\n",
       "run_experiments:\n",
       "    Iterates through each system, runs the different tournaments and \n",
       "    then saves the data to the data attribute.\n",
       "save_data(path_to_directory, descrip_name):\n",
       "    Saves experiment data as a csv file\n",
       "\u001b[0;31mFile:\u001b[0m           ~/Development/PrisonersDilemma/pd_exp.py\n",
       "\u001b[0;31mType:\u001b[0m           type\n",
       "\u001b[0;31mSubclasses:\u001b[0m     \n"
      ]
     },
     "metadata": {},
     "output_type": "display_data"
    }
   ],
   "source": [
    "# SIDENOTE: Documentation (i.e. docstring) for code can be retrieved with '?'. Here are some examples.\n",
    "\n",
    "?pd_exp.PdExp"
   ]
  },
  {
   "cell_type": "code",
   "execution_count": 6,
   "id": "2998d194-8729-46d8-99f4-d523b295fa84",
   "metadata": {},
   "outputs": [
    {
     "data": {
      "text/plain": [
       "\u001b[0;31mType:\u001b[0m        module\n",
       "\u001b[0;31mString form:\u001b[0m <module 'pd_exp' from '/Users/jessegoodspeed1/Development/PrisonersDilemma/pd_exp.py'>\n",
       "\u001b[0;31mFile:\u001b[0m        ~/Development/PrisonersDilemma/pd_exp.py\n",
       "\u001b[0;31mDocstring:\u001b[0m  \n",
       "Pd_exp: Prisoner's Dilemma Experimentation\n",
       "==========================================\n",
       "\n",
       "Generate data for numerous Prisoner's Dilemma tournaments or systems of \n",
       "tournaments.\n",
       "\n",
       "Classes:\n",
       "\n",
       "    PdTournament\n",
       "        A class to represent a tournament.\n",
       "    PdSystem \n",
       "        Generate data for multiple tournaments and organize it into a dataframe\n",
       "    PdExp\n",
       "        Generate data for multiple systems\n",
       "        \n",
       "Functions:\n",
       "\n",
       "    grouper(iterable, n, fillvalue=None) -> iterable of n-sized-chunks\n",
       "        Collect data into fixed-length chunks or blocks\n",
       "    avg_normalised_state(object, tuple) -> float\n",
       "        Returns the tournament average for given state distribution (e.g.\n",
       "        (C,C), (D,D), (C,D), (D,C))\n"
      ]
     },
     "metadata": {},
     "output_type": "display_data"
    }
   ],
   "source": [
    "?pd_exp"
   ]
  },
  {
   "cell_type": "markdown",
   "id": "45dbfc3c-5105-4768-9777-e9d859b9e0d6",
   "metadata": {},
   "source": [
    "#### Experiment 2: Comparing systems of 3 teams across classic PD and Stag Hunt"
   ]
  },
  {
   "cell_type": "code",
   "execution_count": 7,
   "id": "d3cd46ae-199c-4257-b19a-d2b5c72861ca",
   "metadata": {},
   "outputs": [],
   "source": [
    "### For experiment 2\n",
    "# Checking for txt file with list of systems\n",
    "p = Path('partition_list_12_strategies_3teams_of4_DEMO.txt')\n",
    "if p.exists():\n",
    "   with open(p, \"r\") as f:\n",
    "       part_list = json.load(f)\n",
    "else:\n",
    "   print('creating partitions and saving to file')\n",
    "   part_list = list(partitions(player_names,4))\n",
    "   p.touch()\n",
    "   with open(p, \"w\") as f:\n",
    "       json.dump(part_list, f)"
   ]
  },
  {
   "cell_type": "code",
   "execution_count": 8,
   "id": "bf8607d1-81ab-413d-99e2-9fe81cd0a4bc",
   "metadata": {},
   "outputs": [
    {
     "name": "stdout",
     "output_type": "stream",
     "text": [
      "Total count of systems:  3\n",
      "Instantiate PD Experiments with different game types\n",
      "Running experiments and computing data\n",
      "partition list:  [['Bitter Cooperator', 'Suspicious Tit For Tat', 'Win-Stay Lose-Shift', 'Bully'], ['Cooperator', 'Alternator', 'Cycler DC', 'Defector'], ['Anti Tit For Tat', 'Grim Trigger', 'Win-Shift Lose-Stay', 'Tit For Tat']]\n",
      "Instantiating tournament object with these players:  Bitter Cooperator,Bully,Suspicious Tit For Tat,Win-Stay Lose-Shift\n"
     ]
    },
    {
     "name": "stderr",
     "output_type": "stream",
     "text": [
      "Playing matches: 100%|██████████| 10/10 [00:39<00:00,  3.91s/it]\n",
      "Analysing: 100%|██████████| 25/25 [00:00<00:00, 60.17it/s]"
     ]
    },
    {
     "name": "stdout",
     "output_type": "stream",
     "text": [
      "Instantiating tournament object with these players:  Alternator,Cooperator,Cycler DC,Defector\n"
     ]
    },
    {
     "name": "stderr",
     "output_type": "stream",
     "text": [
      "\n",
      "Playing matches: 100%|██████████| 10/10 [00:43<00:00,  4.36s/it]\n",
      "Analysing: 100%|██████████| 25/25 [00:00<00:00, 75.44it/s]"
     ]
    },
    {
     "name": "stdout",
     "output_type": "stream",
     "text": [
      "Instantiating tournament object with these players:  Anti Tit For Tat,Grim Trigger,Tit For Tat,Win-Shift Lose-Stay\n"
     ]
    },
    {
     "name": "stderr",
     "output_type": "stream",
     "text": [
      "\n",
      "Playing matches: 100%|██████████| 10/10 [00:50<00:00,  5.02s/it]\n",
      "Analysing: 100%|██████████| 25/25 [00:00<00:00, 102.94it/s]"
     ]
    },
    {
     "name": "stdout",
     "output_type": "stream",
     "text": [
      "***Processing number  1\n",
      "partition list:  [['Alternator', 'Bitter Cooperator', 'Win-Stay Lose-Shift', 'Bully'], ['Cooperator', 'Suspicious Tit For Tat', 'Cycler DC', 'Defector'], ['Anti Tit For Tat', 'Grim Trigger', 'Win-Shift Lose-Stay', 'Tit For Tat']]\n",
      "Instantiating tournament object with these players:  Alternator,Bitter Cooperator,Bully,Win-Stay Lose-Shift\n"
     ]
    },
    {
     "name": "stderr",
     "output_type": "stream",
     "text": [
      "\n",
      "Playing matches: 100%|██████████| 10/10 [00:45<00:00,  4.57s/it]\n",
      "Analysing: 100%|██████████| 25/25 [00:00<00:00, 77.15it/s]"
     ]
    },
    {
     "name": "stdout",
     "output_type": "stream",
     "text": [
      "Instantiating tournament object with these players:  Cooperator,Cycler DC,Defector,Suspicious Tit For Tat\n"
     ]
    },
    {
     "name": "stderr",
     "output_type": "stream",
     "text": [
      "\n",
      "Playing matches: 100%|██████████| 10/10 [00:46<00:00,  4.66s/it]\n",
      "Analysing: 100%|██████████| 25/25 [00:00<00:00, 64.71it/s]"
     ]
    },
    {
     "name": "stdout",
     "output_type": "stream",
     "text": [
      "Instantiating tournament object with these players:  Anti Tit For Tat,Grim Trigger,Tit For Tat,Win-Shift Lose-Stay\n"
     ]
    },
    {
     "name": "stderr",
     "output_type": "stream",
     "text": [
      "\n",
      "Playing matches: 100%|██████████| 10/10 [00:38<00:00,  3.81s/it]\n",
      "Analysing: 100%|██████████| 25/25 [00:00<00:00, 93.90it/s]"
     ]
    },
    {
     "name": "stdout",
     "output_type": "stream",
     "text": [
      "***Processing number  2\n",
      "partition list:  [['Alternator', 'Suspicious Tit For Tat', 'Win-Stay Lose-Shift', 'Bully'], ['Cooperator', 'Bitter Cooperator', 'Cycler DC', 'Defector'], ['Anti Tit For Tat', 'Grim Trigger', 'Win-Shift Lose-Stay', 'Tit For Tat']]\n",
      "Instantiating tournament object with these players:  Alternator,Bully,Suspicious Tit For Tat,Win-Stay Lose-Shift\n"
     ]
    },
    {
     "name": "stderr",
     "output_type": "stream",
     "text": [
      "\n",
      "Playing matches: 100%|██████████| 10/10 [00:35<00:00,  3.51s/it]\n",
      "Analysing: 100%|██████████| 25/25 [00:00<00:00, 75.04it/s]"
     ]
    },
    {
     "name": "stdout",
     "output_type": "stream",
     "text": [
      "Instantiating tournament object with these players:  Bitter Cooperator,Cooperator,Cycler DC,Defector\n"
     ]
    },
    {
     "name": "stderr",
     "output_type": "stream",
     "text": [
      "\n",
      "Playing matches: 100%|██████████| 10/10 [00:57<00:00,  5.76s/it]\n",
      "Analysing: 100%|██████████| 25/25 [00:00<00:00, 89.76it/s]"
     ]
    },
    {
     "name": "stdout",
     "output_type": "stream",
     "text": [
      "Instantiating tournament object with these players:  Anti Tit For Tat,Grim Trigger,Tit For Tat,Win-Shift Lose-Stay\n"
     ]
    },
    {
     "name": "stderr",
     "output_type": "stream",
     "text": [
      "\n",
      "Playing matches: 100%|██████████| 10/10 [00:45<00:00,  4.55s/it]\n",
      "Analysing: 100%|██████████| 25/25 [00:00<00:00, 92.95it/s]"
     ]
    },
    {
     "name": "stdout",
     "output_type": "stream",
     "text": [
      "***Processing number  3\n",
      "partition list:  [['Bitter Cooperator', 'Suspicious Tit For Tat', 'Win-Stay Lose-Shift', 'Bully'], ['Cooperator', 'Alternator', 'Cycler DC', 'Defector'], ['Anti Tit For Tat', 'Grim Trigger', 'Win-Shift Lose-Stay', 'Tit For Tat']]\n",
      "Instantiating tournament object with these players:  Bitter Cooperator,Bully,Suspicious Tit For Tat,Win-Stay Lose-Shift\n"
     ]
    },
    {
     "name": "stderr",
     "output_type": "stream",
     "text": [
      "\n",
      "Playing matches: 100%|██████████| 10/10 [00:36<00:00,  3.67s/it]\n",
      "Analysing: 100%|██████████| 25/25 [00:00<00:00, 39.93it/s]"
     ]
    },
    {
     "name": "stdout",
     "output_type": "stream",
     "text": [
      "Instantiating tournament object with these players:  Alternator,Cooperator,Cycler DC,Defector\n"
     ]
    },
    {
     "name": "stderr",
     "output_type": "stream",
     "text": [
      "\n",
      "Playing matches: 100%|██████████| 10/10 [00:39<00:00,  4.00s/it]\n",
      "Analysing: 100%|██████████| 25/25 [00:00<00:00, 80.16it/s]"
     ]
    },
    {
     "name": "stdout",
     "output_type": "stream",
     "text": [
      "Instantiating tournament object with these players:  Anti Tit For Tat,Grim Trigger,Tit For Tat,Win-Shift Lose-Stay\n"
     ]
    },
    {
     "name": "stderr",
     "output_type": "stream",
     "text": [
      "\n",
      "Playing matches: 100%|██████████| 10/10 [00:51<00:00,  5.20s/it]\n",
      "Analysing: 100%|██████████| 25/25 [00:00<00:00, 115.61it/s]"
     ]
    },
    {
     "name": "stdout",
     "output_type": "stream",
     "text": [
      "***Processing number  1\n",
      "partition list:  [['Alternator', 'Bitter Cooperator', 'Win-Stay Lose-Shift', 'Bully'], ['Cooperator', 'Suspicious Tit For Tat', 'Cycler DC', 'Defector'], ['Anti Tit For Tat', 'Grim Trigger', 'Win-Shift Lose-Stay', 'Tit For Tat']]\n",
      "Instantiating tournament object with these players:  Alternator,Bitter Cooperator,Bully,Win-Stay Lose-Shift\n"
     ]
    },
    {
     "name": "stderr",
     "output_type": "stream",
     "text": [
      "\n",
      "Playing matches: 100%|██████████| 10/10 [00:43<00:00,  4.33s/it]\n",
      "Analysing: 100%|██████████| 25/25 [00:00<00:00, 89.05it/s]"
     ]
    },
    {
     "name": "stdout",
     "output_type": "stream",
     "text": [
      "Instantiating tournament object with these players:  Cooperator,Cycler DC,Defector,Suspicious Tit For Tat\n"
     ]
    },
    {
     "name": "stderr",
     "output_type": "stream",
     "text": [
      "\n",
      "Playing matches: 100%|██████████| 10/10 [00:49<00:00,  4.91s/it]\n",
      "Analysing: 100%|██████████| 25/25 [00:00<00:00, 80.53it/s]"
     ]
    },
    {
     "name": "stdout",
     "output_type": "stream",
     "text": [
      "Instantiating tournament object with these players:  Anti Tit For Tat,Grim Trigger,Tit For Tat,Win-Shift Lose-Stay\n"
     ]
    },
    {
     "name": "stderr",
     "output_type": "stream",
     "text": [
      "\n",
      "Playing matches: 100%|██████████| 10/10 [00:43<00:00,  4.32s/it]\n",
      "Analysing: 100%|██████████| 25/25 [00:00<00:00, 92.63it/s]"
     ]
    },
    {
     "name": "stdout",
     "output_type": "stream",
     "text": [
      "***Processing number  2\n",
      "partition list:  [['Alternator', 'Suspicious Tit For Tat', 'Win-Stay Lose-Shift', 'Bully'], ['Cooperator', 'Bitter Cooperator', 'Cycler DC', 'Defector'], ['Anti Tit For Tat', 'Grim Trigger', 'Win-Shift Lose-Stay', 'Tit For Tat']]\n",
      "Instantiating tournament object with these players:  Alternator,Bully,Suspicious Tit For Tat,Win-Stay Lose-Shift\n"
     ]
    },
    {
     "name": "stderr",
     "output_type": "stream",
     "text": [
      "\n",
      "Playing matches: 100%|██████████| 10/10 [00:47<00:00,  4.73s/it]\n",
      "Analysing: 100%|██████████| 25/25 [00:00<00:00, 85.32it/s]"
     ]
    },
    {
     "name": "stdout",
     "output_type": "stream",
     "text": [
      "Instantiating tournament object with these players:  Bitter Cooperator,Cooperator,Cycler DC,Defector\n"
     ]
    },
    {
     "name": "stderr",
     "output_type": "stream",
     "text": [
      "\n",
      "Playing matches: 100%|██████████| 10/10 [00:40<00:00,  4.10s/it]\n",
      "Analysing: 100%|██████████| 25/25 [00:00<00:00, 98.00it/s]"
     ]
    },
    {
     "name": "stdout",
     "output_type": "stream",
     "text": [
      "Instantiating tournament object with these players:  Anti Tit For Tat,Grim Trigger,Tit For Tat,Win-Shift Lose-Stay\n"
     ]
    },
    {
     "name": "stderr",
     "output_type": "stream",
     "text": [
      "\n",
      "Playing matches: 100%|██████████| 10/10 [00:55<00:00,  5.60s/it]\n",
      "Analysing: 100%|██████████| 25/25 [00:00<00:00, 64.63it/s]\n"
     ]
    },
    {
     "name": "stdout",
     "output_type": "stream",
     "text": [
      "***Processing number  3\n",
      "Save the data\n",
      "--- 818.920313835144 seconds ---\n"
     ]
    }
   ],
   "source": [
    "part_list = part_list[:3] # Let's just consider 3 different systems\n",
    "print('Total count of systems: ',len(part_list))\n",
    "start_time = time.time()\n",
    "\n",
    "print('Instantiate PD Experiments with different game types')\n",
    "# To instantiate a PD Experiment, I use the PDExp constructor with a partition list and game-type, which is \n",
    "# by default the classic PD)\n",
    "classic_pdExp = pd_exp.PdExp(part_list)\n",
    "stag_pdExp = pd_exp.PdExp(part_list,game_type=stag)\n",
    "\n",
    "print('Running experiments and computing data')\n",
    "classic_pdExp.run_experiments()\n",
    "stag_pdExp.run_experiments()\n",
    "\n",
    "print('Save the data')\n",
    "path = 'Data/Experiment2/'\n",
    "classic_pdExp.save_data(path, 'ClassicPD_4x3_12uniq_DEMO')  # CHANGE file_name string when necessary\n",
    "stag_pdExp.save_data(path, 'StagHunt_4x3_12uniq_DEMO')  # CHANGE file_name string when necessary\n",
    "\n",
    "print(\"--- %s seconds ---\" % (time.time() - start_time))"
   ]
  },
  {
   "cell_type": "markdown",
   "id": "01b23990-3610-496b-81ea-2817bde8768f",
   "metadata": {},
   "source": [
    "Experiment 2: Data Comparison Across Systems, Teams, and Games"
   ]
  },
  {
   "cell_type": "code",
   "execution_count": 36,
   "id": "7261b6ab-0099-49d9-9d79-2478fd660d2d",
   "metadata": {},
   "outputs": [],
   "source": [
    "classic_dataf = pd.read_csv('Data/Experiment2/ClassicPD_4x3_12uniq_DEMO_RPST_3_1_0_5.csv', index_col=0)\n",
    "stagHunt_dataf = pd.read_csv('Data/Experiment2/StagHunt_4x3_12uniq_DEMO_RPST_5_1_0_3.csv', index_col=0)\n",
    "classic_dataf = classic_dataf.reset_index(drop=True)\n",
    "stagHunt_dataf = stagHunt_dataf.reset_index(drop=True)"
   ]
  },
  {
   "cell_type": "code",
   "execution_count": 37,
   "id": "896cd9e5-faf4-4ae2-9da1-1957a8c47ab8",
   "metadata": {},
   "outputs": [
    {
     "data": {
      "text/plain": [
       "Index(['System ID', 'SYS MIN Score', 'SYS AVG Score', 'MIN of Team Avgs',\n",
       "       'AVG of Team Mins', 'SYS CC Dist AVG', 'SYS CC Dist MIN', 'Team1',\n",
       "       'Player1', 'P1_Norm_Score', 'Player2', 'P2_Norm_Score', 'Player3',\n",
       "       'P3_Norm_Score', 'Player4', 'P4_Norm_Score', 'Team1 Avg Score',\n",
       "       'Team1 Min Score', 'Team1 Avg CC Dist', 'Team2', 'Player1.1',\n",
       "       'P1_Norm_Score.1', 'Player2.1', 'P2_Norm_Score.1', 'Player3.1',\n",
       "       'P3_Norm_Score.1', 'Player4.1', 'P4_Norm_Score.1', 'Team2 Avg Score',\n",
       "       'Team2 Min Score', 'Team2 Avg CC Dist', 'Team3', 'Player1.2',\n",
       "       'P1_Norm_Score.2', 'Player2.2', 'P2_Norm_Score.2', 'Player3.2',\n",
       "       'P3_Norm_Score.2', 'Player4.2', 'P4_Norm_Score.2', 'Team3 Avg Score',\n",
       "       'Team3 Min Score', 'Team3 Avg CC Dist'],\n",
       "      dtype='object')"
      ]
     },
     "execution_count": 37,
     "metadata": {},
     "output_type": "execute_result"
    }
   ],
   "source": [
    "classic_dataf.columns"
   ]
  },
  {
   "cell_type": "code",
   "execution_count": 41,
   "id": "c026e256-0fa9-425b-a3a2-ed542b93949b",
   "metadata": {},
   "outputs": [
    {
     "data": {
      "text/html": [
       "<div>\n",
       "<style scoped>\n",
       "    .dataframe tbody tr th:only-of-type {\n",
       "        vertical-align: middle;\n",
       "    }\n",
       "\n",
       "    .dataframe tbody tr th {\n",
       "        vertical-align: top;\n",
       "    }\n",
       "\n",
       "    .dataframe thead th {\n",
       "        text-align: right;\n",
       "    }\n",
       "</style>\n",
       "<table border=\"1\" class=\"dataframe\">\n",
       "  <thead>\n",
       "    <tr style=\"text-align: right;\">\n",
       "      <th></th>\n",
       "      <th>System ID</th>\n",
       "      <th>Team1</th>\n",
       "      <th>Team2</th>\n",
       "      <th>Team3</th>\n",
       "    </tr>\n",
       "  </thead>\n",
       "  <tbody>\n",
       "    <tr>\n",
       "      <th>0</th>\n",
       "      <td>3,5,19,29_1,6,11,12_2,15,24,27</td>\n",
       "      <td>Bitter Cooperator,Bully,Suspicious Tit For Tat,Win-Stay Lose-Shift</td>\n",
       "      <td>Alternator,Cooperator,Cycler DC,Defector</td>\n",
       "      <td>Anti Tit For Tat,Grim Trigger,Tit For Tat,Win-Shift Lose-Stay</td>\n",
       "    </tr>\n",
       "    <tr>\n",
       "      <th>1</th>\n",
       "      <td>1,3,5,29_6,11,12,19_2,15,24,27</td>\n",
       "      <td>Alternator,Bitter Cooperator,Bully,Win-Stay Lose-Shift</td>\n",
       "      <td>Cooperator,Cycler DC,Defector,Suspicious Tit For Tat</td>\n",
       "      <td>Anti Tit For Tat,Grim Trigger,Tit For Tat,Win-Shift Lose-Stay</td>\n",
       "    </tr>\n",
       "    <tr>\n",
       "      <th>2</th>\n",
       "      <td>1,5,19,29_3,6,11,12_2,15,24,27</td>\n",
       "      <td>Alternator,Bully,Suspicious Tit For Tat,Win-Stay Lose-Shift</td>\n",
       "      <td>Bitter Cooperator,Cooperator,Cycler DC,Defector</td>\n",
       "      <td>Anti Tit For Tat,Grim Trigger,Tit For Tat,Win-Shift Lose-Stay</td>\n",
       "    </tr>\n",
       "  </tbody>\n",
       "</table>\n",
       "</div>"
      ],
      "text/plain": [
       "                        System ID  \\\n",
       "0  3,5,19,29_1,6,11,12_2,15,24,27   \n",
       "1  1,3,5,29_6,11,12,19_2,15,24,27   \n",
       "2  1,5,19,29_3,6,11,12_2,15,24,27   \n",
       "\n",
       "                                                                Team1  \\\n",
       "0  Bitter Cooperator,Bully,Suspicious Tit For Tat,Win-Stay Lose-Shift   \n",
       "1              Alternator,Bitter Cooperator,Bully,Win-Stay Lose-Shift   \n",
       "2         Alternator,Bully,Suspicious Tit For Tat,Win-Stay Lose-Shift   \n",
       "\n",
       "                                                  Team2  \\\n",
       "0              Alternator,Cooperator,Cycler DC,Defector   \n",
       "1  Cooperator,Cycler DC,Defector,Suspicious Tit For Tat   \n",
       "2       Bitter Cooperator,Cooperator,Cycler DC,Defector   \n",
       "\n",
       "                                                           Team3  \n",
       "0  Anti Tit For Tat,Grim Trigger,Tit For Tat,Win-Shift Lose-Stay  \n",
       "1  Anti Tit For Tat,Grim Trigger,Tit For Tat,Win-Shift Lose-Stay  \n",
       "2  Anti Tit For Tat,Grim Trigger,Tit For Tat,Win-Shift Lose-Stay  "
      ]
     },
     "metadata": {},
     "output_type": "display_data"
    }
   ],
   "source": [
    "with pd.option_context('display.max_rows', None, 'display.max_columns', None, 'display.max_colwidth', None):  # more options can be specified also\n",
    "    display(classic_dataf[['System ID', 'Team1', 'Team2','Team3']])"
   ]
  },
  {
   "cell_type": "code",
   "execution_count": 42,
   "id": "13136739-eb23-4119-944d-dee3e0f49e73",
   "metadata": {},
   "outputs": [
    {
     "data": {
      "text/html": [
       "<div>\n",
       "<style scoped>\n",
       "    .dataframe tbody tr th:only-of-type {\n",
       "        vertical-align: middle;\n",
       "    }\n",
       "\n",
       "    .dataframe tbody tr th {\n",
       "        vertical-align: top;\n",
       "    }\n",
       "\n",
       "    .dataframe thead th {\n",
       "        text-align: right;\n",
       "    }\n",
       "</style>\n",
       "<table border=\"1\" class=\"dataframe\">\n",
       "  <thead>\n",
       "    <tr style=\"text-align: right;\">\n",
       "      <th></th>\n",
       "      <th>System ID</th>\n",
       "      <th>Team1</th>\n",
       "      <th>Team2</th>\n",
       "      <th>Team3</th>\n",
       "    </tr>\n",
       "  </thead>\n",
       "  <tbody>\n",
       "    <tr>\n",
       "      <th>0</th>\n",
       "      <td>3,5,19,29_1,6,11,12_2,15,24,27</td>\n",
       "      <td>Bitter Cooperator,Bully,Suspicious Tit For Tat,Win-Stay Lose-Shift</td>\n",
       "      <td>Alternator,Cooperator,Cycler DC,Defector</td>\n",
       "      <td>Anti Tit For Tat,Grim Trigger,Tit For Tat,Win-Shift Lose-Stay</td>\n",
       "    </tr>\n",
       "    <tr>\n",
       "      <th>1</th>\n",
       "      <td>1,3,5,29_6,11,12,19_2,15,24,27</td>\n",
       "      <td>Alternator,Bitter Cooperator,Bully,Win-Stay Lose-Shift</td>\n",
       "      <td>Cooperator,Cycler DC,Defector,Suspicious Tit For Tat</td>\n",
       "      <td>Anti Tit For Tat,Grim Trigger,Tit For Tat,Win-Shift Lose-Stay</td>\n",
       "    </tr>\n",
       "    <tr>\n",
       "      <th>2</th>\n",
       "      <td>1,5,19,29_3,6,11,12_2,15,24,27</td>\n",
       "      <td>Alternator,Bully,Suspicious Tit For Tat,Win-Stay Lose-Shift</td>\n",
       "      <td>Bitter Cooperator,Cooperator,Cycler DC,Defector</td>\n",
       "      <td>Anti Tit For Tat,Grim Trigger,Tit For Tat,Win-Shift Lose-Stay</td>\n",
       "    </tr>\n",
       "  </tbody>\n",
       "</table>\n",
       "</div>"
      ],
      "text/plain": [
       "                        System ID  \\\n",
       "0  3,5,19,29_1,6,11,12_2,15,24,27   \n",
       "1  1,3,5,29_6,11,12,19_2,15,24,27   \n",
       "2  1,5,19,29_3,6,11,12_2,15,24,27   \n",
       "\n",
       "                                                                Team1  \\\n",
       "0  Bitter Cooperator,Bully,Suspicious Tit For Tat,Win-Stay Lose-Shift   \n",
       "1              Alternator,Bitter Cooperator,Bully,Win-Stay Lose-Shift   \n",
       "2         Alternator,Bully,Suspicious Tit For Tat,Win-Stay Lose-Shift   \n",
       "\n",
       "                                                  Team2  \\\n",
       "0              Alternator,Cooperator,Cycler DC,Defector   \n",
       "1  Cooperator,Cycler DC,Defector,Suspicious Tit For Tat   \n",
       "2       Bitter Cooperator,Cooperator,Cycler DC,Defector   \n",
       "\n",
       "                                                           Team3  \n",
       "0  Anti Tit For Tat,Grim Trigger,Tit For Tat,Win-Shift Lose-Stay  \n",
       "1  Anti Tit For Tat,Grim Trigger,Tit For Tat,Win-Shift Lose-Stay  \n",
       "2  Anti Tit For Tat,Grim Trigger,Tit For Tat,Win-Shift Lose-Stay  "
      ]
     },
     "metadata": {},
     "output_type": "display_data"
    }
   ],
   "source": [
    "with pd.option_context('display.max_rows', None, 'display.max_columns', None, 'display.max_colwidth', None):  # more options can be specified also\n",
    "    display(stagHunt_dataf[['System ID', 'Team1', 'Team2','Team3']])"
   ]
  },
  {
   "cell_type": "markdown",
   "id": "b533adcd-2da0-4565-ae0f-a16f45e4c2cf",
   "metadata": {},
   "source": [
    "How do the systems compare within the same game?"
   ]
  },
  {
   "cell_type": "code",
   "execution_count": 34,
   "id": "e7e332e1-c7e1-46f1-b75c-d11e005fd4d0",
   "metadata": {},
   "outputs": [
    {
     "data": {
      "text/html": [
       "<div>\n",
       "<style scoped>\n",
       "    .dataframe tbody tr th:only-of-type {\n",
       "        vertical-align: middle;\n",
       "    }\n",
       "\n",
       "    .dataframe tbody tr th {\n",
       "        vertical-align: top;\n",
       "    }\n",
       "\n",
       "    .dataframe thead th {\n",
       "        text-align: right;\n",
       "    }\n",
       "</style>\n",
       "<table border=\"1\" class=\"dataframe\">\n",
       "  <thead>\n",
       "    <tr style=\"text-align: right;\">\n",
       "      <th></th>\n",
       "      <th>System ID</th>\n",
       "      <th>SYS MIN Score</th>\n",
       "      <th>SYS AVG Score</th>\n",
       "      <th>MIN of Team Avgs</th>\n",
       "      <th>AVG of Team Mins</th>\n",
       "      <th>SYS CC Dist AVG</th>\n",
       "      <th>SYS CC Dist MIN</th>\n",
       "    </tr>\n",
       "  </thead>\n",
       "  <tbody>\n",
       "    <tr>\n",
       "      <th>0</th>\n",
       "      <td>3,5,19,29_1,6,11,12_2,15,24,27</td>\n",
       "      <td>1.00</td>\n",
       "      <td>2.397586</td>\n",
       "      <td>2.333333</td>\n",
       "      <td>1.662302</td>\n",
       "      <td>0.276521</td>\n",
       "      <td>0.166667</td>\n",
       "    </tr>\n",
       "    <tr>\n",
       "      <th>1</th>\n",
       "      <td>1,3,5,29_6,11,12,19_2,15,24,27</td>\n",
       "      <td>1.25</td>\n",
       "      <td>2.366038</td>\n",
       "      <td>2.216667</td>\n",
       "      <td>1.767857</td>\n",
       "      <td>0.331680</td>\n",
       "      <td>0.208333</td>\n",
       "    </tr>\n",
       "    <tr>\n",
       "      <th>2</th>\n",
       "      <td>1,5,19,29_3,6,11,12_2,15,24,27</td>\n",
       "      <td>1.50</td>\n",
       "      <td>2.361872</td>\n",
       "      <td>2.215079</td>\n",
       "      <td>1.745635</td>\n",
       "      <td>0.270569</td>\n",
       "      <td>0.201587</td>\n",
       "    </tr>\n",
       "  </tbody>\n",
       "</table>\n",
       "</div>"
      ],
      "text/plain": [
       "                        System ID  SYS MIN Score  SYS AVG Score  \\\n",
       "0  3,5,19,29_1,6,11,12_2,15,24,27           1.00       2.397586   \n",
       "1  1,3,5,29_6,11,12,19_2,15,24,27           1.25       2.366038   \n",
       "2  1,5,19,29_3,6,11,12_2,15,24,27           1.50       2.361872   \n",
       "\n",
       "   MIN of Team Avgs  AVG of Team Mins  SYS CC Dist AVG  SYS CC Dist MIN  \n",
       "0          2.333333          1.662302         0.276521         0.166667  \n",
       "1          2.216667          1.767857         0.331680         0.208333  \n",
       "2          2.215079          1.745635         0.270569         0.201587  "
      ]
     },
     "execution_count": 34,
     "metadata": {},
     "output_type": "execute_result"
    }
   ],
   "source": [
    "\n",
    "classic_dataf.loc[:,:'SYS CC Dist MIN']"
   ]
  },
  {
   "cell_type": "code",
   "execution_count": 35,
   "id": "f537629d-cd63-405d-ab55-dc5897ea57b9",
   "metadata": {},
   "outputs": [
    {
     "data": {
      "text/html": [
       "<div>\n",
       "<style scoped>\n",
       "    .dataframe tbody tr th:only-of-type {\n",
       "        vertical-align: middle;\n",
       "    }\n",
       "\n",
       "    .dataframe tbody tr th {\n",
       "        vertical-align: top;\n",
       "    }\n",
       "\n",
       "    .dataframe thead th {\n",
       "        text-align: right;\n",
       "    }\n",
       "</style>\n",
       "<table border=\"1\" class=\"dataframe\">\n",
       "  <thead>\n",
       "    <tr style=\"text-align: right;\">\n",
       "      <th></th>\n",
       "      <th>System ID</th>\n",
       "      <th>SYS MIN Score</th>\n",
       "      <th>SYS AVG Score</th>\n",
       "      <th>MIN of Team Avgs</th>\n",
       "      <th>AVG of Team Mins</th>\n",
       "      <th>SYS CC Dist AVG</th>\n",
       "      <th>SYS CC Dist MIN</th>\n",
       "    </tr>\n",
       "  </thead>\n",
       "  <tbody>\n",
       "    <tr>\n",
       "      <th>0</th>\n",
       "      <td>3,5,19,29_1,6,11,12_2,15,24,27</td>\n",
       "      <td>1.666667</td>\n",
       "      <td>2.387599</td>\n",
       "      <td>2.000000</td>\n",
       "      <td>1.803704</td>\n",
       "      <td>0.276521</td>\n",
       "      <td>0.166667</td>\n",
       "    </tr>\n",
       "    <tr>\n",
       "      <th>1</th>\n",
       "      <td>1,3,5,29_6,11,12,19_2,15,24,27</td>\n",
       "      <td>1.966667</td>\n",
       "      <td>2.560946</td>\n",
       "      <td>2.100000</td>\n",
       "      <td>2.211905</td>\n",
       "      <td>0.331680</td>\n",
       "      <td>0.208333</td>\n",
       "    </tr>\n",
       "    <tr>\n",
       "      <th>2</th>\n",
       "      <td>1,5,19,29_3,6,11,12_2,15,24,27</td>\n",
       "      <td>1.694444</td>\n",
       "      <td>2.355853</td>\n",
       "      <td>2.076984</td>\n",
       "      <td>1.914815</td>\n",
       "      <td>0.270569</td>\n",
       "      <td>0.201587</td>\n",
       "    </tr>\n",
       "  </tbody>\n",
       "</table>\n",
       "</div>"
      ],
      "text/plain": [
       "                        System ID  SYS MIN Score  SYS AVG Score  \\\n",
       "0  3,5,19,29_1,6,11,12_2,15,24,27       1.666667       2.387599   \n",
       "1  1,3,5,29_6,11,12,19_2,15,24,27       1.966667       2.560946   \n",
       "2  1,5,19,29_3,6,11,12_2,15,24,27       1.694444       2.355853   \n",
       "\n",
       "   MIN of Team Avgs  AVG of Team Mins  SYS CC Dist AVG  SYS CC Dist MIN  \n",
       "0          2.000000          1.803704         0.276521         0.166667  \n",
       "1          2.100000          2.211905         0.331680         0.208333  \n",
       "2          2.076984          1.914815         0.270569         0.201587  "
      ]
     },
     "execution_count": 35,
     "metadata": {},
     "output_type": "execute_result"
    }
   ],
   "source": [
    "\n",
    "stagHunt_dataf.loc[:,:'SYS CC Dist MIN']"
   ]
  },
  {
   "cell_type": "markdown",
   "id": "0555f046-de39-4fe5-be41-0d3dd4375b2b",
   "metadata": {},
   "source": [
    "How did team 1 and 2 performance differ across systems?"
   ]
  },
  {
   "cell_type": "code",
   "execution_count": 43,
   "id": "c22bcb8a-904c-4543-ba7f-2c5e1dae8223",
   "metadata": {},
   "outputs": [
    {
     "data": {
      "text/html": [
       "<div>\n",
       "<style scoped>\n",
       "    .dataframe tbody tr th:only-of-type {\n",
       "        vertical-align: middle;\n",
       "    }\n",
       "\n",
       "    .dataframe tbody tr th {\n",
       "        vertical-align: top;\n",
       "    }\n",
       "\n",
       "    .dataframe thead th {\n",
       "        text-align: right;\n",
       "    }\n",
       "</style>\n",
       "<table border=\"1\" class=\"dataframe\">\n",
       "  <thead>\n",
       "    <tr style=\"text-align: right;\">\n",
       "      <th></th>\n",
       "      <th>System ID</th>\n",
       "      <th>Team1</th>\n",
       "      <th>Team1 Avg Score</th>\n",
       "      <th>Team1 Min Score</th>\n",
       "      <th>Team1 Avg CC Dist</th>\n",
       "      <th>Team2</th>\n",
       "      <th>Team2 Avg Score</th>\n",
       "      <th>Team2 Min Score</th>\n",
       "      <th>Team2 Avg CC Dist</th>\n",
       "    </tr>\n",
       "  </thead>\n",
       "  <tbody>\n",
       "    <tr>\n",
       "      <th>0</th>\n",
       "      <td>3,5,19,29_1,6,11,12_2,15,24,27</td>\n",
       "      <td>Bitter Cooperator,Bully,Suspicious Tit For Tat,Win-Stay Lose-Shift</td>\n",
       "      <td>2.363889</td>\n",
       "      <td>2.016667</td>\n",
       "      <td>0.302778</td>\n",
       "      <td>Alternator,Cooperator,Cycler DC,Defector</td>\n",
       "      <td>2.333333</td>\n",
       "      <td>1.00</td>\n",
       "      <td>0.166667</td>\n",
       "    </tr>\n",
       "    <tr>\n",
       "      <th>1</th>\n",
       "      <td>1,3,5,29_6,11,12,19_2,15,24,27</td>\n",
       "      <td>Alternator,Bitter Cooperator,Bully,Win-Stay Lose-Shift</td>\n",
       "      <td>2.385913</td>\n",
       "      <td>2.083333</td>\n",
       "      <td>0.426587</td>\n",
       "      <td>Cooperator,Cycler DC,Defector,Suspicious Tit For Tat</td>\n",
       "      <td>2.216667</td>\n",
       "      <td>1.25</td>\n",
       "      <td>0.208333</td>\n",
       "    </tr>\n",
       "    <tr>\n",
       "      <th>2</th>\n",
       "      <td>1,5,19,29_3,6,11,12_2,15,24,27</td>\n",
       "      <td>Alternator,Bully,Suspicious Tit For Tat,Win-Stay Lose-Shift</td>\n",
       "      <td>2.215079</td>\n",
       "      <td>1.766667</td>\n",
       "      <td>0.201587</td>\n",
       "      <td>Bitter Cooperator,Cooperator,Cycler DC,Defector</td>\n",
       "      <td>2.375000</td>\n",
       "      <td>1.50</td>\n",
       "      <td>0.250000</td>\n",
       "    </tr>\n",
       "  </tbody>\n",
       "</table>\n",
       "</div>"
      ],
      "text/plain": [
       "                        System ID  \\\n",
       "0  3,5,19,29_1,6,11,12_2,15,24,27   \n",
       "1  1,3,5,29_6,11,12,19_2,15,24,27   \n",
       "2  1,5,19,29_3,6,11,12_2,15,24,27   \n",
       "\n",
       "                                                                Team1  \\\n",
       "0  Bitter Cooperator,Bully,Suspicious Tit For Tat,Win-Stay Lose-Shift   \n",
       "1              Alternator,Bitter Cooperator,Bully,Win-Stay Lose-Shift   \n",
       "2         Alternator,Bully,Suspicious Tit For Tat,Win-Stay Lose-Shift   \n",
       "\n",
       "   Team1 Avg Score  Team1 Min Score  Team1 Avg CC Dist  \\\n",
       "0         2.363889         2.016667           0.302778   \n",
       "1         2.385913         2.083333           0.426587   \n",
       "2         2.215079         1.766667           0.201587   \n",
       "\n",
       "                                                  Team2  Team2 Avg Score  \\\n",
       "0              Alternator,Cooperator,Cycler DC,Defector         2.333333   \n",
       "1  Cooperator,Cycler DC,Defector,Suspicious Tit For Tat         2.216667   \n",
       "2       Bitter Cooperator,Cooperator,Cycler DC,Defector         2.375000   \n",
       "\n",
       "   Team2 Min Score  Team2 Avg CC Dist  \n",
       "0             1.00           0.166667  \n",
       "1             1.25           0.208333  \n",
       "2             1.50           0.250000  "
      ]
     },
     "metadata": {},
     "output_type": "display_data"
    }
   ],
   "source": [
    "with pd.option_context('display.max_rows', None, 'display.max_columns', None, 'display.max_colwidth', None):  # more options can be specified also\n",
    "    display(classic_dataf[['System ID', 'Team1', 'Team1 Avg Score',\n",
    "       'Team1 Min Score', 'Team1 Avg CC Dist', 'Team2','Team2 Avg Score',\n",
    "       'Team2 Min Score', 'Team2 Avg CC Dist']])"
   ]
  },
  {
   "cell_type": "code",
   "execution_count": 44,
   "id": "2cb96808-64a9-4dcf-8088-885bac9d4a5b",
   "metadata": {},
   "outputs": [
    {
     "data": {
      "text/html": [
       "<div>\n",
       "<style scoped>\n",
       "    .dataframe tbody tr th:only-of-type {\n",
       "        vertical-align: middle;\n",
       "    }\n",
       "\n",
       "    .dataframe tbody tr th {\n",
       "        vertical-align: top;\n",
       "    }\n",
       "\n",
       "    .dataframe thead th {\n",
       "        text-align: right;\n",
       "    }\n",
       "</style>\n",
       "<table border=\"1\" class=\"dataframe\">\n",
       "  <thead>\n",
       "    <tr style=\"text-align: right;\">\n",
       "      <th></th>\n",
       "      <th>System ID</th>\n",
       "      <th>Team1</th>\n",
       "      <th>Team1 Avg Score</th>\n",
       "      <th>Team1 Min Score</th>\n",
       "      <th>Team1 Avg CC Dist</th>\n",
       "      <th>Team2</th>\n",
       "      <th>Team2 Avg Score</th>\n",
       "      <th>Team2 Min Score</th>\n",
       "      <th>Team2 Avg CC Dist</th>\n",
       "    </tr>\n",
       "  </thead>\n",
       "  <tbody>\n",
       "    <tr>\n",
       "      <th>0</th>\n",
       "      <td>3,5,19,29_1,6,11,12_2,15,24,27</td>\n",
       "      <td>Bitter Cooperator,Bully,Suspicious Tit For Tat,Win-Stay Lose-Shift</td>\n",
       "      <td>2.463889</td>\n",
       "      <td>1.694444</td>\n",
       "      <td>0.302778</td>\n",
       "      <td>Alternator,Cooperator,Cycler DC,Defector</td>\n",
       "      <td>2.000000</td>\n",
       "      <td>1.666667</td>\n",
       "      <td>0.166667</td>\n",
       "    </tr>\n",
       "    <tr>\n",
       "      <th>1</th>\n",
       "      <td>1,3,5,29_6,11,12,19_2,15,24,27</td>\n",
       "      <td>Alternator,Bitter Cooperator,Bully,Win-Stay Lose-Shift</td>\n",
       "      <td>2.883929</td>\n",
       "      <td>2.619048</td>\n",
       "      <td>0.426587</td>\n",
       "      <td>Cooperator,Cycler DC,Defector,Suspicious Tit For Tat</td>\n",
       "      <td>2.100000</td>\n",
       "      <td>1.966667</td>\n",
       "      <td>0.208333</td>\n",
       "    </tr>\n",
       "    <tr>\n",
       "      <th>2</th>\n",
       "      <td>1,5,19,29_3,6,11,12_2,15,24,27</td>\n",
       "      <td>Alternator,Bully,Suspicious Tit For Tat,Win-Stay Lose-Shift</td>\n",
       "      <td>2.076984</td>\n",
       "      <td>1.694444</td>\n",
       "      <td>0.201587</td>\n",
       "      <td>Bitter Cooperator,Cooperator,Cycler DC,Defector</td>\n",
       "      <td>2.291667</td>\n",
       "      <td>2.000000</td>\n",
       "      <td>0.250000</td>\n",
       "    </tr>\n",
       "  </tbody>\n",
       "</table>\n",
       "</div>"
      ],
      "text/plain": [
       "                        System ID  \\\n",
       "0  3,5,19,29_1,6,11,12_2,15,24,27   \n",
       "1  1,3,5,29_6,11,12,19_2,15,24,27   \n",
       "2  1,5,19,29_3,6,11,12_2,15,24,27   \n",
       "\n",
       "                                                                Team1  \\\n",
       "0  Bitter Cooperator,Bully,Suspicious Tit For Tat,Win-Stay Lose-Shift   \n",
       "1              Alternator,Bitter Cooperator,Bully,Win-Stay Lose-Shift   \n",
       "2         Alternator,Bully,Suspicious Tit For Tat,Win-Stay Lose-Shift   \n",
       "\n",
       "   Team1 Avg Score  Team1 Min Score  Team1 Avg CC Dist  \\\n",
       "0         2.463889         1.694444           0.302778   \n",
       "1         2.883929         2.619048           0.426587   \n",
       "2         2.076984         1.694444           0.201587   \n",
       "\n",
       "                                                  Team2  Team2 Avg Score  \\\n",
       "0              Alternator,Cooperator,Cycler DC,Defector         2.000000   \n",
       "1  Cooperator,Cycler DC,Defector,Suspicious Tit For Tat         2.100000   \n",
       "2       Bitter Cooperator,Cooperator,Cycler DC,Defector         2.291667   \n",
       "\n",
       "   Team2 Min Score  Team2 Avg CC Dist  \n",
       "0         1.666667           0.166667  \n",
       "1         1.966667           0.208333  \n",
       "2         2.000000           0.250000  "
      ]
     },
     "metadata": {},
     "output_type": "display_data"
    }
   ],
   "source": [
    "with pd.option_context('display.max_rows', None, 'display.max_columns', None, \n",
    "                       'display.max_colwidth', None):  # more options can be \n",
    "                                                       # specified also\n",
    "    display(stagHunt_dataf[['System ID', 'Team1', 'Team1 Avg Score',\n",
    "                            'Team1 Min Score', 'Team1 Avg CC Dist', 'Team2',\n",
    "                            'Team2 Avg Score', 'Team2 Min Score', \n",
    "                            'Team2 Avg CC Dist']])"
   ]
  },
  {
   "cell_type": "markdown",
   "id": "41168d7e-2536-4f98-b9c9-138294badafa",
   "metadata": {},
   "source": [
    "How did team 3 perform across the two games being compared?"
   ]
  },
  {
   "cell_type": "code",
   "execution_count": 53,
   "id": "710843ef-24bd-42db-8a55-81e5594ffc62",
   "metadata": {},
   "outputs": [
    {
     "data": {
      "text/plain": [
       "Team3                Anti Tit For Tat,Grim Trigger,Tit For Tat,Win-Shift Lose-Stay\n",
       "Team3 Avg Score                                                           2.495536\n",
       "Team3 Min Score                                                           1.970238\n",
       "Team3 Avg CC Dist                                                         0.360119\n",
       "Name: 0, dtype: object"
      ]
     },
     "metadata": {},
     "output_type": "display_data"
    }
   ],
   "source": [
    "with pd.option_context('display.max_rows', None, 'display.max_columns', None, \n",
    "                       'display.max_colwidth', None):  # more options can be \n",
    "                                                       # specified also\n",
    "    display(classic_dataf.loc[0, ['Team3', 'Team3 Avg Score',\n",
    "                            'Team3 Min Score', 'Team3 Avg CC Dist']])"
   ]
  },
  {
   "cell_type": "code",
   "execution_count": 54,
   "id": "340c6f0d-24ed-4577-bc02-39818c6c0704",
   "metadata": {},
   "outputs": [
    {
     "data": {
      "text/plain": [
       "Team3                Anti Tit For Tat,Grim Trigger,Tit For Tat,Win-Shift Lose-Stay\n",
       "Team3 Avg Score                                                           2.698909\n",
       "Team3 Min Score                                                               2.05\n",
       "Team3 Avg CC Dist                                                         0.360119\n",
       "Name: 0, dtype: object"
      ]
     },
     "metadata": {},
     "output_type": "display_data"
    }
   ],
   "source": [
    "with pd.option_context('display.max_rows', None, 'display.max_columns', None, \n",
    "                       'display.max_colwidth', None):  # more options can be \n",
    "                                                       # specified also\n",
    "    display(stagHunt_dataf.loc[0, ['Team3', 'Team3 Avg Score',\n",
    "                            'Team3 Min Score', 'Team3 Avg CC Dist']])"
   ]
  },
  {
   "cell_type": "code",
   "execution_count": null,
   "id": "897db71a-c96b-4b24-bb95-2970813df91c",
   "metadata": {},
   "outputs": [],
   "source": []
  }
 ],
 "metadata": {
  "kernelspec": {
   "display_name": "Python 3",
   "language": "python",
   "name": "python3"
  },
  "language_info": {
   "codemirror_mode": {
    "name": "ipython",
    "version": 3
   },
   "file_extension": ".py",
   "mimetype": "text/x-python",
   "name": "python",
   "nbconvert_exporter": "python",
   "pygments_lexer": "ipython3",
   "version": "3.9.4"
  }
 },
 "nbformat": 4,
 "nbformat_minor": 5
}
