{
 "cells": [
  {
   "cell_type": "markdown",
   "metadata": {},
   "source": [
    "# Sensitivity Analysis of PD Model:\n",
    "This notebook features different experiments to observe the model's behavior with controlled inputs."
   ]
  },
  {
   "cell_type": "code",
   "execution_count": 1,
   "metadata": {},
   "outputs": [],
   "source": [
    "import axelrod as axl\n",
    "from axelrod.action import Action\n",
    "import copy\n",
    "from itertools import (zip_longest, \n",
    "                      combinations, \n",
    "                      combinations_with_replacement)\n",
    "import matplotlib.pyplot as plt\n",
    "import numpy as np\n",
    "import pandas as pd\n",
    "import pd_exp2\n",
    "import random\n",
    "import seaborn as sns\n",
    "import time\n",
    "\n",
    "C,D = Action.C, Action.D\n",
    "action_map={0: D, 1: C}"
   ]
  },
  {
   "cell_type": "markdown",
   "metadata": {},
   "source": [
    "#### Experiment 1: How do the initial moves influence group outcomes?\n",
    "__Approach__: Fix player response probability parameters to be the same but vary \n",
    "the players' initial moves. Specifically, we run 6 x 1000 tournaments with 5 \n",
    "players that have fixed response probabilities (1, so responses are \n",
    "deterministic) and varying initial moves. The initial moves are represented as\n",
    "an array of 0s and 1s which correspond to actions D and C, respectively. The \n",
    "index of the initial moves array plus 1 corresponds to the player number in the\n",
    "tournament. The initial move array will change after every 1000 tournaments. \n",
    "There are six different variations of the initial moves array, which is why we \n",
    "run 1000 tournaments six times"
   ]
  },
  {
   "cell_type": "code",
   "execution_count": 2,
   "metadata": {},
   "outputs": [
    {
     "name": "stdout",
     "output_type": "stream",
     "text": [
      "Five player response probabilities: \n",
      " [[1. 1. 1. 1.]\n",
      " [1. 1. 1. 1.]\n",
      " [1. 1. 1. 1.]\n",
      " [1. 1. 1. 1.]\n",
      " [1. 1. 1. 1.]]\n",
      "LIST of initial moves: \n",
      "[0, 0, 0, 0, 0]\n",
      "[1, 0, 0, 0, 0]\n",
      "[1, 1, 0, 0, 0]\n",
      "[1, 1, 1, 0, 0]\n",
      "[1, 1, 1, 1, 0]\n",
      "[1, 1, 1, 1, 1]\n"
     ]
    }
   ],
   "source": [
    "# Initialize player parameters - each player has a set of four response\n",
    "# probabilities and an initial move:\n",
    "#     The response probabilities to the preceding round of play\n",
    "#             ( P(C|CC), P(C|CD), P(C|DC), P(C|DD) )\n",
    "#     Initial: C or D\n",
    "#             The initial move\n",
    "\n",
    "five_four_params = np.ones((5,4))\n",
    "print(\"Five player response probabilities: \\n\", five_four_params)\n",
    "im_list= []\n",
    "print(\"LIST of initial moves: \")\n",
    "for i in range(6):\n",
    "    im = [1 if n<i else 0 for n in range(5)]\n",
    "    print(im)\n",
    "    im_list.append(im)"
   ]
  },
  {
   "cell_type": "code",
   "execution_count": 3,
   "metadata": {},
   "outputs": [
    {
     "name": "stdout",
     "output_type": "stream",
     "text": [
      "Instantiating tournament object with these players:  Generic Memory One Player,Generic Memory One Player,Generic Memory One Player,Generic Memory One Player,Generic Memory One Player\n"
     ]
    },
    {
     "name": "stderr",
     "output_type": "stream",
     "text": [
      "Playing matches: 100%|██████████| 15/15 [00:37<00:00,  2.50s/it]\n",
      "Analysing: 100%|██████████| 25/25 [00:00<00:00, 41.43it/s]"
     ]
    },
    {
     "name": "stdout",
     "output_type": "stream",
     "text": [
      "Instantiating tournament object with these players:  Generic Memory One Player,Generic Memory One Player,Generic Memory One Player,Generic Memory One Player,Generic Memory One Player\n"
     ]
    },
    {
     "name": "stderr",
     "output_type": "stream",
     "text": [
      "\n",
      "Playing matches: 100%|██████████| 15/15 [00:43<00:00,  2.91s/it]\n",
      "Analysing: 100%|██████████| 25/25 [00:00<00:00, 36.62it/s]"
     ]
    },
    {
     "name": "stdout",
     "output_type": "stream",
     "text": [
      "Instantiating tournament object with these players:  Generic Memory One Player,Generic Memory One Player,Generic Memory One Player,Generic Memory One Player,Generic Memory One Player\n"
     ]
    },
    {
     "name": "stderr",
     "output_type": "stream",
     "text": [
      "\n",
      "Playing matches: 100%|██████████| 15/15 [00:34<00:00,  2.33s/it]\n",
      "Analysing: 100%|██████████| 25/25 [00:00<00:00, 42.70it/s]"
     ]
    },
    {
     "name": "stdout",
     "output_type": "stream",
     "text": [
      "Instantiating tournament object with these players:  Generic Memory One Player,Generic Memory One Player,Generic Memory One Player,Generic Memory One Player,Generic Memory One Player\n"
     ]
    },
    {
     "name": "stderr",
     "output_type": "stream",
     "text": [
      "\n",
      "Playing matches: 100%|██████████| 15/15 [00:37<00:00,  2.48s/it]\n",
      "Analysing: 100%|██████████| 25/25 [00:00<00:00, 46.25it/s]"
     ]
    },
    {
     "name": "stdout",
     "output_type": "stream",
     "text": [
      "Instantiating tournament object with these players:  Generic Memory One Player,Generic Memory One Player,Generic Memory One Player,Generic Memory One Player,Generic Memory One Player\n"
     ]
    },
    {
     "name": "stderr",
     "output_type": "stream",
     "text": [
      "\n",
      "Playing matches: 100%|██████████| 15/15 [00:34<00:00,  2.28s/it]\n",
      "Analysing: 100%|██████████| 25/25 [00:00<00:00, 41.03it/s]"
     ]
    },
    {
     "name": "stdout",
     "output_type": "stream",
     "text": [
      "Instantiating tournament object with these players:  Generic Memory One Player,Generic Memory One Player,Generic Memory One Player,Generic Memory One Player,Generic Memory One Player\n"
     ]
    },
    {
     "name": "stderr",
     "output_type": "stream",
     "text": [
      "\n",
      "Playing matches: 100%|██████████| 15/15 [00:33<00:00,  2.22s/it]\n",
      "Analysing: 100%|██████████| 25/25 [00:00<00:00, 52.62it/s]"
     ]
    },
    {
     "name": "stdout",
     "output_type": "stream",
     "text": [
      "Tournaments took 225.01768684387207 seconds\n"
     ]
    },
    {
     "name": "stderr",
     "output_type": "stream",
     "text": [
      "\n"
     ]
    }
   ],
   "source": [
    "params = five_four_params\n",
    "data_dict1 = {}\n",
    "start = time.time()\n",
    "\n",
    "# Collect the tournament results\n",
    "for j, i_im in enumerate(im_list):\n",
    "    plyrs = []\n",
    "    for i in range(len(params)):\n",
    "        pl = axl.MemoryOnePlayer(tuple(params[i]),action_map[i_im[i]])\n",
    "        plyrs.append(pl)\n",
    "    # RPST payoff matrix - 3, 1, 0, 5 - classic config is also default\n",
    "    pd1000 = pd_exp2.PdTournament(plyrs, reps=1000)\n",
    "\n",
    "    df1, df2=pd1000.data, pd1000.agg_data\n",
    "    data_dict1[j]= (i_im, df1, df2)  # Tuple of initial moves, player norm \n",
    "                                    # scores by tournament, aggregate data for\n",
    "                                    # 1000 tournaments\n",
    "    \n",
    "print(f\"Tournaments took {time.time() - start} seconds\")  # ~222.79 seconds"
   ]
  },
  {
   "cell_type": "code",
   "execution_count": 4,
   "metadata": {},
   "outputs": [],
   "source": [
    "# Process aggregate data of each tournament into a single dataframe for \n",
    "# comparison\n",
    "agg_d_list = []\n",
    "for key,val in data_dict1.items():\n",
    "    im_list, data, agg_data = val\n",
    "    agg_data['initial_moves(as one-count)'] = im_list.count(1)\n",
    "##     agg_data['initial_moves'] = str(im_list)\n",
    "    agg_d_list.append(agg_data)\n",
    "\n",
    "comparison_df = pd.concat(agg_d_list)\n",
    "\n",
    "# Sort rows by average of Player scores\n",
    "sorted_df = comparison_df.sort_values(by=['Avg_of_PL_Scores'])\n",
    "\n",
    "# Add column for l2 distance of avg_player scores\n",
    "sorted_df['L2_Dist_Avg_PL_Scores'] = np.sqrt(np.square(sorted_df.Avg_of_PL_Scores.shift(1) - sorted_df.Avg_of_PL_Scores))\n"
   ]
  },
  {
   "cell_type": "code",
   "execution_count": 5,
   "metadata": {},
   "outputs": [
    {
     "data": {
      "text/plain": [
       "Index(['P1_Avg_Norm_Score', 'P1_Min_Norm_Score', 'P2_Avg_Norm_Score',\n",
       "       'P2_Min_Norm_Score', 'P3_Avg_Norm_Score', 'P3_Min_Norm_Score',\n",
       "       'P4_Avg_Norm_Score', 'P4_Min_Norm_Score', 'P5_Avg_Norm_Score',\n",
       "       'P5_Min_Norm_Score', 'Avg_of_PL_Scores', 'Min_of_PL_Scores',\n",
       "       'Avg_CC_Distribution', 'initial_moves(as one-count)',\n",
       "       'L2_Dist_Avg_PL_Scores'],\n",
       "      dtype='object')"
      ]
     },
     "execution_count": 5,
     "metadata": {},
     "output_type": "execute_result"
    }
   ],
   "source": [
    "# All of the columns contained in the dataframe\n",
    "sorted_df.columns"
   ]
  },
  {
   "cell_type": "code",
   "execution_count": 6,
   "metadata": {},
   "outputs": [
    {
     "data": {
      "text/html": [
       "<div>\n",
       "<style scoped>\n",
       "    .dataframe tbody tr th:only-of-type {\n",
       "        vertical-align: middle;\n",
       "    }\n",
       "\n",
       "    .dataframe tbody tr th {\n",
       "        vertical-align: top;\n",
       "    }\n",
       "\n",
       "    .dataframe thead th {\n",
       "        text-align: right;\n",
       "    }\n",
       "</style>\n",
       "<table border=\"1\" class=\"dataframe\">\n",
       "  <thead>\n",
       "    <tr style=\"text-align: right;\">\n",
       "      <th></th>\n",
       "      <th>initial_moves(as one-count)</th>\n",
       "      <th>P1_Avg_Norm_Score</th>\n",
       "      <th>P2_Avg_Norm_Score</th>\n",
       "      <th>P3_Avg_Norm_Score</th>\n",
       "      <th>P4_Avg_Norm_Score</th>\n",
       "      <th>P5_Avg_Norm_Score</th>\n",
       "      <th>Avg_of_PL_Scores</th>\n",
       "      <th>Avg_CC_Distribution</th>\n",
       "      <th>L2_Dist_Avg_PL_Scores</th>\n",
       "    </tr>\n",
       "  </thead>\n",
       "  <tbody>\n",
       "    <tr>\n",
       "      <th>1000</th>\n",
       "      <td>0</td>\n",
       "      <td>2.489632</td>\n",
       "      <td>2.514715</td>\n",
       "      <td>2.508980</td>\n",
       "      <td>2.490454</td>\n",
       "      <td>2.496311</td>\n",
       "      <td>2.500019</td>\n",
       "      <td>0.896116</td>\n",
       "      <td>NaN</td>\n",
       "    </tr>\n",
       "    <tr>\n",
       "      <th>1000</th>\n",
       "      <td>1</td>\n",
       "      <td>2.234449</td>\n",
       "      <td>2.760158</td>\n",
       "      <td>2.766321</td>\n",
       "      <td>2.764996</td>\n",
       "      <td>2.739720</td>\n",
       "      <td>2.653129</td>\n",
       "      <td>0.896116</td>\n",
       "      <td>0.153110</td>\n",
       "    </tr>\n",
       "    <tr>\n",
       "      <th>1000</th>\n",
       "      <td>2</td>\n",
       "      <td>2.418531</td>\n",
       "      <td>2.456155</td>\n",
       "      <td>2.998372</td>\n",
       "      <td>3.008509</td>\n",
       "      <td>2.989283</td>\n",
       "      <td>2.774170</td>\n",
       "      <td>0.906280</td>\n",
       "      <td>0.121041</td>\n",
       "    </tr>\n",
       "    <tr>\n",
       "      <th>1000</th>\n",
       "      <td>3</td>\n",
       "      <td>2.611536</td>\n",
       "      <td>2.630193</td>\n",
       "      <td>2.630514</td>\n",
       "      <td>3.248149</td>\n",
       "      <td>3.242292</td>\n",
       "      <td>2.872537</td>\n",
       "      <td>0.927165</td>\n",
       "      <td>0.098367</td>\n",
       "    </tr>\n",
       "    <tr>\n",
       "      <th>1000</th>\n",
       "      <td>4</td>\n",
       "      <td>2.817443</td>\n",
       "      <td>2.812828</td>\n",
       "      <td>2.810244</td>\n",
       "      <td>2.803952</td>\n",
       "      <td>3.503689</td>\n",
       "      <td>2.949631</td>\n",
       "      <td>0.958253</td>\n",
       "      <td>0.077094</td>\n",
       "    </tr>\n",
       "    <tr>\n",
       "      <th>1000</th>\n",
       "      <td>5</td>\n",
       "      <td>3.000000</td>\n",
       "      <td>3.000000</td>\n",
       "      <td>3.000000</td>\n",
       "      <td>3.000000</td>\n",
       "      <td>3.000000</td>\n",
       "      <td>3.000000</td>\n",
       "      <td>1.000000</td>\n",
       "      <td>0.050369</td>\n",
       "    </tr>\n",
       "  </tbody>\n",
       "</table>\n",
       "</div>"
      ],
      "text/plain": [
       "      initial_moves(as one-count)  P1_Avg_Norm_Score  P2_Avg_Norm_Score  \\\n",
       "1000                            0           2.489632           2.514715   \n",
       "1000                            1           2.234449           2.760158   \n",
       "1000                            2           2.418531           2.456155   \n",
       "1000                            3           2.611536           2.630193   \n",
       "1000                            4           2.817443           2.812828   \n",
       "1000                            5           3.000000           3.000000   \n",
       "\n",
       "      P3_Avg_Norm_Score  P4_Avg_Norm_Score  P5_Avg_Norm_Score  \\\n",
       "1000           2.508980           2.490454           2.496311   \n",
       "1000           2.766321           2.764996           2.739720   \n",
       "1000           2.998372           3.008509           2.989283   \n",
       "1000           2.630514           3.248149           3.242292   \n",
       "1000           2.810244           2.803952           3.503689   \n",
       "1000           3.000000           3.000000           3.000000   \n",
       "\n",
       "      Avg_of_PL_Scores  Avg_CC_Distribution  L2_Dist_Avg_PL_Scores  \n",
       "1000          2.500019             0.896116                    NaN  \n",
       "1000          2.653129             0.896116               0.153110  \n",
       "1000          2.774170             0.906280               0.121041  \n",
       "1000          2.872537             0.927165               0.098367  \n",
       "1000          2.949631             0.958253               0.077094  \n",
       "1000          3.000000             1.000000               0.050369  "
      ]
     },
     "execution_count": 6,
     "metadata": {},
     "output_type": "execute_result"
    }
   ],
   "source": [
    "df=sorted_df[['initial_moves(as one-count)', 'P1_Avg_Norm_Score', 'P2_Avg_Norm_Score','P3_Avg_Norm_Score', \n",
    "           'P4_Avg_Norm_Score', 'P5_Avg_Norm_Score','Avg_of_PL_Scores',\n",
    "           'Avg_CC_Distribution','L2_Dist_Avg_PL_Scores']]\n",
    "\n",
    "df"
   ]
  },
  {
   "cell_type": "code",
   "execution_count": 7,
   "metadata": {},
   "outputs": [
    {
     "data": {
      "image/png": "[encoded data removed]",
      "text/plain": [
       "<Figure size 288x864 with 3 Axes>"
      ]
     },
     "metadata": {
      "needs_background": "light"
     },
     "output_type": "display_data"
    }
   ],
   "source": [
    "# Plots: Each point is the aggregate of 1000 tournaments with the same initial moves.\n",
    "\n",
    "g = sns.PairGrid(df, \n",
    "                 y_vars=[\"Avg_of_PL_Scores\",\n",
    "                        \"L2_Dist_Avg_PL_Scores\", \n",
    "                        \"Avg_CC_Distribution\"], \n",
    "                 x_vars=['initial_moves(as one-count)'], \n",
    "                 height=4)\n",
    "g.map(sns.pointplot, color=\".3\")\n",
    "plt.show()"
   ]
  },
  {
   "cell_type": "markdown",
   "metadata": {},
   "source": [
    "#### Experiment 1.1: How do the initial moves influence a larger group's outcomes?\n",
    "__Approach__: Similar to experiment 1, but we consider tournaments of 15 players."
   ]
  },
  {
   "cell_type": "code",
   "execution_count": 8,
   "metadata": {},
   "outputs": [
    {
     "name": "stdout",
     "output_type": "stream",
     "text": [
      "15 player response probabilities: \n",
      " [[1. 1. 1. 1.]\n",
      " [1. 1. 1. 1.]\n",
      " [1. 1. 1. 1.]\n",
      " [1. 1. 1. 1.]\n",
      " [1. 1. 1. 1.]\n",
      " [1. 1. 1. 1.]\n",
      " [1. 1. 1. 1.]\n",
      " [1. 1. 1. 1.]\n",
      " [1. 1. 1. 1.]\n",
      " [1. 1. 1. 1.]\n",
      " [1. 1. 1. 1.]\n",
      " [1. 1. 1. 1.]\n",
      " [1. 1. 1. 1.]\n",
      " [1. 1. 1. 1.]\n",
      " [1. 1. 1. 1.]]\n",
      "LIST of initial moves: \n",
      "[0, 0, 0, 0, 0, 0, 0, 0, 0, 0, 0, 0, 0, 0, 0]\n",
      "[1, 0, 0, 0, 0, 0, 0, 0, 0, 0, 0, 0, 0, 0, 0]\n",
      "[1, 1, 0, 0, 0, 0, 0, 0, 0, 0, 0, 0, 0, 0, 0]\n",
      "[1, 1, 1, 0, 0, 0, 0, 0, 0, 0, 0, 0, 0, 0, 0]\n",
      "[1, 1, 1, 1, 0, 0, 0, 0, 0, 0, 0, 0, 0, 0, 0]\n",
      "[1, 1, 1, 1, 1, 0, 0, 0, 0, 0, 0, 0, 0, 0, 0]\n",
      "[1, 1, 1, 1, 1, 1, 0, 0, 0, 0, 0, 0, 0, 0, 0]\n",
      "[1, 1, 1, 1, 1, 1, 1, 0, 0, 0, 0, 0, 0, 0, 0]\n",
      "[1, 1, 1, 1, 1, 1, 1, 1, 0, 0, 0, 0, 0, 0, 0]\n",
      "[1, 1, 1, 1, 1, 1, 1, 1, 1, 0, 0, 0, 0, 0, 0]\n",
      "[1, 1, 1, 1, 1, 1, 1, 1, 1, 1, 0, 0, 0, 0, 0]\n",
      "[1, 1, 1, 1, 1, 1, 1, 1, 1, 1, 1, 0, 0, 0, 0]\n",
      "[1, 1, 1, 1, 1, 1, 1, 1, 1, 1, 1, 1, 0, 0, 0]\n",
      "[1, 1, 1, 1, 1, 1, 1, 1, 1, 1, 1, 1, 1, 0, 0]\n",
      "[1, 1, 1, 1, 1, 1, 1, 1, 1, 1, 1, 1, 1, 1, 0]\n",
      "[1, 1, 1, 1, 1, 1, 1, 1, 1, 1, 1, 1, 1, 1, 1]\n"
     ]
    }
   ],
   "source": [
    "# Initialize parameters\n",
    "fifteen_four_params = np.ones((15,4))\n",
    "print(\"15 player response probabilities: \\n\", fifteen_four_params)\n",
    "im_list1= []\n",
    "print(\"LIST of initial moves: \")\n",
    "for i in range(16):\n",
    "    im = [1 if n<i else 0 for n in range(15)]\n",
    "    print(im)\n",
    "    im_list1.append(im)"
   ]
  },
  {
   "cell_type": "code",
   "execution_count": 9,
   "metadata": {},
   "outputs": [
    {
     "name": "stdout",
     "output_type": "stream",
     "text": [
      "Instantiating tournament object with these players:  Generic Memory One Player,Generic Memory One Player,Generic Memory One Player,Generic Memory One Player,Generic Memory One Player,Generic Memory One Player,Generic Memory One Player,Generic Memory One Player,Generic Memory One Player,Generic Memory One Player,Generic Memory One Player,Generic Memory One Player,Generic Memory One Player,Generic Memory One Player,Generic Memory One Player\n"
     ]
    },
    {
     "name": "stderr",
     "output_type": "stream",
     "text": [
      "Playing matches: 100%|██████████| 120/120 [01:01<00:00,  1.94it/s]\n",
      "Analysing: 100%|██████████| 25/25 [00:03<00:00,  6.83it/s]"
     ]
    },
    {
     "name": "stdout",
     "output_type": "stream",
     "text": [
      "Instantiating tournament object with these players:  Generic Memory One Player,Generic Memory One Player,Generic Memory One Player,Generic Memory One Player,Generic Memory One Player,Generic Memory One Player,Generic Memory One Player,Generic Memory One Player,Generic Memory One Player,Generic Memory One Player,Generic Memory One Player,Generic Memory One Player,Generic Memory One Player,Generic Memory One Player,Generic Memory One Player\n"
     ]
    },
    {
     "name": "stderr",
     "output_type": "stream",
     "text": [
      "\n",
      "Playing matches: 100%|██████████| 120/120 [00:53<00:00,  2.22it/s]\n",
      "Analysing: 100%|██████████| 25/25 [00:02<00:00,  9.27it/s]\n"
     ]
    },
    {
     "name": "stdout",
     "output_type": "stream",
     "text": [
      "Instantiating tournament object with these players:  Generic Memory One Player,Generic Memory One Player,Generic Memory One Player,Generic Memory One Player,Generic Memory One Player,Generic Memory One Player,Generic Memory One Player,Generic Memory One Player,Generic Memory One Player,Generic Memory One Player,Generic Memory One Player,Generic Memory One Player,Generic Memory One Player,Generic Memory One Player,Generic Memory One Player\n"
     ]
    },
    {
     "name": "stderr",
     "output_type": "stream",
     "text": [
      "Playing matches: 100%|██████████| 120/120 [00:53<00:00,  2.24it/s]\n",
      "Analysing: 100%|██████████| 25/25 [00:02<00:00,  8.34it/s]\n"
     ]
    },
    {
     "name": "stdout",
     "output_type": "stream",
     "text": [
      "Instantiating tournament object with these players:  Generic Memory One Player,Generic Memory One Player,Generic Memory One Player,Generic Memory One Player,Generic Memory One Player,Generic Memory One Player,Generic Memory One Player,Generic Memory One Player,Generic Memory One Player,Generic Memory One Player,Generic Memory One Player,Generic Memory One Player,Generic Memory One Player,Generic Memory One Player,Generic Memory One Player\n"
     ]
    },
    {
     "name": "stderr",
     "output_type": "stream",
     "text": [
      "Playing matches: 100%|██████████| 120/120 [00:48<00:00,  2.49it/s]\n",
      "Analysing: 100%|██████████| 25/25 [00:02<00:00,  9.21it/s]"
     ]
    },
    {
     "name": "stdout",
     "output_type": "stream",
     "text": [
      "Instantiating tournament object with these players:  Generic Memory One Player,Generic Memory One Player,Generic Memory One Player,Generic Memory One Player,Generic Memory One Player,Generic Memory One Player,Generic Memory One Player,Generic Memory One Player,Generic Memory One Player,Generic Memory One Player,Generic Memory One Player,Generic Memory One Player,Generic Memory One Player,Generic Memory One Player,Generic Memory One Player\n"
     ]
    },
    {
     "name": "stderr",
     "output_type": "stream",
     "text": [
      "\n",
      "Playing matches: 100%|██████████| 120/120 [00:53<00:00,  2.25it/s]\n",
      "Analysing: 100%|██████████| 25/25 [00:03<00:00,  7.97it/s]"
     ]
    },
    {
     "name": "stdout",
     "output_type": "stream",
     "text": [
      "Instantiating tournament object with these players:  Generic Memory One Player,Generic Memory One Player,Generic Memory One Player,Generic Memory One Player,Generic Memory One Player,Generic Memory One Player,Generic Memory One Player,Generic Memory One Player,Generic Memory One Player,Generic Memory One Player,Generic Memory One Player,Generic Memory One Player,Generic Memory One Player,Generic Memory One Player,Generic Memory One Player\n"
     ]
    },
    {
     "name": "stderr",
     "output_type": "stream",
     "text": [
      "\n",
      "Playing matches: 100%|██████████| 120/120 [00:53<00:00,  2.23it/s]\n",
      "Analysing: 100%|██████████| 25/25 [00:02<00:00,  8.92it/s]"
     ]
    },
    {
     "name": "stdout",
     "output_type": "stream",
     "text": [
      "Instantiating tournament object with these players:  Generic Memory One Player,Generic Memory One Player,Generic Memory One Player,Generic Memory One Player,Generic Memory One Player,Generic Memory One Player,Generic Memory One Player,Generic Memory One Player,Generic Memory One Player,Generic Memory One Player,Generic Memory One Player,Generic Memory One Player,Generic Memory One Player,Generic Memory One Player,Generic Memory One Player\n"
     ]
    },
    {
     "name": "stderr",
     "output_type": "stream",
     "text": [
      "\n",
      "Playing matches: 100%|██████████| 120/120 [00:57<00:00,  2.10it/s]\n",
      "Analysing: 100%|██████████| 25/25 [00:03<00:00,  8.12it/s]"
     ]
    },
    {
     "name": "stdout",
     "output_type": "stream",
     "text": [
      "Instantiating tournament object with these players:  Generic Memory One Player,Generic Memory One Player,Generic Memory One Player,Generic Memory One Player,Generic Memory One Player,Generic Memory One Player,Generic Memory One Player,Generic Memory One Player,Generic Memory One Player,Generic Memory One Player,Generic Memory One Player,Generic Memory One Player,Generic Memory One Player,Generic Memory One Player,Generic Memory One Player\n"
     ]
    },
    {
     "name": "stderr",
     "output_type": "stream",
     "text": [
      "\n",
      "Playing matches: 100%|██████████| 120/120 [00:59<00:00,  2.03it/s]\n",
      "Analysing: 100%|██████████| 25/25 [00:02<00:00,  8.99it/s]"
     ]
    },
    {
     "name": "stdout",
     "output_type": "stream",
     "text": [
      "Instantiating tournament object with these players:  Generic Memory One Player,Generic Memory One Player,Generic Memory One Player,Generic Memory One Player,Generic Memory One Player,Generic Memory One Player,Generic Memory One Player,Generic Memory One Player,Generic Memory One Player,Generic Memory One Player,Generic Memory One Player,Generic Memory One Player,Generic Memory One Player,Generic Memory One Player,Generic Memory One Player\n"
     ]
    },
    {
     "name": "stderr",
     "output_type": "stream",
     "text": [
      "\n",
      "Playing matches: 100%|██████████| 120/120 [00:51<00:00,  2.34it/s]\n",
      "Analysing: 100%|██████████| 25/25 [00:02<00:00,  9.38it/s]"
     ]
    },
    {
     "name": "stdout",
     "output_type": "stream",
     "text": [
      "Instantiating tournament object with these players:  Generic Memory One Player,Generic Memory One Player,Generic Memory One Player,Generic Memory One Player,Generic Memory One Player,Generic Memory One Player,Generic Memory One Player,Generic Memory One Player,Generic Memory One Player,Generic Memory One Player,Generic Memory One Player,Generic Memory One Player,Generic Memory One Player,Generic Memory One Player,Generic Memory One Player\n"
     ]
    },
    {
     "name": "stderr",
     "output_type": "stream",
     "text": [
      "\n",
      "Playing matches: 100%|██████████| 120/120 [00:55<00:00,  2.18it/s]\n",
      "Analysing: 100%|██████████| 25/25 [00:03<00:00,  7.65it/s]"
     ]
    },
    {
     "name": "stdout",
     "output_type": "stream",
     "text": [
      "Instantiating tournament object with these players:  Generic Memory One Player,Generic Memory One Player,Generic Memory One Player,Generic Memory One Player,Generic Memory One Player,Generic Memory One Player,Generic Memory One Player,Generic Memory One Player,Generic Memory One Player,Generic Memory One Player,Generic Memory One Player,Generic Memory One Player,Generic Memory One Player,Generic Memory One Player,Generic Memory One Player\n"
     ]
    },
    {
     "name": "stderr",
     "output_type": "stream",
     "text": [
      "\n",
      "Playing matches: 100%|██████████| 120/120 [00:51<00:00,  2.34it/s]\n",
      "Analysing: 100%|██████████| 25/25 [00:02<00:00,  8.98it/s]"
     ]
    },
    {
     "name": "stdout",
     "output_type": "stream",
     "text": [
      "Instantiating tournament object with these players:  Generic Memory One Player,Generic Memory One Player,Generic Memory One Player,Generic Memory One Player,Generic Memory One Player,Generic Memory One Player,Generic Memory One Player,Generic Memory One Player,Generic Memory One Player,Generic Memory One Player,Generic Memory One Player,Generic Memory One Player,Generic Memory One Player,Generic Memory One Player,Generic Memory One Player\n"
     ]
    },
    {
     "name": "stderr",
     "output_type": "stream",
     "text": [
      "\n",
      "Playing matches: 100%|██████████| 120/120 [00:48<00:00,  2.47it/s]\n",
      "Analysing: 100%|██████████| 25/25 [00:02<00:00,  9.50it/s]\n"
     ]
    },
    {
     "name": "stdout",
     "output_type": "stream",
     "text": [
      "Instantiating tournament object with these players:  Generic Memory One Player,Generic Memory One Player,Generic Memory One Player,Generic Memory One Player,Generic Memory One Player,Generic Memory One Player,Generic Memory One Player,Generic Memory One Player,Generic Memory One Player,Generic Memory One Player,Generic Memory One Player,Generic Memory One Player,Generic Memory One Player,Generic Memory One Player,Generic Memory One Player\n"
     ]
    },
    {
     "name": "stderr",
     "output_type": "stream",
     "text": [
      "Playing matches: 100%|██████████| 120/120 [00:58<00:00,  2.04it/s]\n",
      "Analysing: 100%|██████████| 25/25 [00:04<00:00,  5.79it/s]"
     ]
    },
    {
     "name": "stdout",
     "output_type": "stream",
     "text": [
      "Instantiating tournament object with these players:  Generic Memory One Player,Generic Memory One Player,Generic Memory One Player,Generic Memory One Player,Generic Memory One Player,Generic Memory One Player,Generic Memory One Player,Generic Memory One Player,Generic Memory One Player,Generic Memory One Player,Generic Memory One Player,Generic Memory One Player,Generic Memory One Player,Generic Memory One Player,Generic Memory One Player\n"
     ]
    },
    {
     "name": "stderr",
     "output_type": "stream",
     "text": [
      "\n",
      "Playing matches: 100%|██████████| 120/120 [01:05<00:00,  1.84it/s]\n",
      "Analysing: 100%|██████████| 25/25 [00:03<00:00,  7.26it/s]\n"
     ]
    },
    {
     "name": "stdout",
     "output_type": "stream",
     "text": [
      "Instantiating tournament object with these players:  Generic Memory One Player,Generic Memory One Player,Generic Memory One Player,Generic Memory One Player,Generic Memory One Player,Generic Memory One Player,Generic Memory One Player,Generic Memory One Player,Generic Memory One Player,Generic Memory One Player,Generic Memory One Player,Generic Memory One Player,Generic Memory One Player,Generic Memory One Player,Generic Memory One Player\n"
     ]
    },
    {
     "name": "stderr",
     "output_type": "stream",
     "text": [
      "Playing matches: 100%|██████████| 120/120 [00:48<00:00,  2.48it/s]\n",
      "Analysing: 100%|██████████| 25/25 [00:02<00:00,  9.49it/s]\n"
     ]
    },
    {
     "name": "stdout",
     "output_type": "stream",
     "text": [
      "Instantiating tournament object with these players:  Generic Memory One Player,Generic Memory One Player,Generic Memory One Player,Generic Memory One Player,Generic Memory One Player,Generic Memory One Player,Generic Memory One Player,Generic Memory One Player,Generic Memory One Player,Generic Memory One Player,Generic Memory One Player,Generic Memory One Player,Generic Memory One Player,Generic Memory One Player,Generic Memory One Player\n"
     ]
    },
    {
     "name": "stderr",
     "output_type": "stream",
     "text": [
      "Playing matches: 100%|██████████| 120/120 [00:49<00:00,  2.43it/s]\n",
      "Analysing: 100%|██████████| 25/25 [00:02<00:00,  8.54it/s]"
     ]
    },
    {
     "name": "stdout",
     "output_type": "stream",
     "text": [
      "Tournaments took 919.7867472171783 seconds\n"
     ]
    },
    {
     "name": "stderr",
     "output_type": "stream",
     "text": [
      "\n"
     ]
    }
   ],
   "source": [
    "params = fifteen_four_params\n",
    "data_dict1_1 = {}\n",
    "start = time.time()\n",
    "for j, i_im in enumerate(im_list1):\n",
    "    plyrs = []\n",
    "    for i in range(len(params)):\n",
    "        pl = axl.MemoryOnePlayer(tuple(params[i]),action_map[i_im[i]])\n",
    "        plyrs.append(pl)\n",
    "\n",
    "    # RPST payoff matrix - 3, 1, 0, 5 - classic config is also default\n",
    "    pd1000 = pd_exp2.PdTournament(plyrs, reps=1000)\n",
    "\n",
    "    df1, df2=pd1000.data, pd1000.agg_data\n",
    "    data_dict1_1[j]= (i_im, df1, df2)  # Tuple of initial moves, player norm scores by tournament, aggregate data for 1000 tournaments\n",
    "    \n",
    "print(f\"Tournaments took {time.time() - start} seconds\")  # ~1087.048201084137 seconds"
   ]
  },
  {
   "cell_type": "code",
   "execution_count": 10,
   "metadata": {},
   "outputs": [],
   "source": [
    "agg_d_list = []\n",
    "for key,val in data_dict1_1.items():\n",
    "    im_list, data, agg_data = val\n",
    "    agg_data['initial_moves(as one-count)'] = im_list.count(1)\n",
    "    agg_d_list.append(agg_data)\n",
    "\n",
    "comparison_df = pd.concat(agg_d_list)\n",
    "\n",
    "# Sort rows by average of Player scores\n",
    "sorted_df = comparison_df.sort_values(by=['Avg_of_PL_Scores'])\n",
    "\n",
    "# Add column for l2 distance of avg_player scores\n",
    "sorted_df['L2_Dist_Avg_PL_Scores'] = np.sqrt(np.square(sorted_df.Avg_of_PL_Scores.shift(1) - sorted_df.Avg_of_PL_Scores))\n"
   ]
  },
  {
   "cell_type": "code",
   "execution_count": 11,
   "metadata": {},
   "outputs": [
    {
     "data": {
      "text/plain": [
       "Index(['P1_Avg_Norm_Score', 'P1_Min_Norm_Score', 'P2_Avg_Norm_Score',\n",
       "       'P2_Min_Norm_Score', 'P3_Avg_Norm_Score', 'P3_Min_Norm_Score',\n",
       "       'P4_Avg_Norm_Score', 'P4_Min_Norm_Score', 'P5_Avg_Norm_Score',\n",
       "       'P5_Min_Norm_Score', 'P6_Avg_Norm_Score', 'P6_Min_Norm_Score',\n",
       "       'P7_Avg_Norm_Score', 'P7_Min_Norm_Score', 'P8_Avg_Norm_Score',\n",
       "       'P8_Min_Norm_Score', 'P9_Avg_Norm_Score', 'P9_Min_Norm_Score',\n",
       "       'P10_Avg_Norm_Score', 'P10_Min_Norm_Score', 'P11_Avg_Norm_Score',\n",
       "       'P11_Min_Norm_Score', 'P12_Avg_Norm_Score', 'P12_Min_Norm_Score',\n",
       "       'P13_Avg_Norm_Score', 'P13_Min_Norm_Score', 'P14_Avg_Norm_Score',\n",
       "       'P14_Min_Norm_Score', 'P15_Avg_Norm_Score', 'P15_Min_Norm_Score',\n",
       "       'Avg_of_PL_Scores', 'Min_of_PL_Scores', 'Avg_CC_Distribution',\n",
       "       'initial_moves(as one-count)', 'L2_Dist_Avg_PL_Scores'],\n",
       "      dtype='object')"
      ]
     },
     "execution_count": 11,
     "metadata": {},
     "output_type": "execute_result"
    }
   ],
   "source": [
    "sorted_df.columns"
   ]
  },
  {
   "cell_type": "code",
   "execution_count": 13,
   "metadata": {},
   "outputs": [
    {
     "data": {
      "text/html": [
       "<div>\n",
       "<style scoped>\n",
       "    .dataframe tbody tr th:only-of-type {\n",
       "        vertical-align: middle;\n",
       "    }\n",
       "\n",
       "    .dataframe tbody tr th {\n",
       "        vertical-align: top;\n",
       "    }\n",
       "\n",
       "    .dataframe thead th {\n",
       "        text-align: right;\n",
       "    }\n",
       "</style>\n",
       "<table border=\"1\" class=\"dataframe\">\n",
       "  <thead>\n",
       "    <tr style=\"text-align: right;\">\n",
       "      <th></th>\n",
       "      <th>initial_moves(as one-count)</th>\n",
       "      <th>P1_Avg_Norm_Score</th>\n",
       "      <th>P2_Avg_Norm_Score</th>\n",
       "      <th>P3_Avg_Norm_Score</th>\n",
       "      <th>P4_Avg_Norm_Score</th>\n",
       "      <th>P5_Avg_Norm_Score</th>\n",
       "      <th>Avg_of_PL_Scores</th>\n",
       "      <th>Avg_CC_Distribution</th>\n",
       "      <th>L2_Dist_Avg_PL_Scores</th>\n",
       "    </tr>\n",
       "  </thead>\n",
       "  <tbody>\n",
       "    <tr>\n",
       "      <th>1000</th>\n",
       "      <td>0</td>\n",
       "      <td>2.491948</td>\n",
       "      <td>2.490722</td>\n",
       "      <td>2.490709</td>\n",
       "      <td>2.481435</td>\n",
       "      <td>2.489555</td>\n",
       "      <td>2.487875</td>\n",
       "      <td>0.895696</td>\n",
       "      <td>NaN</td>\n",
       "    </tr>\n",
       "    <tr>\n",
       "      <th>1000</th>\n",
       "      <td>1</td>\n",
       "      <td>2.237921</td>\n",
       "      <td>2.560849</td>\n",
       "      <td>2.564235</td>\n",
       "      <td>2.559875</td>\n",
       "      <td>2.559101</td>\n",
       "      <td>2.538680</td>\n",
       "      <td>0.895696</td>\n",
       "      <td>0.050805</td>\n",
       "    </tr>\n",
       "    <tr>\n",
       "      <th>1000</th>\n",
       "      <td>2</td>\n",
       "      <td>2.290516</td>\n",
       "      <td>2.288678</td>\n",
       "      <td>2.639297</td>\n",
       "      <td>2.632730</td>\n",
       "      <td>2.632891</td>\n",
       "      <td>2.587271</td>\n",
       "      <td>0.896664</td>\n",
       "      <td>0.048590</td>\n",
       "    </tr>\n",
       "    <tr>\n",
       "      <th>1000</th>\n",
       "      <td>3</td>\n",
       "      <td>2.345661</td>\n",
       "      <td>2.344974</td>\n",
       "      <td>2.347504</td>\n",
       "      <td>2.708568</td>\n",
       "      <td>2.706212</td>\n",
       "      <td>2.633247</td>\n",
       "      <td>0.898735</td>\n",
       "      <td>0.045976</td>\n",
       "    </tr>\n",
       "    <tr>\n",
       "      <th>1000</th>\n",
       "      <td>4</td>\n",
       "      <td>2.404491</td>\n",
       "      <td>2.399615</td>\n",
       "      <td>2.404382</td>\n",
       "      <td>2.392502</td>\n",
       "      <td>2.778168</td>\n",
       "      <td>2.677532</td>\n",
       "      <td>0.901799</td>\n",
       "      <td>0.044285</td>\n",
       "    </tr>\n",
       "    <tr>\n",
       "      <th>1000</th>\n",
       "      <td>5</td>\n",
       "      <td>2.456650</td>\n",
       "      <td>2.454958</td>\n",
       "      <td>2.459373</td>\n",
       "      <td>2.446469</td>\n",
       "      <td>2.450793</td>\n",
       "      <td>2.718956</td>\n",
       "      <td>0.905785</td>\n",
       "      <td>0.041424</td>\n",
       "    </tr>\n",
       "    <tr>\n",
       "      <th>1000</th>\n",
       "      <td>6</td>\n",
       "      <td>2.512697</td>\n",
       "      <td>2.508632</td>\n",
       "      <td>2.514625</td>\n",
       "      <td>2.502332</td>\n",
       "      <td>2.507077</td>\n",
       "      <td>2.757843</td>\n",
       "      <td>0.910732</td>\n",
       "      <td>0.038887</td>\n",
       "    </tr>\n",
       "    <tr>\n",
       "      <th>1000</th>\n",
       "      <td>7</td>\n",
       "      <td>2.562423</td>\n",
       "      <td>2.561518</td>\n",
       "      <td>2.567735</td>\n",
       "      <td>2.556792</td>\n",
       "      <td>2.564373</td>\n",
       "      <td>2.794238</td>\n",
       "      <td>0.916666</td>\n",
       "      <td>0.036395</td>\n",
       "    </tr>\n",
       "    <tr>\n",
       "      <th>1000</th>\n",
       "      <td>8</td>\n",
       "      <td>2.614604</td>\n",
       "      <td>2.617888</td>\n",
       "      <td>2.623394</td>\n",
       "      <td>2.615499</td>\n",
       "      <td>2.621625</td>\n",
       "      <td>2.828729</td>\n",
       "      <td>0.923653</td>\n",
       "      <td>0.034492</td>\n",
       "    </tr>\n",
       "    <tr>\n",
       "      <th>1000</th>\n",
       "      <td>9</td>\n",
       "      <td>2.668082</td>\n",
       "      <td>2.673844</td>\n",
       "      <td>2.676264</td>\n",
       "      <td>2.670526</td>\n",
       "      <td>2.674256</td>\n",
       "      <td>2.860417</td>\n",
       "      <td>0.931452</td>\n",
       "      <td>0.031688</td>\n",
       "    </tr>\n",
       "    <tr>\n",
       "      <th>1000</th>\n",
       "      <td>10</td>\n",
       "      <td>2.725817</td>\n",
       "      <td>2.728849</td>\n",
       "      <td>2.730106</td>\n",
       "      <td>2.725930</td>\n",
       "      <td>2.728516</td>\n",
       "      <td>2.889993</td>\n",
       "      <td>0.940439</td>\n",
       "      <td>0.029576</td>\n",
       "    </tr>\n",
       "    <tr>\n",
       "      <th>1000</th>\n",
       "      <td>11</td>\n",
       "      <td>2.777168</td>\n",
       "      <td>2.781092</td>\n",
       "      <td>2.783354</td>\n",
       "      <td>2.781458</td>\n",
       "      <td>2.781130</td>\n",
       "      <td>2.916858</td>\n",
       "      <td>0.950256</td>\n",
       "      <td>0.026865</td>\n",
       "    </tr>\n",
       "    <tr>\n",
       "      <th>1000</th>\n",
       "      <td>12</td>\n",
       "      <td>2.831385</td>\n",
       "      <td>2.838464</td>\n",
       "      <td>2.836812</td>\n",
       "      <td>2.835138</td>\n",
       "      <td>2.833882</td>\n",
       "      <td>2.941238</td>\n",
       "      <td>0.961129</td>\n",
       "      <td>0.024380</td>\n",
       "    </tr>\n",
       "    <tr>\n",
       "      <th>1000</th>\n",
       "      <td>13</td>\n",
       "      <td>2.889185</td>\n",
       "      <td>2.890966</td>\n",
       "      <td>2.891433</td>\n",
       "      <td>2.889933</td>\n",
       "      <td>2.890039</td>\n",
       "      <td>2.963342</td>\n",
       "      <td>0.973112</td>\n",
       "      <td>0.022104</td>\n",
       "    </tr>\n",
       "    <tr>\n",
       "      <th>1000</th>\n",
       "      <td>14</td>\n",
       "      <td>2.945199</td>\n",
       "      <td>2.944961</td>\n",
       "      <td>2.945086</td>\n",
       "      <td>2.945951</td>\n",
       "      <td>2.946002</td>\n",
       "      <td>2.982727</td>\n",
       "      <td>0.986049</td>\n",
       "      <td>0.019385</td>\n",
       "    </tr>\n",
       "    <tr>\n",
       "      <th>1000</th>\n",
       "      <td>15</td>\n",
       "      <td>3.000000</td>\n",
       "      <td>3.000000</td>\n",
       "      <td>3.000000</td>\n",
       "      <td>3.000000</td>\n",
       "      <td>3.000000</td>\n",
       "      <td>3.000000</td>\n",
       "      <td>1.000000</td>\n",
       "      <td>0.017273</td>\n",
       "    </tr>\n",
       "  </tbody>\n",
       "</table>\n",
       "</div>"
      ],
      "text/plain": [
       "      initial_moves(as one-count)  P1_Avg_Norm_Score  P2_Avg_Norm_Score  \\\n",
       "1000                            0           2.491948           2.490722   \n",
       "1000                            1           2.237921           2.560849   \n",
       "1000                            2           2.290516           2.288678   \n",
       "1000                            3           2.345661           2.344974   \n",
       "1000                            4           2.404491           2.399615   \n",
       "1000                            5           2.456650           2.454958   \n",
       "1000                            6           2.512697           2.508632   \n",
       "1000                            7           2.562423           2.561518   \n",
       "1000                            8           2.614604           2.617888   \n",
       "1000                            9           2.668082           2.673844   \n",
       "1000                           10           2.725817           2.728849   \n",
       "1000                           11           2.777168           2.781092   \n",
       "1000                           12           2.831385           2.838464   \n",
       "1000                           13           2.889185           2.890966   \n",
       "1000                           14           2.945199           2.944961   \n",
       "1000                           15           3.000000           3.000000   \n",
       "\n",
       "      P3_Avg_Norm_Score  P4_Avg_Norm_Score  P5_Avg_Norm_Score  \\\n",
       "1000           2.490709           2.481435           2.489555   \n",
       "1000           2.564235           2.559875           2.559101   \n",
       "1000           2.639297           2.632730           2.632891   \n",
       "1000           2.347504           2.708568           2.706212   \n",
       "1000           2.404382           2.392502           2.778168   \n",
       "1000           2.459373           2.446469           2.450793   \n",
       "1000           2.514625           2.502332           2.507077   \n",
       "1000           2.567735           2.556792           2.564373   \n",
       "1000           2.623394           2.615499           2.621625   \n",
       "1000           2.676264           2.670526           2.674256   \n",
       "1000           2.730106           2.725930           2.728516   \n",
       "1000           2.783354           2.781458           2.781130   \n",
       "1000           2.836812           2.835138           2.833882   \n",
       "1000           2.891433           2.889933           2.890039   \n",
       "1000           2.945086           2.945951           2.946002   \n",
       "1000           3.000000           3.000000           3.000000   \n",
       "\n",
       "      Avg_of_PL_Scores  Avg_CC_Distribution  L2_Dist_Avg_PL_Scores  \n",
       "1000          2.487875             0.895696                    NaN  \n",
       "1000          2.538680             0.895696               0.050805  \n",
       "1000          2.587271             0.896664               0.048590  \n",
       "1000          2.633247             0.898735               0.045976  \n",
       "1000          2.677532             0.901799               0.044285  \n",
       "1000          2.718956             0.905785               0.041424  \n",
       "1000          2.757843             0.910732               0.038887  \n",
       "1000          2.794238             0.916666               0.036395  \n",
       "1000          2.828729             0.923653               0.034492  \n",
       "1000          2.860417             0.931452               0.031688  \n",
       "1000          2.889993             0.940439               0.029576  \n",
       "1000          2.916858             0.950256               0.026865  \n",
       "1000          2.941238             0.961129               0.024380  \n",
       "1000          2.963342             0.973112               0.022104  \n",
       "1000          2.982727             0.986049               0.019385  \n",
       "1000          3.000000             1.000000               0.017273  "
      ]
     },
     "execution_count": 13,
     "metadata": {},
     "output_type": "execute_result"
    }
   ],
   "source": [
    "df=sorted_df[['initial_moves(as one-count)', 'P1_Avg_Norm_Score', 'P2_Avg_Norm_Score','P3_Avg_Norm_Score', \n",
    "           'P4_Avg_Norm_Score', 'P5_Avg_Norm_Score','Avg_of_PL_Scores',\n",
    "           'Avg_CC_Distribution','L2_Dist_Avg_PL_Scores']]\n",
    "\n",
    "df"
   ]
  },
  {
   "cell_type": "code",
   "execution_count": 15,
   "metadata": {},
   "outputs": [
    {
     "data": {
      "image/png": "[encoded data removed]",
      "text/plain": [
       "<Figure size 288x864 with 3 Axes>"
      ]
     },
     "metadata": {
      "needs_background": "light"
     },
     "output_type": "display_data"
    }
   ],
   "source": [
    "g = sns.PairGrid(df, y_vars=[\"Avg_of_PL_Scores\",\"L2_Dist_Avg_PL_Scores\", \"Avg_CC_Distribution\"], x_vars=[\"initial_moves(as one-count)\"], height=4)\n",
    "g.map(sns.pointplot, color=\".3\")\n",
    "for ax in g.axes.flat:\n",
    "    labels = ax.get_xticklabels() # get x labels\n",
    "    for i,l in enumerate(labels):\n",
    "        if(i%2 == 0): labels[i] = '' # skip even labels\n",
    "    ax.set_xticklabels(labels) # set new labels\n",
    "plt.show()"
   ]
  },
  {
   "cell_type": "markdown",
   "metadata": {},
   "source": [
    "#### Experiement 2: How does a change in a single response probability for one player influence group outcomes?\n",
    "__Approach__: Fix large majority of the response probability parameters \n",
    "to be the same but vary the first response probability for one player. All the \n",
    "other parameters will be equivalent across the players. Specifically, we run \n",
    "$k$ x 1000 tournaments with 5 players that have mostly similar response \n",
    "probabilities and fixed initial moves. $k$ is the number of variations of the \n",
    "response probability with which we experiment."
   ]
  },
  {
   "cell_type": "code",
   "execution_count": 16,
   "metadata": {},
   "outputs": [
    {
     "name": "stdout",
     "output_type": "stream",
     "text": [
      "Five player response probabilities: \n",
      " [[0.98 1.   1.   1.  ]\n",
      " [1.   1.   1.   1.  ]\n",
      " [1.   1.   1.   1.  ]\n",
      " [1.   1.   1.   1.  ]\n",
      " [1.   1.   1.   1.  ]]\n",
      "LIST of initial moves:  [1. 1. 1. 1. 1.]\n"
     ]
    }
   ],
   "source": [
    "# Initialize player parameters \n",
    "rng = np.random.default_rng(2)\n",
    "random_prob = rng.integers(90, 100)/100\n",
    "five_players = np.ones((5,4))\n",
    "\n",
    "five_players[0,0] = random_prob\n",
    "print(\"Five player response probabilities: \\n\", five_players)\n",
    "im_list2 = np.ones((5))\n",
    "print(\"LIST of initial moves: \", im_list2)"
   ]
  },
  {
   "cell_type": "code",
   "execution_count": 17,
   "metadata": {},
   "outputs": [
    {
     "name": "stdout",
     "output_type": "stream",
     "text": [
      "Five player response probabilities: \n",
      " [[0.85 1.   1.   1.  ]\n",
      " [1.   1.   1.   1.  ]\n",
      " [1.   1.   1.   1.  ]\n",
      " [1.   1.   1.   1.  ]\n",
      " [1.   1.   1.   1.  ]]\n",
      "Instantiating tournament object with these players:  Generic Memory One Player,Generic Memory One Player,Generic Memory One Player,Generic Memory One Player,Generic Memory One Player\n"
     ]
    },
    {
     "name": "stderr",
     "output_type": "stream",
     "text": [
      "Playing matches: 100%|██████████| 15/15 [00:39<00:00,  2.64s/it]\n",
      "Analysing: 100%|██████████| 25/25 [00:00<00:00, 47.96it/s]"
     ]
    },
    {
     "name": "stdout",
     "output_type": "stream",
     "text": [
      "Five player response probabilities: \n",
      " [[0.86 1.   1.   1.  ]\n",
      " [1.   1.   1.   1.  ]\n",
      " [1.   1.   1.   1.  ]\n",
      " [1.   1.   1.   1.  ]\n",
      " [1.   1.   1.   1.  ]]\n",
      "Instantiating tournament object with these players:  Generic Memory One Player,Generic Memory One Player,Generic Memory One Player,Generic Memory One Player,Generic Memory One Player\n"
     ]
    },
    {
     "name": "stderr",
     "output_type": "stream",
     "text": [
      "\n",
      "Playing matches: 100%|██████████| 15/15 [00:39<00:00,  2.61s/it]\n",
      "Analysing: 100%|██████████| 25/25 [00:00<00:00, 49.66it/s]"
     ]
    },
    {
     "name": "stdout",
     "output_type": "stream",
     "text": [
      "Five player response probabilities: \n",
      " [[0.87 1.   1.   1.  ]\n",
      " [1.   1.   1.   1.  ]\n",
      " [1.   1.   1.   1.  ]\n",
      " [1.   1.   1.   1.  ]\n",
      " [1.   1.   1.   1.  ]]\n",
      "Instantiating tournament object with these players:  Generic Memory One Player,Generic Memory One Player,Generic Memory One Player,Generic Memory One Player,Generic Memory One Player\n"
     ]
    },
    {
     "name": "stderr",
     "output_type": "stream",
     "text": [
      "\n",
      "Playing matches: 100%|██████████| 15/15 [00:35<00:00,  2.39s/it]\n",
      "Analysing: 100%|██████████| 25/25 [00:00<00:00, 43.11it/s]"
     ]
    },
    {
     "name": "stdout",
     "output_type": "stream",
     "text": [
      "Five player response probabilities: \n",
      " [[0.88 1.   1.   1.  ]\n",
      " [1.   1.   1.   1.  ]\n",
      " [1.   1.   1.   1.  ]\n",
      " [1.   1.   1.   1.  ]\n",
      " [1.   1.   1.   1.  ]]\n",
      "Instantiating tournament object with these players:  Generic Memory One Player,Generic Memory One Player,Generic Memory One Player,Generic Memory One Player,Generic Memory One Player\n"
     ]
    },
    {
     "name": "stderr",
     "output_type": "stream",
     "text": [
      "\n",
      "Playing matches: 100%|██████████| 15/15 [00:35<00:00,  2.35s/it]\n",
      "Analysing: 100%|██████████| 25/25 [00:00<00:00, 42.28it/s]"
     ]
    },
    {
     "name": "stdout",
     "output_type": "stream",
     "text": [
      "Five player response probabilities: \n",
      " [[0.89 1.   1.   1.  ]\n",
      " [1.   1.   1.   1.  ]\n",
      " [1.   1.   1.   1.  ]\n",
      " [1.   1.   1.   1.  ]\n",
      " [1.   1.   1.   1.  ]]\n",
      "Instantiating tournament object with these players:  Generic Memory One Player,Generic Memory One Player,Generic Memory One Player,Generic Memory One Player,Generic Memory One Player\n"
     ]
    },
    {
     "name": "stderr",
     "output_type": "stream",
     "text": [
      "\n",
      "Playing matches: 100%|██████████| 15/15 [00:42<00:00,  2.86s/it]\n",
      "Analysing: 100%|██████████| 25/25 [00:00<00:00, 33.69it/s]"
     ]
    },
    {
     "name": "stdout",
     "output_type": "stream",
     "text": [
      "Five player response probabilities: \n",
      " [[0.9 1.  1.  1. ]\n",
      " [1.  1.  1.  1. ]\n",
      " [1.  1.  1.  1. ]\n",
      " [1.  1.  1.  1. ]\n",
      " [1.  1.  1.  1. ]]\n",
      "Instantiating tournament object with these players:  Generic Memory One Player,Generic Memory One Player,Generic Memory One Player,Generic Memory One Player,Generic Memory One Player\n"
     ]
    },
    {
     "name": "stderr",
     "output_type": "stream",
     "text": [
      "\n",
      "Playing matches: 100%|██████████| 15/15 [00:51<00:00,  3.44s/it]\n",
      "Analysing: 100%|██████████| 25/25 [00:00<00:00, 56.31it/s]"
     ]
    },
    {
     "name": "stdout",
     "output_type": "stream",
     "text": [
      "Five player response probabilities: \n",
      " [[0.91 1.   1.   1.  ]\n",
      " [1.   1.   1.   1.  ]\n",
      " [1.   1.   1.   1.  ]\n",
      " [1.   1.   1.   1.  ]\n",
      " [1.   1.   1.   1.  ]]\n",
      "Instantiating tournament object with these players:  Generic Memory One Player,Generic Memory One Player,Generic Memory One Player,Generic Memory One Player,Generic Memory One Player\n"
     ]
    },
    {
     "name": "stderr",
     "output_type": "stream",
     "text": [
      "\n",
      "Playing matches: 100%|██████████| 15/15 [00:42<00:00,  2.82s/it]\n",
      "Analysing: 100%|██████████| 25/25 [00:00<00:00, 56.18it/s]"
     ]
    },
    {
     "name": "stdout",
     "output_type": "stream",
     "text": [
      "Five player response probabilities: \n",
      " [[0.92 1.   1.   1.  ]\n",
      " [1.   1.   1.   1.  ]\n",
      " [1.   1.   1.   1.  ]\n",
      " [1.   1.   1.   1.  ]\n",
      " [1.   1.   1.   1.  ]]\n",
      "Instantiating tournament object with these players:  Generic Memory One Player,Generic Memory One Player,Generic Memory One Player,Generic Memory One Player,Generic Memory One Player\n"
     ]
    },
    {
     "name": "stderr",
     "output_type": "stream",
     "text": [
      "\n",
      "Playing matches: 100%|██████████| 15/15 [00:37<00:00,  2.49s/it]\n",
      "Analysing: 100%|██████████| 25/25 [00:00<00:00, 38.25it/s]"
     ]
    },
    {
     "name": "stdout",
     "output_type": "stream",
     "text": [
      "Five player response probabilities: \n",
      " [[0.93 1.   1.   1.  ]\n",
      " [1.   1.   1.   1.  ]\n",
      " [1.   1.   1.   1.  ]\n",
      " [1.   1.   1.   1.  ]\n",
      " [1.   1.   1.   1.  ]]\n",
      "Instantiating tournament object with these players:  Generic Memory One Player,Generic Memory One Player,Generic Memory One Player,Generic Memory One Player,Generic Memory One Player\n"
     ]
    },
    {
     "name": "stderr",
     "output_type": "stream",
     "text": [
      "\n",
      "Playing matches: 100%|██████████| 15/15 [00:38<00:00,  2.54s/it]\n",
      "Analysing: 100%|██████████| 25/25 [00:00<00:00, 43.96it/s]"
     ]
    },
    {
     "name": "stdout",
     "output_type": "stream",
     "text": [
      "Five player response probabilities: \n",
      " [[0.94 1.   1.   1.  ]\n",
      " [1.   1.   1.   1.  ]\n",
      " [1.   1.   1.   1.  ]\n",
      " [1.   1.   1.   1.  ]\n",
      " [1.   1.   1.   1.  ]]\n",
      "Instantiating tournament object with these players:  Generic Memory One Player,Generic Memory One Player,Generic Memory One Player,Generic Memory One Player,Generic Memory One Player\n"
     ]
    },
    {
     "name": "stderr",
     "output_type": "stream",
     "text": [
      "\n",
      "Playing matches: 100%|██████████| 15/15 [00:40<00:00,  2.68s/it]\n",
      "Analysing: 100%|██████████| 25/25 [00:00<00:00, 43.10it/s]"
     ]
    },
    {
     "name": "stdout",
     "output_type": "stream",
     "text": [
      "Five player response probabilities: \n",
      " [[0.95 1.   1.   1.  ]\n",
      " [1.   1.   1.   1.  ]\n",
      " [1.   1.   1.   1.  ]\n",
      " [1.   1.   1.   1.  ]\n",
      " [1.   1.   1.   1.  ]]\n",
      "Instantiating tournament object with these players:  Generic Memory One Player,Generic Memory One Player,Generic Memory One Player,Generic Memory One Player,Generic Memory One Player\n"
     ]
    },
    {
     "name": "stderr",
     "output_type": "stream",
     "text": [
      "\n",
      "Playing matches: 100%|██████████| 15/15 [00:38<00:00,  2.57s/it]\n",
      "Analysing: 100%|██████████| 25/25 [00:00<00:00, 49.43it/s]"
     ]
    },
    {
     "name": "stdout",
     "output_type": "stream",
     "text": [
      "Five player response probabilities: \n",
      " [[0.96 1.   1.   1.  ]\n",
      " [1.   1.   1.   1.  ]\n",
      " [1.   1.   1.   1.  ]\n",
      " [1.   1.   1.   1.  ]\n",
      " [1.   1.   1.   1.  ]]\n",
      "Instantiating tournament object with these players:  Generic Memory One Player,Generic Memory One Player,Generic Memory One Player,Generic Memory One Player,Generic Memory One Player\n"
     ]
    },
    {
     "name": "stderr",
     "output_type": "stream",
     "text": [
      "\n",
      "Playing matches: 100%|██████████| 15/15 [00:37<00:00,  2.52s/it]\n",
      "Analysing: 100%|██████████| 25/25 [00:00<00:00, 45.50it/s]"
     ]
    },
    {
     "name": "stdout",
     "output_type": "stream",
     "text": [
      "Five player response probabilities: \n",
      " [[0.97 1.   1.   1.  ]\n",
      " [1.   1.   1.   1.  ]\n",
      " [1.   1.   1.   1.  ]\n",
      " [1.   1.   1.   1.  ]\n",
      " [1.   1.   1.   1.  ]]\n",
      "Instantiating tournament object with these players:  Generic Memory One Player,Generic Memory One Player,Generic Memory One Player,Generic Memory One Player,Generic Memory One Player\n"
     ]
    },
    {
     "name": "stderr",
     "output_type": "stream",
     "text": [
      "\n",
      "Playing matches: 100%|██████████| 15/15 [00:38<00:00,  2.60s/it]\n",
      "Analysing: 100%|██████████| 25/25 [00:00<00:00, 42.34it/s]"
     ]
    },
    {
     "name": "stdout",
     "output_type": "stream",
     "text": [
      "Five player response probabilities: \n",
      " [[0.98 1.   1.   1.  ]\n",
      " [1.   1.   1.   1.  ]\n",
      " [1.   1.   1.   1.  ]\n",
      " [1.   1.   1.   1.  ]\n",
      " [1.   1.   1.   1.  ]]\n",
      "Instantiating tournament object with these players:  Generic Memory One Player,Generic Memory One Player,Generic Memory One Player,Generic Memory One Player,Generic Memory One Player\n"
     ]
    },
    {
     "name": "stderr",
     "output_type": "stream",
     "text": [
      "\n",
      "Playing matches: 100%|██████████| 15/15 [00:39<00:00,  2.63s/it]\n",
      "Analysing: 100%|██████████| 25/25 [00:00<00:00, 46.40it/s]"
     ]
    },
    {
     "name": "stdout",
     "output_type": "stream",
     "text": [
      "Five player response probabilities: \n",
      " [[0.99 1.   1.   1.  ]\n",
      " [1.   1.   1.   1.  ]\n",
      " [1.   1.   1.   1.  ]\n",
      " [1.   1.   1.   1.  ]\n",
      " [1.   1.   1.   1.  ]]\n",
      "Instantiating tournament object with these players:  Generic Memory One Player,Generic Memory One Player,Generic Memory One Player,Generic Memory One Player,Generic Memory One Player\n"
     ]
    },
    {
     "name": "stderr",
     "output_type": "stream",
     "text": [
      "\n",
      "Playing matches: 100%|██████████| 15/15 [00:37<00:00,  2.50s/it]\n",
      "Analysing: 100%|██████████| 25/25 [00:00<00:00, 55.54it/s]"
     ]
    },
    {
     "name": "stdout",
     "output_type": "stream",
     "text": [
      "Five player response probabilities: \n",
      " [[1. 1. 1. 1.]\n",
      " [1. 1. 1. 1.]\n",
      " [1. 1. 1. 1.]\n",
      " [1. 1. 1. 1.]\n",
      " [1. 1. 1. 1.]]\n",
      "Instantiating tournament object with these players:  Generic Memory One Player,Generic Memory One Player,Generic Memory One Player,Generic Memory One Player,Generic Memory One Player\n"
     ]
    },
    {
     "name": "stderr",
     "output_type": "stream",
     "text": [
      "\n",
      "Playing matches: 100%|██████████| 15/15 [00:41<00:00,  2.80s/it]\n",
      "Analysing: 100%|██████████| 25/25 [00:00<00:00, 38.20it/s]"
     ]
    },
    {
     "name": "stdout",
     "output_type": "stream",
     "text": [
      "Tournaments took 647.4908940792084 seconds\n"
     ]
    },
    {
     "name": "stderr",
     "output_type": "stream",
     "text": [
      "\n"
     ]
    }
   ],
   "source": [
    "params, initial_moves = five_players, im_list2\n",
    "data_dict2 = {}\n",
    "start = time.time()\n",
    "\n",
    "for k in range(85,101):\n",
    "    params[0,0] = k/100\n",
    "    print(\"Five player response probabilities: \\n\", params)\n",
    "    plyrs = []\n",
    "    for j, p_i in enumerate(params):\n",
    "        pl = axl.MemoryOnePlayer(tuple(p_i),action_map[im_list2[j]])\n",
    "        plyrs.append(pl)\n",
    "\n",
    "    # pd tournament 1000\n",
    "    # RPST payoff matrix - 3, 1, 0, 5 - classic config is also default\n",
    "    pd1000 = pd_exp2.PdTournament(plyrs, reps=1000)\n",
    "\n",
    "    df1, df2=pd1000.data, pd1000.agg_data\n",
    "    data_dict2[k]= (params[0,0], df1, df2)  # Tuple of initial moves, player norm scores by tournament, aggregate data for 1000 tournaments\n",
    "    \n",
    "print(f\"Tournaments took {time.time() - start} seconds\")  # ~308.2929379940033 seconds"
   ]
  },
  {
   "cell_type": "code",
   "execution_count": 18,
   "metadata": {},
   "outputs": [],
   "source": [
    "agg_d_list = []\n",
    "for key,val in data_dict2.items():\n",
    "    pl1_param, data, agg_data = val\n",
    "    agg_data['pl1_p(C|CC)'] = str(pl1_param)\n",
    "    agg_d_list.append(agg_data)\n",
    "\n",
    "comparison_df = pd.concat(agg_d_list)\n",
    "\n",
    "# Sort rows by average of Player scores\n",
    "sorted_df = comparison_df.sort_values(by=['Avg_of_PL_Scores'])\n",
    "\n",
    "# Add column for l2 distance of avg_player scores\n",
    "sorted_df['L2_Dist_Avg_PL_Scores'] = np.sqrt(np.square(sorted_df.Avg_of_PL_Scores.shift(1) - sorted_df.Avg_of_PL_Scores))\n"
   ]
  },
  {
   "cell_type": "code",
   "execution_count": 19,
   "metadata": {},
   "outputs": [
    {
     "data": {
      "text/plain": [
       "Index(['P1_Avg_Norm_Score', 'P1_Min_Norm_Score', 'P2_Avg_Norm_Score',\n",
       "       'P2_Min_Norm_Score', 'P3_Avg_Norm_Score', 'P3_Min_Norm_Score',\n",
       "       'P4_Avg_Norm_Score', 'P4_Min_Norm_Score', 'P5_Avg_Norm_Score',\n",
       "       'P5_Min_Norm_Score', 'Avg_of_PL_Scores', 'Min_of_PL_Scores',\n",
       "       'Avg_CC_Distribution', 'pl1_p(C|CC)', 'L2_Dist_Avg_PL_Scores'],\n",
       "      dtype='object')"
      ]
     },
     "execution_count": 19,
     "metadata": {},
     "output_type": "execute_result"
    }
   ],
   "source": [
    "sorted_df.columns"
   ]
  },
  {
   "cell_type": "code",
   "execution_count": 20,
   "metadata": {},
   "outputs": [
    {
     "data": {
      "text/html": [
       "<div>\n",
       "<style scoped>\n",
       "    .dataframe tbody tr th:only-of-type {\n",
       "        vertical-align: middle;\n",
       "    }\n",
       "\n",
       "    .dataframe tbody tr th {\n",
       "        vertical-align: top;\n",
       "    }\n",
       "\n",
       "    .dataframe thead th {\n",
       "        text-align: right;\n",
       "    }\n",
       "</style>\n",
       "<table border=\"1\" class=\"dataframe\">\n",
       "  <thead>\n",
       "    <tr style=\"text-align: right;\">\n",
       "      <th></th>\n",
       "      <th>pl1_p(C|CC)</th>\n",
       "      <th>P1_Avg_Norm_Score</th>\n",
       "      <th>P2_Avg_Norm_Score</th>\n",
       "      <th>P3_Avg_Norm_Score</th>\n",
       "      <th>P4_Avg_Norm_Score</th>\n",
       "      <th>P5_Avg_Norm_Score</th>\n",
       "      <th>Avg_of_PL_Scores</th>\n",
       "      <th>Avg_CC_Distribution</th>\n",
       "      <th>L2_Dist_Avg_PL_Scores</th>\n",
       "    </tr>\n",
       "  </thead>\n",
       "  <tbody>\n",
       "    <tr>\n",
       "      <th>1000</th>\n",
       "      <td>0.85</td>\n",
       "      <td>3.195831</td>\n",
       "      <td>2.925221</td>\n",
       "      <td>2.925984</td>\n",
       "      <td>2.929145</td>\n",
       "      <td>2.925904</td>\n",
       "      <td>2.980417</td>\n",
       "      <td>0.952585</td>\n",
       "      <td>NaN</td>\n",
       "    </tr>\n",
       "    <tr>\n",
       "      <th>1000</th>\n",
       "      <td>0.86</td>\n",
       "      <td>3.183749</td>\n",
       "      <td>2.929733</td>\n",
       "      <td>2.931353</td>\n",
       "      <td>2.932984</td>\n",
       "      <td>2.930307</td>\n",
       "      <td>2.981625</td>\n",
       "      <td>0.955514</td>\n",
       "      <td>0.001208</td>\n",
       "    </tr>\n",
       "    <tr>\n",
       "      <th>1000</th>\n",
       "      <td>0.87</td>\n",
       "      <td>3.172220</td>\n",
       "      <td>2.933121</td>\n",
       "      <td>2.936063</td>\n",
       "      <td>2.937752</td>\n",
       "      <td>2.934735</td>\n",
       "      <td>2.982778</td>\n",
       "      <td>0.958409</td>\n",
       "      <td>0.001153</td>\n",
       "    </tr>\n",
       "    <tr>\n",
       "      <th>1000</th>\n",
       "      <td>0.88</td>\n",
       "      <td>3.159543</td>\n",
       "      <td>2.937469</td>\n",
       "      <td>2.940182</td>\n",
       "      <td>2.943302</td>\n",
       "      <td>2.939732</td>\n",
       "      <td>2.984046</td>\n",
       "      <td>0.961507</td>\n",
       "      <td>0.001268</td>\n",
       "    </tr>\n",
       "    <tr>\n",
       "      <th>1000</th>\n",
       "      <td>0.89</td>\n",
       "      <td>3.147183</td>\n",
       "      <td>2.941899</td>\n",
       "      <td>2.944763</td>\n",
       "      <td>2.948416</td>\n",
       "      <td>2.944148</td>\n",
       "      <td>2.985282</td>\n",
       "      <td>0.964519</td>\n",
       "      <td>0.001236</td>\n",
       "    </tr>\n",
       "    <tr>\n",
       "      <th>1000</th>\n",
       "      <td>0.9</td>\n",
       "      <td>3.134988</td>\n",
       "      <td>2.945932</td>\n",
       "      <td>2.949449</td>\n",
       "      <td>2.953261</td>\n",
       "      <td>2.948875</td>\n",
       "      <td>2.986501</td>\n",
       "      <td>0.967523</td>\n",
       "      <td>0.001219</td>\n",
       "    </tr>\n",
       "    <tr>\n",
       "      <th>1000</th>\n",
       "      <td>0.91</td>\n",
       "      <td>3.123742</td>\n",
       "      <td>2.950924</td>\n",
       "      <td>2.954714</td>\n",
       "      <td>2.956050</td>\n",
       "      <td>2.952699</td>\n",
       "      <td>2.987626</td>\n",
       "      <td>0.970241</td>\n",
       "      <td>0.001125</td>\n",
       "    </tr>\n",
       "    <tr>\n",
       "      <th>1000</th>\n",
       "      <td>0.92</td>\n",
       "      <td>3.112554</td>\n",
       "      <td>2.954524</td>\n",
       "      <td>2.958988</td>\n",
       "      <td>2.960489</td>\n",
       "      <td>2.957169</td>\n",
       "      <td>2.988745</td>\n",
       "      <td>0.973064</td>\n",
       "      <td>0.001119</td>\n",
       "    </tr>\n",
       "    <tr>\n",
       "      <th>1000</th>\n",
       "      <td>0.93</td>\n",
       "      <td>3.099074</td>\n",
       "      <td>2.958481</td>\n",
       "      <td>2.964849</td>\n",
       "      <td>2.965992</td>\n",
       "      <td>2.962066</td>\n",
       "      <td>2.990093</td>\n",
       "      <td>0.976036</td>\n",
       "      <td>0.001348</td>\n",
       "    </tr>\n",
       "    <tr>\n",
       "      <th>1000</th>\n",
       "      <td>0.94</td>\n",
       "      <td>3.084116</td>\n",
       "      <td>2.964400</td>\n",
       "      <td>2.970083</td>\n",
       "      <td>2.970723</td>\n",
       "      <td>2.968620</td>\n",
       "      <td>2.991588</td>\n",
       "      <td>0.979489</td>\n",
       "      <td>0.001496</td>\n",
       "    </tr>\n",
       "    <tr>\n",
       "      <th>1000</th>\n",
       "      <td>0.95</td>\n",
       "      <td>3.070630</td>\n",
       "      <td>2.969163</td>\n",
       "      <td>2.974772</td>\n",
       "      <td>2.975860</td>\n",
       "      <td>2.974259</td>\n",
       "      <td>2.992937</td>\n",
       "      <td>0.982827</td>\n",
       "      <td>0.001349</td>\n",
       "    </tr>\n",
       "    <tr>\n",
       "      <th>1000</th>\n",
       "      <td>0.96</td>\n",
       "      <td>3.055660</td>\n",
       "      <td>2.975839</td>\n",
       "      <td>2.979871</td>\n",
       "      <td>2.981799</td>\n",
       "      <td>2.979000</td>\n",
       "      <td>2.994434</td>\n",
       "      <td>0.986137</td>\n",
       "      <td>0.001497</td>\n",
       "    </tr>\n",
       "    <tr>\n",
       "      <th>1000</th>\n",
       "      <td>0.97</td>\n",
       "      <td>3.040900</td>\n",
       "      <td>2.981910</td>\n",
       "      <td>2.984703</td>\n",
       "      <td>2.987392</td>\n",
       "      <td>2.984646</td>\n",
       "      <td>2.995910</td>\n",
       "      <td>0.989823</td>\n",
       "      <td>0.001476</td>\n",
       "    </tr>\n",
       "    <tr>\n",
       "      <th>1000</th>\n",
       "      <td>0.98</td>\n",
       "      <td>3.027943</td>\n",
       "      <td>2.987466</td>\n",
       "      <td>2.989034</td>\n",
       "      <td>2.991338</td>\n",
       "      <td>2.990247</td>\n",
       "      <td>2.997206</td>\n",
       "      <td>0.993103</td>\n",
       "      <td>0.001296</td>\n",
       "    </tr>\n",
       "    <tr>\n",
       "      <th>1000</th>\n",
       "      <td>0.99</td>\n",
       "      <td>3.014338</td>\n",
       "      <td>2.994216</td>\n",
       "      <td>2.994205</td>\n",
       "      <td>2.995096</td>\n",
       "      <td>2.994976</td>\n",
       "      <td>2.998566</td>\n",
       "      <td>0.996488</td>\n",
       "      <td>0.001361</td>\n",
       "    </tr>\n",
       "    <tr>\n",
       "      <th>1000</th>\n",
       "      <td>1.0</td>\n",
       "      <td>3.000000</td>\n",
       "      <td>3.000000</td>\n",
       "      <td>3.000000</td>\n",
       "      <td>3.000000</td>\n",
       "      <td>3.000000</td>\n",
       "      <td>3.000000</td>\n",
       "      <td>1.000000</td>\n",
       "      <td>0.001434</td>\n",
       "    </tr>\n",
       "  </tbody>\n",
       "</table>\n",
       "</div>"
      ],
      "text/plain": [
       "     pl1_p(C|CC)  P1_Avg_Norm_Score  P2_Avg_Norm_Score  P3_Avg_Norm_Score  \\\n",
       "1000        0.85           3.195831           2.925221           2.925984   \n",
       "1000        0.86           3.183749           2.929733           2.931353   \n",
       "1000        0.87           3.172220           2.933121           2.936063   \n",
       "1000        0.88           3.159543           2.937469           2.940182   \n",
       "1000        0.89           3.147183           2.941899           2.944763   \n",
       "1000         0.9           3.134988           2.945932           2.949449   \n",
       "1000        0.91           3.123742           2.950924           2.954714   \n",
       "1000        0.92           3.112554           2.954524           2.958988   \n",
       "1000        0.93           3.099074           2.958481           2.964849   \n",
       "1000        0.94           3.084116           2.964400           2.970083   \n",
       "1000        0.95           3.070630           2.969163           2.974772   \n",
       "1000        0.96           3.055660           2.975839           2.979871   \n",
       "1000        0.97           3.040900           2.981910           2.984703   \n",
       "1000        0.98           3.027943           2.987466           2.989034   \n",
       "1000        0.99           3.014338           2.994216           2.994205   \n",
       "1000         1.0           3.000000           3.000000           3.000000   \n",
       "\n",
       "      P4_Avg_Norm_Score  P5_Avg_Norm_Score  Avg_of_PL_Scores  \\\n",
       "1000           2.929145           2.925904          2.980417   \n",
       "1000           2.932984           2.930307          2.981625   \n",
       "1000           2.937752           2.934735          2.982778   \n",
       "1000           2.943302           2.939732          2.984046   \n",
       "1000           2.948416           2.944148          2.985282   \n",
       "1000           2.953261           2.948875          2.986501   \n",
       "1000           2.956050           2.952699          2.987626   \n",
       "1000           2.960489           2.957169          2.988745   \n",
       "1000           2.965992           2.962066          2.990093   \n",
       "1000           2.970723           2.968620          2.991588   \n",
       "1000           2.975860           2.974259          2.992937   \n",
       "1000           2.981799           2.979000          2.994434   \n",
       "1000           2.987392           2.984646          2.995910   \n",
       "1000           2.991338           2.990247          2.997206   \n",
       "1000           2.995096           2.994976          2.998566   \n",
       "1000           3.000000           3.000000          3.000000   \n",
       "\n",
       "      Avg_CC_Distribution  L2_Dist_Avg_PL_Scores  \n",
       "1000             0.952585                    NaN  \n",
       "1000             0.955514               0.001208  \n",
       "1000             0.958409               0.001153  \n",
       "1000             0.961507               0.001268  \n",
       "1000             0.964519               0.001236  \n",
       "1000             0.967523               0.001219  \n",
       "1000             0.970241               0.001125  \n",
       "1000             0.973064               0.001119  \n",
       "1000             0.976036               0.001348  \n",
       "1000             0.979489               0.001496  \n",
       "1000             0.982827               0.001349  \n",
       "1000             0.986137               0.001497  \n",
       "1000             0.989823               0.001476  \n",
       "1000             0.993103               0.001296  \n",
       "1000             0.996488               0.001361  \n",
       "1000             1.000000               0.001434  "
      ]
     },
     "execution_count": 20,
     "metadata": {},
     "output_type": "execute_result"
    }
   ],
   "source": [
    "df =sorted_df[['pl1_p(C|CC)', 'P1_Avg_Norm_Score', 'P2_Avg_Norm_Score','P3_Avg_Norm_Score', \n",
    "           'P4_Avg_Norm_Score', 'P5_Avg_Norm_Score','Avg_of_PL_Scores',\n",
    "           'Avg_CC_Distribution','L2_Dist_Avg_PL_Scores']]\n",
    "df"
   ]
  },
  {
   "cell_type": "code",
   "execution_count": 21,
   "metadata": {},
   "outputs": [
    {
     "data": {
      "image/png": "[encoded data removed]",
      "text/plain": [
       "<Figure size 288x864 with 3 Axes>"
      ]
     },
     "metadata": {
      "needs_background": "light"
     },
     "output_type": "display_data"
    }
   ],
   "source": [
    "g = sns.PairGrid(df, y_vars=[\"Avg_of_PL_Scores\",\"L2_Dist_Avg_PL_Scores\", \"Avg_CC_Distribution\"], x_vars=[\"pl1_p(C|CC)\"], height=4)\n",
    "g.map(sns.pointplot, color=\".3\")\n",
    "for ax in g.axes.flat:\n",
    "    labels = ax.get_xticklabels() # get x labels\n",
    "    for i,l in enumerate(labels):\n",
    "        if(i%2 == 0): labels[i] = '' # skip even labels\n",
    "    ax.set_xticklabels(labels, rotation=30) # set new labels\n",
    "plt.show()"
   ]
  },
  {
   "cell_type": "markdown",
   "metadata": {},
   "source": [
    "#### Experiement 2.1: How does a change in a single response probability for one player influence larger group outcomes?\n",
    "__Approach__: Similar to experiment 2, but this time with a group of 15 players."
   ]
  },
  {
   "cell_type": "code",
   "execution_count": 22,
   "metadata": {},
   "outputs": [
    {
     "name": "stdout",
     "output_type": "stream",
     "text": [
      "Fifteen player response probabilities: \n",
      " [[0.98 1.   1.   1.  ]\n",
      " [1.   1.   1.   1.  ]\n",
      " [1.   1.   1.   1.  ]\n",
      " [1.   1.   1.   1.  ]\n",
      " [1.   1.   1.   1.  ]\n",
      " [1.   1.   1.   1.  ]\n",
      " [1.   1.   1.   1.  ]\n",
      " [1.   1.   1.   1.  ]\n",
      " [1.   1.   1.   1.  ]\n",
      " [1.   1.   1.   1.  ]\n",
      " [1.   1.   1.   1.  ]\n",
      " [1.   1.   1.   1.  ]\n",
      " [1.   1.   1.   1.  ]\n",
      " [1.   1.   1.   1.  ]\n",
      " [1.   1.   1.   1.  ]]\n",
      "LIST of initial moves:  [1. 1. 1. 1. 1. 1. 1. 1. 1. 1. 1. 1. 1. 1. 1.]\n"
     ]
    }
   ],
   "source": [
    "# Initialize parameters\n",
    "rng = np.random.default_rng(3)\n",
    "random_prob = rng.integers(90, 100)/100\n",
    "fifteen_players = np.ones((15,4))\n",
    "\n",
    "fifteen_players[0,0] = random_prob\n",
    "print(\"Fifteen player response probabilities: \\n\", fifteen_players)\n",
    "im_list3 = np.ones((15))\n",
    "print(\"LIST of initial moves: \", im_list3)"
   ]
  },
  {
   "cell_type": "code",
   "execution_count": 23,
   "metadata": {},
   "outputs": [
    {
     "name": "stdout",
     "output_type": "stream",
     "text": [
      "Five player response probabilities: \n",
      " [[0.85 1.   1.   1.  ]\n",
      " [1.   1.   1.   1.  ]\n",
      " [1.   1.   1.   1.  ]\n",
      " [1.   1.   1.   1.  ]\n",
      " [1.   1.   1.   1.  ]\n",
      " [1.   1.   1.   1.  ]\n",
      " [1.   1.   1.   1.  ]\n",
      " [1.   1.   1.   1.  ]\n",
      " [1.   1.   1.   1.  ]\n",
      " [1.   1.   1.   1.  ]\n",
      " [1.   1.   1.   1.  ]\n",
      " [1.   1.   1.   1.  ]\n",
      " [1.   1.   1.   1.  ]\n",
      " [1.   1.   1.   1.  ]\n",
      " [1.   1.   1.   1.  ]]\n",
      "Instantiating tournament object with these players:  Generic Memory One Player,Generic Memory One Player,Generic Memory One Player,Generic Memory One Player,Generic Memory One Player,Generic Memory One Player,Generic Memory One Player,Generic Memory One Player,Generic Memory One Player,Generic Memory One Player,Generic Memory One Player,Generic Memory One Player,Generic Memory One Player,Generic Memory One Player,Generic Memory One Player\n"
     ]
    },
    {
     "name": "stderr",
     "output_type": "stream",
     "text": [
      "Playing matches: 100%|██████████| 120/120 [00:58<00:00,  2.06it/s]\n",
      "Analysing: 100%|██████████| 25/25 [00:02<00:00,  9.36it/s]"
     ]
    },
    {
     "name": "stdout",
     "output_type": "stream",
     "text": [
      "Five player response probabilities: \n",
      " [[0.86 1.   1.   1.  ]\n",
      " [1.   1.   1.   1.  ]\n",
      " [1.   1.   1.   1.  ]\n",
      " [1.   1.   1.   1.  ]\n",
      " [1.   1.   1.   1.  ]\n",
      " [1.   1.   1.   1.  ]\n",
      " [1.   1.   1.   1.  ]\n",
      " [1.   1.   1.   1.  ]\n",
      " [1.   1.   1.   1.  ]\n",
      " [1.   1.   1.   1.  ]\n",
      " [1.   1.   1.   1.  ]\n",
      " [1.   1.   1.   1.  ]\n",
      " [1.   1.   1.   1.  ]\n",
      " [1.   1.   1.   1.  ]\n",
      " [1.   1.   1.   1.  ]]\n",
      "Instantiating tournament object with these players:  Generic Memory One Player,Generic Memory One Player,Generic Memory One Player,Generic Memory One Player,Generic Memory One Player,Generic Memory One Player,Generic Memory One Player,Generic Memory One Player,Generic Memory One Player,Generic Memory One Player,Generic Memory One Player,Generic Memory One Player,Generic Memory One Player,Generic Memory One Player,Generic Memory One Player\n"
     ]
    },
    {
     "name": "stderr",
     "output_type": "stream",
     "text": [
      "\n",
      "Playing matches: 100%|██████████| 120/120 [00:54<00:00,  2.22it/s]\n",
      "Analysing: 100%|██████████| 25/25 [00:02<00:00,  8.68it/s]\n"
     ]
    },
    {
     "name": "stdout",
     "output_type": "stream",
     "text": [
      "Five player response probabilities: \n",
      " [[0.87 1.   1.   1.  ]\n",
      " [1.   1.   1.   1.  ]\n",
      " [1.   1.   1.   1.  ]\n",
      " [1.   1.   1.   1.  ]\n",
      " [1.   1.   1.   1.  ]\n",
      " [1.   1.   1.   1.  ]\n",
      " [1.   1.   1.   1.  ]\n",
      " [1.   1.   1.   1.  ]\n",
      " [1.   1.   1.   1.  ]\n",
      " [1.   1.   1.   1.  ]\n",
      " [1.   1.   1.   1.  ]\n",
      " [1.   1.   1.   1.  ]\n",
      " [1.   1.   1.   1.  ]\n",
      " [1.   1.   1.   1.  ]\n",
      " [1.   1.   1.   1.  ]]\n",
      "Instantiating tournament object with these players:  Generic Memory One Player,Generic Memory One Player,Generic Memory One Player,Generic Memory One Player,Generic Memory One Player,Generic Memory One Player,Generic Memory One Player,Generic Memory One Player,Generic Memory One Player,Generic Memory One Player,Generic Memory One Player,Generic Memory One Player,Generic Memory One Player,Generic Memory One Player,Generic Memory One Player\n"
     ]
    },
    {
     "name": "stderr",
     "output_type": "stream",
     "text": [
      "Playing matches: 100%|██████████| 120/120 [00:59<00:00,  2.00it/s]\n",
      "Analysing: 100%|██████████| 25/25 [00:02<00:00,  9.14it/s]"
     ]
    },
    {
     "name": "stdout",
     "output_type": "stream",
     "text": [
      "Five player response probabilities: \n",
      " [[0.88 1.   1.   1.  ]\n",
      " [1.   1.   1.   1.  ]\n",
      " [1.   1.   1.   1.  ]\n",
      " [1.   1.   1.   1.  ]\n",
      " [1.   1.   1.   1.  ]\n",
      " [1.   1.   1.   1.  ]\n",
      " [1.   1.   1.   1.  ]\n",
      " [1.   1.   1.   1.  ]\n",
      " [1.   1.   1.   1.  ]\n",
      " [1.   1.   1.   1.  ]\n",
      " [1.   1.   1.   1.  ]\n",
      " [1.   1.   1.   1.  ]\n",
      " [1.   1.   1.   1.  ]\n",
      " [1.   1.   1.   1.  ]\n",
      " [1.   1.   1.   1.  ]]\n",
      "Instantiating tournament object with these players:  Generic Memory One Player,Generic Memory One Player,Generic Memory One Player,Generic Memory One Player,Generic Memory One Player,Generic Memory One Player,Generic Memory One Player,Generic Memory One Player,Generic Memory One Player,Generic Memory One Player,Generic Memory One Player,Generic Memory One Player,Generic Memory One Player,Generic Memory One Player,Generic Memory One Player\n"
     ]
    },
    {
     "name": "stderr",
     "output_type": "stream",
     "text": [
      "\n",
      "Playing matches: 100%|██████████| 120/120 [00:57<00:00,  2.09it/s]\n",
      "Analysing: 100%|██████████| 25/25 [00:03<00:00,  7.83it/s]"
     ]
    },
    {
     "name": "stdout",
     "output_type": "stream",
     "text": [
      "Five player response probabilities: \n",
      " [[0.89 1.   1.   1.  ]\n",
      " [1.   1.   1.   1.  ]\n",
      " [1.   1.   1.   1.  ]\n",
      " [1.   1.   1.   1.  ]\n",
      " [1.   1.   1.   1.  ]\n",
      " [1.   1.   1.   1.  ]\n",
      " [1.   1.   1.   1.  ]\n",
      " [1.   1.   1.   1.  ]\n",
      " [1.   1.   1.   1.  ]\n",
      " [1.   1.   1.   1.  ]\n",
      " [1.   1.   1.   1.  ]\n",
      " [1.   1.   1.   1.  ]\n",
      " [1.   1.   1.   1.  ]\n",
      " [1.   1.   1.   1.  ]\n",
      " [1.   1.   1.   1.  ]]\n",
      "Instantiating tournament object with these players:  Generic Memory One Player,Generic Memory One Player,Generic Memory One Player,Generic Memory One Player,Generic Memory One Player,Generic Memory One Player,Generic Memory One Player,Generic Memory One Player,Generic Memory One Player,Generic Memory One Player,Generic Memory One Player,Generic Memory One Player,Generic Memory One Player,Generic Memory One Player,Generic Memory One Player\n"
     ]
    },
    {
     "name": "stderr",
     "output_type": "stream",
     "text": [
      "\n",
      "Playing matches: 100%|██████████| 120/120 [00:52<00:00,  2.27it/s]\n",
      "Analysing: 100%|██████████| 25/25 [00:02<00:00,  9.11it/s]\n"
     ]
    },
    {
     "name": "stdout",
     "output_type": "stream",
     "text": [
      "Five player response probabilities: \n",
      " [[0.9 1.  1.  1. ]\n",
      " [1.  1.  1.  1. ]\n",
      " [1.  1.  1.  1. ]\n",
      " [1.  1.  1.  1. ]\n",
      " [1.  1.  1.  1. ]\n",
      " [1.  1.  1.  1. ]\n",
      " [1.  1.  1.  1. ]\n",
      " [1.  1.  1.  1. ]\n",
      " [1.  1.  1.  1. ]\n",
      " [1.  1.  1.  1. ]\n",
      " [1.  1.  1.  1. ]\n",
      " [1.  1.  1.  1. ]\n",
      " [1.  1.  1.  1. ]\n",
      " [1.  1.  1.  1. ]\n",
      " [1.  1.  1.  1. ]]\n",
      "Instantiating tournament object with these players:  Generic Memory One Player,Generic Memory One Player,Generic Memory One Player,Generic Memory One Player,Generic Memory One Player,Generic Memory One Player,Generic Memory One Player,Generic Memory One Player,Generic Memory One Player,Generic Memory One Player,Generic Memory One Player,Generic Memory One Player,Generic Memory One Player,Generic Memory One Player,Generic Memory One Player\n"
     ]
    },
    {
     "name": "stderr",
     "output_type": "stream",
     "text": [
      "Playing matches: 100%|██████████| 120/120 [00:52<00:00,  2.31it/s]\n",
      "Analysing: 100%|██████████| 25/25 [00:02<00:00,  8.71it/s]\n"
     ]
    },
    {
     "name": "stdout",
     "output_type": "stream",
     "text": [
      "Five player response probabilities: \n",
      " [[0.91 1.   1.   1.  ]\n",
      " [1.   1.   1.   1.  ]\n",
      " [1.   1.   1.   1.  ]\n",
      " [1.   1.   1.   1.  ]\n",
      " [1.   1.   1.   1.  ]\n",
      " [1.   1.   1.   1.  ]\n",
      " [1.   1.   1.   1.  ]\n",
      " [1.   1.   1.   1.  ]\n",
      " [1.   1.   1.   1.  ]\n",
      " [1.   1.   1.   1.  ]\n",
      " [1.   1.   1.   1.  ]\n",
      " [1.   1.   1.   1.  ]\n",
      " [1.   1.   1.   1.  ]\n",
      " [1.   1.   1.   1.  ]\n",
      " [1.   1.   1.   1.  ]]\n",
      "Instantiating tournament object with these players:  Generic Memory One Player,Generic Memory One Player,Generic Memory One Player,Generic Memory One Player,Generic Memory One Player,Generic Memory One Player,Generic Memory One Player,Generic Memory One Player,Generic Memory One Player,Generic Memory One Player,Generic Memory One Player,Generic Memory One Player,Generic Memory One Player,Generic Memory One Player,Generic Memory One Player\n"
     ]
    },
    {
     "name": "stderr",
     "output_type": "stream",
     "text": [
      "Playing matches: 100%|██████████| 120/120 [00:52<00:00,  2.30it/s]\n",
      "Analysing: 100%|██████████| 25/25 [00:02<00:00,  8.83it/s]\n"
     ]
    },
    {
     "name": "stdout",
     "output_type": "stream",
     "text": [
      "Five player response probabilities: \n",
      " [[0.92 1.   1.   1.  ]\n",
      " [1.   1.   1.   1.  ]\n",
      " [1.   1.   1.   1.  ]\n",
      " [1.   1.   1.   1.  ]\n",
      " [1.   1.   1.   1.  ]\n",
      " [1.   1.   1.   1.  ]\n",
      " [1.   1.   1.   1.  ]\n",
      " [1.   1.   1.   1.  ]\n",
      " [1.   1.   1.   1.  ]\n",
      " [1.   1.   1.   1.  ]\n",
      " [1.   1.   1.   1.  ]\n",
      " [1.   1.   1.   1.  ]\n",
      " [1.   1.   1.   1.  ]\n",
      " [1.   1.   1.   1.  ]\n",
      " [1.   1.   1.   1.  ]]\n",
      "Instantiating tournament object with these players:  Generic Memory One Player,Generic Memory One Player,Generic Memory One Player,Generic Memory One Player,Generic Memory One Player,Generic Memory One Player,Generic Memory One Player,Generic Memory One Player,Generic Memory One Player,Generic Memory One Player,Generic Memory One Player,Generic Memory One Player,Generic Memory One Player,Generic Memory One Player,Generic Memory One Player\n"
     ]
    },
    {
     "name": "stderr",
     "output_type": "stream",
     "text": [
      "Playing matches: 100%|██████████| 120/120 [00:59<00:00,  2.01it/s]\n",
      "Analysing: 100%|██████████| 25/25 [00:02<00:00,  8.82it/s]\n"
     ]
    },
    {
     "name": "stdout",
     "output_type": "stream",
     "text": [
      "Five player response probabilities: \n",
      " [[0.93 1.   1.   1.  ]\n",
      " [1.   1.   1.   1.  ]\n",
      " [1.   1.   1.   1.  ]\n",
      " [1.   1.   1.   1.  ]\n",
      " [1.   1.   1.   1.  ]\n",
      " [1.   1.   1.   1.  ]\n",
      " [1.   1.   1.   1.  ]\n",
      " [1.   1.   1.   1.  ]\n",
      " [1.   1.   1.   1.  ]\n",
      " [1.   1.   1.   1.  ]\n",
      " [1.   1.   1.   1.  ]\n",
      " [1.   1.   1.   1.  ]\n",
      " [1.   1.   1.   1.  ]\n",
      " [1.   1.   1.   1.  ]\n",
      " [1.   1.   1.   1.  ]]\n",
      "Instantiating tournament object with these players:  Generic Memory One Player,Generic Memory One Player,Generic Memory One Player,Generic Memory One Player,Generic Memory One Player,Generic Memory One Player,Generic Memory One Player,Generic Memory One Player,Generic Memory One Player,Generic Memory One Player,Generic Memory One Player,Generic Memory One Player,Generic Memory One Player,Generic Memory One Player,Generic Memory One Player\n"
     ]
    },
    {
     "name": "stderr",
     "output_type": "stream",
     "text": [
      "Playing matches: 100%|██████████| 120/120 [00:55<00:00,  2.15it/s]\n",
      "Analysing: 100%|██████████| 25/25 [00:02<00:00,  8.80it/s]\n"
     ]
    },
    {
     "name": "stdout",
     "output_type": "stream",
     "text": [
      "Five player response probabilities: \n",
      " [[0.94 1.   1.   1.  ]\n",
      " [1.   1.   1.   1.  ]\n",
      " [1.   1.   1.   1.  ]\n",
      " [1.   1.   1.   1.  ]\n",
      " [1.   1.   1.   1.  ]\n",
      " [1.   1.   1.   1.  ]\n",
      " [1.   1.   1.   1.  ]\n",
      " [1.   1.   1.   1.  ]\n",
      " [1.   1.   1.   1.  ]\n",
      " [1.   1.   1.   1.  ]\n",
      " [1.   1.   1.   1.  ]\n",
      " [1.   1.   1.   1.  ]\n",
      " [1.   1.   1.   1.  ]\n",
      " [1.   1.   1.   1.  ]\n",
      " [1.   1.   1.   1.  ]]\n",
      "Instantiating tournament object with these players:  Generic Memory One Player,Generic Memory One Player,Generic Memory One Player,Generic Memory One Player,Generic Memory One Player,Generic Memory One Player,Generic Memory One Player,Generic Memory One Player,Generic Memory One Player,Generic Memory One Player,Generic Memory One Player,Generic Memory One Player,Generic Memory One Player,Generic Memory One Player,Generic Memory One Player\n"
     ]
    },
    {
     "name": "stderr",
     "output_type": "stream",
     "text": [
      "Playing matches: 100%|██████████| 120/120 [00:55<00:00,  2.15it/s]\n",
      "Analysing: 100%|██████████| 25/25 [00:03<00:00,  8.29it/s]\n"
     ]
    },
    {
     "name": "stdout",
     "output_type": "stream",
     "text": [
      "Five player response probabilities: \n",
      " [[0.95 1.   1.   1.  ]\n",
      " [1.   1.   1.   1.  ]\n",
      " [1.   1.   1.   1.  ]\n",
      " [1.   1.   1.   1.  ]\n",
      " [1.   1.   1.   1.  ]\n",
      " [1.   1.   1.   1.  ]\n",
      " [1.   1.   1.   1.  ]\n",
      " [1.   1.   1.   1.  ]\n",
      " [1.   1.   1.   1.  ]\n",
      " [1.   1.   1.   1.  ]\n",
      " [1.   1.   1.   1.  ]\n",
      " [1.   1.   1.   1.  ]\n",
      " [1.   1.   1.   1.  ]\n",
      " [1.   1.   1.   1.  ]\n",
      " [1.   1.   1.   1.  ]]\n",
      "Instantiating tournament object with these players:  Generic Memory One Player,Generic Memory One Player,Generic Memory One Player,Generic Memory One Player,Generic Memory One Player,Generic Memory One Player,Generic Memory One Player,Generic Memory One Player,Generic Memory One Player,Generic Memory One Player,Generic Memory One Player,Generic Memory One Player,Generic Memory One Player,Generic Memory One Player,Generic Memory One Player\n"
     ]
    },
    {
     "name": "stderr",
     "output_type": "stream",
     "text": [
      "Playing matches: 100%|██████████| 120/120 [00:54<00:00,  2.20it/s]\n",
      "Analysing: 100%|██████████| 25/25 [00:02<00:00,  8.40it/s]\n"
     ]
    },
    {
     "name": "stdout",
     "output_type": "stream",
     "text": [
      "Five player response probabilities: \n",
      " [[0.96 1.   1.   1.  ]\n",
      " [1.   1.   1.   1.  ]\n",
      " [1.   1.   1.   1.  ]\n",
      " [1.   1.   1.   1.  ]\n",
      " [1.   1.   1.   1.  ]\n",
      " [1.   1.   1.   1.  ]\n",
      " [1.   1.   1.   1.  ]\n",
      " [1.   1.   1.   1.  ]\n",
      " [1.   1.   1.   1.  ]\n",
      " [1.   1.   1.   1.  ]\n",
      " [1.   1.   1.   1.  ]\n",
      " [1.   1.   1.   1.  ]\n",
      " [1.   1.   1.   1.  ]\n",
      " [1.   1.   1.   1.  ]\n",
      " [1.   1.   1.   1.  ]]\n",
      "Instantiating tournament object with these players:  Generic Memory One Player,Generic Memory One Player,Generic Memory One Player,Generic Memory One Player,Generic Memory One Player,Generic Memory One Player,Generic Memory One Player,Generic Memory One Player,Generic Memory One Player,Generic Memory One Player,Generic Memory One Player,Generic Memory One Player,Generic Memory One Player,Generic Memory One Player,Generic Memory One Player\n"
     ]
    },
    {
     "name": "stderr",
     "output_type": "stream",
     "text": [
      "Playing matches: 100%|██████████| 120/120 [00:56<00:00,  2.11it/s]\n",
      "Analysing: 100%|██████████| 25/25 [00:03<00:00,  8.01it/s]\n"
     ]
    },
    {
     "name": "stdout",
     "output_type": "stream",
     "text": [
      "Five player response probabilities: \n",
      " [[0.97 1.   1.   1.  ]\n",
      " [1.   1.   1.   1.  ]\n",
      " [1.   1.   1.   1.  ]\n",
      " [1.   1.   1.   1.  ]\n",
      " [1.   1.   1.   1.  ]\n",
      " [1.   1.   1.   1.  ]\n",
      " [1.   1.   1.   1.  ]\n",
      " [1.   1.   1.   1.  ]\n",
      " [1.   1.   1.   1.  ]\n",
      " [1.   1.   1.   1.  ]\n",
      " [1.   1.   1.   1.  ]\n",
      " [1.   1.   1.   1.  ]\n",
      " [1.   1.   1.   1.  ]\n",
      " [1.   1.   1.   1.  ]\n",
      " [1.   1.   1.   1.  ]]\n",
      "Instantiating tournament object with these players:  Generic Memory One Player,Generic Memory One Player,Generic Memory One Player,Generic Memory One Player,Generic Memory One Player,Generic Memory One Player,Generic Memory One Player,Generic Memory One Player,Generic Memory One Player,Generic Memory One Player,Generic Memory One Player,Generic Memory One Player,Generic Memory One Player,Generic Memory One Player,Generic Memory One Player\n"
     ]
    },
    {
     "name": "stderr",
     "output_type": "stream",
     "text": [
      "Playing matches: 100%|██████████| 120/120 [00:55<00:00,  2.18it/s]\n",
      "Analysing: 100%|██████████| 25/25 [00:03<00:00,  8.14it/s]\n"
     ]
    },
    {
     "name": "stdout",
     "output_type": "stream",
     "text": [
      "Five player response probabilities: \n",
      " [[0.98 1.   1.   1.  ]\n",
      " [1.   1.   1.   1.  ]\n",
      " [1.   1.   1.   1.  ]\n",
      " [1.   1.   1.   1.  ]\n",
      " [1.   1.   1.   1.  ]\n",
      " [1.   1.   1.   1.  ]\n",
      " [1.   1.   1.   1.  ]\n",
      " [1.   1.   1.   1.  ]\n",
      " [1.   1.   1.   1.  ]\n",
      " [1.   1.   1.   1.  ]\n",
      " [1.   1.   1.   1.  ]\n",
      " [1.   1.   1.   1.  ]\n",
      " [1.   1.   1.   1.  ]\n",
      " [1.   1.   1.   1.  ]\n",
      " [1.   1.   1.   1.  ]]\n",
      "Instantiating tournament object with these players:  Generic Memory One Player,Generic Memory One Player,Generic Memory One Player,Generic Memory One Player,Generic Memory One Player,Generic Memory One Player,Generic Memory One Player,Generic Memory One Player,Generic Memory One Player,Generic Memory One Player,Generic Memory One Player,Generic Memory One Player,Generic Memory One Player,Generic Memory One Player,Generic Memory One Player\n"
     ]
    },
    {
     "name": "stderr",
     "output_type": "stream",
     "text": [
      "Playing matches: 100%|██████████| 120/120 [00:55<00:00,  2.17it/s]\n",
      "Analysing: 100%|██████████| 25/25 [00:03<00:00,  7.68it/s]\n"
     ]
    },
    {
     "name": "stdout",
     "output_type": "stream",
     "text": [
      "Five player response probabilities: \n",
      " [[0.99 1.   1.   1.  ]\n",
      " [1.   1.   1.   1.  ]\n",
      " [1.   1.   1.   1.  ]\n",
      " [1.   1.   1.   1.  ]\n",
      " [1.   1.   1.   1.  ]\n",
      " [1.   1.   1.   1.  ]\n",
      " [1.   1.   1.   1.  ]\n",
      " [1.   1.   1.   1.  ]\n",
      " [1.   1.   1.   1.  ]\n",
      " [1.   1.   1.   1.  ]\n",
      " [1.   1.   1.   1.  ]\n",
      " [1.   1.   1.   1.  ]\n",
      " [1.   1.   1.   1.  ]\n",
      " [1.   1.   1.   1.  ]\n",
      " [1.   1.   1.   1.  ]]\n",
      "Instantiating tournament object with these players:  Generic Memory One Player,Generic Memory One Player,Generic Memory One Player,Generic Memory One Player,Generic Memory One Player,Generic Memory One Player,Generic Memory One Player,Generic Memory One Player,Generic Memory One Player,Generic Memory One Player,Generic Memory One Player,Generic Memory One Player,Generic Memory One Player,Generic Memory One Player,Generic Memory One Player\n"
     ]
    },
    {
     "name": "stderr",
     "output_type": "stream",
     "text": [
      "Playing matches: 100%|██████████| 120/120 [01:01<00:00,  1.94it/s]\n",
      "Analysing: 100%|██████████| 25/25 [00:03<00:00,  7.22it/s]"
     ]
    },
    {
     "name": "stdout",
     "output_type": "stream",
     "text": [
      "Five player response probabilities: \n",
      " [[1. 1. 1. 1.]\n",
      " [1. 1. 1. 1.]\n",
      " [1. 1. 1. 1.]\n",
      " [1. 1. 1. 1.]\n",
      " [1. 1. 1. 1.]\n",
      " [1. 1. 1. 1.]\n",
      " [1. 1. 1. 1.]\n",
      " [1. 1. 1. 1.]\n",
      " [1. 1. 1. 1.]\n",
      " [1. 1. 1. 1.]\n",
      " [1. 1. 1. 1.]\n",
      " [1. 1. 1. 1.]\n",
      " [1. 1. 1. 1.]\n",
      " [1. 1. 1. 1.]\n",
      " [1. 1. 1. 1.]]\n",
      "Instantiating tournament object with these players:  Generic Memory One Player,Generic Memory One Player,Generic Memory One Player,Generic Memory One Player,Generic Memory One Player,Generic Memory One Player,Generic Memory One Player,Generic Memory One Player,Generic Memory One Player,Generic Memory One Player,Generic Memory One Player,Generic Memory One Player,Generic Memory One Player,Generic Memory One Player,Generic Memory One Player\n"
     ]
    },
    {
     "name": "stderr",
     "output_type": "stream",
     "text": [
      "\n",
      "Playing matches: 100%|██████████| 120/120 [01:01<00:00,  1.96it/s]\n",
      "Analysing: 100%|██████████| 25/25 [00:02<00:00,  8.61it/s]\n"
     ]
    },
    {
     "name": "stdout",
     "output_type": "stream",
     "text": [
      "Tournaments took 952.3476951122284 seconds\n"
     ]
    }
   ],
   "source": [
    "params, initial_moves = fifteen_players, im_list3\n",
    "data_dict2_1 = {}\n",
    "start = time.time()\n",
    "\n",
    "# Collect results\n",
    "for k in range(85,101):\n",
    "    params[0,0] = k/100\n",
    "    print(\"Five player response probabilities: \\n\", params)\n",
    "    plyrs = []\n",
    "    for j, p_i in enumerate(params):\n",
    "        pl = axl.MemoryOnePlayer(tuple(p_i),action_map[initial_moves[j]])\n",
    "        plyrs.append(pl)\n",
    "\n",
    "    pd1000 = pd_exp2.PdTournament(plyrs, reps=1000)\n",
    "\n",
    "    df1, df2=pd1000.data, pd1000.agg_data\n",
    "    data_dict2_1[k]= (params[0,0], df1, df2)  # Tuple of initial moves, player \n",
    "                                           # norm scores by tournament, \n",
    "                                           # aggregate data for 1000 tournaments\n",
    "    \n",
    "print(f\"Tournaments took {time.time() - start} seconds\")  # ~308.2929379940033 seconds"
   ]
  },
  {
   "cell_type": "code",
   "execution_count": 24,
   "metadata": {},
   "outputs": [],
   "source": [
    "# Process aggregate data for each tournament into a single dataframe for \n",
    "# comparison\n",
    "agg_d_list = []\n",
    "for key,val in data_dict2_1.items():\n",
    "    pl1_param, data, agg_data = val\n",
    "    agg_data['pl1_p(C|CC)'] = str(pl1_param)\n",
    "    agg_d_list.append(agg_data)\n",
    "\n",
    "comparison_df = pd.concat(agg_d_list)\n",
    "\n",
    "# Sort rows by average of Player scores\n",
    "sorted_df = comparison_df.sort_values(by=['Avg_of_PL_Scores'])\n",
    "\n",
    "# Add column for l2 distance of avg_player scores\n",
    "sorted_df['L2_Dist_Avg_PL_Scores'] = np.sqrt(np.square(sorted_df.Avg_of_PL_Scores.shift(1) - sorted_df.Avg_of_PL_Scores))\n"
   ]
  },
  {
   "cell_type": "code",
   "execution_count": 25,
   "metadata": {},
   "outputs": [
    {
     "data": {
      "text/plain": [
       "Index(['P1_Avg_Norm_Score', 'P1_Min_Norm_Score', 'P2_Avg_Norm_Score',\n",
       "       'P2_Min_Norm_Score', 'P3_Avg_Norm_Score', 'P3_Min_Norm_Score',\n",
       "       'P4_Avg_Norm_Score', 'P4_Min_Norm_Score', 'P5_Avg_Norm_Score',\n",
       "       'P5_Min_Norm_Score', 'P6_Avg_Norm_Score', 'P6_Min_Norm_Score',\n",
       "       'P7_Avg_Norm_Score', 'P7_Min_Norm_Score', 'P8_Avg_Norm_Score',\n",
       "       'P8_Min_Norm_Score', 'P9_Avg_Norm_Score', 'P9_Min_Norm_Score',\n",
       "       'P10_Avg_Norm_Score', 'P10_Min_Norm_Score', 'P11_Avg_Norm_Score',\n",
       "       'P11_Min_Norm_Score', 'P12_Avg_Norm_Score', 'P12_Min_Norm_Score',\n",
       "       'P13_Avg_Norm_Score', 'P13_Min_Norm_Score', 'P14_Avg_Norm_Score',\n",
       "       'P14_Min_Norm_Score', 'P15_Avg_Norm_Score', 'P15_Min_Norm_Score',\n",
       "       'Avg_of_PL_Scores', 'Min_of_PL_Scores', 'Avg_CC_Distribution',\n",
       "       'pl1_p(C|CC)', 'L2_Dist_Avg_PL_Scores'],\n",
       "      dtype='object')"
      ]
     },
     "execution_count": 25,
     "metadata": {},
     "output_type": "execute_result"
    }
   ],
   "source": [
    "sorted_df.columns"
   ]
  },
  {
   "cell_type": "code",
   "execution_count": 26,
   "metadata": {},
   "outputs": [
    {
     "data": {
      "text/html": [
       "<div>\n",
       "<style scoped>\n",
       "    .dataframe tbody tr th:only-of-type {\n",
       "        vertical-align: middle;\n",
       "    }\n",
       "\n",
       "    .dataframe tbody tr th {\n",
       "        vertical-align: top;\n",
       "    }\n",
       "\n",
       "    .dataframe thead th {\n",
       "        text-align: right;\n",
       "    }\n",
       "</style>\n",
       "<table border=\"1\" class=\"dataframe\">\n",
       "  <thead>\n",
       "    <tr style=\"text-align: right;\">\n",
       "      <th></th>\n",
       "      <th>pl1_p(C|CC)</th>\n",
       "      <th>P1_Avg_Norm_Score</th>\n",
       "      <th>P2_Avg_Norm_Score</th>\n",
       "      <th>P3_Avg_Norm_Score</th>\n",
       "      <th>P4_Avg_Norm_Score</th>\n",
       "      <th>P5_Avg_Norm_Score</th>\n",
       "      <th>Avg_of_PL_Scores</th>\n",
       "      <th>Avg_CC_Distribution</th>\n",
       "      <th>L2_Dist_Avg_PL_Scores</th>\n",
       "    </tr>\n",
       "  </thead>\n",
       "  <tbody>\n",
       "    <tr>\n",
       "      <th>1000</th>\n",
       "      <td>0.85</td>\n",
       "      <td>3.198428</td>\n",
       "      <td>2.978635</td>\n",
       "      <td>2.978853</td>\n",
       "      <td>2.979756</td>\n",
       "      <td>2.978830</td>\n",
       "      <td>2.993386</td>\n",
       "      <td>0.984207</td>\n",
       "      <td>NaN</td>\n",
       "    </tr>\n",
       "    <tr>\n",
       "      <th>1000</th>\n",
       "      <td>0.86</td>\n",
       "      <td>3.186992</td>\n",
       "      <td>2.979924</td>\n",
       "      <td>2.980386</td>\n",
       "      <td>2.980853</td>\n",
       "      <td>2.980088</td>\n",
       "      <td>2.993767</td>\n",
       "      <td>0.985128</td>\n",
       "      <td>0.000381</td>\n",
       "    </tr>\n",
       "    <tr>\n",
       "      <th>1000</th>\n",
       "      <td>0.87</td>\n",
       "      <td>3.175129</td>\n",
       "      <td>2.980892</td>\n",
       "      <td>2.981732</td>\n",
       "      <td>2.982215</td>\n",
       "      <td>2.981353</td>\n",
       "      <td>2.994162</td>\n",
       "      <td>0.986097</td>\n",
       "      <td>0.000395</td>\n",
       "    </tr>\n",
       "    <tr>\n",
       "      <th>1000</th>\n",
       "      <td>0.88</td>\n",
       "      <td>3.161782</td>\n",
       "      <td>2.982134</td>\n",
       "      <td>2.982909</td>\n",
       "      <td>2.983800</td>\n",
       "      <td>2.982781</td>\n",
       "      <td>2.994607</td>\n",
       "      <td>0.987110</td>\n",
       "      <td>0.000445</td>\n",
       "    </tr>\n",
       "    <tr>\n",
       "      <th>1000</th>\n",
       "      <td>0.89</td>\n",
       "      <td>3.148913</td>\n",
       "      <td>2.983400</td>\n",
       "      <td>2.984218</td>\n",
       "      <td>2.985262</td>\n",
       "      <td>2.984042</td>\n",
       "      <td>2.995036</td>\n",
       "      <td>0.988108</td>\n",
       "      <td>0.000429</td>\n",
       "    </tr>\n",
       "    <tr>\n",
       "      <th>1000</th>\n",
       "      <td>0.9</td>\n",
       "      <td>3.136754</td>\n",
       "      <td>2.984552</td>\n",
       "      <td>2.985557</td>\n",
       "      <td>2.986646</td>\n",
       "      <td>2.985393</td>\n",
       "      <td>2.995442</td>\n",
       "      <td>0.989070</td>\n",
       "      <td>0.000405</td>\n",
       "    </tr>\n",
       "    <tr>\n",
       "      <th>1000</th>\n",
       "      <td>0.91</td>\n",
       "      <td>3.124394</td>\n",
       "      <td>2.985978</td>\n",
       "      <td>2.987061</td>\n",
       "      <td>2.987443</td>\n",
       "      <td>2.986486</td>\n",
       "      <td>2.995854</td>\n",
       "      <td>0.990071</td>\n",
       "      <td>0.000412</td>\n",
       "    </tr>\n",
       "    <tr>\n",
       "      <th>1000</th>\n",
       "      <td>0.92</td>\n",
       "      <td>3.112131</td>\n",
       "      <td>2.987007</td>\n",
       "      <td>2.988282</td>\n",
       "      <td>2.988711</td>\n",
       "      <td>2.987763</td>\n",
       "      <td>2.996262</td>\n",
       "      <td>0.991100</td>\n",
       "      <td>0.000409</td>\n",
       "    </tr>\n",
       "    <tr>\n",
       "      <th>1000</th>\n",
       "      <td>0.93</td>\n",
       "      <td>3.098757</td>\n",
       "      <td>2.988137</td>\n",
       "      <td>2.989957</td>\n",
       "      <td>2.990284</td>\n",
       "      <td>2.989162</td>\n",
       "      <td>2.996708</td>\n",
       "      <td>0.992155</td>\n",
       "      <td>0.000446</td>\n",
       "    </tr>\n",
       "    <tr>\n",
       "      <th>1000</th>\n",
       "      <td>0.94</td>\n",
       "      <td>3.084409</td>\n",
       "      <td>2.989829</td>\n",
       "      <td>2.991452</td>\n",
       "      <td>2.991635</td>\n",
       "      <td>2.991034</td>\n",
       "      <td>2.997186</td>\n",
       "      <td>0.993250</td>\n",
       "      <td>0.000478</td>\n",
       "    </tr>\n",
       "    <tr>\n",
       "      <th>1000</th>\n",
       "      <td>0.95</td>\n",
       "      <td>3.071263</td>\n",
       "      <td>2.991190</td>\n",
       "      <td>2.992792</td>\n",
       "      <td>2.993103</td>\n",
       "      <td>2.992646</td>\n",
       "      <td>2.997625</td>\n",
       "      <td>0.994296</td>\n",
       "      <td>0.000438</td>\n",
       "    </tr>\n",
       "    <tr>\n",
       "      <th>1000</th>\n",
       "      <td>0.96</td>\n",
       "      <td>3.056776</td>\n",
       "      <td>2.993097</td>\n",
       "      <td>2.994249</td>\n",
       "      <td>2.994800</td>\n",
       "      <td>2.994000</td>\n",
       "      <td>2.998107</td>\n",
       "      <td>0.995420</td>\n",
       "      <td>0.000483</td>\n",
       "    </tr>\n",
       "    <tr>\n",
       "      <th>1000</th>\n",
       "      <td>0.97</td>\n",
       "      <td>3.042640</td>\n",
       "      <td>2.994831</td>\n",
       "      <td>2.995629</td>\n",
       "      <td>2.996398</td>\n",
       "      <td>2.995613</td>\n",
       "      <td>2.998579</td>\n",
       "      <td>0.996558</td>\n",
       "      <td>0.000471</td>\n",
       "    </tr>\n",
       "    <tr>\n",
       "      <th>1000</th>\n",
       "      <td>0.98</td>\n",
       "      <td>3.029107</td>\n",
       "      <td>2.996419</td>\n",
       "      <td>2.996867</td>\n",
       "      <td>2.997525</td>\n",
       "      <td>2.997213</td>\n",
       "      <td>2.999030</td>\n",
       "      <td>0.997659</td>\n",
       "      <td>0.000451</td>\n",
       "    </tr>\n",
       "    <tr>\n",
       "      <th>1000</th>\n",
       "      <td>0.99</td>\n",
       "      <td>3.015011</td>\n",
       "      <td>2.998347</td>\n",
       "      <td>2.998344</td>\n",
       "      <td>2.998599</td>\n",
       "      <td>2.998565</td>\n",
       "      <td>2.999500</td>\n",
       "      <td>0.998801</td>\n",
       "      <td>0.000470</td>\n",
       "    </tr>\n",
       "    <tr>\n",
       "      <th>1000</th>\n",
       "      <td>1.0</td>\n",
       "      <td>3.000000</td>\n",
       "      <td>3.000000</td>\n",
       "      <td>3.000000</td>\n",
       "      <td>3.000000</td>\n",
       "      <td>3.000000</td>\n",
       "      <td>3.000000</td>\n",
       "      <td>1.000000</td>\n",
       "      <td>0.000500</td>\n",
       "    </tr>\n",
       "  </tbody>\n",
       "</table>\n",
       "</div>"
      ],
      "text/plain": [
       "     pl1_p(C|CC)  P1_Avg_Norm_Score  P2_Avg_Norm_Score  P3_Avg_Norm_Score  \\\n",
       "1000        0.85           3.198428           2.978635           2.978853   \n",
       "1000        0.86           3.186992           2.979924           2.980386   \n",
       "1000        0.87           3.175129           2.980892           2.981732   \n",
       "1000        0.88           3.161782           2.982134           2.982909   \n",
       "1000        0.89           3.148913           2.983400           2.984218   \n",
       "1000         0.9           3.136754           2.984552           2.985557   \n",
       "1000        0.91           3.124394           2.985978           2.987061   \n",
       "1000        0.92           3.112131           2.987007           2.988282   \n",
       "1000        0.93           3.098757           2.988137           2.989957   \n",
       "1000        0.94           3.084409           2.989829           2.991452   \n",
       "1000        0.95           3.071263           2.991190           2.992792   \n",
       "1000        0.96           3.056776           2.993097           2.994249   \n",
       "1000        0.97           3.042640           2.994831           2.995629   \n",
       "1000        0.98           3.029107           2.996419           2.996867   \n",
       "1000        0.99           3.015011           2.998347           2.998344   \n",
       "1000         1.0           3.000000           3.000000           3.000000   \n",
       "\n",
       "      P4_Avg_Norm_Score  P5_Avg_Norm_Score  Avg_of_PL_Scores  \\\n",
       "1000           2.979756           2.978830          2.993386   \n",
       "1000           2.980853           2.980088          2.993767   \n",
       "1000           2.982215           2.981353          2.994162   \n",
       "1000           2.983800           2.982781          2.994607   \n",
       "1000           2.985262           2.984042          2.995036   \n",
       "1000           2.986646           2.985393          2.995442   \n",
       "1000           2.987443           2.986486          2.995854   \n",
       "1000           2.988711           2.987763          2.996262   \n",
       "1000           2.990284           2.989162          2.996708   \n",
       "1000           2.991635           2.991034          2.997186   \n",
       "1000           2.993103           2.992646          2.997625   \n",
       "1000           2.994800           2.994000          2.998107   \n",
       "1000           2.996398           2.995613          2.998579   \n",
       "1000           2.997525           2.997213          2.999030   \n",
       "1000           2.998599           2.998565          2.999500   \n",
       "1000           3.000000           3.000000          3.000000   \n",
       "\n",
       "      Avg_CC_Distribution  L2_Dist_Avg_PL_Scores  \n",
       "1000             0.984207                    NaN  \n",
       "1000             0.985128               0.000381  \n",
       "1000             0.986097               0.000395  \n",
       "1000             0.987110               0.000445  \n",
       "1000             0.988108               0.000429  \n",
       "1000             0.989070               0.000405  \n",
       "1000             0.990071               0.000412  \n",
       "1000             0.991100               0.000409  \n",
       "1000             0.992155               0.000446  \n",
       "1000             0.993250               0.000478  \n",
       "1000             0.994296               0.000438  \n",
       "1000             0.995420               0.000483  \n",
       "1000             0.996558               0.000471  \n",
       "1000             0.997659               0.000451  \n",
       "1000             0.998801               0.000470  \n",
       "1000             1.000000               0.000500  "
      ]
     },
     "execution_count": 26,
     "metadata": {},
     "output_type": "execute_result"
    }
   ],
   "source": [
    "df =sorted_df[['pl1_p(C|CC)', 'P1_Avg_Norm_Score', 'P2_Avg_Norm_Score','P3_Avg_Norm_Score', \n",
    "           'P4_Avg_Norm_Score', 'P5_Avg_Norm_Score','Avg_of_PL_Scores',\n",
    "           'Avg_CC_Distribution','L2_Dist_Avg_PL_Scores']]\n",
    "df"
   ]
  },
  {
   "cell_type": "code",
   "execution_count": 27,
   "metadata": {},
   "outputs": [
    {
     "data": {
      "image/png": "[encoded data removed]",
      "text/plain": [
       "<Figure size 288x864 with 3 Axes>"
      ]
     },
     "metadata": {
      "needs_background": "light"
     },
     "output_type": "display_data"
    }
   ],
   "source": [
    "g = sns.PairGrid(df, y_vars=[\"Avg_of_PL_Scores\",\"L2_Dist_Avg_PL_Scores\", \"Avg_CC_Distribution\"], x_vars=[\"pl1_p(C|CC)\"], height=4)\n",
    "g.map(sns.pointplot, color=\".3\")\n",
    "# g.set(xticks=[0.85, 0.9, 0.95, 1])\n",
    "for ax in g.axes.flat:\n",
    "    labels = ax.get_xticklabels() # get x labels\n",
    "    for i,l in enumerate(labels):\n",
    "        if(i%2 == 0): labels[i] = '' # skip even labels\n",
    "    ax.set_xticklabels(labels, rotation=30) # set new labels\n",
    "plt.show()\n"
   ]
  },
  {
   "cell_type": "code",
   "execution_count": null,
   "metadata": {},
   "outputs": [],
   "source": []
  }
 ],
 "metadata": {
  "kernelspec": {
   "display_name": "Python 3",
   "language": "python",
   "name": "python3"
  },
  "language_info": {
   "codemirror_mode": {
    "name": "ipython",
    "version": 3
   },
   "file_extension": ".py",
   "mimetype": "text/x-python",
   "name": "python",
   "nbconvert_exporter": "python",
   "pygments_lexer": "ipython3",
   "version": "3.9.4"
  }
 },
 "nbformat": 4,
 "nbformat_minor": 4
}
