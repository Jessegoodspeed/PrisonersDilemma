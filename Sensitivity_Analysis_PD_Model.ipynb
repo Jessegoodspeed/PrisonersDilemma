{
 "cells": [
  {
   "cell_type": "markdown",
   "metadata": {},
   "source": [
    "# Sensitivity Analysis of PD Model:\n",
    "This notebook features different experiments to observe the model's behavior with controlled inputs."
   ]
  },
  {
   "cell_type": "code",
   "execution_count": 1,
   "metadata": {},
   "outputs": [],
   "source": [
    "import axelrod as axl\n",
    "from axelrod.action import Action\n",
    "import copy\n",
    "from itertools import (zip_longest, \n",
    "                      combinations, \n",
    "                      combinations_with_replacement)\n",
    "import matplotlib.pyplot as plt\n",
    "import numpy as np\n",
    "import pandas as pd\n",
    "import code.pd_exp2 as pd_exp2\n",
    "import random\n",
    "import seaborn as sns\n",
    "import time\n",
    "\n",
    "C,D = Action.C, Action.D\n",
    "action_map={0: D, 1: C}"
   ]
  },
  {
   "cell_type": "markdown",
   "metadata": {},
   "source": [
    "#### Experiment 1: How do the initial moves influence group outcomes?\n",
    "__Approach__: Fix player response probability parameters to be the same but vary \n",
    "the players' initial moves. Specifically, we run 6 x 1000 tournaments with 5 \n",
    "players that have fixed response probabilities (1, so responses are \n",
    "deterministic) and varying initial moves. The initial moves are represented as\n",
    "an array of 0s and 1s which correspond to actions D and C, respectively. The \n",
    "index of the initial moves array plus 1 corresponds to the player number in the\n",
    "tournament. The initial move array will change after every 1000 tournaments. \n",
    "There are six different variations of the initial moves array, which is why we \n",
    "run 1000 tournaments six times"
   ]
  },
  {
   "cell_type": "code",
   "execution_count": 2,
   "metadata": {},
   "outputs": [
    {
     "name": "stdout",
     "output_type": "stream",
     "text": [
      "Five player response probabilities: \n",
      " [[1. 1. 1. 1.]\n",
      " [1. 1. 1. 1.]\n",
      " [1. 1. 1. 1.]\n",
      " [1. 1. 1. 1.]\n",
      " [1. 1. 1. 1.]]\n",
      "LIST of initial moves: \n",
      "[0, 0, 0, 0, 0]\n",
      "[1, 0, 0, 0, 0]\n",
      "[1, 1, 0, 0, 0]\n",
      "[1, 1, 1, 0, 0]\n",
      "[1, 1, 1, 1, 0]\n",
      "[1, 1, 1, 1, 1]\n"
     ]
    }
   ],
   "source": [
    "# Initialize player parameters - each player has a set of four response\n",
    "# probabilities and an initial move:\n",
    "#     The response probabilities to the preceding round of play\n",
    "#             ( P(C|CC), P(C|CD), P(C|DC), P(C|DD) )\n",
    "#     Initial: C or D\n",
    "#             The initial move\n",
    "\n",
    "five_four_params = np.ones((5,4))\n",
    "print(\"Five player response probabilities: \\n\", five_four_params)\n",
    "im_list= []\n",
    "print(\"LIST of initial moves: \")\n",
    "for i in range(6):\n",
    "    im = [1 if n<i else 0 for n in range(5)]\n",
    "    print(im)\n",
    "    im_list.append(im)"
   ]
  },
  {
   "cell_type": "code",
   "execution_count": 3,
   "metadata": {
    "tags": []
   },
   "outputs": [
    {
     "name": "stdout",
     "output_type": "stream",
     "text": [
      "Instantiating tournament object with these players:  Generic Memory One Player,Generic Memory One Player,Generic Memory One Player,Generic Memory One Player,Generic Memory One Player\n"
     ]
    },
    {
     "name": "stderr",
     "output_type": "stream",
     "text": [
      "Playing matches: 100%|██████████| 15/15 [00:58<00:00,  3.91s/it]\n",
      "Analysing: 100%|██████████| 25/25 [00:01<00:00, 23.91it/s]\n"
     ]
    },
    {
     "name": "stdout",
     "output_type": "stream",
     "text": [
      "Instantiating tournament object with these players:  Generic Memory One Player,Generic Memory One Player,Generic Memory One Player,Generic Memory One Player,Generic Memory One Player\n"
     ]
    },
    {
     "name": "stderr",
     "output_type": "stream",
     "text": [
      "Playing matches: 100%|██████████| 15/15 [00:55<00:00,  3.73s/it]\n",
      "Analysing: 100%|██████████| 25/25 [00:00<00:00, 28.11it/s]\n"
     ]
    },
    {
     "name": "stdout",
     "output_type": "stream",
     "text": [
      "Instantiating tournament object with these players:  Generic Memory One Player,Generic Memory One Player,Generic Memory One Player,Generic Memory One Player,Generic Memory One Player\n"
     ]
    },
    {
     "name": "stderr",
     "output_type": "stream",
     "text": [
      "Playing matches: 100%|██████████| 15/15 [01:01<00:00,  4.07s/it]\n",
      "Analysing: 100%|██████████| 25/25 [00:00<00:00, 25.94it/s]\n"
     ]
    },
    {
     "name": "stdout",
     "output_type": "stream",
     "text": [
      "Instantiating tournament object with these players:  Generic Memory One Player,Generic Memory One Player,Generic Memory One Player,Generic Memory One Player,Generic Memory One Player\n"
     ]
    },
    {
     "name": "stderr",
     "output_type": "stream",
     "text": [
      "Playing matches: 100%|██████████| 15/15 [01:03<00:00,  4.22s/it]\n",
      "Analysing: 100%|██████████| 25/25 [00:00<00:00, 41.73it/s]\n"
     ]
    },
    {
     "name": "stdout",
     "output_type": "stream",
     "text": [
      "Instantiating tournament object with these players:  Generic Memory One Player,Generic Memory One Player,Generic Memory One Player,Generic Memory One Player,Generic Memory One Player\n"
     ]
    },
    {
     "name": "stderr",
     "output_type": "stream",
     "text": [
      "Playing matches: 100%|██████████| 15/15 [00:54<00:00,  3.64s/it]\n",
      "Analysing: 100%|██████████| 25/25 [00:01<00:00, 22.49it/s]"
     ]
    },
    {
     "name": "stdout",
     "output_type": "stream",
     "text": [
      "Instantiating tournament object with these players:  Generic Memory One Player,Generic Memory One Player,Generic Memory One Player,Generic Memory One Player,Generic Memory One Player\n"
     ]
    },
    {
     "name": "stderr",
     "output_type": "stream",
     "text": [
      "\n",
      "Playing matches: 100%|██████████| 15/15 [01:00<00:00,  4.05s/it]\n",
      "Analysing: 100%|██████████| 25/25 [00:00<00:00, 38.60it/s]"
     ]
    },
    {
     "name": "stdout",
     "output_type": "stream",
     "text": [
      "Tournaments took 360.90249013900757 seconds\n"
     ]
    },
    {
     "name": "stderr",
     "output_type": "stream",
     "text": [
      "\n"
     ]
    }
   ],
   "source": [
    "params = five_four_params\n",
    "data_dict1 = {}\n",
    "start = time.time()\n",
    "\n",
    "# Collect the tournament results\n",
    "for j, i_im in enumerate(im_list):\n",
    "    plyrs = []\n",
    "    for i in range(len(params)):\n",
    "        pl = axl.MemoryOnePlayer(tuple(params[i]),action_map[i_im[i]])\n",
    "        plyrs.append(pl)\n",
    "    # RPST payoff matrix - 3, 1, 0, 5 - classic config is also default\n",
    "    pd1000 = pd_exp2.PdTournament(plyrs, reps=1000)\n",
    "\n",
    "    df1, df2=pd1000.data, pd1000.agg_data\n",
    "    data_dict1[j]= (i_im, df1, df2)  # Tuple of initial moves, player norm \n",
    "                                     # scores by tournament, aggregate data for\n",
    "                                     # 1000 tournaments\n",
    "    \n",
    "print(f\"Tournaments took {time.time() - start} seconds\")  # ~222.79 seconds"
   ]
  },
  {
   "cell_type": "code",
   "execution_count": 4,
   "metadata": {},
   "outputs": [
    {
     "data": {
      "text/html": [
       "<div>\n",
       "<style scoped>\n",
       "    .dataframe tbody tr th:only-of-type {\n",
       "        vertical-align: middle;\n",
       "    }\n",
       "\n",
       "    .dataframe tbody tr th {\n",
       "        vertical-align: top;\n",
       "    }\n",
       "\n",
       "    .dataframe thead th {\n",
       "        text-align: right;\n",
       "    }\n",
       "</style>\n",
       "<table border=\"1\" class=\"dataframe\">\n",
       "  <thead>\n",
       "    <tr style=\"text-align: right;\">\n",
       "      <th></th>\n",
       "      <th>initial_moves(as one-count)</th>\n",
       "      <th>P1_Avg_Norm_Score</th>\n",
       "      <th>P2_Avg_Norm_Score</th>\n",
       "      <th>P3_Avg_Norm_Score</th>\n",
       "      <th>P4_Avg_Norm_Score</th>\n",
       "      <th>P5_Avg_Norm_Score</th>\n",
       "      <th>Avg_of_PL_Scores</th>\n",
       "      <th>Scores_L2_Dist</th>\n",
       "      <th>Avg_CC_Distribution</th>\n",
       "      <th>CC_L1_Dist</th>\n",
       "    </tr>\n",
       "  </thead>\n",
       "  <tbody>\n",
       "    <tr>\n",
       "      <th>1000</th>\n",
       "      <td>0</td>\n",
       "      <td>2.489632</td>\n",
       "      <td>2.514715</td>\n",
       "      <td>2.508980</td>\n",
       "      <td>2.490454</td>\n",
       "      <td>2.496311</td>\n",
       "      <td>2.500019</td>\n",
       "      <td>40.384844</td>\n",
       "      <td>0.896116</td>\n",
       "      <td>0.103884</td>\n",
       "    </tr>\n",
       "    <tr>\n",
       "      <th>1000</th>\n",
       "      <td>1</td>\n",
       "      <td>2.234449</td>\n",
       "      <td>2.760158</td>\n",
       "      <td>2.766321</td>\n",
       "      <td>2.764996</td>\n",
       "      <td>2.739720</td>\n",
       "      <td>2.653129</td>\n",
       "      <td>35.762422</td>\n",
       "      <td>0.896116</td>\n",
       "      <td>0.103884</td>\n",
       "    </tr>\n",
       "    <tr>\n",
       "      <th>1000</th>\n",
       "      <td>2</td>\n",
       "      <td>2.418531</td>\n",
       "      <td>2.456155</td>\n",
       "      <td>2.998372</td>\n",
       "      <td>3.008509</td>\n",
       "      <td>2.989283</td>\n",
       "      <td>2.774170</td>\n",
       "      <td>33.460895</td>\n",
       "      <td>0.906280</td>\n",
       "      <td>0.093720</td>\n",
       "    </tr>\n",
       "    <tr>\n",
       "      <th>1000</th>\n",
       "      <td>3</td>\n",
       "      <td>2.611536</td>\n",
       "      <td>2.630193</td>\n",
       "      <td>2.630514</td>\n",
       "      <td>3.248149</td>\n",
       "      <td>3.242292</td>\n",
       "      <td>2.872537</td>\n",
       "      <td>30.990106</td>\n",
       "      <td>0.927165</td>\n",
       "      <td>0.072835</td>\n",
       "    </tr>\n",
       "    <tr>\n",
       "      <th>1000</th>\n",
       "      <td>4</td>\n",
       "      <td>2.817443</td>\n",
       "      <td>2.812828</td>\n",
       "      <td>2.810244</td>\n",
       "      <td>2.803952</td>\n",
       "      <td>3.503689</td>\n",
       "      <td>2.949631</td>\n",
       "      <td>25.359131</td>\n",
       "      <td>0.958253</td>\n",
       "      <td>0.041747</td>\n",
       "    </tr>\n",
       "    <tr>\n",
       "      <th>1000</th>\n",
       "      <td>5</td>\n",
       "      <td>3.000000</td>\n",
       "      <td>3.000000</td>\n",
       "      <td>3.000000</td>\n",
       "      <td>3.000000</td>\n",
       "      <td>3.000000</td>\n",
       "      <td>3.000000</td>\n",
       "      <td>0.000000</td>\n",
       "      <td>1.000000</td>\n",
       "      <td>0.000000</td>\n",
       "    </tr>\n",
       "  </tbody>\n",
       "</table>\n",
       "</div>"
      ],
      "text/plain": [
       "      initial_moves(as one-count)  P1_Avg_Norm_Score  P2_Avg_Norm_Score  \\\n",
       "1000                            0           2.489632           2.514715   \n",
       "1000                            1           2.234449           2.760158   \n",
       "1000                            2           2.418531           2.456155   \n",
       "1000                            3           2.611536           2.630193   \n",
       "1000                            4           2.817443           2.812828   \n",
       "1000                            5           3.000000           3.000000   \n",
       "\n",
       "      P3_Avg_Norm_Score  P4_Avg_Norm_Score  P5_Avg_Norm_Score  \\\n",
       "1000           2.508980           2.490454           2.496311   \n",
       "1000           2.766321           2.764996           2.739720   \n",
       "1000           2.998372           3.008509           2.989283   \n",
       "1000           2.630514           3.248149           3.242292   \n",
       "1000           2.810244           2.803952           3.503689   \n",
       "1000           3.000000           3.000000           3.000000   \n",
       "\n",
       "      Avg_of_PL_Scores  Scores_L2_Dist  Avg_CC_Distribution  CC_L1_Dist  \n",
       "1000          2.500019       40.384844             0.896116    0.103884  \n",
       "1000          2.653129       35.762422             0.896116    0.103884  \n",
       "1000          2.774170       33.460895             0.906280    0.093720  \n",
       "1000          2.872537       30.990106             0.927165    0.072835  \n",
       "1000          2.949631       25.359131             0.958253    0.041747  \n",
       "1000          3.000000        0.000000             1.000000    0.000000  "
      ]
     },
     "execution_count": 4,
     "metadata": {},
     "output_type": "execute_result"
    }
   ],
   "source": [
    "# Process aggregate data of each tournament into a single dataframe for \n",
    "# comparison\n",
    "agg_d_list = []\n",
    "for key,val in data_dict1.items():\n",
    "    im_list, data, agg_data = val\n",
    "    agg_data['initial_moves(as one-count)'] = im_list.count(1)\n",
    "    data_mat = data.to_numpy()\n",
    "#     print(data_mat.shape)\n",
    "    \n",
    "    # The column below measures l2 distance between tournament \n",
    "    # normalized scores and baseline tournament where all players always cooperate\n",
    "    agg_data['Scores_L2_Dist'] = np.linalg.norm(data.to_numpy()-(np.ones(data_mat.shape)*3))\n",
    "    \n",
    "    # The column below measures l1 distance between tournament \n",
    "    # CC Distribution and baseline tournament where all players always cooperate\n",
    "    agg_data['CC_L1_Dist'] = np.abs(agg_data['Avg_CC_Distribution'] - 1)\n",
    "\n",
    "    agg_d_list.append(agg_data)\n",
    "\n",
    "comparison_df = pd.concat(agg_d_list)\n",
    "\n",
    "df=comparison_df[['initial_moves(as one-count)', 'P1_Avg_Norm_Score', 'P2_Avg_Norm_Score','P3_Avg_Norm_Score', \n",
    "           'P4_Avg_Norm_Score', 'P5_Avg_Norm_Score','Avg_of_PL_Scores',\n",
    "           'Scores_L2_Dist','Avg_CC_Distribution','CC_L1_Dist']]\n",
    "\n",
    "df"
   ]
  },
  {
   "cell_type": "code",
   "execution_count": null,
   "metadata": {},
   "outputs": [],
   "source": [
    "display(comparison_df)"
   ]
  },
  {
   "cell_type": "code",
   "execution_count": null,
   "metadata": {},
   "outputs": [],
   "source": [
    "# Plots: Each point is the aggregate of 1000 tournaments with the same initial moves.\n",
    "\n",
    "g = sns.PairGrid(df, \n",
    "                 y_vars=[\"Avg_of_PL_Scores\",\n",
    "                        \"Scores_L2_Dist\", \n",
    "                        \"Avg_CC_Distribution\",\n",
    "                        \"CC_L1_Dist\"], \n",
    "                 x_vars=['initial_moves(as one-count)'], \n",
    "                 height=4)\n",
    "g.map(sns.pointplot, color=\".3\")\n",
    "plt.show()"
   ]
  },
  {
   "cell_type": "markdown",
   "metadata": {},
   "source": [
    "#### Experiment 1.1: How do the initial moves influence a larger group's outcomes?\n",
    "__Approach__: Similar to experiment 1, but we consider tournaments of 15 players."
   ]
  },
  {
   "cell_type": "code",
   "execution_count": null,
   "metadata": {},
   "outputs": [],
   "source": [
    "# Initialize parameters\n",
    "fifteen_four_params = np.ones((15,4))\n",
    "print(\"15 player response probabilities: \\n\", fifteen_four_params)\n",
    "im_list1= []\n",
    "print(\"LIST of initial moves: \")\n",
    "for i in range(16):\n",
    "    im = [1 if n<i else 0 for n in range(15)]\n",
    "    print(im)\n",
    "    im_list1.append(im)"
   ]
  },
  {
   "cell_type": "code",
   "execution_count": null,
   "metadata": {
    "tags": []
   },
   "outputs": [],
   "source": [
    "params = fifteen_four_params\n",
    "data_dict1_1 = {}\n",
    "start = time.time()\n",
    "for j, i_im in enumerate(im_list1):\n",
    "    plyrs = []\n",
    "    for i in range(len(params)):\n",
    "        pl = axl.MemoryOnePlayer(tuple(params[i]),action_map[i_im[i]])\n",
    "        plyrs.append(pl)\n",
    "\n",
    "    # RPST payoff matrix - 3, 1, 0, 5 - classic config is also default\n",
    "    pd1000 = pd_exp2.PdTournament(plyrs, reps=1000)\n",
    "\n",
    "    df1, df2=pd1000.data, pd1000.agg_data\n",
    "    data_dict1_1[j]= (i_im, df1, df2)  # Tuple of initial moves, player norm scores by tournament, aggregate data for 1000 tournaments\n",
    "    \n",
    "print(f\"Tournaments took {time.time() - start} seconds\")  # ~1087.048201084137 seconds"
   ]
  },
  {
   "cell_type": "code",
   "execution_count": null,
   "metadata": {},
   "outputs": [],
   "source": [
    "# Process aggregate data of each tournament into a single dataframe for \n",
    "# comparison\n",
    "agg_d_list = []\n",
    "for key,val in data_dict1_1.items():\n",
    "    im_list, data, agg_data = val\n",
    "    agg_data['initial_moves(as one-count)'] = im_list.count(1)\n",
    "    data_mat = data.to_numpy()\n",
    "#     print(data_mat.shape)\n",
    "    \n",
    "    # The column below measures l2 distance between tournament \n",
    "    # normalized scores and baseline tournament where all players always cooperate\n",
    "    agg_data['Scores_L2_Dist'] = np.linalg.norm(data.to_numpy()-(np.ones(data_mat.shape)*3))\n",
    "    \n",
    "    # The column below measures l1 distance between tournament \n",
    "    # CC Distribution and baseline tournament where all players always cooperate\n",
    "    agg_data['CC_L1_Dist'] = np.abs(agg_data['Avg_CC_Distribution'] - 1)\n",
    "\n",
    "    agg_d_list.append(agg_data)\n",
    "\n",
    "comparison_df = pd.concat(agg_d_list)\n",
    "\n",
    "df=comparison_df[['initial_moves(as one-count)', 'P1_Avg_Norm_Score', 'P2_Avg_Norm_Score','P3_Avg_Norm_Score', \n",
    "           'P4_Avg_Norm_Score', 'P5_Avg_Norm_Score','Avg_of_PL_Scores',\n",
    "           'Scores_L2_Dist','Avg_CC_Distribution','CC_L1_Dist']]\n",
    "\n",
    "df"
   ]
  },
  {
   "cell_type": "code",
   "execution_count": null,
   "metadata": {},
   "outputs": [],
   "source": [
    "g = sns.PairGrid(df, y_vars=[\"Avg_of_PL_Scores\",\"Scores_L2_Dist\", \n",
    "                             \"Avg_CC_Distribution\", \"CC_L1_Dist\"], x_vars=[\"initial_moves(as one-count)\"], height=4)\n",
    "g.map(sns.pointplot, color=\".3\")\n",
    "for ax in g.axes.flat:\n",
    "    labels = ax.get_xticklabels() # get x labels\n",
    "    for i,l in enumerate(labels):\n",
    "        if(i%2 == 0): labels[i] = '' # skip even labels\n",
    "    ax.set_xticklabels(labels) # set new labels\n",
    "plt.show()"
   ]
  },
  {
   "cell_type": "markdown",
   "metadata": {},
   "source": [
    "#### Experiement 2: How does a change in a single response probability for one player influence group outcomes?\n",
    "__Approach__: Fix large majority of the response probability parameters \n",
    "to be the same but vary the first response probability for one player. All the \n",
    "other parameters will be equivalent across the players. Specifically, we run \n",
    "$k$ x 1000 tournaments with 5 players that have mostly similar response \n",
    "probabilities and fixed initial moves. $k$ is the number of variations of the \n",
    "response probability with which we experiment."
   ]
  },
  {
   "cell_type": "code",
   "execution_count": null,
   "metadata": {},
   "outputs": [],
   "source": [
    "# Initialize player parameters \n",
    "rng = np.random.default_rng(2)\n",
    "random_prob = rng.integers(90, 100)/100\n",
    "five_players = np.ones((5,4))\n",
    "\n",
    "five_players[0,0] = random_prob\n",
    "print(\"Five player response probabilities: \\n\", five_players)\n",
    "im_list2 = np.ones((5))\n",
    "print(\"LIST of initial moves: \", im_list2)"
   ]
  },
  {
   "cell_type": "code",
   "execution_count": null,
   "metadata": {},
   "outputs": [],
   "source": [
    "# Initialize player parameters \n",
    "rng = np.random.default_rng(2)\n",
    "random_prob = rng.integers(90, 100)/100\n",
    "five_players = np.ones((5,4))\n",
    "\n",
    "five_players[0,0] = random_prob\n",
    "print(\"Five player response probabilities: \\n\", five_players)\n",
    "im_list2 = np.ones((5))\n",
    "print(\"LIST of initial moves: \", im_list2)"
   ]
  },
  {
   "cell_type": "code",
   "execution_count": null,
   "metadata": {
    "tags": []
   },
   "outputs": [],
   "source": [
    "params, initial_moves = five_players, im_list2\n",
    "data_dict2 = {}\n",
    "start = time.time()\n",
    "\n",
    "for k in range(85,101):\n",
    "    params[0,0] = k/100\n",
    "    print(\"Five player response probabilities: \\n\", params)\n",
    "    plyrs = []\n",
    "    for j, p_i in enumerate(params):\n",
    "        pl = axl.MemoryOnePlayer(tuple(p_i),action_map[im_list2[j]])\n",
    "        plyrs.append(pl)\n",
    "\n",
    "    # pd tournament 1000\n",
    "    # RPST payoff matrix - 3, 1, 0, 5 - classic config is also default\n",
    "    pd1000 = pd_exp2.PdTournament(plyrs, reps=1000)\n",
    "\n",
    "    df1, df2=pd1000.data, pd1000.agg_data\n",
    "    data_dict2[k]= (params[0,0], df1, df2)  # Tuple of initial moves, player norm scores by tournament, aggregate data for 1000 tournaments\n",
    "    \n",
    "print(f\"Tournaments took {time.time() - start} seconds\")  # ~308.2929379940033 seconds"
   ]
  },
  {
   "cell_type": "code",
   "execution_count": null,
   "metadata": {},
   "outputs": [],
   "source": [
    "agg_d_list = []\n",
    "for key,val in data_dict2.items():\n",
    "    pl1_param, data, agg_data = val\n",
    "    agg_data['pl1_p(C|CC)'] = str(pl1_param)\n",
    "    data_mat = data.to_numpy()\n",
    "#     print(data_mat.shape)\n",
    "    \n",
    "    # The column below measures l2 distance between tournament \n",
    "    # normalized scores and baseline tournament where all players always cooperate\n",
    "    agg_data['Scores_L2_Dist'] = np.linalg.norm(data.to_numpy()-(np.ones(data_mat.shape)*3))\n",
    "    \n",
    "    # The column below measures l1 distance between tournament \n",
    "    # CC Distribution and baseline tournament where all players always cooperate\n",
    "    agg_data['CC_L1_Dist'] = np.abs(agg_data['Avg_CC_Distribution'] - 1)\n",
    "\n",
    "    agg_d_list.append(agg_data)\n",
    "\n",
    "comparison_df = pd.concat(agg_d_list)\n",
    "\n",
    "df=comparison_df[['pl1_p(C|CC)', 'P1_Avg_Norm_Score', 'P2_Avg_Norm_Score','P3_Avg_Norm_Score', \n",
    "           'P4_Avg_Norm_Score', 'P5_Avg_Norm_Score','Avg_of_PL_Scores',\n",
    "           'Scores_L2_Dist','Avg_CC_Distribution', 'CC_L1_Dist']]\n",
    "df"
   ]
  },
  {
   "cell_type": "code",
   "execution_count": null,
   "metadata": {},
   "outputs": [],
   "source": [
    "g = sns.PairGrid(df, y_vars=[\"Avg_of_PL_Scores\",\"Scores_L2_Dist\", \n",
    "                             \"Avg_CC_Distribution\", \"CC_L1_Dist\"], x_vars=[\"pl1_p(C|CC)\"], height=4)\n",
    "g.map(sns.pointplot, color=\".3\")\n",
    "for ax in g.axes.flat:\n",
    "    labels = ax.get_xticklabels() # get x labels\n",
    "    for i,l in enumerate(labels):\n",
    "        if(i%2 == 0): labels[i] = '' # skip even labels\n",
    "    ax.set_xticklabels(labels) # set new labels\n",
    "plt.show()"
   ]
  },
  {
   "cell_type": "markdown",
   "metadata": {},
   "source": [
    "#### Experiement 2.1: How does a change in a single response probability for one player influence larger group outcomes?\n",
    "__Approach__: Similar to experiment 2, but this time with a group of 15 players."
   ]
  },
  {
   "cell_type": "code",
   "execution_count": null,
   "metadata": {},
   "outputs": [],
   "source": [
    "# Initialize parameters\n",
    "rng = np.random.default_rng(3)\n",
    "random_prob = rng.integers(90, 100)/100\n",
    "fifteen_players = np.ones((15,4))\n",
    "\n",
    "fifteen_players[0,0] = random_prob\n",
    "print(\"Fifteen player response probabilities: \\n\", fifteen_players)\n",
    "im_list3 = np.ones((15))\n",
    "print(\"LIST of initial moves: \", im_list3)"
   ]
  },
  {
   "cell_type": "code",
   "execution_count": null,
   "metadata": {
    "tags": []
   },
   "outputs": [],
   "source": [
    "params, initial_moves = fifteen_players, im_list3\n",
    "data_dict2_1 = {}\n",
    "start = time.time()\n",
    "\n",
    "# Collect results\n",
    "for k in range(85,101):\n",
    "    params[0,0] = k/100\n",
    "    print(\"Variable response probability for first player: \\n\", params[0,0])\n",
    "    plyrs = []\n",
    "    for j, p_i in enumerate(params):\n",
    "        pl = axl.MemoryOnePlayer(tuple(p_i),action_map[initial_moves[j]])\n",
    "        plyrs.append(pl)\n",
    "\n",
    "    pd1000 = pd_exp2.PdTournament(plyrs, reps=1000)\n",
    "\n",
    "    df1, df2=pd1000.data, pd1000.agg_data\n",
    "    data_dict2_1[k]= (params[0,0], df1, df2)  # Tuple of initial moves, player \n",
    "                                           # norm scores by tournament, \n",
    "                                           # aggregate data for 1000 tournaments\n",
    "    \n",
    "print(f\"Tournaments took {time.time() - start} seconds\")  # ~308.2929379940033 seconds"
   ]
  },
  {
   "cell_type": "code",
   "execution_count": null,
   "metadata": {},
   "outputs": [],
   "source": [
    "agg_d_list = []\n",
    "for key,val in data_dict2_1.items():\n",
    "    pl1_param, data, agg_data = val\n",
    "    agg_data['pl1_p(C|CC)'] = str(pl1_param)\n",
    "    data_mat = data.to_numpy()\n",
    "#     print(data_mat.shape)\n",
    "    \n",
    "    # The column below measures l2 distance between tournament \n",
    "    # normalized scores and baseline tournament where all players always cooperate\n",
    "    agg_data['Scores_L2_Dist'] = np.linalg.norm(data.to_numpy()-(np.ones(data_mat.shape)*3))\n",
    "    \n",
    "    # The column below measures l1 distance between tournament \n",
    "    # CC Distribution and baseline tournament where all players always cooperate\n",
    "    agg_data['CC_L1_Dist'] = np.abs(agg_data['Avg_CC_Distribution'] - 1)\n",
    "\n",
    "    agg_d_list.append(agg_data)\n",
    "\n",
    "comparison_df = pd.concat(agg_d_list)\n",
    "\n",
    "df_players=comparison_df[['pl1_p(C|CC)','P1_Avg_Norm_Score', 'P2_Avg_Norm_Score','P3_Avg_Norm_Score', \n",
    "           'P4_Avg_Norm_Score', 'P5_Avg_Norm_Score','P6_Avg_Norm_Score', 'P7_Avg_Norm_Score','P8_Avg_Norm_Score', \n",
    "           'P9_Avg_Norm_Score', 'P10_Avg_Norm_Score','P11_Avg_Norm_Score', 'P12_Avg_Norm_Score','P13_Avg_Norm_Score', \n",
    "           'P14_Avg_Norm_Score', 'P15_Avg_Norm_Score',]]\n",
    "display(df_players)\n",
    "\n",
    "df=comparison_df[['pl1_p(C|CC)','Avg_of_PL_Scores',\n",
    "           'Scores_L2_Dist','Avg_CC_Distribution', 'CC_L1_Dist']]\n",
    "df"
   ]
  },
  {
   "cell_type": "code",
   "execution_count": null,
   "metadata": {},
   "outputs": [],
   "source": [
    "g = sns.PairGrid(df, y_vars=[\"Avg_of_PL_Scores\",\"Scores_L2_Dist\",\n",
    "                             \"Avg_CC_Distribution\", \"CC_L1_Dist\"], \n",
    "                 x_vars=[\"pl1_p(C|CC)\"], height=4)\n",
    "g.map(sns.pointplot, color=\".3\")\n",
    "# g.set(xticks=[0.85, 0.9, 0.95, 1])\n",
    "for ax in g.axes.flat:\n",
    "    labels = ax.get_xticklabels() # get x labels\n",
    "    for i,l in enumerate(labels):\n",
    "        if(i%2 == 0): labels[i] = '' # skip even labels\n",
    "    ax.set_xticklabels(labels, rotation=30) # set new labels\n",
    "plt.show()\n"
   ]
  }
 ],
 "metadata": {
  "kernelspec": {
   "display_name": "Python 3",
   "language": "python",
   "name": "python3"
  },
  "language_info": {
   "codemirror_mode": {
    "name": "ipython",
    "version": 3
   },
   "file_extension": ".py",
   "mimetype": "text/x-python",
   "name": "python",
   "nbconvert_exporter": "python",
   "pygments_lexer": "ipython3",
   "version": "3.9.4"
  }
 },
 "nbformat": 4,
 "nbformat_minor": 4
}
