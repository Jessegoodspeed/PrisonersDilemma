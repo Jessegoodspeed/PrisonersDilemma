{
 "cells": [
  {
   "cell_type": "markdown",
   "metadata": {},
   "source": [
    "# Sensitivity Analysis of PD Model:\n",
    "This notebook features different experiments to observe the model's behavior with controlled inputs."
   ]
  },
  {
   "cell_type": "code",
   "execution_count": 1,
   "metadata": {},
   "outputs": [],
   "source": [
    "import axelrod as axl\n",
    "from axelrod.action import Action\n",
    "import copy\n",
    "from itertools import (zip_longest, \n",
    "                      combinations, \n",
    "                      combinations_with_replacement)\n",
    "import matplotlib.pyplot as plt\n",
    "import numpy as np\n",
    "import pandas as pd\n",
    "import pd_exp2\n",
    "import random\n",
    "import seaborn as sns\n",
    "import time\n",
    "\n",
    "C,D = Action.C, Action.D\n",
    "action_map={0: D, 1: C}"
   ]
  },
  {
   "cell_type": "markdown",
   "metadata": {},
   "source": [
    "#### Experiment 1: How do the initial moves influence group outcomes?\n",
    "__Approach__: Fix player response probability parameters to be the same but vary \n",
    "the players' initial moves. Specifically, we run 6 x 1000 tournaments with 5 \n",
    "players that have fixed response probabilities (1, so responses are \n",
    "deterministic) and varying initial moves. The initial moves are represented as\n",
    "an array of 0s and 1s which correspond to actions D and C, respectively. The \n",
    "index of the initial moves array plus 1 corresponds to the player number in the\n",
    "tournament. The initial move array will change after every 1000 tournaments. \n",
    "There are six different variations of the initial moves array, which is why we \n",
    "run 1000 tournaments six times"
   ]
  },
  {
   "cell_type": "code",
   "execution_count": 65,
   "metadata": {},
   "outputs": [
    {
     "name": "stdout",
     "output_type": "stream",
     "text": [
      "Five player response probabilities: \n",
      " [[1. 1. 1. 1.]\n",
      " [1. 1. 1. 1.]\n",
      " [1. 1. 1. 1.]\n",
      " [1. 1. 1. 1.]\n",
      " [1. 1. 1. 1.]]\n",
      "LIST of initial moves: \n",
      "[0, 0, 0, 0, 0]\n",
      "[1, 0, 0, 0, 0]\n",
      "[1, 1, 0, 0, 0]\n",
      "[1, 1, 1, 0, 0]\n",
      "[1, 1, 1, 1, 0]\n",
      "[1, 1, 1, 1, 1]\n"
     ]
    }
   ],
   "source": [
    "# Initialize player parameters - each player has a set of four response\n",
    "# probabilities and an initial move:\n",
    "#     The response probabilities to the preceding round of play\n",
    "#             ( P(C|CC), P(C|CD), P(C|DC), P(C|DD) )\n",
    "#     Initial: C or D\n",
    "#             The initial move\n",
    "\n",
    "five_four_params = np.ones((5,4))\n",
    "print(\"Five player response probabilities: \\n\", five_four_params)\n",
    "im_list= []\n",
    "print(\"LIST of initial moves: \")\n",
    "for i in range(6):\n",
    "    im = [1 if n<i else 0 for n in range(5)]\n",
    "    print(im)\n",
    "    im_list.append(im)"
   ]
  },
  {
   "cell_type": "code",
   "execution_count": 3,
   "metadata": {
    "collapsed": true,
    "jupyter": {
     "outputs_hidden": true
    },
    "tags": []
   },
   "outputs": [
    {
     "name": "stdout",
     "output_type": "stream",
     "text": [
      "Instantiating tournament object with these players:  Generic Memory One Player,Generic Memory One Player,Generic Memory One Player,Generic Memory One Player,Generic Memory One Player\n"
     ]
    },
    {
     "name": "stderr",
     "output_type": "stream",
     "text": [
      "Playing matches: 100%|██████████| 15/15 [00:37<00:00,  2.50s/it]\n",
      "Analysing: 100%|██████████| 25/25 [00:00<00:00, 41.43it/s]"
     ]
    },
    {
     "name": "stdout",
     "output_type": "stream",
     "text": [
      "Instantiating tournament object with these players:  Generic Memory One Player,Generic Memory One Player,Generic Memory One Player,Generic Memory One Player,Generic Memory One Player\n"
     ]
    },
    {
     "name": "stderr",
     "output_type": "stream",
     "text": [
      "\n",
      "Playing matches: 100%|██████████| 15/15 [00:43<00:00,  2.91s/it]\n",
      "Analysing: 100%|██████████| 25/25 [00:00<00:00, 36.62it/s]"
     ]
    },
    {
     "name": "stdout",
     "output_type": "stream",
     "text": [
      "Instantiating tournament object with these players:  Generic Memory One Player,Generic Memory One Player,Generic Memory One Player,Generic Memory One Player,Generic Memory One Player\n"
     ]
    },
    {
     "name": "stderr",
     "output_type": "stream",
     "text": [
      "\n",
      "Playing matches: 100%|██████████| 15/15 [00:34<00:00,  2.33s/it]\n",
      "Analysing: 100%|██████████| 25/25 [00:00<00:00, 42.70it/s]"
     ]
    },
    {
     "name": "stdout",
     "output_type": "stream",
     "text": [
      "Instantiating tournament object with these players:  Generic Memory One Player,Generic Memory One Player,Generic Memory One Player,Generic Memory One Player,Generic Memory One Player\n"
     ]
    },
    {
     "name": "stderr",
     "output_type": "stream",
     "text": [
      "\n",
      "Playing matches: 100%|██████████| 15/15 [00:37<00:00,  2.48s/it]\n",
      "Analysing: 100%|██████████| 25/25 [00:00<00:00, 46.25it/s]"
     ]
    },
    {
     "name": "stdout",
     "output_type": "stream",
     "text": [
      "Instantiating tournament object with these players:  Generic Memory One Player,Generic Memory One Player,Generic Memory One Player,Generic Memory One Player,Generic Memory One Player\n"
     ]
    },
    {
     "name": "stderr",
     "output_type": "stream",
     "text": [
      "\n",
      "Playing matches: 100%|██████████| 15/15 [00:34<00:00,  2.28s/it]\n",
      "Analysing: 100%|██████████| 25/25 [00:00<00:00, 41.03it/s]"
     ]
    },
    {
     "name": "stdout",
     "output_type": "stream",
     "text": [
      "Instantiating tournament object with these players:  Generic Memory One Player,Generic Memory One Player,Generic Memory One Player,Generic Memory One Player,Generic Memory One Player\n"
     ]
    },
    {
     "name": "stderr",
     "output_type": "stream",
     "text": [
      "\n",
      "Playing matches: 100%|██████████| 15/15 [00:33<00:00,  2.22s/it]\n",
      "Analysing: 100%|██████████| 25/25 [00:00<00:00, 52.62it/s]"
     ]
    },
    {
     "name": "stdout",
     "output_type": "stream",
     "text": [
      "Tournaments took 225.01768684387207 seconds\n"
     ]
    },
    {
     "name": "stderr",
     "output_type": "stream",
     "text": [
      "\n"
     ]
    }
   ],
   "source": [
    "params = five_four_params\n",
    "data_dict1 = {}\n",
    "start = time.time()\n",
    "\n",
    "# Collect the tournament results\n",
    "for j, i_im in enumerate(im_list):\n",
    "    plyrs = []\n",
    "    for i in range(len(params)):\n",
    "        pl = axl.MemoryOnePlayer(tuple(params[i]),action_map[i_im[i]])\n",
    "        plyrs.append(pl)\n",
    "    # RPST payoff matrix - 3, 1, 0, 5 - classic config is also default\n",
    "    pd1000 = pd_exp2.PdTournament(plyrs, reps=1000)\n",
    "\n",
    "    df1, df2=pd1000.data, pd1000.agg_data\n",
    "    data_dict1[j]= (i_im, df1, df2)  # Tuple of initial moves, player norm \n",
    "                                     # scores by tournament, aggregate data for\n",
    "                                     # 1000 tournaments\n",
    "    \n",
    "print(f\"Tournaments took {time.time() - start} seconds\")  # ~222.79 seconds"
   ]
  },
  {
   "cell_type": "code",
   "execution_count": 45,
   "metadata": {},
   "outputs": [
    {
     "data": {
      "text/html": [
       "<div>\n",
       "<style scoped>\n",
       "    .dataframe tbody tr th:only-of-type {\n",
       "        vertical-align: middle;\n",
       "    }\n",
       "\n",
       "    .dataframe tbody tr th {\n",
       "        vertical-align: top;\n",
       "    }\n",
       "\n",
       "    .dataframe thead th {\n",
       "        text-align: right;\n",
       "    }\n",
       "</style>\n",
       "<table border=\"1\" class=\"dataframe\">\n",
       "  <thead>\n",
       "    <tr style=\"text-align: right;\">\n",
       "      <th></th>\n",
       "      <th>initial_moves(as one-count)</th>\n",
       "      <th>P1_Avg_Norm_Score</th>\n",
       "      <th>P2_Avg_Norm_Score</th>\n",
       "      <th>P3_Avg_Norm_Score</th>\n",
       "      <th>P4_Avg_Norm_Score</th>\n",
       "      <th>P5_Avg_Norm_Score</th>\n",
       "      <th>Avg_of_PL_Scores</th>\n",
       "      <th>Scores_L2_Dist</th>\n",
       "      <th>Avg_CC_Distribution</th>\n",
       "      <th>CC_L1_Dist</th>\n",
       "    </tr>\n",
       "  </thead>\n",
       "  <tbody>\n",
       "    <tr>\n",
       "      <th>1000</th>\n",
       "      <td>0</td>\n",
       "      <td>2.489632</td>\n",
       "      <td>2.514715</td>\n",
       "      <td>2.508980</td>\n",
       "      <td>2.490454</td>\n",
       "      <td>2.496311</td>\n",
       "      <td>2.500019</td>\n",
       "      <td>40.384844</td>\n",
       "      <td>0.896116</td>\n",
       "      <td>0.103884</td>\n",
       "    </tr>\n",
       "    <tr>\n",
       "      <th>1000</th>\n",
       "      <td>1</td>\n",
       "      <td>2.234449</td>\n",
       "      <td>2.760158</td>\n",
       "      <td>2.766321</td>\n",
       "      <td>2.764996</td>\n",
       "      <td>2.739720</td>\n",
       "      <td>2.653129</td>\n",
       "      <td>35.762422</td>\n",
       "      <td>0.896116</td>\n",
       "      <td>0.103884</td>\n",
       "    </tr>\n",
       "    <tr>\n",
       "      <th>1000</th>\n",
       "      <td>2</td>\n",
       "      <td>2.418531</td>\n",
       "      <td>2.456155</td>\n",
       "      <td>2.998372</td>\n",
       "      <td>3.008509</td>\n",
       "      <td>2.989283</td>\n",
       "      <td>2.774170</td>\n",
       "      <td>33.460895</td>\n",
       "      <td>0.906280</td>\n",
       "      <td>0.093720</td>\n",
       "    </tr>\n",
       "    <tr>\n",
       "      <th>1000</th>\n",
       "      <td>3</td>\n",
       "      <td>2.611536</td>\n",
       "      <td>2.630193</td>\n",
       "      <td>2.630514</td>\n",
       "      <td>3.248149</td>\n",
       "      <td>3.242292</td>\n",
       "      <td>2.872537</td>\n",
       "      <td>30.990106</td>\n",
       "      <td>0.927165</td>\n",
       "      <td>0.072835</td>\n",
       "    </tr>\n",
       "    <tr>\n",
       "      <th>1000</th>\n",
       "      <td>4</td>\n",
       "      <td>2.817443</td>\n",
       "      <td>2.812828</td>\n",
       "      <td>2.810244</td>\n",
       "      <td>2.803952</td>\n",
       "      <td>3.503689</td>\n",
       "      <td>2.949631</td>\n",
       "      <td>25.359131</td>\n",
       "      <td>0.958253</td>\n",
       "      <td>0.041747</td>\n",
       "    </tr>\n",
       "    <tr>\n",
       "      <th>1000</th>\n",
       "      <td>5</td>\n",
       "      <td>3.000000</td>\n",
       "      <td>3.000000</td>\n",
       "      <td>3.000000</td>\n",
       "      <td>3.000000</td>\n",
       "      <td>3.000000</td>\n",
       "      <td>3.000000</td>\n",
       "      <td>0.000000</td>\n",
       "      <td>1.000000</td>\n",
       "      <td>0.000000</td>\n",
       "    </tr>\n",
       "  </tbody>\n",
       "</table>\n",
       "</div>"
      ],
      "text/plain": [
       "      initial_moves(as one-count)  P1_Avg_Norm_Score  P2_Avg_Norm_Score  \\\n",
       "1000                            0           2.489632           2.514715   \n",
       "1000                            1           2.234449           2.760158   \n",
       "1000                            2           2.418531           2.456155   \n",
       "1000                            3           2.611536           2.630193   \n",
       "1000                            4           2.817443           2.812828   \n",
       "1000                            5           3.000000           3.000000   \n",
       "\n",
       "      P3_Avg_Norm_Score  P4_Avg_Norm_Score  P5_Avg_Norm_Score  \\\n",
       "1000           2.508980           2.490454           2.496311   \n",
       "1000           2.766321           2.764996           2.739720   \n",
       "1000           2.998372           3.008509           2.989283   \n",
       "1000           2.630514           3.248149           3.242292   \n",
       "1000           2.810244           2.803952           3.503689   \n",
       "1000           3.000000           3.000000           3.000000   \n",
       "\n",
       "      Avg_of_PL_Scores  Scores_L2_Dist  Avg_CC_Distribution  CC_L1_Dist  \n",
       "1000          2.500019       40.384844             0.896116    0.103884  \n",
       "1000          2.653129       35.762422             0.896116    0.103884  \n",
       "1000          2.774170       33.460895             0.906280    0.093720  \n",
       "1000          2.872537       30.990106             0.927165    0.072835  \n",
       "1000          2.949631       25.359131             0.958253    0.041747  \n",
       "1000          3.000000        0.000000             1.000000    0.000000  "
      ]
     },
     "execution_count": 45,
     "metadata": {},
     "output_type": "execute_result"
    }
   ],
   "source": [
    "# Process aggregate data of each tournament into a single dataframe for \n",
    "# comparison\n",
    "agg_d_list = []\n",
    "for key,val in data_dict1.items():\n",
    "    im_list, data, agg_data = val\n",
    "    agg_data['initial_moves(as one-count)'] = im_list.count(1)\n",
    "    data_mat = data.to_numpy()\n",
    "#     print(data_mat.shape)\n",
    "    \n",
    "    # The column below measures l2 distance between tournament \n",
    "    # normalized scores and baseline tournament where all players always cooperate\n",
    "    agg_data['Scores_L2_Dist'] = np.linalg.norm(data.to_numpy()-(np.ones(data_mat.shape)*3))\n",
    "    \n",
    "    # The column below measures l1 distance between tournament \n",
    "    # CC Distribution and baseline tournament where all players always cooperate\n",
    "    agg_data['CC_L1_Dist'] = np.abs(agg_data['Avg_CC_Distribution'] - 1)\n",
    "\n",
    "    agg_d_list.append(agg_data)\n",
    "\n",
    "comparison_df = pd.concat(agg_d_list)\n",
    "\n",
    "df=comparison_df[['initial_moves(as one-count)', 'P1_Avg_Norm_Score', 'P2_Avg_Norm_Score','P3_Avg_Norm_Score', \n",
    "           'P4_Avg_Norm_Score', 'P5_Avg_Norm_Score','Avg_of_PL_Scores',\n",
    "           'Scores_L2_Dist','Avg_CC_Distribution','CC_L1_Dist']]\n",
    "\n",
    "df"
   ]
  },
  {
   "cell_type": "code",
   "execution_count": 70,
   "metadata": {},
   "outputs": [
    {
     "data": {
      "text/html": [
       "<div>\n",
       "<style scoped>\n",
       "    .dataframe tbody tr th:only-of-type {\n",
       "        vertical-align: middle;\n",
       "    }\n",
       "\n",
       "    .dataframe tbody tr th {\n",
       "        vertical-align: top;\n",
       "    }\n",
       "\n",
       "    .dataframe thead th {\n",
       "        text-align: right;\n",
       "    }\n",
       "</style>\n",
       "<table border=\"1\" class=\"dataframe\">\n",
       "  <thead>\n",
       "    <tr style=\"text-align: right;\">\n",
       "      <th></th>\n",
       "      <th>P1_Avg_Norm_Score</th>\n",
       "      <th>P1_Min_Norm_Score</th>\n",
       "      <th>P2_Avg_Norm_Score</th>\n",
       "      <th>P2_Min_Norm_Score</th>\n",
       "      <th>P3_Avg_Norm_Score</th>\n",
       "      <th>P3_Min_Norm_Score</th>\n",
       "      <th>P4_Avg_Norm_Score</th>\n",
       "      <th>P4_Min_Norm_Score</th>\n",
       "      <th>P5_Avg_Norm_Score</th>\n",
       "      <th>P5_Min_Norm_Score</th>\n",
       "      <th>Avg_of_PL_Scores</th>\n",
       "      <th>Min_of_PL_Scores</th>\n",
       "      <th>Avg_CC_Distribution</th>\n",
       "      <th>initial_moves(as one-count)</th>\n",
       "      <th>Scores_L2_Dist</th>\n",
       "      <th>CC_L1_Dist</th>\n",
       "    </tr>\n",
       "  </thead>\n",
       "  <tbody>\n",
       "    <tr>\n",
       "      <th>100</th>\n",
       "      <td>2.464081</td>\n",
       "      <td>1.722222</td>\n",
       "      <td>2.523387</td>\n",
       "      <td>1.708333</td>\n",
       "      <td>2.523627</td>\n",
       "      <td>1.807018</td>\n",
       "      <td>2.415558</td>\n",
       "      <td>1.400000</td>\n",
       "      <td>2.470648</td>\n",
       "      <td>1.400000</td>\n",
       "      <td>2.479460</td>\n",
       "      <td>1.400000</td>\n",
       "      <td>0.895779</td>\n",
       "      <td>0</td>\n",
       "      <td>13.381606</td>\n",
       "      <td>0.104221</td>\n",
       "    </tr>\n",
       "    <tr>\n",
       "      <th>100</th>\n",
       "      <td>2.196121</td>\n",
       "      <td>1.083333</td>\n",
       "      <td>2.767911</td>\n",
       "      <td>1.980952</td>\n",
       "      <td>2.772257</td>\n",
       "      <td>2.064286</td>\n",
       "      <td>2.774693</td>\n",
       "      <td>2.016667</td>\n",
       "      <td>2.690197</td>\n",
       "      <td>1.527778</td>\n",
       "      <td>2.640236</td>\n",
       "      <td>1.083333</td>\n",
       "      <td>0.895779</td>\n",
       "      <td>1</td>\n",
       "      <td>11.807705</td>\n",
       "      <td>0.104221</td>\n",
       "    </tr>\n",
       "    <tr>\n",
       "      <th>100</th>\n",
       "      <td>2.379515</td>\n",
       "      <td>1.125000</td>\n",
       "      <td>2.468473</td>\n",
       "      <td>1.375000</td>\n",
       "      <td>2.975106</td>\n",
       "      <td>2.291667</td>\n",
       "      <td>3.024059</td>\n",
       "      <td>2.433333</td>\n",
       "      <td>2.946684</td>\n",
       "      <td>2.283333</td>\n",
       "      <td>2.758767</td>\n",
       "      <td>1.125000</td>\n",
       "      <td>0.905880</td>\n",
       "      <td>2</td>\n",
       "      <td>10.989857</td>\n",
       "      <td>0.094120</td>\n",
       "    </tr>\n",
       "    <tr>\n",
       "      <th>100</th>\n",
       "      <td>2.565987</td>\n",
       "      <td>1.500000</td>\n",
       "      <td>2.620610</td>\n",
       "      <td>1.500000</td>\n",
       "      <td>2.624050</td>\n",
       "      <td>1.875000</td>\n",
       "      <td>3.263549</td>\n",
       "      <td>2.569888</td>\n",
       "      <td>3.208460</td>\n",
       "      <td>2.587978</td>\n",
       "      <td>2.856531</td>\n",
       "      <td>1.500000</td>\n",
       "      <td>0.926741</td>\n",
       "      <td>3</td>\n",
       "      <td>10.290162</td>\n",
       "      <td>0.073259</td>\n",
       "    </tr>\n",
       "    <tr>\n",
       "      <th>100</th>\n",
       "      <td>2.835338</td>\n",
       "      <td>2.250000</td>\n",
       "      <td>2.807634</td>\n",
       "      <td>2.250000</td>\n",
       "      <td>2.803668</td>\n",
       "      <td>2.250000</td>\n",
       "      <td>2.759331</td>\n",
       "      <td>2.250000</td>\n",
       "      <td>3.529352</td>\n",
       "      <td>3.123002</td>\n",
       "      <td>2.947065</td>\n",
       "      <td>2.250000</td>\n",
       "      <td>0.958849</td>\n",
       "      <td>4</td>\n",
       "      <td>8.607144</td>\n",
       "      <td>0.041151</td>\n",
       "    </tr>\n",
       "    <tr>\n",
       "      <th>100</th>\n",
       "      <td>3.000000</td>\n",
       "      <td>3.000000</td>\n",
       "      <td>3.000000</td>\n",
       "      <td>3.000000</td>\n",
       "      <td>3.000000</td>\n",
       "      <td>3.000000</td>\n",
       "      <td>3.000000</td>\n",
       "      <td>3.000000</td>\n",
       "      <td>3.000000</td>\n",
       "      <td>3.000000</td>\n",
       "      <td>3.000000</td>\n",
       "      <td>3.000000</td>\n",
       "      <td>1.000000</td>\n",
       "      <td>5</td>\n",
       "      <td>0.000000</td>\n",
       "      <td>0.000000</td>\n",
       "    </tr>\n",
       "  </tbody>\n",
       "</table>\n",
       "</div>"
      ],
      "text/plain": [
       "     P1_Avg_Norm_Score  P1_Min_Norm_Score  P2_Avg_Norm_Score  \\\n",
       "100           2.464081           1.722222           2.523387   \n",
       "100           2.196121           1.083333           2.767911   \n",
       "100           2.379515           1.125000           2.468473   \n",
       "100           2.565987           1.500000           2.620610   \n",
       "100           2.835338           2.250000           2.807634   \n",
       "100           3.000000           3.000000           3.000000   \n",
       "\n",
       "     P2_Min_Norm_Score  P3_Avg_Norm_Score  P3_Min_Norm_Score  \\\n",
       "100           1.708333           2.523627           1.807018   \n",
       "100           1.980952           2.772257           2.064286   \n",
       "100           1.375000           2.975106           2.291667   \n",
       "100           1.500000           2.624050           1.875000   \n",
       "100           2.250000           2.803668           2.250000   \n",
       "100           3.000000           3.000000           3.000000   \n",
       "\n",
       "     P4_Avg_Norm_Score  P4_Min_Norm_Score  P5_Avg_Norm_Score  \\\n",
       "100           2.415558           1.400000           2.470648   \n",
       "100           2.774693           2.016667           2.690197   \n",
       "100           3.024059           2.433333           2.946684   \n",
       "100           3.263549           2.569888           3.208460   \n",
       "100           2.759331           2.250000           3.529352   \n",
       "100           3.000000           3.000000           3.000000   \n",
       "\n",
       "     P5_Min_Norm_Score  Avg_of_PL_Scores  Min_of_PL_Scores  \\\n",
       "100           1.400000          2.479460          1.400000   \n",
       "100           1.527778          2.640236          1.083333   \n",
       "100           2.283333          2.758767          1.125000   \n",
       "100           2.587978          2.856531          1.500000   \n",
       "100           3.123002          2.947065          2.250000   \n",
       "100           3.000000          3.000000          3.000000   \n",
       "\n",
       "     Avg_CC_Distribution  initial_moves(as one-count)  Scores_L2_Dist  \\\n",
       "100             0.895779                            0       13.381606   \n",
       "100             0.895779                            1       11.807705   \n",
       "100             0.905880                            2       10.989857   \n",
       "100             0.926741                            3       10.290162   \n",
       "100             0.958849                            4        8.607144   \n",
       "100             1.000000                            5        0.000000   \n",
       "\n",
       "     CC_L1_Dist  \n",
       "100    0.104221  \n",
       "100    0.104221  \n",
       "100    0.094120  \n",
       "100    0.073259  \n",
       "100    0.041151  \n",
       "100    0.000000  "
      ]
     },
     "metadata": {},
     "output_type": "display_data"
    }
   ],
   "source": [
    "display(comparison_df)"
   ]
  },
  {
   "cell_type": "code",
   "execution_count": 40,
   "metadata": {},
   "outputs": [
    {
     "data": {
      "image/png": "[encoded data removed]",
      "text/plain": [
       "<Figure size 288x1152 with 4 Axes>"
      ]
     },
     "metadata": {
      "needs_background": "light"
     },
     "output_type": "display_data"
    }
   ],
   "source": [
    "# Plots: Each point is the aggregate of 1000 tournaments with the same initial moves.\n",
    "\n",
    "g = sns.PairGrid(df, \n",
    "                 y_vars=[\"Avg_of_PL_Scores\",\n",
    "                        \"Scores_L2_Dist\", \n",
    "                        \"Avg_CC_Distribution\",\n",
    "                        \"CC_L1_Dist\"], \n",
    "                 x_vars=['initial_moves(as one-count)'], \n",
    "                 height=4)\n",
    "g.map(sns.pointplot, color=\".3\")\n",
    "plt.show()"
   ]
  },
  {
   "cell_type": "code",
   "execution_count": null,
   "metadata": {},
   "outputs": [],
   "source": [
    "for i in range(25):\n",
    "    print()"
   ]
  },
  {
   "cell_type": "markdown",
   "metadata": {},
   "source": [
    "### TESTING"
   ]
  },
  {
   "cell_type": "code",
   "execution_count": 67,
   "metadata": {},
   "outputs": [
    {
     "name": "stdout",
     "output_type": "stream",
     "text": [
      "Instantiating tournament object with these players:  Generic Memory One Player,Generic Memory One Player,Generic Memory One Player,Generic Memory One Player,Generic Memory One Player\n"
     ]
    },
    {
     "name": "stderr",
     "output_type": "stream",
     "text": [
      "Playing matches: 100%|██████████| 15/15 [00:31<00:00,  2.12s/it]\n",
      "Analysing: 100%|██████████| 25/25 [00:00<00:00, 61.36it/s]"
     ]
    },
    {
     "name": "stdout",
     "output_type": "stream",
     "text": [
      "Instantiating tournament object with these players:  Generic Memory One Player,Generic Memory One Player,Generic Memory One Player,Generic Memory One Player,Generic Memory One Player\n"
     ]
    },
    {
     "name": "stderr",
     "output_type": "stream",
     "text": [
      "\n",
      "Playing matches: 100%|██████████| 15/15 [00:34<00:00,  2.33s/it]\n",
      "Analysing: 100%|██████████| 25/25 [00:00<00:00, 66.99it/s]"
     ]
    },
    {
     "name": "stdout",
     "output_type": "stream",
     "text": [
      "Instantiating tournament object with these players:  Generic Memory One Player,Generic Memory One Player,Generic Memory One Player,Generic Memory One Player,Generic Memory One Player\n"
     ]
    },
    {
     "name": "stderr",
     "output_type": "stream",
     "text": [
      "\n",
      "Playing matches: 100%|██████████| 15/15 [00:31<00:00,  2.13s/it]\n",
      "Analysing: 100%|██████████| 25/25 [00:00<00:00, 71.94it/s]"
     ]
    },
    {
     "name": "stdout",
     "output_type": "stream",
     "text": [
      "Instantiating tournament object with these players:  Generic Memory One Player,Generic Memory One Player,Generic Memory One Player,Generic Memory One Player,Generic Memory One Player\n"
     ]
    },
    {
     "name": "stderr",
     "output_type": "stream",
     "text": [
      "\n",
      "Playing matches: 100%|██████████| 15/15 [00:33<00:00,  2.25s/it]\n",
      "Analysing: 100%|██████████| 25/25 [00:00<00:00, 63.30it/s]"
     ]
    },
    {
     "name": "stdout",
     "output_type": "stream",
     "text": [
      "Instantiating tournament object with these players:  Generic Memory One Player,Generic Memory One Player,Generic Memory One Player,Generic Memory One Player,Generic Memory One Player\n"
     ]
    },
    {
     "name": "stderr",
     "output_type": "stream",
     "text": [
      "\n",
      "Playing matches: 100%|██████████| 15/15 [00:32<00:00,  2.19s/it]\n",
      "Analysing: 100%|██████████| 25/25 [00:00<00:00, 60.05it/s]"
     ]
    },
    {
     "name": "stdout",
     "output_type": "stream",
     "text": [
      "Instantiating tournament object with these players:  Generic Memory One Player,Generic Memory One Player,Generic Memory One Player,Generic Memory One Player,Generic Memory One Player\n"
     ]
    },
    {
     "name": "stderr",
     "output_type": "stream",
     "text": [
      "\n",
      "Playing matches: 100%|██████████| 15/15 [00:33<00:00,  2.21s/it]\n",
      "Analysing: 100%|██████████| 25/25 [00:00<00:00, 66.58it/s]"
     ]
    },
    {
     "name": "stdout",
     "output_type": "stream",
     "text": [
      "Tournaments took 201.55362606048584 seconds\n"
     ]
    },
    {
     "name": "stderr",
     "output_type": "stream",
     "text": [
      "\n"
     ]
    }
   ],
   "source": [
    "params = five_four_params\n",
    "data_dict_test = {}\n",
    "start = time.time()\n",
    "\n",
    "# Collect the tournament results\n",
    "for j, i_im in enumerate(im_list):\n",
    "    plyrs = []\n",
    "    for i in range(len(params)):\n",
    "        pl = axl.MemoryOnePlayer(tuple(params[i]),action_map[i_im[i]])\n",
    "        plyrs.append(pl)\n",
    "    # RPST payoff matrix - 3, 1, 0, 5 - classic config is also default\n",
    "    pd100 = pd_exp2.PdTournament(plyrs, reps=100)\n",
    "\n",
    "    df1, df2=pd100.data, pd100.agg_data\n",
    "    data_dict_test[j]= (i_im, df1, df2)  # Tuple of initial moves, player norm \n",
    "                                     # scores by tournament, aggregate data for\n",
    "                                     # 1000 tournaments\n",
    "    \n",
    "print(f\"Tournaments took {time.time() - start} seconds\")  # ~201.55 seconds"
   ]
  },
  {
   "cell_type": "code",
   "execution_count": 68,
   "metadata": {},
   "outputs": [
    {
     "data": {
      "text/html": [
       "<div>\n",
       "<style scoped>\n",
       "    .dataframe tbody tr th:only-of-type {\n",
       "        vertical-align: middle;\n",
       "    }\n",
       "\n",
       "    .dataframe tbody tr th {\n",
       "        vertical-align: top;\n",
       "    }\n",
       "\n",
       "    .dataframe thead th {\n",
       "        text-align: right;\n",
       "    }\n",
       "</style>\n",
       "<table border=\"1\" class=\"dataframe\">\n",
       "  <thead>\n",
       "    <tr style=\"text-align: right;\">\n",
       "      <th></th>\n",
       "      <th>initial_moves(as one-count)</th>\n",
       "      <th>P1_Avg_Norm_Score</th>\n",
       "      <th>P2_Avg_Norm_Score</th>\n",
       "      <th>P3_Avg_Norm_Score</th>\n",
       "      <th>P4_Avg_Norm_Score</th>\n",
       "      <th>P5_Avg_Norm_Score</th>\n",
       "      <th>Avg_of_PL_Scores</th>\n",
       "      <th>Scores_L2_Dist</th>\n",
       "      <th>Avg_CC_Distribution</th>\n",
       "      <th>CC_L1_Dist</th>\n",
       "    </tr>\n",
       "  </thead>\n",
       "  <tbody>\n",
       "    <tr>\n",
       "      <th>100</th>\n",
       "      <td>0</td>\n",
       "      <td>2.464081</td>\n",
       "      <td>2.523387</td>\n",
       "      <td>2.523627</td>\n",
       "      <td>2.415558</td>\n",
       "      <td>2.470648</td>\n",
       "      <td>2.479460</td>\n",
       "      <td>13.381606</td>\n",
       "      <td>0.895779</td>\n",
       "      <td>0.104221</td>\n",
       "    </tr>\n",
       "    <tr>\n",
       "      <th>100</th>\n",
       "      <td>1</td>\n",
       "      <td>2.196121</td>\n",
       "      <td>2.767911</td>\n",
       "      <td>2.772257</td>\n",
       "      <td>2.774693</td>\n",
       "      <td>2.690197</td>\n",
       "      <td>2.640236</td>\n",
       "      <td>11.807705</td>\n",
       "      <td>0.895779</td>\n",
       "      <td>0.104221</td>\n",
       "    </tr>\n",
       "    <tr>\n",
       "      <th>100</th>\n",
       "      <td>2</td>\n",
       "      <td>2.379515</td>\n",
       "      <td>2.468473</td>\n",
       "      <td>2.975106</td>\n",
       "      <td>3.024059</td>\n",
       "      <td>2.946684</td>\n",
       "      <td>2.758767</td>\n",
       "      <td>10.989857</td>\n",
       "      <td>0.905880</td>\n",
       "      <td>0.094120</td>\n",
       "    </tr>\n",
       "    <tr>\n",
       "      <th>100</th>\n",
       "      <td>3</td>\n",
       "      <td>2.565987</td>\n",
       "      <td>2.620610</td>\n",
       "      <td>2.624050</td>\n",
       "      <td>3.263549</td>\n",
       "      <td>3.208460</td>\n",
       "      <td>2.856531</td>\n",
       "      <td>10.290162</td>\n",
       "      <td>0.926741</td>\n",
       "      <td>0.073259</td>\n",
       "    </tr>\n",
       "    <tr>\n",
       "      <th>100</th>\n",
       "      <td>4</td>\n",
       "      <td>2.835338</td>\n",
       "      <td>2.807634</td>\n",
       "      <td>2.803668</td>\n",
       "      <td>2.759331</td>\n",
       "      <td>3.529352</td>\n",
       "      <td>2.947065</td>\n",
       "      <td>8.607144</td>\n",
       "      <td>0.958849</td>\n",
       "      <td>0.041151</td>\n",
       "    </tr>\n",
       "    <tr>\n",
       "      <th>100</th>\n",
       "      <td>5</td>\n",
       "      <td>3.000000</td>\n",
       "      <td>3.000000</td>\n",
       "      <td>3.000000</td>\n",
       "      <td>3.000000</td>\n",
       "      <td>3.000000</td>\n",
       "      <td>3.000000</td>\n",
       "      <td>0.000000</td>\n",
       "      <td>1.000000</td>\n",
       "      <td>0.000000</td>\n",
       "    </tr>\n",
       "  </tbody>\n",
       "</table>\n",
       "</div>"
      ],
      "text/plain": [
       "     initial_moves(as one-count)  P1_Avg_Norm_Score  P2_Avg_Norm_Score  \\\n",
       "100                            0           2.464081           2.523387   \n",
       "100                            1           2.196121           2.767911   \n",
       "100                            2           2.379515           2.468473   \n",
       "100                            3           2.565987           2.620610   \n",
       "100                            4           2.835338           2.807634   \n",
       "100                            5           3.000000           3.000000   \n",
       "\n",
       "     P3_Avg_Norm_Score  P4_Avg_Norm_Score  P5_Avg_Norm_Score  \\\n",
       "100           2.523627           2.415558           2.470648   \n",
       "100           2.772257           2.774693           2.690197   \n",
       "100           2.975106           3.024059           2.946684   \n",
       "100           2.624050           3.263549           3.208460   \n",
       "100           2.803668           2.759331           3.529352   \n",
       "100           3.000000           3.000000           3.000000   \n",
       "\n",
       "     Avg_of_PL_Scores  Scores_L2_Dist  Avg_CC_Distribution  CC_L1_Dist  \n",
       "100          2.479460       13.381606             0.895779    0.104221  \n",
       "100          2.640236       11.807705             0.895779    0.104221  \n",
       "100          2.758767       10.989857             0.905880    0.094120  \n",
       "100          2.856531       10.290162             0.926741    0.073259  \n",
       "100          2.947065        8.607144             0.958849    0.041151  \n",
       "100          3.000000        0.000000             1.000000    0.000000  "
      ]
     },
     "execution_count": 68,
     "metadata": {},
     "output_type": "execute_result"
    }
   ],
   "source": [
    "# Process aggregate data of each tournament into a single dataframe for \n",
    "# comparison\n",
    "agg_d_list = []\n",
    "for key,val in data_dict_test.items():\n",
    "    im_list, data, agg_data = val\n",
    "    agg_data['initial_moves(as one-count)'] = im_list.count(1)\n",
    "    data_mat = data.to_numpy()\n",
    "#     print(data_mat.shape)\n",
    "    \n",
    "    # The column below measures l2 distance between tournament \n",
    "    # normalized scores and baseline tournament where all players always cooperate\n",
    "    agg_data['Scores_L2_Dist'] = np.linalg.norm(data.to_numpy()-(np.ones(data_mat.shape)*3))\n",
    "    \n",
    "    # The column below measures l1 distance between tournament \n",
    "    # CC Distribution and baseline tournament where all players always cooperate\n",
    "    agg_data['CC_L1_Dist'] = np.abs(agg_data['Avg_CC_Distribution'] - 1)\n",
    "\n",
    "    agg_d_list.append(agg_data)\n",
    "\n",
    "comparison_df = pd.concat(agg_d_list)\n",
    "\n",
    "df=comparison_df[['initial_moves(as one-count)', 'P1_Avg_Norm_Score', 'P2_Avg_Norm_Score','P3_Avg_Norm_Score', \n",
    "           'P4_Avg_Norm_Score', 'P5_Avg_Norm_Score','Avg_of_PL_Scores',\n",
    "           'Scores_L2_Dist','Avg_CC_Distribution','CC_L1_Dist']]\n",
    "\n",
    "df"
   ]
  },
  {
   "cell_type": "code",
   "execution_count": 69,
   "metadata": {},
   "outputs": [
    {
     "data": {
      "image/png": "[encoded data removed]",
      "text/plain": [
       "<Figure size 288x1152 with 4 Axes>"
      ]
     },
     "metadata": {
      "needs_background": "light"
     },
     "output_type": "display_data"
    }
   ],
   "source": [
    "# Plots: Each point is the aggregate of 100 tournaments with the same initial moves.\n",
    "\n",
    "g = sns.PairGrid(df, \n",
    "                 y_vars=[\"Avg_of_PL_Scores\",\n",
    "                        \"Scores_L2_Dist\", \n",
    "                        \"Avg_CC_Distribution\",\n",
    "                        \"CC_L1_Dist\"], \n",
    "                 x_vars=['initial_moves(as one-count)'], \n",
    "                 height=4)\n",
    "g.map(sns.pointplot, color=\".3\")\n",
    "plt.show()"
   ]
  },
  {
   "cell_type": "code",
   "execution_count": null,
   "metadata": {},
   "outputs": [],
   "source": []
  },
  {
   "cell_type": "markdown",
   "metadata": {},
   "source": [
    "#### Experiment 1.1: How do the initial moves influence a larger group's outcomes?\n",
    "__Approach__: Similar to experiment 1, but we consider tournaments of 15 players."
   ]
  },
  {
   "cell_type": "code",
   "execution_count": 8,
   "metadata": {},
   "outputs": [
    {
     "name": "stdout",
     "output_type": "stream",
     "text": [
      "15 player response probabilities: \n",
      " [[1. 1. 1. 1.]\n",
      " [1. 1. 1. 1.]\n",
      " [1. 1. 1. 1.]\n",
      " [1. 1. 1. 1.]\n",
      " [1. 1. 1. 1.]\n",
      " [1. 1. 1. 1.]\n",
      " [1. 1. 1. 1.]\n",
      " [1. 1. 1. 1.]\n",
      " [1. 1. 1. 1.]\n",
      " [1. 1. 1. 1.]\n",
      " [1. 1. 1. 1.]\n",
      " [1. 1. 1. 1.]\n",
      " [1. 1. 1. 1.]\n",
      " [1. 1. 1. 1.]\n",
      " [1. 1. 1. 1.]]\n",
      "LIST of initial moves: \n",
      "[0, 0, 0, 0, 0, 0, 0, 0, 0, 0, 0, 0, 0, 0, 0]\n",
      "[1, 0, 0, 0, 0, 0, 0, 0, 0, 0, 0, 0, 0, 0, 0]\n",
      "[1, 1, 0, 0, 0, 0, 0, 0, 0, 0, 0, 0, 0, 0, 0]\n",
      "[1, 1, 1, 0, 0, 0, 0, 0, 0, 0, 0, 0, 0, 0, 0]\n",
      "[1, 1, 1, 1, 0, 0, 0, 0, 0, 0, 0, 0, 0, 0, 0]\n",
      "[1, 1, 1, 1, 1, 0, 0, 0, 0, 0, 0, 0, 0, 0, 0]\n",
      "[1, 1, 1, 1, 1, 1, 0, 0, 0, 0, 0, 0, 0, 0, 0]\n",
      "[1, 1, 1, 1, 1, 1, 1, 0, 0, 0, 0, 0, 0, 0, 0]\n",
      "[1, 1, 1, 1, 1, 1, 1, 1, 0, 0, 0, 0, 0, 0, 0]\n",
      "[1, 1, 1, 1, 1, 1, 1, 1, 1, 0, 0, 0, 0, 0, 0]\n",
      "[1, 1, 1, 1, 1, 1, 1, 1, 1, 1, 0, 0, 0, 0, 0]\n",
      "[1, 1, 1, 1, 1, 1, 1, 1, 1, 1, 1, 0, 0, 0, 0]\n",
      "[1, 1, 1, 1, 1, 1, 1, 1, 1, 1, 1, 1, 0, 0, 0]\n",
      "[1, 1, 1, 1, 1, 1, 1, 1, 1, 1, 1, 1, 1, 0, 0]\n",
      "[1, 1, 1, 1, 1, 1, 1, 1, 1, 1, 1, 1, 1, 1, 0]\n",
      "[1, 1, 1, 1, 1, 1, 1, 1, 1, 1, 1, 1, 1, 1, 1]\n"
     ]
    }
   ],
   "source": [
    "# Initialize parameters\n",
    "fifteen_four_params = np.ones((15,4))\n",
    "print(\"15 player response probabilities: \\n\", fifteen_four_params)\n",
    "im_list1= []\n",
    "print(\"LIST of initial moves: \")\n",
    "for i in range(16):\n",
    "    im = [1 if n<i else 0 for n in range(15)]\n",
    "    print(im)\n",
    "    im_list1.append(im)"
   ]
  },
  {
   "cell_type": "code",
   "execution_count": 9,
   "metadata": {
    "collapsed": true,
    "jupyter": {
     "outputs_hidden": true
    },
    "tags": []
   },
   "outputs": [
    {
     "name": "stdout",
     "output_type": "stream",
     "text": [
      "Instantiating tournament object with these players:  Generic Memory One Player,Generic Memory One Player,Generic Memory One Player,Generic Memory One Player,Generic Memory One Player,Generic Memory One Player,Generic Memory One Player,Generic Memory One Player,Generic Memory One Player,Generic Memory One Player,Generic Memory One Player,Generic Memory One Player,Generic Memory One Player,Generic Memory One Player,Generic Memory One Player\n"
     ]
    },
    {
     "name": "stderr",
     "output_type": "stream",
     "text": [
      "Playing matches: 100%|██████████| 120/120 [01:01<00:00,  1.94it/s]\n",
      "Analysing: 100%|██████████| 25/25 [00:03<00:00,  6.83it/s]"
     ]
    },
    {
     "name": "stdout",
     "output_type": "stream",
     "text": [
      "Instantiating tournament object with these players:  Generic Memory One Player,Generic Memory One Player,Generic Memory One Player,Generic Memory One Player,Generic Memory One Player,Generic Memory One Player,Generic Memory One Player,Generic Memory One Player,Generic Memory One Player,Generic Memory One Player,Generic Memory One Player,Generic Memory One Player,Generic Memory One Player,Generic Memory One Player,Generic Memory One Player\n"
     ]
    },
    {
     "name": "stderr",
     "output_type": "stream",
     "text": [
      "\n",
      "Playing matches: 100%|██████████| 120/120 [00:53<00:00,  2.22it/s]\n",
      "Analysing: 100%|██████████| 25/25 [00:02<00:00,  9.27it/s]\n"
     ]
    },
    {
     "name": "stdout",
     "output_type": "stream",
     "text": [
      "Instantiating tournament object with these players:  Generic Memory One Player,Generic Memory One Player,Generic Memory One Player,Generic Memory One Player,Generic Memory One Player,Generic Memory One Player,Generic Memory One Player,Generic Memory One Player,Generic Memory One Player,Generic Memory One Player,Generic Memory One Player,Generic Memory One Player,Generic Memory One Player,Generic Memory One Player,Generic Memory One Player\n"
     ]
    },
    {
     "name": "stderr",
     "output_type": "stream",
     "text": [
      "Playing matches: 100%|██████████| 120/120 [00:53<00:00,  2.24it/s]\n",
      "Analysing: 100%|██████████| 25/25 [00:02<00:00,  8.34it/s]\n"
     ]
    },
    {
     "name": "stdout",
     "output_type": "stream",
     "text": [
      "Instantiating tournament object with these players:  Generic Memory One Player,Generic Memory One Player,Generic Memory One Player,Generic Memory One Player,Generic Memory One Player,Generic Memory One Player,Generic Memory One Player,Generic Memory One Player,Generic Memory One Player,Generic Memory One Player,Generic Memory One Player,Generic Memory One Player,Generic Memory One Player,Generic Memory One Player,Generic Memory One Player\n"
     ]
    },
    {
     "name": "stderr",
     "output_type": "stream",
     "text": [
      "Playing matches: 100%|██████████| 120/120 [00:48<00:00,  2.49it/s]\n",
      "Analysing: 100%|██████████| 25/25 [00:02<00:00,  9.21it/s]"
     ]
    },
    {
     "name": "stdout",
     "output_type": "stream",
     "text": [
      "Instantiating tournament object with these players:  Generic Memory One Player,Generic Memory One Player,Generic Memory One Player,Generic Memory One Player,Generic Memory One Player,Generic Memory One Player,Generic Memory One Player,Generic Memory One Player,Generic Memory One Player,Generic Memory One Player,Generic Memory One Player,Generic Memory One Player,Generic Memory One Player,Generic Memory One Player,Generic Memory One Player\n"
     ]
    },
    {
     "name": "stderr",
     "output_type": "stream",
     "text": [
      "\n",
      "Playing matches: 100%|██████████| 120/120 [00:53<00:00,  2.25it/s]\n",
      "Analysing: 100%|██████████| 25/25 [00:03<00:00,  7.97it/s]"
     ]
    },
    {
     "name": "stdout",
     "output_type": "stream",
     "text": [
      "Instantiating tournament object with these players:  Generic Memory One Player,Generic Memory One Player,Generic Memory One Player,Generic Memory One Player,Generic Memory One Player,Generic Memory One Player,Generic Memory One Player,Generic Memory One Player,Generic Memory One Player,Generic Memory One Player,Generic Memory One Player,Generic Memory One Player,Generic Memory One Player,Generic Memory One Player,Generic Memory One Player\n"
     ]
    },
    {
     "name": "stderr",
     "output_type": "stream",
     "text": [
      "\n",
      "Playing matches: 100%|██████████| 120/120 [00:53<00:00,  2.23it/s]\n",
      "Analysing: 100%|██████████| 25/25 [00:02<00:00,  8.92it/s]"
     ]
    },
    {
     "name": "stdout",
     "output_type": "stream",
     "text": [
      "Instantiating tournament object with these players:  Generic Memory One Player,Generic Memory One Player,Generic Memory One Player,Generic Memory One Player,Generic Memory One Player,Generic Memory One Player,Generic Memory One Player,Generic Memory One Player,Generic Memory One Player,Generic Memory One Player,Generic Memory One Player,Generic Memory One Player,Generic Memory One Player,Generic Memory One Player,Generic Memory One Player\n"
     ]
    },
    {
     "name": "stderr",
     "output_type": "stream",
     "text": [
      "\n",
      "Playing matches: 100%|██████████| 120/120 [00:57<00:00,  2.10it/s]\n",
      "Analysing: 100%|██████████| 25/25 [00:03<00:00,  8.12it/s]"
     ]
    },
    {
     "name": "stdout",
     "output_type": "stream",
     "text": [
      "Instantiating tournament object with these players:  Generic Memory One Player,Generic Memory One Player,Generic Memory One Player,Generic Memory One Player,Generic Memory One Player,Generic Memory One Player,Generic Memory One Player,Generic Memory One Player,Generic Memory One Player,Generic Memory One Player,Generic Memory One Player,Generic Memory One Player,Generic Memory One Player,Generic Memory One Player,Generic Memory One Player\n"
     ]
    },
    {
     "name": "stderr",
     "output_type": "stream",
     "text": [
      "\n",
      "Playing matches: 100%|██████████| 120/120 [00:59<00:00,  2.03it/s]\n",
      "Analysing: 100%|██████████| 25/25 [00:02<00:00,  8.99it/s]"
     ]
    },
    {
     "name": "stdout",
     "output_type": "stream",
     "text": [
      "Instantiating tournament object with these players:  Generic Memory One Player,Generic Memory One Player,Generic Memory One Player,Generic Memory One Player,Generic Memory One Player,Generic Memory One Player,Generic Memory One Player,Generic Memory One Player,Generic Memory One Player,Generic Memory One Player,Generic Memory One Player,Generic Memory One Player,Generic Memory One Player,Generic Memory One Player,Generic Memory One Player\n"
     ]
    },
    {
     "name": "stderr",
     "output_type": "stream",
     "text": [
      "\n",
      "Playing matches: 100%|██████████| 120/120 [00:51<00:00,  2.34it/s]\n",
      "Analysing: 100%|██████████| 25/25 [00:02<00:00,  9.38it/s]"
     ]
    },
    {
     "name": "stdout",
     "output_type": "stream",
     "text": [
      "Instantiating tournament object with these players:  Generic Memory One Player,Generic Memory One Player,Generic Memory One Player,Generic Memory One Player,Generic Memory One Player,Generic Memory One Player,Generic Memory One Player,Generic Memory One Player,Generic Memory One Player,Generic Memory One Player,Generic Memory One Player,Generic Memory One Player,Generic Memory One Player,Generic Memory One Player,Generic Memory One Player\n"
     ]
    },
    {
     "name": "stderr",
     "output_type": "stream",
     "text": [
      "\n",
      "Playing matches: 100%|██████████| 120/120 [00:55<00:00,  2.18it/s]\n",
      "Analysing: 100%|██████████| 25/25 [00:03<00:00,  7.65it/s]"
     ]
    },
    {
     "name": "stdout",
     "output_type": "stream",
     "text": [
      "Instantiating tournament object with these players:  Generic Memory One Player,Generic Memory One Player,Generic Memory One Player,Generic Memory One Player,Generic Memory One Player,Generic Memory One Player,Generic Memory One Player,Generic Memory One Player,Generic Memory One Player,Generic Memory One Player,Generic Memory One Player,Generic Memory One Player,Generic Memory One Player,Generic Memory One Player,Generic Memory One Player\n"
     ]
    },
    {
     "name": "stderr",
     "output_type": "stream",
     "text": [
      "\n",
      "Playing matches: 100%|██████████| 120/120 [00:51<00:00,  2.34it/s]\n",
      "Analysing: 100%|██████████| 25/25 [00:02<00:00,  8.98it/s]"
     ]
    },
    {
     "name": "stdout",
     "output_type": "stream",
     "text": [
      "Instantiating tournament object with these players:  Generic Memory One Player,Generic Memory One Player,Generic Memory One Player,Generic Memory One Player,Generic Memory One Player,Generic Memory One Player,Generic Memory One Player,Generic Memory One Player,Generic Memory One Player,Generic Memory One Player,Generic Memory One Player,Generic Memory One Player,Generic Memory One Player,Generic Memory One Player,Generic Memory One Player\n"
     ]
    },
    {
     "name": "stderr",
     "output_type": "stream",
     "text": [
      "\n",
      "Playing matches: 100%|██████████| 120/120 [00:48<00:00,  2.47it/s]\n",
      "Analysing: 100%|██████████| 25/25 [00:02<00:00,  9.50it/s]\n"
     ]
    },
    {
     "name": "stdout",
     "output_type": "stream",
     "text": [
      "Instantiating tournament object with these players:  Generic Memory One Player,Generic Memory One Player,Generic Memory One Player,Generic Memory One Player,Generic Memory One Player,Generic Memory One Player,Generic Memory One Player,Generic Memory One Player,Generic Memory One Player,Generic Memory One Player,Generic Memory One Player,Generic Memory One Player,Generic Memory One Player,Generic Memory One Player,Generic Memory One Player\n"
     ]
    },
    {
     "name": "stderr",
     "output_type": "stream",
     "text": [
      "Playing matches: 100%|██████████| 120/120 [00:58<00:00,  2.04it/s]\n",
      "Analysing: 100%|██████████| 25/25 [00:04<00:00,  5.79it/s]"
     ]
    },
    {
     "name": "stdout",
     "output_type": "stream",
     "text": [
      "Instantiating tournament object with these players:  Generic Memory One Player,Generic Memory One Player,Generic Memory One Player,Generic Memory One Player,Generic Memory One Player,Generic Memory One Player,Generic Memory One Player,Generic Memory One Player,Generic Memory One Player,Generic Memory One Player,Generic Memory One Player,Generic Memory One Player,Generic Memory One Player,Generic Memory One Player,Generic Memory One Player\n"
     ]
    },
    {
     "name": "stderr",
     "output_type": "stream",
     "text": [
      "\n",
      "Playing matches: 100%|██████████| 120/120 [01:05<00:00,  1.84it/s]\n",
      "Analysing: 100%|██████████| 25/25 [00:03<00:00,  7.26it/s]\n"
     ]
    },
    {
     "name": "stdout",
     "output_type": "stream",
     "text": [
      "Instantiating tournament object with these players:  Generic Memory One Player,Generic Memory One Player,Generic Memory One Player,Generic Memory One Player,Generic Memory One Player,Generic Memory One Player,Generic Memory One Player,Generic Memory One Player,Generic Memory One Player,Generic Memory One Player,Generic Memory One Player,Generic Memory One Player,Generic Memory One Player,Generic Memory One Player,Generic Memory One Player\n"
     ]
    },
    {
     "name": "stderr",
     "output_type": "stream",
     "text": [
      "Playing matches: 100%|██████████| 120/120 [00:48<00:00,  2.48it/s]\n",
      "Analysing: 100%|██████████| 25/25 [00:02<00:00,  9.49it/s]\n"
     ]
    },
    {
     "name": "stdout",
     "output_type": "stream",
     "text": [
      "Instantiating tournament object with these players:  Generic Memory One Player,Generic Memory One Player,Generic Memory One Player,Generic Memory One Player,Generic Memory One Player,Generic Memory One Player,Generic Memory One Player,Generic Memory One Player,Generic Memory One Player,Generic Memory One Player,Generic Memory One Player,Generic Memory One Player,Generic Memory One Player,Generic Memory One Player,Generic Memory One Player\n"
     ]
    },
    {
     "name": "stderr",
     "output_type": "stream",
     "text": [
      "Playing matches: 100%|██████████| 120/120 [00:49<00:00,  2.43it/s]\n",
      "Analysing: 100%|██████████| 25/25 [00:02<00:00,  8.54it/s]"
     ]
    },
    {
     "name": "stdout",
     "output_type": "stream",
     "text": [
      "Tournaments took 919.7867472171783 seconds\n"
     ]
    },
    {
     "name": "stderr",
     "output_type": "stream",
     "text": [
      "\n"
     ]
    }
   ],
   "source": [
    "params = fifteen_four_params\n",
    "data_dict1_1 = {}\n",
    "start = time.time()\n",
    "for j, i_im in enumerate(im_list1):\n",
    "    plyrs = []\n",
    "    for i in range(len(params)):\n",
    "        pl = axl.MemoryOnePlayer(tuple(params[i]),action_map[i_im[i]])\n",
    "        plyrs.append(pl)\n",
    "\n",
    "    # RPST payoff matrix - 3, 1, 0, 5 - classic config is also default\n",
    "    pd1000 = pd_exp2.PdTournament(plyrs, reps=1000)\n",
    "\n",
    "    df1, df2=pd1000.data, pd1000.agg_data\n",
    "    data_dict1_1[j]= (i_im, df1, df2)  # Tuple of initial moves, player norm scores by tournament, aggregate data for 1000 tournaments\n",
    "    \n",
    "print(f\"Tournaments took {time.time() - start} seconds\")  # ~1087.048201084137 seconds"
   ]
  },
  {
   "cell_type": "code",
   "execution_count": 46,
   "metadata": {},
   "outputs": [
    {
     "data": {
      "text/html": [
       "<div>\n",
       "<style scoped>\n",
       "    .dataframe tbody tr th:only-of-type {\n",
       "        vertical-align: middle;\n",
       "    }\n",
       "\n",
       "    .dataframe tbody tr th {\n",
       "        vertical-align: top;\n",
       "    }\n",
       "\n",
       "    .dataframe thead th {\n",
       "        text-align: right;\n",
       "    }\n",
       "</style>\n",
       "<table border=\"1\" class=\"dataframe\">\n",
       "  <thead>\n",
       "    <tr style=\"text-align: right;\">\n",
       "      <th></th>\n",
       "      <th>initial_moves(as one-count)</th>\n",
       "      <th>P1_Avg_Norm_Score</th>\n",
       "      <th>P2_Avg_Norm_Score</th>\n",
       "      <th>P3_Avg_Norm_Score</th>\n",
       "      <th>P4_Avg_Norm_Score</th>\n",
       "      <th>P5_Avg_Norm_Score</th>\n",
       "      <th>Avg_of_PL_Scores</th>\n",
       "      <th>Scores_L2_Dist</th>\n",
       "      <th>Avg_CC_Distribution</th>\n",
       "      <th>CC_L1_Dist</th>\n",
       "    </tr>\n",
       "  </thead>\n",
       "  <tbody>\n",
       "    <tr>\n",
       "      <th>1000</th>\n",
       "      <td>0</td>\n",
       "      <td>2.491948</td>\n",
       "      <td>2.490722</td>\n",
       "      <td>2.490709</td>\n",
       "      <td>2.481435</td>\n",
       "      <td>2.489555</td>\n",
       "      <td>2.487875</td>\n",
       "      <td>65.377653</td>\n",
       "      <td>0.895696</td>\n",
       "      <td>0.104304</td>\n",
       "    </tr>\n",
       "    <tr>\n",
       "      <th>1000</th>\n",
       "      <td>1</td>\n",
       "      <td>2.237921</td>\n",
       "      <td>2.560849</td>\n",
       "      <td>2.564235</td>\n",
       "      <td>2.559875</td>\n",
       "      <td>2.559101</td>\n",
       "      <td>2.538680</td>\n",
       "      <td>60.441069</td>\n",
       "      <td>0.895696</td>\n",
       "      <td>0.104304</td>\n",
       "    </tr>\n",
       "    <tr>\n",
       "      <th>1000</th>\n",
       "      <td>2</td>\n",
       "      <td>2.290516</td>\n",
       "      <td>2.288678</td>\n",
       "      <td>2.639297</td>\n",
       "      <td>2.632730</td>\n",
       "      <td>2.632891</td>\n",
       "      <td>2.587271</td>\n",
       "      <td>56.076063</td>\n",
       "      <td>0.896664</td>\n",
       "      <td>0.103336</td>\n",
       "    </tr>\n",
       "    <tr>\n",
       "      <th>1000</th>\n",
       "      <td>3</td>\n",
       "      <td>2.345661</td>\n",
       "      <td>2.344974</td>\n",
       "      <td>2.347504</td>\n",
       "      <td>2.708568</td>\n",
       "      <td>2.706212</td>\n",
       "      <td>2.633247</td>\n",
       "      <td>52.202800</td>\n",
       "      <td>0.898735</td>\n",
       "      <td>0.101265</td>\n",
       "    </tr>\n",
       "    <tr>\n",
       "      <th>1000</th>\n",
       "      <td>4</td>\n",
       "      <td>2.404491</td>\n",
       "      <td>2.399615</td>\n",
       "      <td>2.404382</td>\n",
       "      <td>2.392502</td>\n",
       "      <td>2.778168</td>\n",
       "      <td>2.677532</td>\n",
       "      <td>48.848393</td>\n",
       "      <td>0.901799</td>\n",
       "      <td>0.098201</td>\n",
       "    </tr>\n",
       "    <tr>\n",
       "      <th>1000</th>\n",
       "      <td>5</td>\n",
       "      <td>2.456650</td>\n",
       "      <td>2.454958</td>\n",
       "      <td>2.459373</td>\n",
       "      <td>2.446469</td>\n",
       "      <td>2.450793</td>\n",
       "      <td>2.718956</td>\n",
       "      <td>46.026229</td>\n",
       "      <td>0.905785</td>\n",
       "      <td>0.094215</td>\n",
       "    </tr>\n",
       "    <tr>\n",
       "      <th>1000</th>\n",
       "      <td>6</td>\n",
       "      <td>2.512697</td>\n",
       "      <td>2.508632</td>\n",
       "      <td>2.514625</td>\n",
       "      <td>2.502332</td>\n",
       "      <td>2.507077</td>\n",
       "      <td>2.757843</td>\n",
       "      <td>43.548571</td>\n",
       "      <td>0.910732</td>\n",
       "      <td>0.089268</td>\n",
       "    </tr>\n",
       "    <tr>\n",
       "      <th>1000</th>\n",
       "      <td>7</td>\n",
       "      <td>2.562423</td>\n",
       "      <td>2.561518</td>\n",
       "      <td>2.567735</td>\n",
       "      <td>2.556792</td>\n",
       "      <td>2.564373</td>\n",
       "      <td>2.794238</td>\n",
       "      <td>41.444624</td>\n",
       "      <td>0.916666</td>\n",
       "      <td>0.083334</td>\n",
       "    </tr>\n",
       "    <tr>\n",
       "      <th>1000</th>\n",
       "      <td>8</td>\n",
       "      <td>2.614604</td>\n",
       "      <td>2.617888</td>\n",
       "      <td>2.623394</td>\n",
       "      <td>2.615499</td>\n",
       "      <td>2.621625</td>\n",
       "      <td>2.828729</td>\n",
       "      <td>39.504900</td>\n",
       "      <td>0.923653</td>\n",
       "      <td>0.076347</td>\n",
       "    </tr>\n",
       "    <tr>\n",
       "      <th>1000</th>\n",
       "      <td>9</td>\n",
       "      <td>2.668082</td>\n",
       "      <td>2.673844</td>\n",
       "      <td>2.676264</td>\n",
       "      <td>2.670526</td>\n",
       "      <td>2.674256</td>\n",
       "      <td>2.860417</td>\n",
       "      <td>37.871975</td>\n",
       "      <td>0.931452</td>\n",
       "      <td>0.068548</td>\n",
       "    </tr>\n",
       "    <tr>\n",
       "      <th>1000</th>\n",
       "      <td>10</td>\n",
       "      <td>2.725817</td>\n",
       "      <td>2.728849</td>\n",
       "      <td>2.730106</td>\n",
       "      <td>2.725930</td>\n",
       "      <td>2.728516</td>\n",
       "      <td>2.889993</td>\n",
       "      <td>35.811973</td>\n",
       "      <td>0.940439</td>\n",
       "      <td>0.059561</td>\n",
       "    </tr>\n",
       "    <tr>\n",
       "      <th>1000</th>\n",
       "      <td>11</td>\n",
       "      <td>2.777168</td>\n",
       "      <td>2.781092</td>\n",
       "      <td>2.783354</td>\n",
       "      <td>2.781458</td>\n",
       "      <td>2.781130</td>\n",
       "      <td>2.916858</td>\n",
       "      <td>33.674594</td>\n",
       "      <td>0.950256</td>\n",
       "      <td>0.049744</td>\n",
       "    </tr>\n",
       "    <tr>\n",
       "      <th>1000</th>\n",
       "      <td>12</td>\n",
       "      <td>2.831385</td>\n",
       "      <td>2.838464</td>\n",
       "      <td>2.836812</td>\n",
       "      <td>2.835138</td>\n",
       "      <td>2.833882</td>\n",
       "      <td>2.941238</td>\n",
       "      <td>30.665623</td>\n",
       "      <td>0.961129</td>\n",
       "      <td>0.038871</td>\n",
       "    </tr>\n",
       "    <tr>\n",
       "      <th>1000</th>\n",
       "      <td>13</td>\n",
       "      <td>2.889185</td>\n",
       "      <td>2.890966</td>\n",
       "      <td>2.891433</td>\n",
       "      <td>2.889933</td>\n",
       "      <td>2.890039</td>\n",
       "      <td>2.963342</td>\n",
       "      <td>26.436896</td>\n",
       "      <td>0.973112</td>\n",
       "      <td>0.026888</td>\n",
       "    </tr>\n",
       "    <tr>\n",
       "      <th>1000</th>\n",
       "      <td>14</td>\n",
       "      <td>2.945199</td>\n",
       "      <td>2.944961</td>\n",
       "      <td>2.945086</td>\n",
       "      <td>2.945951</td>\n",
       "      <td>2.946002</td>\n",
       "      <td>2.982727</td>\n",
       "      <td>19.660048</td>\n",
       "      <td>0.986049</td>\n",
       "      <td>0.013951</td>\n",
       "    </tr>\n",
       "    <tr>\n",
       "      <th>1000</th>\n",
       "      <td>15</td>\n",
       "      <td>3.000000</td>\n",
       "      <td>3.000000</td>\n",
       "      <td>3.000000</td>\n",
       "      <td>3.000000</td>\n",
       "      <td>3.000000</td>\n",
       "      <td>3.000000</td>\n",
       "      <td>0.000000</td>\n",
       "      <td>1.000000</td>\n",
       "      <td>0.000000</td>\n",
       "    </tr>\n",
       "  </tbody>\n",
       "</table>\n",
       "</div>"
      ],
      "text/plain": [
       "      initial_moves(as one-count)  P1_Avg_Norm_Score  P2_Avg_Norm_Score  \\\n",
       "1000                            0           2.491948           2.490722   \n",
       "1000                            1           2.237921           2.560849   \n",
       "1000                            2           2.290516           2.288678   \n",
       "1000                            3           2.345661           2.344974   \n",
       "1000                            4           2.404491           2.399615   \n",
       "1000                            5           2.456650           2.454958   \n",
       "1000                            6           2.512697           2.508632   \n",
       "1000                            7           2.562423           2.561518   \n",
       "1000                            8           2.614604           2.617888   \n",
       "1000                            9           2.668082           2.673844   \n",
       "1000                           10           2.725817           2.728849   \n",
       "1000                           11           2.777168           2.781092   \n",
       "1000                           12           2.831385           2.838464   \n",
       "1000                           13           2.889185           2.890966   \n",
       "1000                           14           2.945199           2.944961   \n",
       "1000                           15           3.000000           3.000000   \n",
       "\n",
       "      P3_Avg_Norm_Score  P4_Avg_Norm_Score  P5_Avg_Norm_Score  \\\n",
       "1000           2.490709           2.481435           2.489555   \n",
       "1000           2.564235           2.559875           2.559101   \n",
       "1000           2.639297           2.632730           2.632891   \n",
       "1000           2.347504           2.708568           2.706212   \n",
       "1000           2.404382           2.392502           2.778168   \n",
       "1000           2.459373           2.446469           2.450793   \n",
       "1000           2.514625           2.502332           2.507077   \n",
       "1000           2.567735           2.556792           2.564373   \n",
       "1000           2.623394           2.615499           2.621625   \n",
       "1000           2.676264           2.670526           2.674256   \n",
       "1000           2.730106           2.725930           2.728516   \n",
       "1000           2.783354           2.781458           2.781130   \n",
       "1000           2.836812           2.835138           2.833882   \n",
       "1000           2.891433           2.889933           2.890039   \n",
       "1000           2.945086           2.945951           2.946002   \n",
       "1000           3.000000           3.000000           3.000000   \n",
       "\n",
       "      Avg_of_PL_Scores  Scores_L2_Dist  Avg_CC_Distribution  CC_L1_Dist  \n",
       "1000          2.487875       65.377653             0.895696    0.104304  \n",
       "1000          2.538680       60.441069             0.895696    0.104304  \n",
       "1000          2.587271       56.076063             0.896664    0.103336  \n",
       "1000          2.633247       52.202800             0.898735    0.101265  \n",
       "1000          2.677532       48.848393             0.901799    0.098201  \n",
       "1000          2.718956       46.026229             0.905785    0.094215  \n",
       "1000          2.757843       43.548571             0.910732    0.089268  \n",
       "1000          2.794238       41.444624             0.916666    0.083334  \n",
       "1000          2.828729       39.504900             0.923653    0.076347  \n",
       "1000          2.860417       37.871975             0.931452    0.068548  \n",
       "1000          2.889993       35.811973             0.940439    0.059561  \n",
       "1000          2.916858       33.674594             0.950256    0.049744  \n",
       "1000          2.941238       30.665623             0.961129    0.038871  \n",
       "1000          2.963342       26.436896             0.973112    0.026888  \n",
       "1000          2.982727       19.660048             0.986049    0.013951  \n",
       "1000          3.000000        0.000000             1.000000    0.000000  "
      ]
     },
     "execution_count": 46,
     "metadata": {},
     "output_type": "execute_result"
    }
   ],
   "source": [
    "# Process aggregate data of each tournament into a single dataframe for \n",
    "# comparison\n",
    "agg_d_list = []\n",
    "for key,val in data_dict1_1.items():\n",
    "    im_list, data, agg_data = val\n",
    "    agg_data['initial_moves(as one-count)'] = im_list.count(1)\n",
    "    data_mat = data.to_numpy()\n",
    "#     print(data_mat.shape)\n",
    "    \n",
    "    # The column below measures l2 distance between tournament \n",
    "    # normalized scores and baseline tournament where all players always cooperate\n",
    "    agg_data['Scores_L2_Dist'] = np.linalg.norm(data.to_numpy()-(np.ones(data_mat.shape)*3))\n",
    "    \n",
    "    # The column below measures l1 distance between tournament \n",
    "    # CC Distribution and baseline tournament where all players always cooperate\n",
    "    agg_data['CC_L1_Dist'] = np.abs(agg_data['Avg_CC_Distribution'] - 1)\n",
    "\n",
    "    agg_d_list.append(agg_data)\n",
    "\n",
    "comparison_df = pd.concat(agg_d_list)\n",
    "\n",
    "df=comparison_df[['initial_moves(as one-count)', 'P1_Avg_Norm_Score', 'P2_Avg_Norm_Score','P3_Avg_Norm_Score', \n",
    "           'P4_Avg_Norm_Score', 'P5_Avg_Norm_Score','Avg_of_PL_Scores',\n",
    "           'Scores_L2_Dist','Avg_CC_Distribution','CC_L1_Dist']]\n",
    "\n",
    "df"
   ]
  },
  {
   "cell_type": "code",
   "execution_count": 44,
   "metadata": {},
   "outputs": [
    {
     "data": {
      "image/png": "[encoded data removed]",
      "text/plain": [
       "<Figure size 288x1152 with 4 Axes>"
      ]
     },
     "metadata": {
      "needs_background": "light"
     },
     "output_type": "display_data"
    }
   ],
   "source": [
    "g = sns.PairGrid(df, y_vars=[\"Avg_of_PL_Scores\",\"Scores_L2_Dist\", \n",
    "                             \"Avg_CC_Distribution\", \"CC_L1_Dist\"], x_vars=[\"initial_moves(as one-count)\"], height=4)\n",
    "g.map(sns.pointplot, color=\".3\")\n",
    "for ax in g.axes.flat:\n",
    "    labels = ax.get_xticklabels() # get x labels\n",
    "    for i,l in enumerate(labels):\n",
    "        if(i%2 == 0): labels[i] = '' # skip even labels\n",
    "    ax.set_xticklabels(labels) # set new labels\n",
    "plt.show()"
   ]
  },
  {
   "cell_type": "markdown",
   "metadata": {},
   "source": [
    "#### Experiement 2: How does a change in a single response probability for one player influence group outcomes?\n",
    "__Approach__: Fix large majority of the response probability parameters \n",
    "to be the same but vary the first response probability for one player. All the \n",
    "other parameters will be equivalent across the players. Specifically, we run \n",
    "$k$ x 1000 tournaments with 5 players that have mostly similar response \n",
    "probabilities and fixed initial moves. $k$ is the number of variations of the \n",
    "response probability with which we experiment."
   ]
  },
  {
   "cell_type": "code",
   "execution_count": 52,
   "metadata": {},
   "outputs": [
    {
     "name": "stdout",
     "output_type": "stream",
     "text": [
      "Five player response probabilities: \n",
      " [[0.98 1.   1.   1.  ]\n",
      " [1.   1.   1.   1.  ]\n",
      " [1.   1.   1.   1.  ]\n",
      " [1.   1.   1.   1.  ]\n",
      " [1.   1.   1.   1.  ]]\n",
      "LIST of initial moves:  [1. 1. 1. 1. 1.]\n"
     ]
    }
   ],
   "source": [
    "# Initialize player parameters \n",
    "rng = np.random.default_rng(2)\n",
    "random_prob = rng.integers(90, 100)/100\n",
    "five_players = np.ones((5,4))\n",
    "\n",
    "five_players[0,0] = random_prob\n",
    "print(\"Five player response probabilities: \\n\", five_players)\n",
    "im_list2 = np.ones((5))\n",
    "print(\"LIST of initial moves: \", im_list2)"
   ]
  },
  {
   "cell_type": "code",
   "execution_count": 53,
   "metadata": {},
   "outputs": [
    {
     "name": "stdout",
     "output_type": "stream",
     "text": [
      "Five player response probabilities: \n",
      " [[0.98 1.   1.   1.  ]\n",
      " [1.   1.   1.   1.  ]\n",
      " [1.   1.   1.   1.  ]\n",
      " [1.   1.   1.   1.  ]\n",
      " [1.   1.   1.   1.  ]]\n",
      "LIST of initial moves:  [1. 1. 1. 1. 1.]\n"
     ]
    }
   ],
   "source": [
    "# Initialize player parameters \n",
    "rng = np.random.default_rng(2)\n",
    "random_prob = rng.integers(90, 100)/100\n",
    "five_players = np.ones((5,4))\n",
    "\n",
    "five_players[0,0] = random_prob\n",
    "print(\"Five player response probabilities: \\n\", five_players)\n",
    "im_list2 = np.ones((5))\n",
    "print(\"LIST of initial moves: \", im_list2)"
   ]
  },
  {
   "cell_type": "code",
   "execution_count": 54,
   "metadata": {
    "collapsed": true,
    "jupyter": {
     "outputs_hidden": true
    },
    "tags": []
   },
   "outputs": [
    {
     "name": "stdout",
     "output_type": "stream",
     "text": [
      "Five player response probabilities: \n",
      " [[0.85 1.   1.   1.  ]\n",
      " [1.   1.   1.   1.  ]\n",
      " [1.   1.   1.   1.  ]\n",
      " [1.   1.   1.   1.  ]\n",
      " [1.   1.   1.   1.  ]]\n",
      "Instantiating tournament object with these players:  Generic Memory One Player,Generic Memory One Player,Generic Memory One Player,Generic Memory One Player,Generic Memory One Player\n"
     ]
    },
    {
     "name": "stderr",
     "output_type": "stream",
     "text": [
      "Playing matches: 100%|██████████| 15/15 [00:35<00:00,  2.40s/it]\n",
      "Analysing: 100%|██████████| 25/25 [00:00<00:00, 39.70it/s]"
     ]
    },
    {
     "name": "stdout",
     "output_type": "stream",
     "text": [
      "Five player response probabilities: \n",
      " [[0.86 1.   1.   1.  ]\n",
      " [1.   1.   1.   1.  ]\n",
      " [1.   1.   1.   1.  ]\n",
      " [1.   1.   1.   1.  ]\n",
      " [1.   1.   1.   1.  ]]\n",
      "Instantiating tournament object with these players:  Generic Memory One Player,Generic Memory One Player,Generic Memory One Player,Generic Memory One Player,Generic Memory One Player\n"
     ]
    },
    {
     "name": "stderr",
     "output_type": "stream",
     "text": [
      "\n",
      "Playing matches: 100%|██████████| 15/15 [00:43<00:00,  2.93s/it]\n",
      "Analysing: 100%|██████████| 25/25 [00:00<00:00, 38.26it/s]"
     ]
    },
    {
     "name": "stdout",
     "output_type": "stream",
     "text": [
      "Five player response probabilities: \n",
      " [[0.87 1.   1.   1.  ]\n",
      " [1.   1.   1.   1.  ]\n",
      " [1.   1.   1.   1.  ]\n",
      " [1.   1.   1.   1.  ]\n",
      " [1.   1.   1.   1.  ]]\n",
      "Instantiating tournament object with these players:  Generic Memory One Player,Generic Memory One Player,Generic Memory One Player,Generic Memory One Player,Generic Memory One Player\n"
     ]
    },
    {
     "name": "stderr",
     "output_type": "stream",
     "text": [
      "\n",
      "Playing matches: 100%|██████████| 15/15 [00:40<00:00,  2.70s/it]\n",
      "Analysing: 100%|██████████| 25/25 [00:00<00:00, 45.32it/s]"
     ]
    },
    {
     "name": "stdout",
     "output_type": "stream",
     "text": [
      "Five player response probabilities: \n",
      " [[0.88 1.   1.   1.  ]\n",
      " [1.   1.   1.   1.  ]\n",
      " [1.   1.   1.   1.  ]\n",
      " [1.   1.   1.   1.  ]\n",
      " [1.   1.   1.   1.  ]]\n",
      "Instantiating tournament object with these players:  Generic Memory One Player,Generic Memory One Player,Generic Memory One Player,Generic Memory One Player,Generic Memory One Player\n"
     ]
    },
    {
     "name": "stderr",
     "output_type": "stream",
     "text": [
      "\n",
      "Playing matches: 100%|██████████| 15/15 [00:41<00:00,  2.79s/it]\n",
      "Analysing: 100%|██████████| 25/25 [00:00<00:00, 43.35it/s]"
     ]
    },
    {
     "name": "stdout",
     "output_type": "stream",
     "text": [
      "Five player response probabilities: \n",
      " [[0.89 1.   1.   1.  ]\n",
      " [1.   1.   1.   1.  ]\n",
      " [1.   1.   1.   1.  ]\n",
      " [1.   1.   1.   1.  ]\n",
      " [1.   1.   1.   1.  ]]\n",
      "Instantiating tournament object with these players:  Generic Memory One Player,Generic Memory One Player,Generic Memory One Player,Generic Memory One Player,Generic Memory One Player\n"
     ]
    },
    {
     "name": "stderr",
     "output_type": "stream",
     "text": [
      "\n",
      "Playing matches: 100%|██████████| 15/15 [00:36<00:00,  2.44s/it]\n",
      "Analysing: 100%|██████████| 25/25 [00:00<00:00, 42.23it/s]"
     ]
    },
    {
     "name": "stdout",
     "output_type": "stream",
     "text": [
      "Five player response probabilities: \n",
      " [[0.9 1.  1.  1. ]\n",
      " [1.  1.  1.  1. ]\n",
      " [1.  1.  1.  1. ]\n",
      " [1.  1.  1.  1. ]\n",
      " [1.  1.  1.  1. ]]\n",
      "Instantiating tournament object with these players:  Generic Memory One Player,Generic Memory One Player,Generic Memory One Player,Generic Memory One Player,Generic Memory One Player\n"
     ]
    },
    {
     "name": "stderr",
     "output_type": "stream",
     "text": [
      "\n",
      "Playing matches: 100%|██████████| 15/15 [00:35<00:00,  2.37s/it]\n",
      "Analysing: 100%|██████████| 25/25 [00:00<00:00, 39.57it/s]"
     ]
    },
    {
     "name": "stdout",
     "output_type": "stream",
     "text": [
      "Five player response probabilities: \n",
      " [[0.91 1.   1.   1.  ]\n",
      " [1.   1.   1.   1.  ]\n",
      " [1.   1.   1.   1.  ]\n",
      " [1.   1.   1.   1.  ]\n",
      " [1.   1.   1.   1.  ]]\n",
      "Instantiating tournament object with these players:  Generic Memory One Player,Generic Memory One Player,Generic Memory One Player,Generic Memory One Player,Generic Memory One Player\n"
     ]
    },
    {
     "name": "stderr",
     "output_type": "stream",
     "text": [
      "\n",
      "Playing matches: 100%|██████████| 15/15 [00:39<00:00,  2.64s/it]\n",
      "Analysing: 100%|██████████| 25/25 [00:00<00:00, 40.77it/s]"
     ]
    },
    {
     "name": "stdout",
     "output_type": "stream",
     "text": [
      "Five player response probabilities: \n",
      " [[0.92 1.   1.   1.  ]\n",
      " [1.   1.   1.   1.  ]\n",
      " [1.   1.   1.   1.  ]\n",
      " [1.   1.   1.   1.  ]\n",
      " [1.   1.   1.   1.  ]]\n",
      "Instantiating tournament object with these players:  Generic Memory One Player,Generic Memory One Player,Generic Memory One Player,Generic Memory One Player,Generic Memory One Player\n"
     ]
    },
    {
     "name": "stderr",
     "output_type": "stream",
     "text": [
      "\n",
      "Playing matches: 100%|██████████| 15/15 [00:38<00:00,  2.58s/it]\n",
      "Analysing: 100%|██████████| 25/25 [00:00<00:00, 37.70it/s]"
     ]
    },
    {
     "name": "stdout",
     "output_type": "stream",
     "text": [
      "Five player response probabilities: \n",
      " [[0.93 1.   1.   1.  ]\n",
      " [1.   1.   1.   1.  ]\n",
      " [1.   1.   1.   1.  ]\n",
      " [1.   1.   1.   1.  ]\n",
      " [1.   1.   1.   1.  ]]\n",
      "Instantiating tournament object with these players:  Generic Memory One Player,Generic Memory One Player,Generic Memory One Player,Generic Memory One Player,Generic Memory One Player\n"
     ]
    },
    {
     "name": "stderr",
     "output_type": "stream",
     "text": [
      "\n",
      "Playing matches: 100%|██████████| 15/15 [00:42<00:00,  2.84s/it]\n",
      "Analysing: 100%|██████████| 25/25 [00:00<00:00, 45.40it/s]"
     ]
    },
    {
     "name": "stdout",
     "output_type": "stream",
     "text": [
      "Five player response probabilities: \n",
      " [[0.94 1.   1.   1.  ]\n",
      " [1.   1.   1.   1.  ]\n",
      " [1.   1.   1.   1.  ]\n",
      " [1.   1.   1.   1.  ]\n",
      " [1.   1.   1.   1.  ]]\n",
      "Instantiating tournament object with these players:  Generic Memory One Player,Generic Memory One Player,Generic Memory One Player,Generic Memory One Player,Generic Memory One Player\n"
     ]
    },
    {
     "name": "stderr",
     "output_type": "stream",
     "text": [
      "\n",
      "Playing matches: 100%|██████████| 15/15 [00:38<00:00,  2.57s/it]\n",
      "Analysing: 100%|██████████| 25/25 [00:00<00:00, 43.32it/s]"
     ]
    },
    {
     "name": "stdout",
     "output_type": "stream",
     "text": [
      "Five player response probabilities: \n",
      " [[0.95 1.   1.   1.  ]\n",
      " [1.   1.   1.   1.  ]\n",
      " [1.   1.   1.   1.  ]\n",
      " [1.   1.   1.   1.  ]\n",
      " [1.   1.   1.   1.  ]]\n",
      "Instantiating tournament object with these players:  Generic Memory One Player,Generic Memory One Player,Generic Memory One Player,Generic Memory One Player,Generic Memory One Player\n"
     ]
    },
    {
     "name": "stderr",
     "output_type": "stream",
     "text": [
      "\n",
      "Playing matches: 100%|██████████| 15/15 [00:44<00:00,  2.95s/it]\n",
      "Analysing: 100%|██████████| 25/25 [00:00<00:00, 42.18it/s]\n"
     ]
    },
    {
     "name": "stdout",
     "output_type": "stream",
     "text": [
      "Five player response probabilities: \n",
      " [[0.96 1.   1.   1.  ]\n",
      " [1.   1.   1.   1.  ]\n",
      " [1.   1.   1.   1.  ]\n",
      " [1.   1.   1.   1.  ]\n",
      " [1.   1.   1.   1.  ]]\n",
      "Instantiating tournament object with these players:  Generic Memory One Player,Generic Memory One Player,Generic Memory One Player,Generic Memory One Player,Generic Memory One Player\n"
     ]
    },
    {
     "name": "stderr",
     "output_type": "stream",
     "text": [
      "Playing matches: 100%|██████████| 15/15 [00:36<00:00,  2.40s/it]\n",
      "Analysing: 100%|██████████| 25/25 [00:00<00:00, 44.82it/s]"
     ]
    },
    {
     "name": "stdout",
     "output_type": "stream",
     "text": [
      "Five player response probabilities: \n",
      " [[0.97 1.   1.   1.  ]\n",
      " [1.   1.   1.   1.  ]\n",
      " [1.   1.   1.   1.  ]\n",
      " [1.   1.   1.   1.  ]\n",
      " [1.   1.   1.   1.  ]]\n",
      "Instantiating tournament object with these players:  Generic Memory One Player,Generic Memory One Player,Generic Memory One Player,Generic Memory One Player,Generic Memory One Player\n"
     ]
    },
    {
     "name": "stderr",
     "output_type": "stream",
     "text": [
      "\n",
      "Playing matches: 100%|██████████| 15/15 [00:43<00:00,  2.89s/it]\n",
      "Analysing: 100%|██████████| 25/25 [00:00<00:00, 49.49it/s]"
     ]
    },
    {
     "name": "stdout",
     "output_type": "stream",
     "text": [
      "Five player response probabilities: \n",
      " [[0.98 1.   1.   1.  ]\n",
      " [1.   1.   1.   1.  ]\n",
      " [1.   1.   1.   1.  ]\n",
      " [1.   1.   1.   1.  ]\n",
      " [1.   1.   1.   1.  ]]\n",
      "Instantiating tournament object with these players:  Generic Memory One Player,Generic Memory One Player,Generic Memory One Player,Generic Memory One Player,Generic Memory One Player\n"
     ]
    },
    {
     "name": "stderr",
     "output_type": "stream",
     "text": [
      "\n",
      "Playing matches: 100%|██████████| 15/15 [00:35<00:00,  2.35s/it]\n",
      "Analysing: 100%|██████████| 25/25 [00:00<00:00, 43.34it/s]"
     ]
    },
    {
     "name": "stdout",
     "output_type": "stream",
     "text": [
      "Five player response probabilities: \n",
      " [[0.99 1.   1.   1.  ]\n",
      " [1.   1.   1.   1.  ]\n",
      " [1.   1.   1.   1.  ]\n",
      " [1.   1.   1.   1.  ]\n",
      " [1.   1.   1.   1.  ]]\n",
      "Instantiating tournament object with these players:  Generic Memory One Player,Generic Memory One Player,Generic Memory One Player,Generic Memory One Player,Generic Memory One Player\n"
     ]
    },
    {
     "name": "stderr",
     "output_type": "stream",
     "text": [
      "\n",
      "Playing matches: 100%|██████████| 15/15 [00:42<00:00,  2.82s/it]\n",
      "Analysing: 100%|██████████| 25/25 [00:00<00:00, 31.19it/s]"
     ]
    },
    {
     "name": "stdout",
     "output_type": "stream",
     "text": [
      "Five player response probabilities: \n",
      " [[1. 1. 1. 1.]\n",
      " [1. 1. 1. 1.]\n",
      " [1. 1. 1. 1.]\n",
      " [1. 1. 1. 1.]\n",
      " [1. 1. 1. 1.]]\n",
      "Instantiating tournament object with these players:  Generic Memory One Player,Generic Memory One Player,Generic Memory One Player,Generic Memory One Player,Generic Memory One Player\n"
     ]
    },
    {
     "name": "stderr",
     "output_type": "stream",
     "text": [
      "\n",
      "Playing matches: 100%|██████████| 15/15 [00:37<00:00,  2.49s/it]\n",
      "Analysing: 100%|██████████| 25/25 [00:00<00:00, 36.13it/s]"
     ]
    },
    {
     "name": "stdout",
     "output_type": "stream",
     "text": [
      "Tournaments took 644.270122051239 seconds\n"
     ]
    },
    {
     "name": "stderr",
     "output_type": "stream",
     "text": [
      "\n"
     ]
    }
   ],
   "source": [
    "params, initial_moves = five_players, im_list2\n",
    "data_dict2 = {}\n",
    "start = time.time()\n",
    "\n",
    "for k in range(85,101):\n",
    "    params[0,0] = k/100\n",
    "    print(\"Five player response probabilities: \\n\", params)\n",
    "    plyrs = []\n",
    "    for j, p_i in enumerate(params):\n",
    "        pl = axl.MemoryOnePlayer(tuple(p_i),action_map[im_list2[j]])\n",
    "        plyrs.append(pl)\n",
    "\n",
    "    # pd tournament 1000\n",
    "    # RPST payoff matrix - 3, 1, 0, 5 - classic config is also default\n",
    "    pd1000 = pd_exp2.PdTournament(plyrs, reps=1000)\n",
    "\n",
    "    df1, df2=pd1000.data, pd1000.agg_data\n",
    "    data_dict2[k]= (params[0,0], df1, df2)  # Tuple of initial moves, player norm scores by tournament, aggregate data for 1000 tournaments\n",
    "    \n",
    "print(f\"Tournaments took {time.time() - start} seconds\")  # ~308.2929379940033 seconds"
   ]
  },
  {
   "cell_type": "code",
   "execution_count": 55,
   "metadata": {},
   "outputs": [
    {
     "data": {
      "text/html": [
       "<div>\n",
       "<style scoped>\n",
       "    .dataframe tbody tr th:only-of-type {\n",
       "        vertical-align: middle;\n",
       "    }\n",
       "\n",
       "    .dataframe tbody tr th {\n",
       "        vertical-align: top;\n",
       "    }\n",
       "\n",
       "    .dataframe thead th {\n",
       "        text-align: right;\n",
       "    }\n",
       "</style>\n",
       "<table border=\"1\" class=\"dataframe\">\n",
       "  <thead>\n",
       "    <tr style=\"text-align: right;\">\n",
       "      <th></th>\n",
       "      <th>pl1_p(C|CC)</th>\n",
       "      <th>P1_Avg_Norm_Score</th>\n",
       "      <th>P2_Avg_Norm_Score</th>\n",
       "      <th>P3_Avg_Norm_Score</th>\n",
       "      <th>P4_Avg_Norm_Score</th>\n",
       "      <th>P5_Avg_Norm_Score</th>\n",
       "      <th>Avg_of_PL_Scores</th>\n",
       "      <th>Scores_L2_Dist</th>\n",
       "      <th>Avg_CC_Distribution</th>\n",
       "      <th>CC_L1_Dist</th>\n",
       "    </tr>\n",
       "  </thead>\n",
       "  <tbody>\n",
       "    <tr>\n",
       "      <th>1000</th>\n",
       "      <td>0.85</td>\n",
       "      <td>3.195831</td>\n",
       "      <td>2.925221</td>\n",
       "      <td>2.925984</td>\n",
       "      <td>2.929145</td>\n",
       "      <td>2.925904</td>\n",
       "      <td>2.980417</td>\n",
       "      <td>10.006528</td>\n",
       "      <td>0.952585</td>\n",
       "      <td>0.047415</td>\n",
       "    </tr>\n",
       "    <tr>\n",
       "      <th>1000</th>\n",
       "      <td>0.86</td>\n",
       "      <td>3.183749</td>\n",
       "      <td>2.929733</td>\n",
       "      <td>2.931353</td>\n",
       "      <td>2.932984</td>\n",
       "      <td>2.930307</td>\n",
       "      <td>2.981625</td>\n",
       "      <td>9.532317</td>\n",
       "      <td>0.955514</td>\n",
       "      <td>0.044486</td>\n",
       "    </tr>\n",
       "    <tr>\n",
       "      <th>1000</th>\n",
       "      <td>0.87</td>\n",
       "      <td>3.172220</td>\n",
       "      <td>2.933121</td>\n",
       "      <td>2.936063</td>\n",
       "      <td>2.937752</td>\n",
       "      <td>2.934735</td>\n",
       "      <td>2.982778</td>\n",
       "      <td>9.081057</td>\n",
       "      <td>0.958409</td>\n",
       "      <td>0.041591</td>\n",
       "    </tr>\n",
       "    <tr>\n",
       "      <th>1000</th>\n",
       "      <td>0.88</td>\n",
       "      <td>3.159543</td>\n",
       "      <td>2.937469</td>\n",
       "      <td>2.940182</td>\n",
       "      <td>2.943302</td>\n",
       "      <td>2.939732</td>\n",
       "      <td>2.984046</td>\n",
       "      <td>8.557000</td>\n",
       "      <td>0.961507</td>\n",
       "      <td>0.038493</td>\n",
       "    </tr>\n",
       "    <tr>\n",
       "      <th>1000</th>\n",
       "      <td>0.89</td>\n",
       "      <td>3.147183</td>\n",
       "      <td>2.941899</td>\n",
       "      <td>2.944763</td>\n",
       "      <td>2.948416</td>\n",
       "      <td>2.944148</td>\n",
       "      <td>2.985282</td>\n",
       "      <td>8.057450</td>\n",
       "      <td>0.964519</td>\n",
       "      <td>0.035481</td>\n",
       "    </tr>\n",
       "    <tr>\n",
       "      <th>1000</th>\n",
       "      <td>0.9</td>\n",
       "      <td>3.134988</td>\n",
       "      <td>2.945932</td>\n",
       "      <td>2.949449</td>\n",
       "      <td>2.953261</td>\n",
       "      <td>2.948875</td>\n",
       "      <td>2.986501</td>\n",
       "      <td>7.573267</td>\n",
       "      <td>0.967523</td>\n",
       "      <td>0.032477</td>\n",
       "    </tr>\n",
       "    <tr>\n",
       "      <th>1000</th>\n",
       "      <td>0.91</td>\n",
       "      <td>3.123742</td>\n",
       "      <td>2.950924</td>\n",
       "      <td>2.954714</td>\n",
       "      <td>2.956050</td>\n",
       "      <td>2.952699</td>\n",
       "      <td>2.987626</td>\n",
       "      <td>7.123266</td>\n",
       "      <td>0.970241</td>\n",
       "      <td>0.029759</td>\n",
       "    </tr>\n",
       "    <tr>\n",
       "      <th>1000</th>\n",
       "      <td>0.92</td>\n",
       "      <td>3.112554</td>\n",
       "      <td>2.954524</td>\n",
       "      <td>2.958988</td>\n",
       "      <td>2.960489</td>\n",
       "      <td>2.957169</td>\n",
       "      <td>2.988745</td>\n",
       "      <td>6.661385</td>\n",
       "      <td>0.973064</td>\n",
       "      <td>0.026936</td>\n",
       "    </tr>\n",
       "    <tr>\n",
       "      <th>1000</th>\n",
       "      <td>0.93</td>\n",
       "      <td>3.099074</td>\n",
       "      <td>2.958481</td>\n",
       "      <td>2.964849</td>\n",
       "      <td>2.965992</td>\n",
       "      <td>2.962066</td>\n",
       "      <td>2.990093</td>\n",
       "      <td>6.103130</td>\n",
       "      <td>0.976036</td>\n",
       "      <td>0.023964</td>\n",
       "    </tr>\n",
       "    <tr>\n",
       "      <th>1000</th>\n",
       "      <td>0.94</td>\n",
       "      <td>3.084116</td>\n",
       "      <td>2.964400</td>\n",
       "      <td>2.970083</td>\n",
       "      <td>2.970723</td>\n",
       "      <td>2.968620</td>\n",
       "      <td>2.991588</td>\n",
       "      <td>5.433867</td>\n",
       "      <td>0.979489</td>\n",
       "      <td>0.020511</td>\n",
       "    </tr>\n",
       "    <tr>\n",
       "      <th>1000</th>\n",
       "      <td>0.95</td>\n",
       "      <td>3.070630</td>\n",
       "      <td>2.969163</td>\n",
       "      <td>2.974772</td>\n",
       "      <td>2.975860</td>\n",
       "      <td>2.974259</td>\n",
       "      <td>2.992937</td>\n",
       "      <td>4.849794</td>\n",
       "      <td>0.982827</td>\n",
       "      <td>0.017173</td>\n",
       "    </tr>\n",
       "    <tr>\n",
       "      <th>1000</th>\n",
       "      <td>0.96</td>\n",
       "      <td>3.055660</td>\n",
       "      <td>2.975839</td>\n",
       "      <td>2.979871</td>\n",
       "      <td>2.981799</td>\n",
       "      <td>2.979000</td>\n",
       "      <td>2.994434</td>\n",
       "      <td>4.134959</td>\n",
       "      <td>0.986137</td>\n",
       "      <td>0.013863</td>\n",
       "    </tr>\n",
       "    <tr>\n",
       "      <th>1000</th>\n",
       "      <td>0.97</td>\n",
       "      <td>3.040900</td>\n",
       "      <td>2.981910</td>\n",
       "      <td>2.984703</td>\n",
       "      <td>2.987392</td>\n",
       "      <td>2.984646</td>\n",
       "      <td>2.995910</td>\n",
       "      <td>3.468632</td>\n",
       "      <td>0.989823</td>\n",
       "      <td>0.010177</td>\n",
       "    </tr>\n",
       "    <tr>\n",
       "      <th>1000</th>\n",
       "      <td>0.98</td>\n",
       "      <td>3.027943</td>\n",
       "      <td>2.987466</td>\n",
       "      <td>2.989034</td>\n",
       "      <td>2.991338</td>\n",
       "      <td>2.990247</td>\n",
       "      <td>2.997206</td>\n",
       "      <td>2.833524</td>\n",
       "      <td>0.993103</td>\n",
       "      <td>0.006897</td>\n",
       "    </tr>\n",
       "    <tr>\n",
       "      <th>1000</th>\n",
       "      <td>0.99</td>\n",
       "      <td>3.014338</td>\n",
       "      <td>2.994216</td>\n",
       "      <td>2.994205</td>\n",
       "      <td>2.995096</td>\n",
       "      <td>2.994976</td>\n",
       "      <td>2.998566</td>\n",
       "      <td>1.915914</td>\n",
       "      <td>0.996488</td>\n",
       "      <td>0.003512</td>\n",
       "    </tr>\n",
       "    <tr>\n",
       "      <th>1000</th>\n",
       "      <td>1.0</td>\n",
       "      <td>3.000000</td>\n",
       "      <td>3.000000</td>\n",
       "      <td>3.000000</td>\n",
       "      <td>3.000000</td>\n",
       "      <td>3.000000</td>\n",
       "      <td>3.000000</td>\n",
       "      <td>0.000000</td>\n",
       "      <td>1.000000</td>\n",
       "      <td>0.000000</td>\n",
       "    </tr>\n",
       "  </tbody>\n",
       "</table>\n",
       "</div>"
      ],
      "text/plain": [
       "     pl1_p(C|CC)  P1_Avg_Norm_Score  P2_Avg_Norm_Score  P3_Avg_Norm_Score  \\\n",
       "1000        0.85           3.195831           2.925221           2.925984   \n",
       "1000        0.86           3.183749           2.929733           2.931353   \n",
       "1000        0.87           3.172220           2.933121           2.936063   \n",
       "1000        0.88           3.159543           2.937469           2.940182   \n",
       "1000        0.89           3.147183           2.941899           2.944763   \n",
       "1000         0.9           3.134988           2.945932           2.949449   \n",
       "1000        0.91           3.123742           2.950924           2.954714   \n",
       "1000        0.92           3.112554           2.954524           2.958988   \n",
       "1000        0.93           3.099074           2.958481           2.964849   \n",
       "1000        0.94           3.084116           2.964400           2.970083   \n",
       "1000        0.95           3.070630           2.969163           2.974772   \n",
       "1000        0.96           3.055660           2.975839           2.979871   \n",
       "1000        0.97           3.040900           2.981910           2.984703   \n",
       "1000        0.98           3.027943           2.987466           2.989034   \n",
       "1000        0.99           3.014338           2.994216           2.994205   \n",
       "1000         1.0           3.000000           3.000000           3.000000   \n",
       "\n",
       "      P4_Avg_Norm_Score  P5_Avg_Norm_Score  Avg_of_PL_Scores  Scores_L2_Dist  \\\n",
       "1000           2.929145           2.925904          2.980417       10.006528   \n",
       "1000           2.932984           2.930307          2.981625        9.532317   \n",
       "1000           2.937752           2.934735          2.982778        9.081057   \n",
       "1000           2.943302           2.939732          2.984046        8.557000   \n",
       "1000           2.948416           2.944148          2.985282        8.057450   \n",
       "1000           2.953261           2.948875          2.986501        7.573267   \n",
       "1000           2.956050           2.952699          2.987626        7.123266   \n",
       "1000           2.960489           2.957169          2.988745        6.661385   \n",
       "1000           2.965992           2.962066          2.990093        6.103130   \n",
       "1000           2.970723           2.968620          2.991588        5.433867   \n",
       "1000           2.975860           2.974259          2.992937        4.849794   \n",
       "1000           2.981799           2.979000          2.994434        4.134959   \n",
       "1000           2.987392           2.984646          2.995910        3.468632   \n",
       "1000           2.991338           2.990247          2.997206        2.833524   \n",
       "1000           2.995096           2.994976          2.998566        1.915914   \n",
       "1000           3.000000           3.000000          3.000000        0.000000   \n",
       "\n",
       "      Avg_CC_Distribution  CC_L1_Dist  \n",
       "1000             0.952585    0.047415  \n",
       "1000             0.955514    0.044486  \n",
       "1000             0.958409    0.041591  \n",
       "1000             0.961507    0.038493  \n",
       "1000             0.964519    0.035481  \n",
       "1000             0.967523    0.032477  \n",
       "1000             0.970241    0.029759  \n",
       "1000             0.973064    0.026936  \n",
       "1000             0.976036    0.023964  \n",
       "1000             0.979489    0.020511  \n",
       "1000             0.982827    0.017173  \n",
       "1000             0.986137    0.013863  \n",
       "1000             0.989823    0.010177  \n",
       "1000             0.993103    0.006897  \n",
       "1000             0.996488    0.003512  \n",
       "1000             1.000000    0.000000  "
      ]
     },
     "execution_count": 55,
     "metadata": {},
     "output_type": "execute_result"
    }
   ],
   "source": [
    "agg_d_list = []\n",
    "for key,val in data_dict2.items():\n",
    "    pl1_param, data, agg_data = val\n",
    "    agg_data['pl1_p(C|CC)'] = str(pl1_param)\n",
    "    data_mat = data.to_numpy()\n",
    "#     print(data_mat.shape)\n",
    "    \n",
    "    # The column below measures l2 distance between tournament \n",
    "    # normalized scores and baseline tournament where all players always cooperate\n",
    "    agg_data['Scores_L2_Dist'] = np.linalg.norm(data.to_numpy()-(np.ones(data_mat.shape)*3))\n",
    "    \n",
    "    # The column below measures l1 distance between tournament \n",
    "    # CC Distribution and baseline tournament where all players always cooperate\n",
    "    agg_data['CC_L1_Dist'] = np.abs(agg_data['Avg_CC_Distribution'] - 1)\n",
    "\n",
    "    agg_d_list.append(agg_data)\n",
    "\n",
    "comparison_df = pd.concat(agg_d_list)\n",
    "\n",
    "df=comparison_df[['pl1_p(C|CC)', 'P1_Avg_Norm_Score', 'P2_Avg_Norm_Score','P3_Avg_Norm_Score', \n",
    "           'P4_Avg_Norm_Score', 'P5_Avg_Norm_Score','Avg_of_PL_Scores',\n",
    "           'Scores_L2_Dist','Avg_CC_Distribution', 'CC_L1_Dist']]\n",
    "df"
   ]
  },
  {
   "cell_type": "code",
   "execution_count": 57,
   "metadata": {},
   "outputs": [
    {
     "data": {
      "image/png": "[encoded data removed]",
      "text/plain": [
       "<Figure size 288x1152 with 4 Axes>"
      ]
     },
     "metadata": {
      "needs_background": "light"
     },
     "output_type": "display_data"
    }
   ],
   "source": [
    "g = sns.PairGrid(df, y_vars=[\"Avg_of_PL_Scores\",\"Scores_L2_Dist\", \n",
    "                             \"Avg_CC_Distribution\", \"CC_L1_Dist\"], x_vars=[\"pl1_p(C|CC)\"], height=4)\n",
    "g.map(sns.pointplot, color=\".3\")\n",
    "for ax in g.axes.flat:\n",
    "    labels = ax.get_xticklabels() # get x labels\n",
    "    for i,l in enumerate(labels):\n",
    "        if(i%2 == 0): labels[i] = '' # skip even labels\n",
    "    ax.set_xticklabels(labels) # set new labels\n",
    "plt.show()"
   ]
  },
  {
   "cell_type": "markdown",
   "metadata": {},
   "source": [
    "#### Experiement 2.1: How does a change in a single response probability for one player influence larger group outcomes?\n",
    "__Approach__: Similar to experiment 2, but this time with a group of 15 players."
   ]
  },
  {
   "cell_type": "code",
   "execution_count": 22,
   "metadata": {},
   "outputs": [
    {
     "name": "stdout",
     "output_type": "stream",
     "text": [
      "Fifteen player response probabilities: \n",
      " [[0.98 1.   1.   1.  ]\n",
      " [1.   1.   1.   1.  ]\n",
      " [1.   1.   1.   1.  ]\n",
      " [1.   1.   1.   1.  ]\n",
      " [1.   1.   1.   1.  ]\n",
      " [1.   1.   1.   1.  ]\n",
      " [1.   1.   1.   1.  ]\n",
      " [1.   1.   1.   1.  ]\n",
      " [1.   1.   1.   1.  ]\n",
      " [1.   1.   1.   1.  ]\n",
      " [1.   1.   1.   1.  ]\n",
      " [1.   1.   1.   1.  ]\n",
      " [1.   1.   1.   1.  ]\n",
      " [1.   1.   1.   1.  ]\n",
      " [1.   1.   1.   1.  ]]\n",
      "LIST of initial moves:  [1. 1. 1. 1. 1. 1. 1. 1. 1. 1. 1. 1. 1. 1. 1.]\n"
     ]
    }
   ],
   "source": [
    "# Initialize parameters\n",
    "rng = np.random.default_rng(3)\n",
    "random_prob = rng.integers(90, 100)/100\n",
    "fifteen_players = np.ones((15,4))\n",
    "\n",
    "fifteen_players[0,0] = random_prob\n",
    "print(\"Fifteen player response probabilities: \\n\", fifteen_players)\n",
    "im_list3 = np.ones((15))\n",
    "print(\"LIST of initial moves: \", im_list3)"
   ]
  },
  {
   "cell_type": "code",
   "execution_count": 23,
   "metadata": {
    "collapsed": true,
    "jupyter": {
     "outputs_hidden": true
    },
    "tags": []
   },
   "outputs": [
    {
     "name": "stdout",
     "output_type": "stream",
     "text": [
      "Five player response probabilities: \n",
      " [[0.85 1.   1.   1.  ]\n",
      " [1.   1.   1.   1.  ]\n",
      " [1.   1.   1.   1.  ]\n",
      " [1.   1.   1.   1.  ]\n",
      " [1.   1.   1.   1.  ]\n",
      " [1.   1.   1.   1.  ]\n",
      " [1.   1.   1.   1.  ]\n",
      " [1.   1.   1.   1.  ]\n",
      " [1.   1.   1.   1.  ]\n",
      " [1.   1.   1.   1.  ]\n",
      " [1.   1.   1.   1.  ]\n",
      " [1.   1.   1.   1.  ]\n",
      " [1.   1.   1.   1.  ]\n",
      " [1.   1.   1.   1.  ]\n",
      " [1.   1.   1.   1.  ]]\n",
      "Instantiating tournament object with these players:  Generic Memory One Player,Generic Memory One Player,Generic Memory One Player,Generic Memory One Player,Generic Memory One Player,Generic Memory One Player,Generic Memory One Player,Generic Memory One Player,Generic Memory One Player,Generic Memory One Player,Generic Memory One Player,Generic Memory One Player,Generic Memory One Player,Generic Memory One Player,Generic Memory One Player\n"
     ]
    },
    {
     "name": "stderr",
     "output_type": "stream",
     "text": [
      "Playing matches: 100%|██████████| 120/120 [00:58<00:00,  2.06it/s]\n",
      "Analysing: 100%|██████████| 25/25 [00:02<00:00,  9.36it/s]"
     ]
    },
    {
     "name": "stdout",
     "output_type": "stream",
     "text": [
      "Five player response probabilities: \n",
      " [[0.86 1.   1.   1.  ]\n",
      " [1.   1.   1.   1.  ]\n",
      " [1.   1.   1.   1.  ]\n",
      " [1.   1.   1.   1.  ]\n",
      " [1.   1.   1.   1.  ]\n",
      " [1.   1.   1.   1.  ]\n",
      " [1.   1.   1.   1.  ]\n",
      " [1.   1.   1.   1.  ]\n",
      " [1.   1.   1.   1.  ]\n",
      " [1.   1.   1.   1.  ]\n",
      " [1.   1.   1.   1.  ]\n",
      " [1.   1.   1.   1.  ]\n",
      " [1.   1.   1.   1.  ]\n",
      " [1.   1.   1.   1.  ]\n",
      " [1.   1.   1.   1.  ]]\n",
      "Instantiating tournament object with these players:  Generic Memory One Player,Generic Memory One Player,Generic Memory One Player,Generic Memory One Player,Generic Memory One Player,Generic Memory One Player,Generic Memory One Player,Generic Memory One Player,Generic Memory One Player,Generic Memory One Player,Generic Memory One Player,Generic Memory One Player,Generic Memory One Player,Generic Memory One Player,Generic Memory One Player\n"
     ]
    },
    {
     "name": "stderr",
     "output_type": "stream",
     "text": [
      "\n",
      "Playing matches: 100%|██████████| 120/120 [00:54<00:00,  2.22it/s]\n",
      "Analysing: 100%|██████████| 25/25 [00:02<00:00,  8.68it/s]\n"
     ]
    },
    {
     "name": "stdout",
     "output_type": "stream",
     "text": [
      "Five player response probabilities: \n",
      " [[0.87 1.   1.   1.  ]\n",
      " [1.   1.   1.   1.  ]\n",
      " [1.   1.   1.   1.  ]\n",
      " [1.   1.   1.   1.  ]\n",
      " [1.   1.   1.   1.  ]\n",
      " [1.   1.   1.   1.  ]\n",
      " [1.   1.   1.   1.  ]\n",
      " [1.   1.   1.   1.  ]\n",
      " [1.   1.   1.   1.  ]\n",
      " [1.   1.   1.   1.  ]\n",
      " [1.   1.   1.   1.  ]\n",
      " [1.   1.   1.   1.  ]\n",
      " [1.   1.   1.   1.  ]\n",
      " [1.   1.   1.   1.  ]\n",
      " [1.   1.   1.   1.  ]]\n",
      "Instantiating tournament object with these players:  Generic Memory One Player,Generic Memory One Player,Generic Memory One Player,Generic Memory One Player,Generic Memory One Player,Generic Memory One Player,Generic Memory One Player,Generic Memory One Player,Generic Memory One Player,Generic Memory One Player,Generic Memory One Player,Generic Memory One Player,Generic Memory One Player,Generic Memory One Player,Generic Memory One Player\n"
     ]
    },
    {
     "name": "stderr",
     "output_type": "stream",
     "text": [
      "Playing matches: 100%|██████████| 120/120 [00:59<00:00,  2.00it/s]\n",
      "Analysing: 100%|██████████| 25/25 [00:02<00:00,  9.14it/s]"
     ]
    },
    {
     "name": "stdout",
     "output_type": "stream",
     "text": [
      "Five player response probabilities: \n",
      " [[0.88 1.   1.   1.  ]\n",
      " [1.   1.   1.   1.  ]\n",
      " [1.   1.   1.   1.  ]\n",
      " [1.   1.   1.   1.  ]\n",
      " [1.   1.   1.   1.  ]\n",
      " [1.   1.   1.   1.  ]\n",
      " [1.   1.   1.   1.  ]\n",
      " [1.   1.   1.   1.  ]\n",
      " [1.   1.   1.   1.  ]\n",
      " [1.   1.   1.   1.  ]\n",
      " [1.   1.   1.   1.  ]\n",
      " [1.   1.   1.   1.  ]\n",
      " [1.   1.   1.   1.  ]\n",
      " [1.   1.   1.   1.  ]\n",
      " [1.   1.   1.   1.  ]]\n",
      "Instantiating tournament object with these players:  Generic Memory One Player,Generic Memory One Player,Generic Memory One Player,Generic Memory One Player,Generic Memory One Player,Generic Memory One Player,Generic Memory One Player,Generic Memory One Player,Generic Memory One Player,Generic Memory One Player,Generic Memory One Player,Generic Memory One Player,Generic Memory One Player,Generic Memory One Player,Generic Memory One Player\n"
     ]
    },
    {
     "name": "stderr",
     "output_type": "stream",
     "text": [
      "\n",
      "Playing matches: 100%|██████████| 120/120 [00:57<00:00,  2.09it/s]\n",
      "Analysing: 100%|██████████| 25/25 [00:03<00:00,  7.83it/s]"
     ]
    },
    {
     "name": "stdout",
     "output_type": "stream",
     "text": [
      "Five player response probabilities: \n",
      " [[0.89 1.   1.   1.  ]\n",
      " [1.   1.   1.   1.  ]\n",
      " [1.   1.   1.   1.  ]\n",
      " [1.   1.   1.   1.  ]\n",
      " [1.   1.   1.   1.  ]\n",
      " [1.   1.   1.   1.  ]\n",
      " [1.   1.   1.   1.  ]\n",
      " [1.   1.   1.   1.  ]\n",
      " [1.   1.   1.   1.  ]\n",
      " [1.   1.   1.   1.  ]\n",
      " [1.   1.   1.   1.  ]\n",
      " [1.   1.   1.   1.  ]\n",
      " [1.   1.   1.   1.  ]\n",
      " [1.   1.   1.   1.  ]\n",
      " [1.   1.   1.   1.  ]]\n",
      "Instantiating tournament object with these players:  Generic Memory One Player,Generic Memory One Player,Generic Memory One Player,Generic Memory One Player,Generic Memory One Player,Generic Memory One Player,Generic Memory One Player,Generic Memory One Player,Generic Memory One Player,Generic Memory One Player,Generic Memory One Player,Generic Memory One Player,Generic Memory One Player,Generic Memory One Player,Generic Memory One Player\n"
     ]
    },
    {
     "name": "stderr",
     "output_type": "stream",
     "text": [
      "\n",
      "Playing matches: 100%|██████████| 120/120 [00:52<00:00,  2.27it/s]\n",
      "Analysing: 100%|██████████| 25/25 [00:02<00:00,  9.11it/s]\n"
     ]
    },
    {
     "name": "stdout",
     "output_type": "stream",
     "text": [
      "Five player response probabilities: \n",
      " [[0.9 1.  1.  1. ]\n",
      " [1.  1.  1.  1. ]\n",
      " [1.  1.  1.  1. ]\n",
      " [1.  1.  1.  1. ]\n",
      " [1.  1.  1.  1. ]\n",
      " [1.  1.  1.  1. ]\n",
      " [1.  1.  1.  1. ]\n",
      " [1.  1.  1.  1. ]\n",
      " [1.  1.  1.  1. ]\n",
      " [1.  1.  1.  1. ]\n",
      " [1.  1.  1.  1. ]\n",
      " [1.  1.  1.  1. ]\n",
      " [1.  1.  1.  1. ]\n",
      " [1.  1.  1.  1. ]\n",
      " [1.  1.  1.  1. ]]\n",
      "Instantiating tournament object with these players:  Generic Memory One Player,Generic Memory One Player,Generic Memory One Player,Generic Memory One Player,Generic Memory One Player,Generic Memory One Player,Generic Memory One Player,Generic Memory One Player,Generic Memory One Player,Generic Memory One Player,Generic Memory One Player,Generic Memory One Player,Generic Memory One Player,Generic Memory One Player,Generic Memory One Player\n"
     ]
    },
    {
     "name": "stderr",
     "output_type": "stream",
     "text": [
      "Playing matches: 100%|██████████| 120/120 [00:52<00:00,  2.31it/s]\n",
      "Analysing: 100%|██████████| 25/25 [00:02<00:00,  8.71it/s]\n"
     ]
    },
    {
     "name": "stdout",
     "output_type": "stream",
     "text": [
      "Five player response probabilities: \n",
      " [[0.91 1.   1.   1.  ]\n",
      " [1.   1.   1.   1.  ]\n",
      " [1.   1.   1.   1.  ]\n",
      " [1.   1.   1.   1.  ]\n",
      " [1.   1.   1.   1.  ]\n",
      " [1.   1.   1.   1.  ]\n",
      " [1.   1.   1.   1.  ]\n",
      " [1.   1.   1.   1.  ]\n",
      " [1.   1.   1.   1.  ]\n",
      " [1.   1.   1.   1.  ]\n",
      " [1.   1.   1.   1.  ]\n",
      " [1.   1.   1.   1.  ]\n",
      " [1.   1.   1.   1.  ]\n",
      " [1.   1.   1.   1.  ]\n",
      " [1.   1.   1.   1.  ]]\n",
      "Instantiating tournament object with these players:  Generic Memory One Player,Generic Memory One Player,Generic Memory One Player,Generic Memory One Player,Generic Memory One Player,Generic Memory One Player,Generic Memory One Player,Generic Memory One Player,Generic Memory One Player,Generic Memory One Player,Generic Memory One Player,Generic Memory One Player,Generic Memory One Player,Generic Memory One Player,Generic Memory One Player\n"
     ]
    },
    {
     "name": "stderr",
     "output_type": "stream",
     "text": [
      "Playing matches: 100%|██████████| 120/120 [00:52<00:00,  2.30it/s]\n",
      "Analysing: 100%|██████████| 25/25 [00:02<00:00,  8.83it/s]\n"
     ]
    },
    {
     "name": "stdout",
     "output_type": "stream",
     "text": [
      "Five player response probabilities: \n",
      " [[0.92 1.   1.   1.  ]\n",
      " [1.   1.   1.   1.  ]\n",
      " [1.   1.   1.   1.  ]\n",
      " [1.   1.   1.   1.  ]\n",
      " [1.   1.   1.   1.  ]\n",
      " [1.   1.   1.   1.  ]\n",
      " [1.   1.   1.   1.  ]\n",
      " [1.   1.   1.   1.  ]\n",
      " [1.   1.   1.   1.  ]\n",
      " [1.   1.   1.   1.  ]\n",
      " [1.   1.   1.   1.  ]\n",
      " [1.   1.   1.   1.  ]\n",
      " [1.   1.   1.   1.  ]\n",
      " [1.   1.   1.   1.  ]\n",
      " [1.   1.   1.   1.  ]]\n",
      "Instantiating tournament object with these players:  Generic Memory One Player,Generic Memory One Player,Generic Memory One Player,Generic Memory One Player,Generic Memory One Player,Generic Memory One Player,Generic Memory One Player,Generic Memory One Player,Generic Memory One Player,Generic Memory One Player,Generic Memory One Player,Generic Memory One Player,Generic Memory One Player,Generic Memory One Player,Generic Memory One Player\n"
     ]
    },
    {
     "name": "stderr",
     "output_type": "stream",
     "text": [
      "Playing matches: 100%|██████████| 120/120 [00:59<00:00,  2.01it/s]\n",
      "Analysing: 100%|██████████| 25/25 [00:02<00:00,  8.82it/s]\n"
     ]
    },
    {
     "name": "stdout",
     "output_type": "stream",
     "text": [
      "Five player response probabilities: \n",
      " [[0.93 1.   1.   1.  ]\n",
      " [1.   1.   1.   1.  ]\n",
      " [1.   1.   1.   1.  ]\n",
      " [1.   1.   1.   1.  ]\n",
      " [1.   1.   1.   1.  ]\n",
      " [1.   1.   1.   1.  ]\n",
      " [1.   1.   1.   1.  ]\n",
      " [1.   1.   1.   1.  ]\n",
      " [1.   1.   1.   1.  ]\n",
      " [1.   1.   1.   1.  ]\n",
      " [1.   1.   1.   1.  ]\n",
      " [1.   1.   1.   1.  ]\n",
      " [1.   1.   1.   1.  ]\n",
      " [1.   1.   1.   1.  ]\n",
      " [1.   1.   1.   1.  ]]\n",
      "Instantiating tournament object with these players:  Generic Memory One Player,Generic Memory One Player,Generic Memory One Player,Generic Memory One Player,Generic Memory One Player,Generic Memory One Player,Generic Memory One Player,Generic Memory One Player,Generic Memory One Player,Generic Memory One Player,Generic Memory One Player,Generic Memory One Player,Generic Memory One Player,Generic Memory One Player,Generic Memory One Player\n"
     ]
    },
    {
     "name": "stderr",
     "output_type": "stream",
     "text": [
      "Playing matches: 100%|██████████| 120/120 [00:55<00:00,  2.15it/s]\n",
      "Analysing: 100%|██████████| 25/25 [00:02<00:00,  8.80it/s]\n"
     ]
    },
    {
     "name": "stdout",
     "output_type": "stream",
     "text": [
      "Five player response probabilities: \n",
      " [[0.94 1.   1.   1.  ]\n",
      " [1.   1.   1.   1.  ]\n",
      " [1.   1.   1.   1.  ]\n",
      " [1.   1.   1.   1.  ]\n",
      " [1.   1.   1.   1.  ]\n",
      " [1.   1.   1.   1.  ]\n",
      " [1.   1.   1.   1.  ]\n",
      " [1.   1.   1.   1.  ]\n",
      " [1.   1.   1.   1.  ]\n",
      " [1.   1.   1.   1.  ]\n",
      " [1.   1.   1.   1.  ]\n",
      " [1.   1.   1.   1.  ]\n",
      " [1.   1.   1.   1.  ]\n",
      " [1.   1.   1.   1.  ]\n",
      " [1.   1.   1.   1.  ]]\n",
      "Instantiating tournament object with these players:  Generic Memory One Player,Generic Memory One Player,Generic Memory One Player,Generic Memory One Player,Generic Memory One Player,Generic Memory One Player,Generic Memory One Player,Generic Memory One Player,Generic Memory One Player,Generic Memory One Player,Generic Memory One Player,Generic Memory One Player,Generic Memory One Player,Generic Memory One Player,Generic Memory One Player\n"
     ]
    },
    {
     "name": "stderr",
     "output_type": "stream",
     "text": [
      "Playing matches: 100%|██████████| 120/120 [00:55<00:00,  2.15it/s]\n",
      "Analysing: 100%|██████████| 25/25 [00:03<00:00,  8.29it/s]\n"
     ]
    },
    {
     "name": "stdout",
     "output_type": "stream",
     "text": [
      "Five player response probabilities: \n",
      " [[0.95 1.   1.   1.  ]\n",
      " [1.   1.   1.   1.  ]\n",
      " [1.   1.   1.   1.  ]\n",
      " [1.   1.   1.   1.  ]\n",
      " [1.   1.   1.   1.  ]\n",
      " [1.   1.   1.   1.  ]\n",
      " [1.   1.   1.   1.  ]\n",
      " [1.   1.   1.   1.  ]\n",
      " [1.   1.   1.   1.  ]\n",
      " [1.   1.   1.   1.  ]\n",
      " [1.   1.   1.   1.  ]\n",
      " [1.   1.   1.   1.  ]\n",
      " [1.   1.   1.   1.  ]\n",
      " [1.   1.   1.   1.  ]\n",
      " [1.   1.   1.   1.  ]]\n",
      "Instantiating tournament object with these players:  Generic Memory One Player,Generic Memory One Player,Generic Memory One Player,Generic Memory One Player,Generic Memory One Player,Generic Memory One Player,Generic Memory One Player,Generic Memory One Player,Generic Memory One Player,Generic Memory One Player,Generic Memory One Player,Generic Memory One Player,Generic Memory One Player,Generic Memory One Player,Generic Memory One Player\n"
     ]
    },
    {
     "name": "stderr",
     "output_type": "stream",
     "text": [
      "Playing matches: 100%|██████████| 120/120 [00:54<00:00,  2.20it/s]\n",
      "Analysing: 100%|██████████| 25/25 [00:02<00:00,  8.40it/s]\n"
     ]
    },
    {
     "name": "stdout",
     "output_type": "stream",
     "text": [
      "Five player response probabilities: \n",
      " [[0.96 1.   1.   1.  ]\n",
      " [1.   1.   1.   1.  ]\n",
      " [1.   1.   1.   1.  ]\n",
      " [1.   1.   1.   1.  ]\n",
      " [1.   1.   1.   1.  ]\n",
      " [1.   1.   1.   1.  ]\n",
      " [1.   1.   1.   1.  ]\n",
      " [1.   1.   1.   1.  ]\n",
      " [1.   1.   1.   1.  ]\n",
      " [1.   1.   1.   1.  ]\n",
      " [1.   1.   1.   1.  ]\n",
      " [1.   1.   1.   1.  ]\n",
      " [1.   1.   1.   1.  ]\n",
      " [1.   1.   1.   1.  ]\n",
      " [1.   1.   1.   1.  ]]\n",
      "Instantiating tournament object with these players:  Generic Memory One Player,Generic Memory One Player,Generic Memory One Player,Generic Memory One Player,Generic Memory One Player,Generic Memory One Player,Generic Memory One Player,Generic Memory One Player,Generic Memory One Player,Generic Memory One Player,Generic Memory One Player,Generic Memory One Player,Generic Memory One Player,Generic Memory One Player,Generic Memory One Player\n"
     ]
    },
    {
     "name": "stderr",
     "output_type": "stream",
     "text": [
      "Playing matches: 100%|██████████| 120/120 [00:56<00:00,  2.11it/s]\n",
      "Analysing: 100%|██████████| 25/25 [00:03<00:00,  8.01it/s]\n"
     ]
    },
    {
     "name": "stdout",
     "output_type": "stream",
     "text": [
      "Five player response probabilities: \n",
      " [[0.97 1.   1.   1.  ]\n",
      " [1.   1.   1.   1.  ]\n",
      " [1.   1.   1.   1.  ]\n",
      " [1.   1.   1.   1.  ]\n",
      " [1.   1.   1.   1.  ]\n",
      " [1.   1.   1.   1.  ]\n",
      " [1.   1.   1.   1.  ]\n",
      " [1.   1.   1.   1.  ]\n",
      " [1.   1.   1.   1.  ]\n",
      " [1.   1.   1.   1.  ]\n",
      " [1.   1.   1.   1.  ]\n",
      " [1.   1.   1.   1.  ]\n",
      " [1.   1.   1.   1.  ]\n",
      " [1.   1.   1.   1.  ]\n",
      " [1.   1.   1.   1.  ]]\n",
      "Instantiating tournament object with these players:  Generic Memory One Player,Generic Memory One Player,Generic Memory One Player,Generic Memory One Player,Generic Memory One Player,Generic Memory One Player,Generic Memory One Player,Generic Memory One Player,Generic Memory One Player,Generic Memory One Player,Generic Memory One Player,Generic Memory One Player,Generic Memory One Player,Generic Memory One Player,Generic Memory One Player\n"
     ]
    },
    {
     "name": "stderr",
     "output_type": "stream",
     "text": [
      "Playing matches: 100%|██████████| 120/120 [00:55<00:00,  2.18it/s]\n",
      "Analysing: 100%|██████████| 25/25 [00:03<00:00,  8.14it/s]\n"
     ]
    },
    {
     "name": "stdout",
     "output_type": "stream",
     "text": [
      "Five player response probabilities: \n",
      " [[0.98 1.   1.   1.  ]\n",
      " [1.   1.   1.   1.  ]\n",
      " [1.   1.   1.   1.  ]\n",
      " [1.   1.   1.   1.  ]\n",
      " [1.   1.   1.   1.  ]\n",
      " [1.   1.   1.   1.  ]\n",
      " [1.   1.   1.   1.  ]\n",
      " [1.   1.   1.   1.  ]\n",
      " [1.   1.   1.   1.  ]\n",
      " [1.   1.   1.   1.  ]\n",
      " [1.   1.   1.   1.  ]\n",
      " [1.   1.   1.   1.  ]\n",
      " [1.   1.   1.   1.  ]\n",
      " [1.   1.   1.   1.  ]\n",
      " [1.   1.   1.   1.  ]]\n",
      "Instantiating tournament object with these players:  Generic Memory One Player,Generic Memory One Player,Generic Memory One Player,Generic Memory One Player,Generic Memory One Player,Generic Memory One Player,Generic Memory One Player,Generic Memory One Player,Generic Memory One Player,Generic Memory One Player,Generic Memory One Player,Generic Memory One Player,Generic Memory One Player,Generic Memory One Player,Generic Memory One Player\n"
     ]
    },
    {
     "name": "stderr",
     "output_type": "stream",
     "text": [
      "Playing matches: 100%|██████████| 120/120 [00:55<00:00,  2.17it/s]\n",
      "Analysing: 100%|██████████| 25/25 [00:03<00:00,  7.68it/s]\n"
     ]
    },
    {
     "name": "stdout",
     "output_type": "stream",
     "text": [
      "Five player response probabilities: \n",
      " [[0.99 1.   1.   1.  ]\n",
      " [1.   1.   1.   1.  ]\n",
      " [1.   1.   1.   1.  ]\n",
      " [1.   1.   1.   1.  ]\n",
      " [1.   1.   1.   1.  ]\n",
      " [1.   1.   1.   1.  ]\n",
      " [1.   1.   1.   1.  ]\n",
      " [1.   1.   1.   1.  ]\n",
      " [1.   1.   1.   1.  ]\n",
      " [1.   1.   1.   1.  ]\n",
      " [1.   1.   1.   1.  ]\n",
      " [1.   1.   1.   1.  ]\n",
      " [1.   1.   1.   1.  ]\n",
      " [1.   1.   1.   1.  ]\n",
      " [1.   1.   1.   1.  ]]\n",
      "Instantiating tournament object with these players:  Generic Memory One Player,Generic Memory One Player,Generic Memory One Player,Generic Memory One Player,Generic Memory One Player,Generic Memory One Player,Generic Memory One Player,Generic Memory One Player,Generic Memory One Player,Generic Memory One Player,Generic Memory One Player,Generic Memory One Player,Generic Memory One Player,Generic Memory One Player,Generic Memory One Player\n"
     ]
    },
    {
     "name": "stderr",
     "output_type": "stream",
     "text": [
      "Playing matches: 100%|██████████| 120/120 [01:01<00:00,  1.94it/s]\n",
      "Analysing: 100%|██████████| 25/25 [00:03<00:00,  7.22it/s]"
     ]
    },
    {
     "name": "stdout",
     "output_type": "stream",
     "text": [
      "Five player response probabilities: \n",
      " [[1. 1. 1. 1.]\n",
      " [1. 1. 1. 1.]\n",
      " [1. 1. 1. 1.]\n",
      " [1. 1. 1. 1.]\n",
      " [1. 1. 1. 1.]\n",
      " [1. 1. 1. 1.]\n",
      " [1. 1. 1. 1.]\n",
      " [1. 1. 1. 1.]\n",
      " [1. 1. 1. 1.]\n",
      " [1. 1. 1. 1.]\n",
      " [1. 1. 1. 1.]\n",
      " [1. 1. 1. 1.]\n",
      " [1. 1. 1. 1.]\n",
      " [1. 1. 1. 1.]\n",
      " [1. 1. 1. 1.]]\n",
      "Instantiating tournament object with these players:  Generic Memory One Player,Generic Memory One Player,Generic Memory One Player,Generic Memory One Player,Generic Memory One Player,Generic Memory One Player,Generic Memory One Player,Generic Memory One Player,Generic Memory One Player,Generic Memory One Player,Generic Memory One Player,Generic Memory One Player,Generic Memory One Player,Generic Memory One Player,Generic Memory One Player\n"
     ]
    },
    {
     "name": "stderr",
     "output_type": "stream",
     "text": [
      "\n",
      "Playing matches: 100%|██████████| 120/120 [01:01<00:00,  1.96it/s]\n",
      "Analysing: 100%|██████████| 25/25 [00:02<00:00,  8.61it/s]\n"
     ]
    },
    {
     "name": "stdout",
     "output_type": "stream",
     "text": [
      "Tournaments took 952.3476951122284 seconds\n"
     ]
    }
   ],
   "source": [
    "params, initial_moves = fifteen_players, im_list3\n",
    "data_dict2_1 = {}\n",
    "start = time.time()\n",
    "\n",
    "# Collect results\n",
    "for k in range(85,101):\n",
    "    params[0,0] = k/100\n",
    "    print(\"Variable response probability for first player: \\n\", params[0,0])\n",
    "    plyrs = []\n",
    "    for j, p_i in enumerate(params):\n",
    "        pl = axl.MemoryOnePlayer(tuple(p_i),action_map[initial_moves[j]])\n",
    "        plyrs.append(pl)\n",
    "\n",
    "    pd1000 = pd_exp2.PdTournament(plyrs, reps=1000)\n",
    "\n",
    "    df1, df2=pd1000.data, pd1000.agg_data\n",
    "    data_dict2_1[k]= (params[0,0], df1, df2)  # Tuple of initial moves, player \n",
    "                                           # norm scores by tournament, \n",
    "                                           # aggregate data for 1000 tournaments\n",
    "    \n",
    "print(f\"Tournaments took {time.time() - start} seconds\")  # ~308.2929379940033 seconds"
   ]
  },
  {
   "cell_type": "code",
   "execution_count": 62,
   "metadata": {},
   "outputs": [
    {
     "data": {
      "text/html": [
       "<div>\n",
       "<style scoped>\n",
       "    .dataframe tbody tr th:only-of-type {\n",
       "        vertical-align: middle;\n",
       "    }\n",
       "\n",
       "    .dataframe tbody tr th {\n",
       "        vertical-align: top;\n",
       "    }\n",
       "\n",
       "    .dataframe thead th {\n",
       "        text-align: right;\n",
       "    }\n",
       "</style>\n",
       "<table border=\"1\" class=\"dataframe\">\n",
       "  <thead>\n",
       "    <tr style=\"text-align: right;\">\n",
       "      <th></th>\n",
       "      <th>pl1_p(C|CC)</th>\n",
       "      <th>P1_Avg_Norm_Score</th>\n",
       "      <th>P2_Avg_Norm_Score</th>\n",
       "      <th>P3_Avg_Norm_Score</th>\n",
       "      <th>P4_Avg_Norm_Score</th>\n",
       "      <th>P5_Avg_Norm_Score</th>\n",
       "      <th>P6_Avg_Norm_Score</th>\n",
       "      <th>P7_Avg_Norm_Score</th>\n",
       "      <th>P8_Avg_Norm_Score</th>\n",
       "      <th>P9_Avg_Norm_Score</th>\n",
       "      <th>P10_Avg_Norm_Score</th>\n",
       "      <th>P11_Avg_Norm_Score</th>\n",
       "      <th>P12_Avg_Norm_Score</th>\n",
       "      <th>P13_Avg_Norm_Score</th>\n",
       "      <th>P14_Avg_Norm_Score</th>\n",
       "      <th>P15_Avg_Norm_Score</th>\n",
       "    </tr>\n",
       "  </thead>\n",
       "  <tbody>\n",
       "    <tr>\n",
       "      <th>1000</th>\n",
       "      <td>0.85</td>\n",
       "      <td>3.198428</td>\n",
       "      <td>2.978635</td>\n",
       "      <td>2.978853</td>\n",
       "      <td>2.979756</td>\n",
       "      <td>2.978830</td>\n",
       "      <td>2.977486</td>\n",
       "      <td>2.978695</td>\n",
       "      <td>2.978054</td>\n",
       "      <td>2.977895</td>\n",
       "      <td>2.978829</td>\n",
       "      <td>2.979502</td>\n",
       "      <td>2.979530</td>\n",
       "      <td>2.979364</td>\n",
       "      <td>2.977681</td>\n",
       "      <td>2.979249</td>\n",
       "    </tr>\n",
       "    <tr>\n",
       "      <th>1000</th>\n",
       "      <td>0.86</td>\n",
       "      <td>3.186992</td>\n",
       "      <td>2.979924</td>\n",
       "      <td>2.980386</td>\n",
       "      <td>2.980853</td>\n",
       "      <td>2.980088</td>\n",
       "      <td>2.978780</td>\n",
       "      <td>2.979827</td>\n",
       "      <td>2.979315</td>\n",
       "      <td>2.979111</td>\n",
       "      <td>2.979914</td>\n",
       "      <td>2.980750</td>\n",
       "      <td>2.980826</td>\n",
       "      <td>2.980504</td>\n",
       "      <td>2.979238</td>\n",
       "      <td>2.979998</td>\n",
       "    </tr>\n",
       "    <tr>\n",
       "      <th>1000</th>\n",
       "      <td>0.87</td>\n",
       "      <td>3.175129</td>\n",
       "      <td>2.980892</td>\n",
       "      <td>2.981732</td>\n",
       "      <td>2.982215</td>\n",
       "      <td>2.981353</td>\n",
       "      <td>2.980203</td>\n",
       "      <td>2.981065</td>\n",
       "      <td>2.980500</td>\n",
       "      <td>2.980546</td>\n",
       "      <td>2.981030</td>\n",
       "      <td>2.982081</td>\n",
       "      <td>2.982314</td>\n",
       "      <td>2.981888</td>\n",
       "      <td>2.980215</td>\n",
       "      <td>2.981271</td>\n",
       "    </tr>\n",
       "    <tr>\n",
       "      <th>1000</th>\n",
       "      <td>0.88</td>\n",
       "      <td>3.161782</td>\n",
       "      <td>2.982134</td>\n",
       "      <td>2.982909</td>\n",
       "      <td>2.983800</td>\n",
       "      <td>2.982781</td>\n",
       "      <td>2.981702</td>\n",
       "      <td>2.982478</td>\n",
       "      <td>2.982005</td>\n",
       "      <td>2.982123</td>\n",
       "      <td>2.982484</td>\n",
       "      <td>2.983299</td>\n",
       "      <td>2.983753</td>\n",
       "      <td>2.983427</td>\n",
       "      <td>2.981808</td>\n",
       "      <td>2.982624</td>\n",
       "    </tr>\n",
       "    <tr>\n",
       "      <th>1000</th>\n",
       "      <td>0.89</td>\n",
       "      <td>3.148913</td>\n",
       "      <td>2.983400</td>\n",
       "      <td>2.984218</td>\n",
       "      <td>2.985262</td>\n",
       "      <td>2.984042</td>\n",
       "      <td>2.983280</td>\n",
       "      <td>2.983550</td>\n",
       "      <td>2.983251</td>\n",
       "      <td>2.983364</td>\n",
       "      <td>2.983865</td>\n",
       "      <td>2.984628</td>\n",
       "      <td>2.985223</td>\n",
       "      <td>2.984952</td>\n",
       "      <td>2.983465</td>\n",
       "      <td>2.984131</td>\n",
       "    </tr>\n",
       "    <tr>\n",
       "      <th>1000</th>\n",
       "      <td>0.9</td>\n",
       "      <td>3.136754</td>\n",
       "      <td>2.984552</td>\n",
       "      <td>2.985557</td>\n",
       "      <td>2.986646</td>\n",
       "      <td>2.985393</td>\n",
       "      <td>2.984756</td>\n",
       "      <td>2.985060</td>\n",
       "      <td>2.984561</td>\n",
       "      <td>2.984661</td>\n",
       "      <td>2.984979</td>\n",
       "      <td>2.985604</td>\n",
       "      <td>2.986626</td>\n",
       "      <td>2.986217</td>\n",
       "      <td>2.984813</td>\n",
       "      <td>2.985445</td>\n",
       "    </tr>\n",
       "    <tr>\n",
       "      <th>1000</th>\n",
       "      <td>0.91</td>\n",
       "      <td>3.124394</td>\n",
       "      <td>2.985978</td>\n",
       "      <td>2.987061</td>\n",
       "      <td>2.987443</td>\n",
       "      <td>2.986486</td>\n",
       "      <td>2.986480</td>\n",
       "      <td>2.986226</td>\n",
       "      <td>2.986226</td>\n",
       "      <td>2.986231</td>\n",
       "      <td>2.986217</td>\n",
       "      <td>2.986623</td>\n",
       "      <td>2.987851</td>\n",
       "      <td>2.987834</td>\n",
       "      <td>2.985913</td>\n",
       "      <td>2.986840</td>\n",
       "    </tr>\n",
       "    <tr>\n",
       "      <th>1000</th>\n",
       "      <td>0.92</td>\n",
       "      <td>3.112131</td>\n",
       "      <td>2.987007</td>\n",
       "      <td>2.988282</td>\n",
       "      <td>2.988711</td>\n",
       "      <td>2.987763</td>\n",
       "      <td>2.987818</td>\n",
       "      <td>2.987858</td>\n",
       "      <td>2.987500</td>\n",
       "      <td>2.987535</td>\n",
       "      <td>2.987633</td>\n",
       "      <td>2.987946</td>\n",
       "      <td>2.989171</td>\n",
       "      <td>2.988993</td>\n",
       "      <td>2.987284</td>\n",
       "      <td>2.988303</td>\n",
       "    </tr>\n",
       "    <tr>\n",
       "      <th>1000</th>\n",
       "      <td>0.93</td>\n",
       "      <td>3.098757</td>\n",
       "      <td>2.988137</td>\n",
       "      <td>2.989957</td>\n",
       "      <td>2.990284</td>\n",
       "      <td>2.989162</td>\n",
       "      <td>2.989482</td>\n",
       "      <td>2.989418</td>\n",
       "      <td>2.988833</td>\n",
       "      <td>2.988991</td>\n",
       "      <td>2.989020</td>\n",
       "      <td>2.989123</td>\n",
       "      <td>2.990368</td>\n",
       "      <td>2.990321</td>\n",
       "      <td>2.988903</td>\n",
       "      <td>2.989866</td>\n",
       "    </tr>\n",
       "    <tr>\n",
       "      <th>1000</th>\n",
       "      <td>0.94</td>\n",
       "      <td>3.084409</td>\n",
       "      <td>2.989829</td>\n",
       "      <td>2.991452</td>\n",
       "      <td>2.991635</td>\n",
       "      <td>2.991034</td>\n",
       "      <td>2.991173</td>\n",
       "      <td>2.990656</td>\n",
       "      <td>2.990603</td>\n",
       "      <td>2.989913</td>\n",
       "      <td>2.990800</td>\n",
       "      <td>2.990696</td>\n",
       "      <td>2.991912</td>\n",
       "      <td>2.991911</td>\n",
       "      <td>2.990508</td>\n",
       "      <td>2.991264</td>\n",
       "    </tr>\n",
       "    <tr>\n",
       "      <th>1000</th>\n",
       "      <td>0.95</td>\n",
       "      <td>3.071263</td>\n",
       "      <td>2.991190</td>\n",
       "      <td>2.992792</td>\n",
       "      <td>2.993103</td>\n",
       "      <td>2.992646</td>\n",
       "      <td>2.992836</td>\n",
       "      <td>2.992243</td>\n",
       "      <td>2.992000</td>\n",
       "      <td>2.991507</td>\n",
       "      <td>2.992013</td>\n",
       "      <td>2.992220</td>\n",
       "      <td>2.993151</td>\n",
       "      <td>2.992797</td>\n",
       "      <td>2.991723</td>\n",
       "      <td>2.992885</td>\n",
       "    </tr>\n",
       "    <tr>\n",
       "      <th>1000</th>\n",
       "      <td>0.96</td>\n",
       "      <td>3.056776</td>\n",
       "      <td>2.993097</td>\n",
       "      <td>2.994249</td>\n",
       "      <td>2.994800</td>\n",
       "      <td>2.994000</td>\n",
       "      <td>2.994265</td>\n",
       "      <td>2.993655</td>\n",
       "      <td>2.993490</td>\n",
       "      <td>2.993056</td>\n",
       "      <td>2.993647</td>\n",
       "      <td>2.993651</td>\n",
       "      <td>2.994760</td>\n",
       "      <td>2.994609</td>\n",
       "      <td>2.993520</td>\n",
       "      <td>2.994036</td>\n",
       "    </tr>\n",
       "    <tr>\n",
       "      <th>1000</th>\n",
       "      <td>0.97</td>\n",
       "      <td>3.042640</td>\n",
       "      <td>2.994831</td>\n",
       "      <td>2.995629</td>\n",
       "      <td>2.996398</td>\n",
       "      <td>2.995613</td>\n",
       "      <td>2.995580</td>\n",
       "      <td>2.994829</td>\n",
       "      <td>2.994708</td>\n",
       "      <td>2.995358</td>\n",
       "      <td>2.994967</td>\n",
       "      <td>2.995151</td>\n",
       "      <td>2.996029</td>\n",
       "      <td>2.995979</td>\n",
       "      <td>2.995427</td>\n",
       "      <td>2.995542</td>\n",
       "    </tr>\n",
       "    <tr>\n",
       "      <th>1000</th>\n",
       "      <td>0.98</td>\n",
       "      <td>3.029107</td>\n",
       "      <td>2.996419</td>\n",
       "      <td>2.996867</td>\n",
       "      <td>2.997525</td>\n",
       "      <td>2.997213</td>\n",
       "      <td>2.997172</td>\n",
       "      <td>2.996431</td>\n",
       "      <td>2.996332</td>\n",
       "      <td>2.996817</td>\n",
       "      <td>2.996922</td>\n",
       "      <td>2.996571</td>\n",
       "      <td>2.997159</td>\n",
       "      <td>2.997149</td>\n",
       "      <td>2.997038</td>\n",
       "      <td>2.996726</td>\n",
       "    </tr>\n",
       "    <tr>\n",
       "      <th>1000</th>\n",
       "      <td>0.99</td>\n",
       "      <td>3.015011</td>\n",
       "      <td>2.998347</td>\n",
       "      <td>2.998344</td>\n",
       "      <td>2.998599</td>\n",
       "      <td>2.998565</td>\n",
       "      <td>2.998525</td>\n",
       "      <td>2.998060</td>\n",
       "      <td>2.998162</td>\n",
       "      <td>2.998394</td>\n",
       "      <td>2.998202</td>\n",
       "      <td>2.998187</td>\n",
       "      <td>2.998579</td>\n",
       "      <td>2.998669</td>\n",
       "      <td>2.998560</td>\n",
       "      <td>2.998292</td>\n",
       "    </tr>\n",
       "    <tr>\n",
       "      <th>1000</th>\n",
       "      <td>1.0</td>\n",
       "      <td>3.000000</td>\n",
       "      <td>3.000000</td>\n",
       "      <td>3.000000</td>\n",
       "      <td>3.000000</td>\n",
       "      <td>3.000000</td>\n",
       "      <td>3.000000</td>\n",
       "      <td>3.000000</td>\n",
       "      <td>3.000000</td>\n",
       "      <td>3.000000</td>\n",
       "      <td>3.000000</td>\n",
       "      <td>3.000000</td>\n",
       "      <td>3.000000</td>\n",
       "      <td>3.000000</td>\n",
       "      <td>3.000000</td>\n",
       "      <td>3.000000</td>\n",
       "    </tr>\n",
       "  </tbody>\n",
       "</table>\n",
       "</div>"
      ],
      "text/plain": [
       "     pl1_p(C|CC)  P1_Avg_Norm_Score  P2_Avg_Norm_Score  P3_Avg_Norm_Score  \\\n",
       "1000        0.85           3.198428           2.978635           2.978853   \n",
       "1000        0.86           3.186992           2.979924           2.980386   \n",
       "1000        0.87           3.175129           2.980892           2.981732   \n",
       "1000        0.88           3.161782           2.982134           2.982909   \n",
       "1000        0.89           3.148913           2.983400           2.984218   \n",
       "1000         0.9           3.136754           2.984552           2.985557   \n",
       "1000        0.91           3.124394           2.985978           2.987061   \n",
       "1000        0.92           3.112131           2.987007           2.988282   \n",
       "1000        0.93           3.098757           2.988137           2.989957   \n",
       "1000        0.94           3.084409           2.989829           2.991452   \n",
       "1000        0.95           3.071263           2.991190           2.992792   \n",
       "1000        0.96           3.056776           2.993097           2.994249   \n",
       "1000        0.97           3.042640           2.994831           2.995629   \n",
       "1000        0.98           3.029107           2.996419           2.996867   \n",
       "1000        0.99           3.015011           2.998347           2.998344   \n",
       "1000         1.0           3.000000           3.000000           3.000000   \n",
       "\n",
       "      P4_Avg_Norm_Score  P5_Avg_Norm_Score  P6_Avg_Norm_Score  \\\n",
       "1000           2.979756           2.978830           2.977486   \n",
       "1000           2.980853           2.980088           2.978780   \n",
       "1000           2.982215           2.981353           2.980203   \n",
       "1000           2.983800           2.982781           2.981702   \n",
       "1000           2.985262           2.984042           2.983280   \n",
       "1000           2.986646           2.985393           2.984756   \n",
       "1000           2.987443           2.986486           2.986480   \n",
       "1000           2.988711           2.987763           2.987818   \n",
       "1000           2.990284           2.989162           2.989482   \n",
       "1000           2.991635           2.991034           2.991173   \n",
       "1000           2.993103           2.992646           2.992836   \n",
       "1000           2.994800           2.994000           2.994265   \n",
       "1000           2.996398           2.995613           2.995580   \n",
       "1000           2.997525           2.997213           2.997172   \n",
       "1000           2.998599           2.998565           2.998525   \n",
       "1000           3.000000           3.000000           3.000000   \n",
       "\n",
       "      P7_Avg_Norm_Score  P8_Avg_Norm_Score  P9_Avg_Norm_Score  \\\n",
       "1000           2.978695           2.978054           2.977895   \n",
       "1000           2.979827           2.979315           2.979111   \n",
       "1000           2.981065           2.980500           2.980546   \n",
       "1000           2.982478           2.982005           2.982123   \n",
       "1000           2.983550           2.983251           2.983364   \n",
       "1000           2.985060           2.984561           2.984661   \n",
       "1000           2.986226           2.986226           2.986231   \n",
       "1000           2.987858           2.987500           2.987535   \n",
       "1000           2.989418           2.988833           2.988991   \n",
       "1000           2.990656           2.990603           2.989913   \n",
       "1000           2.992243           2.992000           2.991507   \n",
       "1000           2.993655           2.993490           2.993056   \n",
       "1000           2.994829           2.994708           2.995358   \n",
       "1000           2.996431           2.996332           2.996817   \n",
       "1000           2.998060           2.998162           2.998394   \n",
       "1000           3.000000           3.000000           3.000000   \n",
       "\n",
       "      P10_Avg_Norm_Score  P11_Avg_Norm_Score  P12_Avg_Norm_Score  \\\n",
       "1000            2.978829            2.979502            2.979530   \n",
       "1000            2.979914            2.980750            2.980826   \n",
       "1000            2.981030            2.982081            2.982314   \n",
       "1000            2.982484            2.983299            2.983753   \n",
       "1000            2.983865            2.984628            2.985223   \n",
       "1000            2.984979            2.985604            2.986626   \n",
       "1000            2.986217            2.986623            2.987851   \n",
       "1000            2.987633            2.987946            2.989171   \n",
       "1000            2.989020            2.989123            2.990368   \n",
       "1000            2.990800            2.990696            2.991912   \n",
       "1000            2.992013            2.992220            2.993151   \n",
       "1000            2.993647            2.993651            2.994760   \n",
       "1000            2.994967            2.995151            2.996029   \n",
       "1000            2.996922            2.996571            2.997159   \n",
       "1000            2.998202            2.998187            2.998579   \n",
       "1000            3.000000            3.000000            3.000000   \n",
       "\n",
       "      P13_Avg_Norm_Score  P14_Avg_Norm_Score  P15_Avg_Norm_Score  \n",
       "1000            2.979364            2.977681            2.979249  \n",
       "1000            2.980504            2.979238            2.979998  \n",
       "1000            2.981888            2.980215            2.981271  \n",
       "1000            2.983427            2.981808            2.982624  \n",
       "1000            2.984952            2.983465            2.984131  \n",
       "1000            2.986217            2.984813            2.985445  \n",
       "1000            2.987834            2.985913            2.986840  \n",
       "1000            2.988993            2.987284            2.988303  \n",
       "1000            2.990321            2.988903            2.989866  \n",
       "1000            2.991911            2.990508            2.991264  \n",
       "1000            2.992797            2.991723            2.992885  \n",
       "1000            2.994609            2.993520            2.994036  \n",
       "1000            2.995979            2.995427            2.995542  \n",
       "1000            2.997149            2.997038            2.996726  \n",
       "1000            2.998669            2.998560            2.998292  \n",
       "1000            3.000000            3.000000            3.000000  "
      ]
     },
     "metadata": {},
     "output_type": "display_data"
    },
    {
     "data": {
      "text/html": [
       "<div>\n",
       "<style scoped>\n",
       "    .dataframe tbody tr th:only-of-type {\n",
       "        vertical-align: middle;\n",
       "    }\n",
       "\n",
       "    .dataframe tbody tr th {\n",
       "        vertical-align: top;\n",
       "    }\n",
       "\n",
       "    .dataframe thead th {\n",
       "        text-align: right;\n",
       "    }\n",
       "</style>\n",
       "<table border=\"1\" class=\"dataframe\">\n",
       "  <thead>\n",
       "    <tr style=\"text-align: right;\">\n",
       "      <th></th>\n",
       "      <th>pl1_p(C|CC)</th>\n",
       "      <th>Avg_of_PL_Scores</th>\n",
       "      <th>Scores_L2_Dist</th>\n",
       "      <th>Avg_CC_Distribution</th>\n",
       "      <th>CC_L1_Dist</th>\n",
       "    </tr>\n",
       "  </thead>\n",
       "  <tbody>\n",
       "    <tr>\n",
       "      <th>1000</th>\n",
       "      <td>0.85</td>\n",
       "      <td>2.993386</td>\n",
       "      <td>7.559007</td>\n",
       "      <td>0.984207</td>\n",
       "      <td>0.015793</td>\n",
       "    </tr>\n",
       "    <tr>\n",
       "      <th>1000</th>\n",
       "      <td>0.86</td>\n",
       "      <td>2.993767</td>\n",
       "      <td>7.172652</td>\n",
       "      <td>0.985128</td>\n",
       "      <td>0.014872</td>\n",
       "    </tr>\n",
       "    <tr>\n",
       "      <th>1000</th>\n",
       "      <td>0.87</td>\n",
       "      <td>2.994162</td>\n",
       "      <td>6.772900</td>\n",
       "      <td>0.986097</td>\n",
       "      <td>0.013903</td>\n",
       "    </tr>\n",
       "    <tr>\n",
       "      <th>1000</th>\n",
       "      <td>0.88</td>\n",
       "      <td>2.994607</td>\n",
       "      <td>6.326353</td>\n",
       "      <td>0.987110</td>\n",
       "      <td>0.012890</td>\n",
       "    </tr>\n",
       "    <tr>\n",
       "      <th>1000</th>\n",
       "      <td>0.89</td>\n",
       "      <td>2.995036</td>\n",
       "      <td>5.889226</td>\n",
       "      <td>0.988108</td>\n",
       "      <td>0.011892</td>\n",
       "    </tr>\n",
       "    <tr>\n",
       "      <th>1000</th>\n",
       "      <td>0.9</td>\n",
       "      <td>2.995442</td>\n",
       "      <td>5.475014</td>\n",
       "      <td>0.989070</td>\n",
       "      <td>0.010930</td>\n",
       "    </tr>\n",
       "    <tr>\n",
       "      <th>1000</th>\n",
       "      <td>0.91</td>\n",
       "      <td>2.995854</td>\n",
       "      <td>5.053614</td>\n",
       "      <td>0.990071</td>\n",
       "      <td>0.009929</td>\n",
       "    </tr>\n",
       "    <tr>\n",
       "      <th>1000</th>\n",
       "      <td>0.92</td>\n",
       "      <td>2.996262</td>\n",
       "      <td>4.648636</td>\n",
       "      <td>0.991100</td>\n",
       "      <td>0.008900</td>\n",
       "    </tr>\n",
       "    <tr>\n",
       "      <th>1000</th>\n",
       "      <td>0.93</td>\n",
       "      <td>2.996708</td>\n",
       "      <td>4.202211</td>\n",
       "      <td>0.992155</td>\n",
       "      <td>0.007845</td>\n",
       "    </tr>\n",
       "    <tr>\n",
       "      <th>1000</th>\n",
       "      <td>0.94</td>\n",
       "      <td>2.997186</td>\n",
       "      <td>3.696370</td>\n",
       "      <td>0.993250</td>\n",
       "      <td>0.006750</td>\n",
       "    </tr>\n",
       "    <tr>\n",
       "      <th>1000</th>\n",
       "      <td>0.95</td>\n",
       "      <td>2.997625</td>\n",
       "      <td>3.244601</td>\n",
       "      <td>0.994296</td>\n",
       "      <td>0.005704</td>\n",
       "    </tr>\n",
       "    <tr>\n",
       "      <th>1000</th>\n",
       "      <td>0.96</td>\n",
       "      <td>2.998107</td>\n",
       "      <td>2.731611</td>\n",
       "      <td>0.995420</td>\n",
       "      <td>0.004580</td>\n",
       "    </tr>\n",
       "    <tr>\n",
       "      <th>1000</th>\n",
       "      <td>0.97</td>\n",
       "      <td>2.998579</td>\n",
       "      <td>2.222633</td>\n",
       "      <td>0.996558</td>\n",
       "      <td>0.003442</td>\n",
       "    </tr>\n",
       "    <tr>\n",
       "      <th>1000</th>\n",
       "      <td>0.98</td>\n",
       "      <td>2.999030</td>\n",
       "      <td>1.718361</td>\n",
       "      <td>0.997659</td>\n",
       "      <td>0.002341</td>\n",
       "    </tr>\n",
       "    <tr>\n",
       "      <th>1000</th>\n",
       "      <td>0.99</td>\n",
       "      <td>2.999500</td>\n",
       "      <td>1.124492</td>\n",
       "      <td>0.998801</td>\n",
       "      <td>0.001199</td>\n",
       "    </tr>\n",
       "    <tr>\n",
       "      <th>1000</th>\n",
       "      <td>1.0</td>\n",
       "      <td>3.000000</td>\n",
       "      <td>0.000000</td>\n",
       "      <td>1.000000</td>\n",
       "      <td>0.000000</td>\n",
       "    </tr>\n",
       "  </tbody>\n",
       "</table>\n",
       "</div>"
      ],
      "text/plain": [
       "     pl1_p(C|CC)  Avg_of_PL_Scores  Scores_L2_Dist  Avg_CC_Distribution  \\\n",
       "1000        0.85          2.993386        7.559007             0.984207   \n",
       "1000        0.86          2.993767        7.172652             0.985128   \n",
       "1000        0.87          2.994162        6.772900             0.986097   \n",
       "1000        0.88          2.994607        6.326353             0.987110   \n",
       "1000        0.89          2.995036        5.889226             0.988108   \n",
       "1000         0.9          2.995442        5.475014             0.989070   \n",
       "1000        0.91          2.995854        5.053614             0.990071   \n",
       "1000        0.92          2.996262        4.648636             0.991100   \n",
       "1000        0.93          2.996708        4.202211             0.992155   \n",
       "1000        0.94          2.997186        3.696370             0.993250   \n",
       "1000        0.95          2.997625        3.244601             0.994296   \n",
       "1000        0.96          2.998107        2.731611             0.995420   \n",
       "1000        0.97          2.998579        2.222633             0.996558   \n",
       "1000        0.98          2.999030        1.718361             0.997659   \n",
       "1000        0.99          2.999500        1.124492             0.998801   \n",
       "1000         1.0          3.000000        0.000000             1.000000   \n",
       "\n",
       "      CC_L1_Dist  \n",
       "1000    0.015793  \n",
       "1000    0.014872  \n",
       "1000    0.013903  \n",
       "1000    0.012890  \n",
       "1000    0.011892  \n",
       "1000    0.010930  \n",
       "1000    0.009929  \n",
       "1000    0.008900  \n",
       "1000    0.007845  \n",
       "1000    0.006750  \n",
       "1000    0.005704  \n",
       "1000    0.004580  \n",
       "1000    0.003442  \n",
       "1000    0.002341  \n",
       "1000    0.001199  \n",
       "1000    0.000000  "
      ]
     },
     "execution_count": 62,
     "metadata": {},
     "output_type": "execute_result"
    }
   ],
   "source": [
    "agg_d_list = []\n",
    "for key,val in data_dict2_1.items():\n",
    "    pl1_param, data, agg_data = val\n",
    "    agg_data['pl1_p(C|CC)'] = str(pl1_param)\n",
    "    data_mat = data.to_numpy()\n",
    "#     print(data_mat.shape)\n",
    "    \n",
    "    # The column below measures l2 distance between tournament \n",
    "    # normalized scores and baseline tournament where all players always cooperate\n",
    "    agg_data['Scores_L2_Dist'] = np.linalg.norm(data.to_numpy()-(np.ones(data_mat.shape)*3))\n",
    "    \n",
    "    # The column below measures l1 distance between tournament \n",
    "    # CC Distribution and baseline tournament where all players always cooperate\n",
    "    agg_data['CC_L1_Dist'] = np.abs(agg_data['Avg_CC_Distribution'] - 1)\n",
    "\n",
    "    agg_d_list.append(agg_data)\n",
    "\n",
    "comparison_df = pd.concat(agg_d_list)\n",
    "\n",
    "df_players=comparison_df[['pl1_p(C|CC)','P1_Avg_Norm_Score', 'P2_Avg_Norm_Score','P3_Avg_Norm_Score', \n",
    "           'P4_Avg_Norm_Score', 'P5_Avg_Norm_Score','P6_Avg_Norm_Score', 'P7_Avg_Norm_Score','P8_Avg_Norm_Score', \n",
    "           'P9_Avg_Norm_Score', 'P10_Avg_Norm_Score','P11_Avg_Norm_Score', 'P12_Avg_Norm_Score','P13_Avg_Norm_Score', \n",
    "           'P14_Avg_Norm_Score', 'P15_Avg_Norm_Score',]]\n",
    "display(df_players)\n",
    "\n",
    "df=comparison_df[['pl1_p(C|CC)','Avg_of_PL_Scores',\n",
    "           'Scores_L2_Dist','Avg_CC_Distribution', 'CC_L1_Dist']]\n",
    "df"
   ]
  },
  {
   "cell_type": "code",
   "execution_count": 63,
   "metadata": {},
   "outputs": [
    {
     "data": {
      "image/png": "[encoded data removed]",
      "text/plain": [
       "<Figure size 288x1152 with 4 Axes>"
      ]
     },
     "metadata": {
      "needs_background": "light"
     },
     "output_type": "display_data"
    }
   ],
   "source": [
    "g = sns.PairGrid(df, y_vars=[\"Avg_of_PL_Scores\",\"Scores_L2_Dist\",\n",
    "                             \"Avg_CC_Distribution\", \"CC_L1_Dist\"], \n",
    "                 x_vars=[\"pl1_p(C|CC)\"], height=4)\n",
    "g.map(sns.pointplot, color=\".3\")\n",
    "# g.set(xticks=[0.85, 0.9, 0.95, 1])\n",
    "for ax in g.axes.flat:\n",
    "    labels = ax.get_xticklabels() # get x labels\n",
    "    for i,l in enumerate(labels):\n",
    "        if(i%2 == 0): labels[i] = '' # skip even labels\n",
    "    ax.set_xticklabels(labels, rotation=30) # set new labels\n",
    "plt.show()\n"
   ]
  }
 ],
 "metadata": {
  "kernelspec": {
   "display_name": "Python 3",
   "language": "python",
   "name": "python3"
  },
  "language_info": {
   "codemirror_mode": {
    "name": "ipython",
    "version": 3
   },
   "file_extension": ".py",
   "mimetype": "text/x-python",
   "name": "python",
   "nbconvert_exporter": "python",
   "pygments_lexer": "ipython3",
   "version": "3.9.4"
  }
 },
 "nbformat": 4,
 "nbformat_minor": 4
}
