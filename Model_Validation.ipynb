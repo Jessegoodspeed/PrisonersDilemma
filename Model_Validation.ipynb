{
 "cells": [
  {
   "cell_type": "markdown",
   "id": "a1f3fab4-338f-460d-9ad1-48c0d4040489",
   "metadata": {},
   "source": [
    "# Model Validation\n",
    "This notebook features tests to validate the PD model's logic."
   ]
  },
  {
   "cell_type": "code",
   "execution_count": 1,
   "id": "2bc1055f-590a-493e-ba2e-926efca23f28",
   "metadata": {},
   "outputs": [],
   "source": [
    "import axelrod as axl\n",
    "from axelrod.action import Action\n",
    "import copy\n",
    "from itertools import (zip_longest, \n",
    "                      combinations, \n",
    "                      combinations_with_replacement)\n",
    "import matplotlib.pyplot as plt\n",
    "import numpy as np\n",
    "import pandas as pd\n",
    "import pd_exp2\n",
    "import random\n",
    "import seaborn as sns\n",
    "import time\n",
    "\n",
    "C,D = Action.C, Action.D\n",
    "action_map={0: D, 1: C}`"
   ]
  },
  {
   "cell_type": "markdown",
   "id": "b7fe6f5f-8cc8-4488-a617-9b1802638e0b",
   "metadata": {},
   "source": [
    "### 1. Response probabilities set to 0.5 and initial moves generated randomly --> Avg CC Distribution should be approx. 0.25"
   ]
  },
  {
   "cell_type": "code",
   "execution_count": 18,
   "id": "65d070d3-920d-4c99-93d8-7ee10c8d09de",
   "metadata": {},
   "outputs": [
    {
     "name": "stdout",
     "output_type": "stream",
     "text": [
      "6 player response probabilities: \n",
      " [[0.5 0.5 0.5 0.5]\n",
      " [0.5 0.5 0.5 0.5]\n",
      " [0.5 0.5 0.5 0.5]\n",
      " [0.5 0.5 0.5 0.5]\n",
      " [0.5 0.5 0.5 0.5]\n",
      " [0.5 0.5 0.5 0.5]]\n",
      "LIST of initial moves:  [0 1 1 1 0 0]\n",
      "Instantiating tournament object with these players:  Generic Memory One Player,Generic Memory One Player,Generic Memory One Player,Generic Memory One Player,Generic Memory One Player,Generic Memory One Player\n"
     ]
    },
    {
     "name": "stderr",
     "output_type": "stream",
     "text": [
      "Playing matches: 100%|██████████| 21/21 [00:47<00:00,  2.27s/it]\n",
      "Analysing: 100%|██████████| 25/25 [00:00<00:00, 36.68it/s]"
     ]
    },
    {
     "name": "stdout",
     "output_type": "stream",
     "text": [
      "Tournament took 48.50939083099365 seconds\n"
     ]
    },
    {
     "name": "stderr",
     "output_type": "stream",
     "text": [
      "\n"
     ]
    },
    {
     "data": {
      "text/html": [
       "<div>\n",
       "<style scoped>\n",
       "    .dataframe tbody tr th:only-of-type {\n",
       "        vertical-align: middle;\n",
       "    }\n",
       "\n",
       "    .dataframe tbody tr th {\n",
       "        vertical-align: top;\n",
       "    }\n",
       "\n",
       "    .dataframe thead th {\n",
       "        text-align: right;\n",
       "    }\n",
       "</style>\n",
       "<table border=\"1\" class=\"dataframe\">\n",
       "  <thead>\n",
       "    <tr style=\"text-align: right;\">\n",
       "      <th></th>\n",
       "      <th>Avg_CC_Distribution</th>\n",
       "    </tr>\n",
       "  </thead>\n",
       "  <tbody>\n",
       "    <tr>\n",
       "      <th>1000</th>\n",
       "      <td>0.245754</td>\n",
       "    </tr>\n",
       "  </tbody>\n",
       "</table>\n",
       "</div>"
      ],
      "text/plain": [
       "      Avg_CC_Distribution\n",
       "1000             0.245754"
      ]
     },
     "metadata": {},
     "output_type": "display_data"
    }
   ],
   "source": [
    "# Initialize player parameters (5 per player): \n",
    "#     The response probabilities to the preceding round of play (4)\n",
    "#             ( P(C|CC), P(C|CD), P(C|DC), P(C|DD) )\n",
    "#         initial: C or D\n",
    "#             The initial move (1)\n",
    "six_players = np.ones((6,4))/2\n",
    "rng = np.random.default_rng(1)  # Change seed for different runs\n",
    "init_moves = rng.integers(0,2, size=6)\n",
    "\n",
    "print(\"6 player response probabilities: \\n\", six_players)\n",
    "print(\"LIST of initial moves: \", init_moves)\n",
    "\n",
    "start = time.time()\n",
    "plyrs = []\n",
    "for i,params in enumerate(six_players):\n",
    "    pl = axl.MemoryOnePlayer(tuple(params),action_map[init_moves[i]])\n",
    "    plyrs.append(pl)\n",
    "\n",
    "# RPST payoff matrix - 3, 1, 0, 5 - classic config is also default\n",
    "pd1000 = pd_exp2.PdTournament(plyrs, reps=1000)\n",
    "\n",
    "df1, df2=pd1000.data, pd1000.agg_data\n",
    "print(f\"Tournament took {time.time() - start} seconds\")\n",
    "display(df2[[\"Avg_CC_Distribution\"]])"
   ]
  },
  {
   "cell_type": "code",
   "execution_count": 19,
   "id": "aa48bcd2-c714-476d-b6fe-bb0a33c6f9b9",
   "metadata": {},
   "outputs": [
    {
     "data": {
      "text/html": [
       "<div>\n",
       "<style scoped>\n",
       "    .dataframe tbody tr th:only-of-type {\n",
       "        vertical-align: middle;\n",
       "    }\n",
       "\n",
       "    .dataframe tbody tr th {\n",
       "        vertical-align: top;\n",
       "    }\n",
       "\n",
       "    .dataframe thead th {\n",
       "        text-align: right;\n",
       "    }\n",
       "</style>\n",
       "<table border=\"1\" class=\"dataframe\">\n",
       "  <thead>\n",
       "    <tr style=\"text-align: right;\">\n",
       "      <th></th>\n",
       "      <th>P1_Avg_Norm_Score</th>\n",
       "      <th>P1_Min_Norm_Score</th>\n",
       "      <th>P2_Avg_Norm_Score</th>\n",
       "      <th>P2_Min_Norm_Score</th>\n",
       "      <th>P3_Avg_Norm_Score</th>\n",
       "      <th>P3_Min_Norm_Score</th>\n",
       "      <th>P4_Avg_Norm_Score</th>\n",
       "      <th>P4_Min_Norm_Score</th>\n",
       "      <th>P5_Avg_Norm_Score</th>\n",
       "      <th>P5_Min_Norm_Score</th>\n",
       "      <th>P6_Avg_Norm_Score</th>\n",
       "      <th>P6_Min_Norm_Score</th>\n",
       "      <th>Avg_of_PL_Scores</th>\n",
       "      <th>Min_of_PL_Scores</th>\n",
       "      <th>Avg_CC_Distribution</th>\n",
       "    </tr>\n",
       "  </thead>\n",
       "  <tbody>\n",
       "    <tr>\n",
       "      <th>1000</th>\n",
       "      <td>2.54081</td>\n",
       "      <td>1.508333</td>\n",
       "      <td>1.992047</td>\n",
       "      <td>0.799174</td>\n",
       "      <td>1.966227</td>\n",
       "      <td>0.945455</td>\n",
       "      <td>1.982931</td>\n",
       "      <td>0.833333</td>\n",
       "      <td>2.56756</td>\n",
       "      <td>1.410256</td>\n",
       "      <td>2.535876</td>\n",
       "      <td>1.458333</td>\n",
       "      <td>2.264242</td>\n",
       "      <td>0.799174</td>\n",
       "      <td>0.245754</td>\n",
       "    </tr>\n",
       "  </tbody>\n",
       "</table>\n",
       "</div>"
      ],
      "text/plain": [
       "      P1_Avg_Norm_Score  P1_Min_Norm_Score  P2_Avg_Norm_Score  \\\n",
       "1000            2.54081           1.508333           1.992047   \n",
       "\n",
       "      P2_Min_Norm_Score  P3_Avg_Norm_Score  P3_Min_Norm_Score  \\\n",
       "1000           0.799174           1.966227           0.945455   \n",
       "\n",
       "      P4_Avg_Norm_Score  P4_Min_Norm_Score  P5_Avg_Norm_Score  \\\n",
       "1000           1.982931           0.833333            2.56756   \n",
       "\n",
       "      P5_Min_Norm_Score  P6_Avg_Norm_Score  P6_Min_Norm_Score  \\\n",
       "1000           1.410256           2.535876           1.458333   \n",
       "\n",
       "      Avg_of_PL_Scores  Min_of_PL_Scores  Avg_CC_Distribution  \n",
       "1000          2.264242          0.799174             0.245754  "
      ]
     },
     "metadata": {},
     "output_type": "display_data"
    }
   ],
   "source": [
    "display(df2)"
   ]
  },
  {
   "cell_type": "markdown",
   "id": "a3616557-18b1-49df-a41d-9d4d7bafbea1",
   "metadata": {},
   "source": [
    "### 2.Parameters set to 0 --> Player scores and CC distribution are 0"
   ]
  },
  {
   "cell_type": "code",
   "execution_count": 16,
   "id": "a4269b53-374d-4f0b-b3eb-ab8a393b8158",
   "metadata": {},
   "outputs": [
    {
     "name": "stdout",
     "output_type": "stream",
     "text": [
      "6 player response probabilities: \n",
      " [[0. 0. 0. 0.]\n",
      " [0. 0. 0. 0.]\n",
      " [0. 0. 0. 0.]\n",
      " [0. 0. 0. 0.]\n",
      " [0. 0. 0. 0.]\n",
      " [0. 0. 0. 0.]]\n",
      "LIST of initial moves:  [0. 0. 0. 0. 0. 0.]\n",
      "Instantiating tournament object with these players:  Generic Memory One Player,Generic Memory One Player,Generic Memory One Player,Generic Memory One Player,Generic Memory One Player,Generic Memory One Player\n"
     ]
    },
    {
     "name": "stderr",
     "output_type": "stream",
     "text": [
      "Playing matches: 100%|██████████| 21/21 [00:36<00:00,  1.73s/it]\n",
      "Analysing: 100%|██████████| 25/25 [00:00<00:00, 47.05it/s]\n"
     ]
    },
    {
     "name": "stdout",
     "output_type": "stream",
     "text": [
      "Tournament took 37.008366107940674 seconds\n"
     ]
    },
    {
     "data": {
      "text/html": [
       "<div>\n",
       "<style scoped>\n",
       "    .dataframe tbody tr th:only-of-type {\n",
       "        vertical-align: middle;\n",
       "    }\n",
       "\n",
       "    .dataframe tbody tr th {\n",
       "        vertical-align: top;\n",
       "    }\n",
       "\n",
       "    .dataframe thead th {\n",
       "        text-align: right;\n",
       "    }\n",
       "</style>\n",
       "<table border=\"1\" class=\"dataframe\">\n",
       "  <thead>\n",
       "    <tr style=\"text-align: right;\">\n",
       "      <th></th>\n",
       "      <th>P1_Avg_Norm_Score</th>\n",
       "      <th>P1_Min_Norm_Score</th>\n",
       "      <th>P2_Avg_Norm_Score</th>\n",
       "      <th>P2_Min_Norm_Score</th>\n",
       "      <th>P3_Avg_Norm_Score</th>\n",
       "      <th>P3_Min_Norm_Score</th>\n",
       "      <th>P4_Avg_Norm_Score</th>\n",
       "      <th>P4_Min_Norm_Score</th>\n",
       "      <th>P5_Avg_Norm_Score</th>\n",
       "      <th>P5_Min_Norm_Score</th>\n",
       "      <th>P6_Avg_Norm_Score</th>\n",
       "      <th>P6_Min_Norm_Score</th>\n",
       "      <th>Avg_of_PL_Scores</th>\n",
       "      <th>Min_of_PL_Scores</th>\n",
       "      <th>Avg_CC_Distribution</th>\n",
       "    </tr>\n",
       "  </thead>\n",
       "  <tbody>\n",
       "    <tr>\n",
       "      <th>1</th>\n",
       "      <td>1.0</td>\n",
       "      <td>1.0</td>\n",
       "      <td>1.0</td>\n",
       "      <td>1.0</td>\n",
       "      <td>1.0</td>\n",
       "      <td>1.0</td>\n",
       "      <td>1.0</td>\n",
       "      <td>1.0</td>\n",
       "      <td>1.0</td>\n",
       "      <td>1.0</td>\n",
       "      <td>1.0</td>\n",
       "      <td>1.0</td>\n",
       "      <td>1.0</td>\n",
       "      <td>1.0</td>\n",
       "      <td>0.0</td>\n",
       "    </tr>\n",
       "  </tbody>\n",
       "</table>\n",
       "</div>"
      ],
      "text/plain": [
       "   P1_Avg_Norm_Score  P1_Min_Norm_Score  P2_Avg_Norm_Score  P2_Min_Norm_Score  \\\n",
       "1                1.0                1.0                1.0                1.0   \n",
       "\n",
       "   P3_Avg_Norm_Score  P3_Min_Norm_Score  P4_Avg_Norm_Score  P4_Min_Norm_Score  \\\n",
       "1                1.0                1.0                1.0                1.0   \n",
       "\n",
       "   P5_Avg_Norm_Score  P5_Min_Norm_Score  P6_Avg_Norm_Score  P6_Min_Norm_Score  \\\n",
       "1                1.0                1.0                1.0                1.0   \n",
       "\n",
       "   Avg_of_PL_Scores  Min_of_PL_Scores  Avg_CC_Distribution  \n",
       "1               1.0               1.0                  0.0  "
      ]
     },
     "metadata": {},
     "output_type": "display_data"
    }
   ],
   "source": [
    "# Initialize player parameters (5 per player): \n",
    "#     The response probabilities to the preceding round of play (4)\n",
    "#             ( P(C|CC), P(C|CD), P(C|DC), P(C|DD) )\n",
    "#         initial: C or D\n",
    "#             The initial move (1)\n",
    "six_players = np.zeros((6,4))\n",
    "init_moves = np.zeros(6)\n",
    "\n",
    "print(\"6 player response probabilities: \\n\", six_players)\n",
    "print(\"LIST of initial moves: \", init_moves)\n",
    "start = time.time()\n",
    "plyrs = []\n",
    "for i,params in enumerate(six_players):\n",
    "    pl = axl.MemoryOnePlayer(tuple(params),action_map[init_moves[i]])\n",
    "    plyrs.append(pl)\n",
    "\n",
    "# RPST payoff matrix - 3, 1, 0, 5 - classic config is also default\n",
    "pd1 = pd_exp2.PdTournament(plyrs)\n",
    "\n",
    "df1, df2=pd1.data, pd1.agg_data\n",
    "print(f\"Tournament took {time.time() - start} seconds\")\n",
    "display(df2)"
   ]
  },
  {
   "cell_type": "markdown",
   "id": "85bba054-7b3c-4fcf-b7f3-de9a7dd507dd",
   "metadata": {},
   "source": [
    "### 3.Parameters set to 1 --> Player scores are 3 and CC distribution is 1"
   ]
  },
  {
   "cell_type": "code",
   "execution_count": 13,
   "id": "b092e3d9-5535-466a-8943-60f4fa53a469",
   "metadata": {},
   "outputs": [
    {
     "name": "stdout",
     "output_type": "stream",
     "text": [
      "6 player response probabilities: \n",
      " [[1. 1. 1. 1.]\n",
      " [1. 1. 1. 1.]\n",
      " [1. 1. 1. 1.]\n",
      " [1. 1. 1. 1.]\n",
      " [1. 1. 1. 1.]\n",
      " [1. 1. 1. 1.]]\n",
      "LIST of initial moves:  [1. 1. 1. 1. 1. 1.]\n",
      "Instantiating tournament object with these players:  Generic Memory One Player,Generic Memory One Player,Generic Memory One Player,Generic Memory One Player,Generic Memory One Player,Generic Memory One Player\n"
     ]
    },
    {
     "name": "stderr",
     "output_type": "stream",
     "text": [
      "Playing matches: 100%|██████████| 21/21 [00:34<00:00,  1.63s/it]\n",
      "Analysing: 100%|██████████| 25/25 [00:00<00:00, 88.55it/s]"
     ]
    },
    {
     "name": "stdout",
     "output_type": "stream",
     "text": [
      "Tournament took 34.68714118003845 seconds\n"
     ]
    },
    {
     "name": "stderr",
     "output_type": "stream",
     "text": [
      "\n"
     ]
    },
    {
     "data": {
      "text/html": [
       "<div>\n",
       "<style scoped>\n",
       "    .dataframe tbody tr th:only-of-type {\n",
       "        vertical-align: middle;\n",
       "    }\n",
       "\n",
       "    .dataframe tbody tr th {\n",
       "        vertical-align: top;\n",
       "    }\n",
       "\n",
       "    .dataframe thead th {\n",
       "        text-align: right;\n",
       "    }\n",
       "</style>\n",
       "<table border=\"1\" class=\"dataframe\">\n",
       "  <thead>\n",
       "    <tr style=\"text-align: right;\">\n",
       "      <th></th>\n",
       "      <th>P1_Avg_Norm_Score</th>\n",
       "      <th>P1_Min_Norm_Score</th>\n",
       "      <th>P2_Avg_Norm_Score</th>\n",
       "      <th>P2_Min_Norm_Score</th>\n",
       "      <th>P3_Avg_Norm_Score</th>\n",
       "      <th>P3_Min_Norm_Score</th>\n",
       "      <th>P4_Avg_Norm_Score</th>\n",
       "      <th>P4_Min_Norm_Score</th>\n",
       "      <th>P5_Avg_Norm_Score</th>\n",
       "      <th>P5_Min_Norm_Score</th>\n",
       "      <th>P6_Avg_Norm_Score</th>\n",
       "      <th>P6_Min_Norm_Score</th>\n",
       "      <th>Avg_of_PL_Scores</th>\n",
       "      <th>Min_of_PL_Scores</th>\n",
       "      <th>Avg_CC_Distribution</th>\n",
       "    </tr>\n",
       "  </thead>\n",
       "  <tbody>\n",
       "    <tr>\n",
       "      <th>1</th>\n",
       "      <td>3.0</td>\n",
       "      <td>3.0</td>\n",
       "      <td>3.0</td>\n",
       "      <td>3.0</td>\n",
       "      <td>3.0</td>\n",
       "      <td>3.0</td>\n",
       "      <td>3.0</td>\n",
       "      <td>3.0</td>\n",
       "      <td>3.0</td>\n",
       "      <td>3.0</td>\n",
       "      <td>3.0</td>\n",
       "      <td>3.0</td>\n",
       "      <td>3.0</td>\n",
       "      <td>3.0</td>\n",
       "      <td>1.0</td>\n",
       "    </tr>\n",
       "  </tbody>\n",
       "</table>\n",
       "</div>"
      ],
      "text/plain": [
       "   P1_Avg_Norm_Score  P1_Min_Norm_Score  P2_Avg_Norm_Score  P2_Min_Norm_Score  \\\n",
       "1                3.0                3.0                3.0                3.0   \n",
       "\n",
       "   P3_Avg_Norm_Score  P3_Min_Norm_Score  P4_Avg_Norm_Score  P4_Min_Norm_Score  \\\n",
       "1                3.0                3.0                3.0                3.0   \n",
       "\n",
       "   P5_Avg_Norm_Score  P5_Min_Norm_Score  P6_Avg_Norm_Score  P6_Min_Norm_Score  \\\n",
       "1                3.0                3.0                3.0                3.0   \n",
       "\n",
       "   Avg_of_PL_Scores  Min_of_PL_Scores  Avg_CC_Distribution  \n",
       "1               3.0               3.0                  1.0  "
      ]
     },
     "metadata": {},
     "output_type": "display_data"
    }
   ],
   "source": [
    "# Initialize player parameters (5 per player): \n",
    "#     The response probabilities to the preceding round of play (4)\n",
    "#             ( P(C|CC), P(C|CD), P(C|DC), P(C|DD) )\n",
    "#         initial: C or D\n",
    "#             The initial move (1)\n",
    "six_players = np.ones((6,4))\n",
    "init_moves = np.ones(6)\n",
    "\n",
    "print(\"6 player response probabilities: \\n\", six_players)\n",
    "print(\"LIST of initial moves: \", init_moves)\n",
    "start = time.time()\n",
    "plyrs = []\n",
    "for i,params in enumerate(six_players):\n",
    "    pl = axl.MemoryOnePlayer(tuple(params),action_map[init_moves[i]])\n",
    "    plyrs.append(pl)\n",
    "\n",
    "# RPST payoff matrix - 3, 1, 0, 5 - classic config is also default\n",
    "pd1 = pd_exp2.PdTournament(plyrs)\n",
    "\n",
    "df1, df2=pd1.data, pd1.agg_data\n",
    "print(f\"Tournament took {time.time() - start} seconds\")\n",
    "display(df2)"
   ]
  },
  {
   "cell_type": "markdown",
   "id": "8b00fde6-96fd-4b56-b54b-9fd75c5f8043",
   "metadata": {},
   "source": []
  }
 ],
 "metadata": {
  "kernelspec": {
   "display_name": "Python 3",
   "language": "python",
   "name": "python3"
  },
  "language_info": {
   "codemirror_mode": {
    "name": "ipython",
    "version": 3
   },
   "file_extension": ".py",
   "mimetype": "text/x-python",
   "name": "python",
   "nbconvert_exporter": "python",
   "pygments_lexer": "ipython3",
   "version": "3.9.4"
  }
 },
 "nbformat": 4,
 "nbformat_minor": 5
}
